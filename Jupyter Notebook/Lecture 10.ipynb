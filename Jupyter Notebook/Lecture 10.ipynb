{
 "cells": [
  {
   "cell_type": "markdown",
   "metadata": {},
   "source": [
    "# Lecture 10\n",
    "\n",
    "### Numerical Integration; Simulations; Updating Lists; Nested Loops "
   ]
  },
  {
   "cell_type": "markdown",
   "metadata": {},
   "source": [
    "# 1. Numerical Integration\n",
    "\n",
    "Problem: compute the area under the curve $y = f(x)$ from $x=a$ to $x=b$.  In other words, compute $\\int_a^b f(x) dx$.\n",
    "\n",
    "Of course, you can sometimes use the Fundamental Theorem of Calculus, to find an antiderivative which you can evaluate.  But sometimes that doesn't work, because either:\n",
    "\n",
    "* $f(x)$ doesn't have an elementary antiderivative (like in your homework), or\n",
    "* $f(x)$ is some observed function, for which you don't even have a formula!\n",
    "\n",
    "For these problems, it's hopeless to get an exact answer, but you can come up with good approximations by numerical methods.  The plain old Riemann sum is the simplest method.\n",
    "\n",
    "<br><br><br><br><br><br><br><br><br><br>\n",
    "\n",
    "A slightly more sophisticated method is the trapezoidal rule (*not* the one on your homework).  Suppose that you had to estimate $\\int_2^8 \\sqrt{1+x^4} dx$.  That function, $\\sqrt{1+x^4}$, is impossible to antidifferentiate (in terms of elementary functions -- logs, trigs, etc).  So, here's what we'll do instead:\n",
    "\n",
    "1. Pick a value of $N$, the larger the better, like $N = 100$.\n",
    "2. Divide the interval $[2,8]$ of $x$-values into $100$ equal \"pieces\".  Since the width of the full interval is $6$, each piece should be of width $.06$.  The $x$-values where you cut should be $x_0 = 2$, $x_1 = 2.06$, $x_2 = 2.12$, ... $x_{99} = 7.94$, $x_{100} = 8$.  (Test: what should $x_{43}$ be?)\n",
    "3. Now, we'll graph $\\sqrt{1+x^4}$. Well, not exactly: what we'll *really* do is plot 101 points -- the $x$-values I just gave you, and the corresponding $y$-values (evaluated by substituting the $x$ values into $\\sqrt{1+x^4}$).   We'll get a bunch of dots.  Now, connect the dots by **straight line segments**.  What you'll have now is a \"straight line\" graph that nonetheless looks a lot like the graph of $y = \\sqrt{1+x^4}$.\n",
    "4. Finally, find the area under **this** graph, by thinking of it as 100 trapezoidal slices.  The area of each slice will be $(\\mbox{left y value} + \\mbox{right y value})\\cdot \\frac{width}{2}$.  You add those together, and that's the area under the straight-line graph -- very close to the area under the true graph.\n",
    "\n",
    "In the abstract: to estimate $\\int_a^b f(x) dx$, you take the entire interval $[a,b]$; you divide into $N$ parts, each of width $\\Delta x$.  Let $x_i = a + i\\Delta x$.  The sum of the areas turns out to be\n",
    "\n",
    "$\\frac{\\Delta x}{2}(1f(x_0) + 2f(x_1) + 2f(x_2) + \\ldots + 2f(x_{N-1}) + 1f(x_N))$ \n",
    "\n",
    "\n",
    "<br><br><br><br><br><br><br><br><br><br>\n",
    "\n",
    "*Your homework* uses a slightly different rule: Simpson's rule, which is based on connecting triples of points by parabolic arcs instead of connecting pairs of points by straight lines.  The formula for that rule turns out to be\n",
    "\n",
    "\n",
    "$\\frac{\\Delta x}{3}(1f(x_0) + 4f(x_1) + 2f(x_2) + \\ldots + 4f(x_{N-1}) + 1f(x_N))$ \n",
    "\n",
    "with alternating 4's and 2's.  How should you program this?\n",
    "\n",
    "Hints: first, **do it by hand** once (with a small value of $N$) -- focus on procedure, not value.  Secondly, a question you should think about: imagine you were using this formula to estimate $\\int_2^8 \\sqrt{1+x^4} dx$ with $N = 500$.  How would calculate the value of the, say, 43rd term (that would be $4f(x_{42})$ or $2f(x_{42})$ -- wait, which one)?  Think about that.  \n",
    "\n",
    "Finally, do yourself a favor and make your variables match my notation.  For instance, I have a variable called $x_i$ -- you might want to make a variable named `x_i`.  My `i` can be 0, 1, 2, 3, ..., N; perhaps you build a loop that does the same thing."
   ]
  },
  {
   "cell_type": "markdown",
   "metadata": {},
   "source": [
    "\n",
    "<br><br><br><br><br><br><br><br><br><br>\n",
    "\n",
    "# 2. (Pseudo)Random Numbers and Simulations\n",
    "\n",
    "Random numbers and loops can be used to answer questions about probability and statistics using simulations.  For example, here is one that is relatively easy:\n",
    "\n",
    "I roll 2 fair dice.  What is the probability that the sum of the values is odd and less than 10?\n",
    "\n",
    "You could find the theoretical exact answer easily for this problem (indeed, that's why we're doing this example!).  But instead, let's take a frequentist, empirical look at the problem:\n",
    "\n",
    "\n",
    "*if I roll 2 dice over and over again, the probability should be equal to (approximately) the percent of the time that I get an odd sum that is less than 10*. \n",
    "\n",
    "The only reason for the weasel word \"approximately\" is that the answer only becomes exact when we roll the dice infinitely many times.  We don't have time for that! So we'll settle for a lot of rolls, secure in the knowledge that our answer will be pretty close to the real answer.\n",
    "\n",
    "(If that's too vague for you, your friends Mr. Law of Large Numbers and Mrs. Central Limit Theorem can make that more precise.)\n",
    "\n",
    "\n",
    "<br><br><br><br><br><br><br><br><br><br>\n",
    "\n",
    "Here's the strategy:\n",
    "\n",
    "* Pick a million pairs of random numbers\n",
    "* For each pair, add them\n",
    "* If the sum is odd and less than 10, add 1 to a \"count of successes\" variable\n",
    "* At the end, report (number of successes)/(total number of rolls) \n"
   ]
  },
  {
   "cell_type": "code",
   "execution_count": 10,
   "metadata": {},
   "outputs": [
    {
     "name": "stdout",
     "output_type": "stream",
     "text": [
      "Probability that two fair dice sum to an odd number less than 10 is approximately: 0.000000\n"
     ]
    }
   ],
   "source": [
    "# EXAMPLE 2a: What's the probability that the sum of 2 dice is odd?\n",
    "import random\n",
    "\n",
    "# Here, \"success\" means the sum is odd and under than 10\n",
    "count_of_successes = 0\n",
    "\n",
    "num_of_rolls = 10 ** 6\n",
    "\n",
    "for i in range(num_of_rolls):\n",
    "    # Each time, generate two rolls...\n",
    "    first_roll = random.randrange(1,7)\n",
    "    second_roll = random.randrange(1,7)\n",
    "    \n",
    "    # ... then add them ...\n",
    "    sum_of_rolls = first_roll + second_roll\n",
    "    \n",
    "    # ... and if the sum is odd and under 10, add 1 to the count of successes!\n",
    "    if sum_of_rolls % 2 == 1 and sum_of_rolls < 10:\n",
    "        count_of_successes += 1\n",
    "\n",
    "# The relative frequency of success ~= probability        \n",
    "probability = count_of_successes/num_of_rolls\n",
    "print(\"Probability that two fair dice sum to an odd number less than 10 is approximately: {0:.6f}\".format(probability))"
   ]
  },
  {
   "cell_type": "markdown",
   "metadata": {},
   "source": [
    "The exact theoretical value, by the way, is 16/36 = 44.44444444%.\n",
    "\n",
    "\n",
    "<br><br><br><br><br><br><br><br><br><br>\n",
    "\n",
    "Here's a really great one. Suppose that you pick a random point in the *unit square* (that would be the points $(x, y)$ where both $x$ and $y$ are between 0 and 1.  What is the probability that this point satisfies $x^2 + y^2 \\leq 1$? \n",
    "\n",
    "To do this, we'll pick a million random $x$ values using `random.random()`, and a million random $y$ values.  Recall that `random.random()` produces a random `float` between 0 and 1, with each values roughly equally likely to be picked.  For each pair, we'll count if $x^2 + y^2$ is less than or equal to 1. "
   ]
  },
  {
   "cell_type": "code",
   "execution_count": 15,
   "metadata": {},
   "outputs": [
    {
     "name": "stdout",
     "output_type": "stream",
     "text": [
      "Probability = 0.785447\n",
      "Probability times four = 3.141789\n"
     ]
    }
   ],
   "source": [
    "# EXAMPLE 2b: What is the probability that a random point in the unit square satisfies x^2 + y^2 <= 1?\n",
    "\n",
    "import random\n",
    "\n",
    "# Here, \"success\" means that x^2 + y^2 <= 1\n",
    "count_of_successes = 0\n",
    "\n",
    "num_of_points = 10 ** 8\n",
    "\n",
    "for i in range(num_of_points):\n",
    "    \n",
    "    x = random.random()\n",
    "    y = random.random()\n",
    "\n",
    "    value = (x**2) + (y**2)\n",
    "\n",
    "    if value <= 1:\n",
    "        count_of_successes += 1\n",
    "\n",
    "probability = count_of_successes/num_of_points\n",
    "\n",
    "print(\"Probability = {0:.6f}\".format(probability))\n",
    "print(\"Probability times four = {0:.6f}\".format(4*probability))\n",
    "# Why am I bothering to print the probability times 4?  You may notice something."
   ]
  },
  {
   "cell_type": "markdown",
   "metadata": {},
   "source": [
    "\n",
    "<br><br><br><br><br><br><br><br><br><br>\n",
    "\n",
    "\n",
    "# 3. Updating Lists, and Indices Versus Values\n",
    "\n",
    "Let's say you have a list that you want to update.  This is not hard to do, but it takes a little bit of getting used.\n",
    "\n",
    "For example, consider that you have a list with data, and you want to add 1 to every entry."
   ]
  },
  {
   "cell_type": "code",
   "execution_count": 25,
   "metadata": {},
   "outputs": [
    {
     "name": "stdout",
     "output_type": "stream",
     "text": [
      "[4, 6, 7, 8, 1, 2]\n"
     ]
    }
   ],
   "source": [
    "# EXAMPLE 3a: Bad Update\n",
    "\n",
    "evans_list = [4,6,7,8,1,2]\n",
    "\n",
    "for x in evans_list:\n",
    "    x += 1\n",
    "    \n",
    "print(evans_list)"
   ]
  },
  {
   "cell_type": "markdown",
   "metadata": {},
   "source": [
    "What went wrong?  The problem is that the loop is \n",
    "\n",
    "* creating a new variable `x`,\n",
    "* assigning `x` to be each of the values from `evans_list`, one at a time,\n",
    "* and then updating `x`.\n",
    "\n",
    "But you don't want to update `x` -- you want to update `evans_list`!\n",
    "\n",
    "\n",
    "<br><br><br><br><br><br><br><br><br><br>\n",
    "\n",
    "A solution: use indices."
   ]
  },
  {
   "cell_type": "code",
   "execution_count": 1,
   "metadata": {},
   "outputs": [
    {
     "name": "stdout",
     "output_type": "stream",
     "text": [
      "[5, 7, 8, 9, 2, 3]\n"
     ]
    }
   ],
   "source": [
    "# EXAMPLE 3b: Better Update\n",
    "\n",
    "evans_list = [4,6,7,8,1,2]\n",
    "\n",
    "\n",
    "for i in range(len(evans_list)):\n",
    "    # Instead of updating some other variable that copies evans_list's values,\n",
    "    # we are updating evans_list directly!  But we have to loop over indices to get this behavior.\n",
    "    evans_list[i] += 1\n",
    "\n",
    "print(evans_list)"
   ]
  },
  {
   "cell_type": "markdown",
   "metadata": {},
   "source": [
    "\n",
    "<br><br><br>\n",
    "\n",
    "Here's another tricky example.  Suppose that we have a list of letters with some spaces in it, and we want to remove the spaces."
   ]
  },
  {
   "cell_type": "code",
   "execution_count": 29,
   "metadata": {},
   "outputs": [
    {
     "ename": "IndexError",
     "evalue": "list index out of range",
     "output_type": "error",
     "traceback": [
      "\u001b[1;31m---------------------------------------------------------------------------\u001b[0m",
      "\u001b[1;31mIndexError\u001b[0m                                Traceback (most recent call last)",
      "\u001b[1;32m<ipython-input-29-41480c232597>\u001b[0m in \u001b[0;36m<module>\u001b[1;34m()\u001b[0m\n\u001b[0;32m      4\u001b[0m \u001b[1;33m\u001b[0m\u001b[0m\n\u001b[0;32m      5\u001b[0m \u001b[1;32mfor\u001b[0m \u001b[0mentry\u001b[0m \u001b[1;32min\u001b[0m \u001b[0mrange\u001b[0m\u001b[1;33m(\u001b[0m\u001b[0mlen\u001b[0m\u001b[1;33m(\u001b[0m\u001b[0manother_list\u001b[0m\u001b[1;33m)\u001b[0m\u001b[1;33m)\u001b[0m\u001b[1;33m:\u001b[0m\u001b[1;33m\u001b[0m\u001b[0m\n\u001b[1;32m----> 6\u001b[1;33m     \u001b[1;32mif\u001b[0m \u001b[0manother_list\u001b[0m\u001b[1;33m[\u001b[0m\u001b[0mentry\u001b[0m\u001b[1;33m]\u001b[0m \u001b[1;33m==\u001b[0m \u001b[1;34m\" \"\u001b[0m\u001b[1;33m:\u001b[0m\u001b[1;33m\u001b[0m\u001b[0m\n\u001b[0m\u001b[0;32m      7\u001b[0m         \u001b[1;32mdel\u001b[0m \u001b[0manother_list\u001b[0m\u001b[1;33m[\u001b[0m\u001b[0mentry\u001b[0m\u001b[1;33m]\u001b[0m\u001b[1;33m\u001b[0m\u001b[0m\n\u001b[0;32m      8\u001b[0m \u001b[1;33m\u001b[0m\u001b[0m\n",
      "\u001b[1;31mIndexError\u001b[0m: list index out of range"
     ]
    }
   ],
   "source": [
    "# EXAMPLE 3c: Bad Delete\n",
    "\n",
    "another_list = [\"b\", \" \", \" \", \"c\", \" \", \"d\", \"e\", \" \", \"f\", \" \"]\n",
    "\n",
    "for entry in range(len(another_list)):\n",
    "    if another_list[entry] == \" \":\n",
    "        del another_list[entry]\n",
    "\n",
    "print(another_list)\n",
    "\n"
   ]
  },
  {
   "cell_type": "markdown",
   "metadata": {},
   "source": [
    "Do you see why that is way way off?  \n",
    "\n",
    "\n",
    "<br><br><br><br><br><br><br><br><br><br>\n",
    "\n",
    "Once again, let's use indices.  But this is still going to be tricky!"
   ]
  },
  {
   "cell_type": "code",
   "execution_count": 53,
   "metadata": {},
   "outputs": [
    {
     "name": "stdout",
     "output_type": "stream",
     "text": [
      "['b', 'c', 'd', 'e', 'f']\n"
     ]
    }
   ],
   "source": [
    "# EXAMPLE 3d: Still Bad Delete\n",
    "\n",
    "another_list = [\"b\", \" \", \" \", \"c\", \" \", \"d\", \"e\", \" \", \"f\", \" \"]\n",
    "\n",
    "\n",
    "for i in range(len(another_list) - 1, -1, -1): #You start off from the last number and go to 0 going backwards\n",
    "    if another_list[i] == \" \":\n",
    "        del another_list[i]\n",
    "\n",
    "print(another_list)\n",
    "\n"
   ]
  },
  {
   "cell_type": "markdown",
   "metadata": {},
   "source": [
    "Hmmm, list index out of range?  That's weird. Let's investigate -- by throwing in the line\n",
    "\n",
    "`print(i, \":\", another_list[i])`\n"
   ]
  },
  {
   "cell_type": "markdown",
   "metadata": {},
   "source": [
    "<br><br><br><br><br><br><br><br><br><br>\n",
    "\n",
    "We've just seen a couple of examples where we traverse a list by **index** rather that by **value**.  This means: if the list you're working with is `x = [\"A\", \"B\", \"C\"]`, instead of writing a loop that starts like\n",
    "\n",
    "`for i in x:`\n",
    "\n",
    "where `i` will be equal to `\"A\"`, `\"B\"`, and `\"C\"` in turn, you can write a loop that starts like\n",
    "\n",
    "`for i in range(len(x)):`\n",
    "\n",
    "where `i` will be equal to `0`, `1`, and `2`, in turn, and you can refer to the elements themselves by `x[i]`.  This is useful for updating lists; but it is **also** useful when you want to compare different elements within the same list.\n"
   ]
  },
  {
   "cell_type": "code",
   "execution_count": 52,
   "metadata": {},
   "outputs": [
    {
     "name": "stdout",
     "output_type": "stream",
     "text": [
      "It's sorted!\n"
     ]
    }
   ],
   "source": [
    "# EXAMPLE 3e: Is this list sorted?\n",
    "\n",
    "my_list = [4, 8, 12, 13, 19, 24, 25, 26, 30, 32, 40, 42]\n",
    "\n",
    "# Let's check if this list is sorted, but comparing each element to its succesor.\n",
    "is_sorted = True\n",
    "\n",
    "#\n",
    "# CAN YOU FIND THE BUG IN THIS FOR LOOP?\n",
    "#\n",
    "\n",
    "for i in range(len(my_list)-1): #The -1 makes sure that the last one in the list doesnt get checked.\n",
    "    if my_list[i] > my_list[i+1]:\n",
    "        print(i, my_list[i], my_list[i+1], \"!!!\")\n",
    "        is_sorted = False\n",
    "        break\n",
    "        \n",
    "if is_sorted:\n",
    "    print(\"It's sorted!\")\n",
    "else:\n",
    "    print(\"Not sorted!\")\n",
    "   "
   ]
  },
  {
   "cell_type": "markdown",
   "metadata": {},
   "source": [
    "<br><br><br><br><br><br><br><br><br><br>\n",
    "\n",
    "# 4. Nested Loops\n",
    "\n",
    "We can put loops *inside* loops! Oy vey.\n",
    "\n",
    "Don't panic!  To understand any loop: just execute the block as if it weren't inside a loop.  If there is a loop in there, execute that too.  When you get to the end of the block, go back to the beginning, and execute the block again if appropriate.\n"
   ]
  },
  {
   "cell_type": "code",
   "execution_count": 60,
   "metadata": {},
   "outputs": [
    {
     "name": "stdout",
     "output_type": "stream",
     "text": [
      "0 *!*!* 0 1 2 3 4 5 6 7 \n",
      "1 *!*!* 1 2 3 4 5 6 7 8 \n",
      "2 *!*!* 2 3 4 5 6 7 8 9 \n",
      "3 *!*!* 3 4 5 6 7 8 9 10 \n",
      "4 *!*!* 4 5 6 7 8 9 10 11 \n",
      "5 *!*!* 5 6 7 8 9 10 11 12 \n",
      "6 *!*!* 6 7 8 9 10 11 12 13 \n",
      "7 *!*!* 7 8 9 10 11 12 13 14 \n",
      "8 *!*!* 8 9 10 11 12 13 14 15 \n",
      "9 *!*!* 9 10 11 12 13 14 15 16 \n"
     ]
    }
   ],
   "source": [
    "# EXAMPLE 4a: Nested loops\n",
    "# Let's see what this one does.\n",
    "\n",
    "for i in range(10):\n",
    "    print(i, \"*!*!*\", end = \" \")\n",
    "    for j in range(8):\n",
    "        print(i + j, end = \" \")\n",
    "    print(\"\")\n"
   ]
  },
  {
   "cell_type": "markdown",
   "metadata": {},
   "source": [
    "<br><br><br><br><br><br><br><br><br><br>\n",
    "\n",
    "So, what's just happened here?\n",
    "\n",
    "First, `i` is `0`.  Then all of"
   ]
  },
  {
   "cell_type": "code",
   "execution_count": 56,
   "metadata": {},
   "outputs": [
    {
     "name": "stdout",
     "output_type": "stream",
     "text": [
      "9 *!*!* 9 10 11 12 13 14 15 16 \n"
     ]
    }
   ],
   "source": [
    "print(i, \"*!*!*\", end = \" \")\n",
    "for j in range(8):\n",
    "    print(i + j, end = \" \")\n",
    "print(\"\")"
   ]
  },
  {
   "cell_type": "markdown",
   "metadata": {},
   "source": [
    "executes.  Once that is done, you take a second pass through the outer loop: so now, `i` becomes `1`, and "
   ]
  },
  {
   "cell_type": "code",
   "execution_count": 57,
   "metadata": {},
   "outputs": [
    {
     "name": "stdout",
     "output_type": "stream",
     "text": [
      "9 *!*!* 9 10 11 12 13 14 15 16 \n"
     ]
    }
   ],
   "source": [
    "print(i, \"*!*!*\", end = \" \")\n",
    "for j in range(8):\n",
    "    print(i + j, end = \" \")\n",
    "print(\"\")"
   ]
  },
  {
   "cell_type": "markdown",
   "metadata": {},
   "source": [
    "all executes again -- *note that the inner `for` loop runs all over again, with `j` beginning back at `0`!*\n",
    "\n",
    "And from there, it repeats in the same fashion.\n",
    "\n",
    "<br><br><br><br><br><br><br><br><br><br>\n",
    "\n",
    "Ok, why do we want such monstrosities?  And how do we create them?  \n",
    "\n",
    "Well, an ordinary, single loop is useful to break down (a portion of) your algorithm into a list of similar \"stages\": stage 1, then stage 2, then stage 3, etc.\n",
    "\n",
    "For instance, remember counting the number of \"e\"s in a string?\n",
    "\n",
    "1 Set the string <br>\n",
    "2 Set \"e\"-counter to be 0 <br>\n",
    "3 Look at first letter of string <br>\n",
    "4 If it is \"e\", add 1 to the count <br>\n",
    "5 Look at second letter of string <br>\n",
    "6 If it is \"e\", add 1 to the count <br>\n",
    "7 Look at third letter of string <br>\n",
    "8 If it is \"e\", add 1 to the count <br>\n",
    "\n",
    ".... <br>\n",
    "\n",
    "457 Print out \"e\"-counter.\n",
    "\n",
    "You can see where the repetition starts, at line 3.  At that point: stage 1 would be \"look at first letter, check if it is e\"; stage 2 would be \"look at second letter, check if it is e\"; and stage number n would be \"look at nth letter, check if it is e\".\n",
    "\n",
    "**Nested loops are for when each stage itself involves repetition. When designing a nested loop, you still want to first break your problem down into a \"1-dimensional\" list of stages -- and after that, then think about how to implement each stage.**\n",
    "\n",
    "<br><br><br><br><br><br><br><br><br><br>\n",
    "\n",
    "Let me show you what I mean.  Suppose that I want to print out a multiplication table:\n",
    "\n",
    "    1    2    3    4    5    6    7    8    9\n",
    "    2    4    6    8   10   12   14   16   18\n",
    "    3    6    9   12   15   18   21   24   27\n",
    "    4    8   12   16   20   24   28   32   36\n",
    "    5   10   15   20   25   30   35   40   45\n",
    "    6   12   18   24   30   36   42   48   54\n",
    "    7   14   21   28   35   42   49   56   63\n",
    "    8   16   24   32   40   48   56   64   72\n",
    "    9   18   27   36   45   54   63   72   81\n",
    "\n",
    "Let's break this down into stages.  I could say\n",
    "\n",
    "1 Print 1 <br>\n",
    "2 Print 2 <br>\n",
    "3 Print 3 <br>\n",
    ".... <br>\n",
    "9 Print 9 <br>\n",
    "10 Newline <br>\n",
    "11 Print 2 <br>\n",
    "12 Print 4 <br>\n",
    "13 Print 6 <br>\n",
    "..... <br>\n",
    "\n",
    "<br><br><br><br><br><br><br><br><br><br>\n",
    "\n",
    "But maybe that's focusing too finely on the details -- perhaps it would be helpful to start with a simpler broad sketch:\n",
    "\n",
    "1 Print Row 1 (details to be filled in) <br>\n",
    "2 Print Row 2 (ditto) <br>\n",
    "... <br>\n",
    "9 Print Row 9\n",
    "\n",
    "Let's write this as a \"loop\":\n"
   ]
  },
  {
   "cell_type": "code",
   "execution_count": 58,
   "metadata": {},
   "outputs": [
    {
     "ename": "SyntaxError",
     "evalue": "invalid syntax (<ipython-input-58-a8acbb51bf46>, line 2)",
     "output_type": "error",
     "traceback": [
      "\u001b[1;36m  File \u001b[1;32m\"<ipython-input-58-a8acbb51bf46>\"\u001b[1;36m, line \u001b[1;32m2\u001b[0m\n\u001b[1;33m    PRINT ROW i    # Obviously, this line isn't real code, but it will be replaced by real code.\u001b[0m\n\u001b[1;37m            ^\u001b[0m\n\u001b[1;31mSyntaxError\u001b[0m\u001b[1;31m:\u001b[0m invalid syntax\n"
     ]
    }
   ],
   "source": [
    "for i in range(1,10):\n",
    "    PRINT ROW i    # Obviously, this line isn't real code, but it will be replaced by real code."
   ]
  },
  {
   "cell_type": "markdown",
   "metadata": {},
   "source": [
    "<br><br><br><br><br><br><br><br><br><br>\n",
    "\n",
    "Now, let's talk about `PRINT ROW i`.  To `PRINT ROW 1`, obviously I could just say `print(1), print(2), print(3),...`, but that would be tedious.  So we have a loop for that:\n",
    "\n",
    "`for n in range(1,10):`<br>\n",
    "&nbsp;&nbsp;&nbsp;&nbsp;`   print(n, \" \")` <br>\n",
    "`print(\"\") # Don't forget the newline!`\n",
    "\n",
    "What about when I want to `PRINT ROW 2`?\n",
    "\n",
    "`for n in range(1,10):`<br>\n",
    "&nbsp;&nbsp;&nbsp;&nbsp;`   print(2*n, \" \")`<br>\n",
    "`print(\"\") # Don't forget the newline!`\n",
    "\n",
    "What about when I want to `PRINT ROW 3`?\n",
    "\n",
    "`for n in range(1,10):`<br>\n",
    "&nbsp;&nbsp;&nbsp;&nbsp;`   print(3*n, \" \")`<br>\n",
    "`print(\"\") # Don't forget the newline!`\n",
    "\n",
    "Ok, now let's answer the question I *really* want to answer.  How do I `PRINT ROW i`?\n",
    "\n",
    "`for n in range(1,10):`<br>\n",
    "&nbsp;&nbsp;&nbsp;&nbsp;`   print(i*n, \" \")`<br>\n",
    "`print(\"\") # Don't forget the newline!`"
   ]
  },
  {
   "cell_type": "code",
   "execution_count": null,
   "metadata": {
    "collapsed": true
   },
   "outputs": [],
   "source": [
    "# EXAMPLE 4b: Multiplication Table\n",
    "\n",
    "#\n",
    "# LET'S WRITE THIS!\n",
    "#"
   ]
  }
 ],
 "metadata": {
  "kernelspec": {
   "display_name": "Python 3",
   "language": "python",
   "name": "python3"
  },
  "language_info": {
   "codemirror_mode": {
    "name": "ipython",
    "version": 3
   },
   "file_extension": ".py",
   "mimetype": "text/x-python",
   "name": "python",
   "nbconvert_exporter": "python",
   "pygments_lexer": "ipython3",
   "version": "3.7.1"
  },
  "name": "_merged_merged"
 },
 "nbformat": 4,
 "nbformat_minor": 2
}
