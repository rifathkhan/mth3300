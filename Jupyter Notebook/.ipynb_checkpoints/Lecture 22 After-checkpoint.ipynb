{
 "cells": [
  {
   "cell_type": "markdown",
   "metadata": {},
   "source": [
    "# Lecture 22\n",
    "\n",
    "#### The Importance of Encapsulation; Dictionaries; Python Magic; List Comprehensions"
   ]
  },
  {
   "cell_type": "markdown",
   "metadata": {},
   "source": [
    "# 1. The Importance of Encapsulation\n",
    "\n",
    "As we said before, most classes are designed so that, when client code *uses* the class, it will not refer directly to attritube variables of objects, but rather it will instead use methods to change/access those objects.  This means that you will see less bits of code that look like\n",
    "\n",
    "`x._attribute = value`\n",
    "\n",
    "and more bits like\n",
    "\n",
    "`x.set_attribute(value)`\n",
    "\n",
    "(notice the parentheses on this line!).  The reasoning is roughly that \"the attribute variables are the technical underside, while the methods are the usable interface\".  Indeed, that's what those underscores are about in front of the attribute names: they are a convention, a gentle reminder that's a bad idea to tinker with the details, and to stick to the user-friendly interface instead. \n",
    "\n",
    "This isn't just a matter of taste, for two reasons:\n",
    "\n",
    "**1. Interacting with objects via methods ensures that clients interact with objects *correctly*.**\n"
   ]
  },
  {
   "cell_type": "code",
   "execution_count": null,
   "metadata": {},
   "outputs": [],
   "source": [
    "# EXAMPLE 1a: Drawing cards, badly\n",
    "\n",
    "import random\n",
    "from evans_card_v1 import Card, Deck\n",
    "\n",
    "d = Deck() # Create a deck.\n",
    "\n",
    "# Pick 10 cards, in a flagrantly wrong way.\n",
    "for i in range(10):\n",
    "    card_num = random.randrange(len(d._cards)) # Look at the length of the deck, and pick an index in that range\n",
    "    current_card = d._cards[card_num] # Pick the card in that index\n",
    "    current_card.display()   # Display it"
   ]
  },
  {
   "cell_type": "markdown",
   "metadata": {},
   "source": [
    "The problem here is that none of the code in the loop actually takes care of the part where cards are *removed* from the deck after they are picked.  \n",
    "\n",
    "Admittedly, this might seem like a pretty dumb mistake to make.  But remember: as your classes get more and more complex, it is more and more difficult to avoid making similarly \"dumb\" mistakes.  One way to avoid your users (or yourself) from making such mistakes is to make methods that act properly on objects, rather than having clients directly access the attribute variables (and risking mistakes creeping in) over and over.\n",
    "\n",
    "**2. Interacting with objects via methods ensures that your client code won't be broken by *implementation changes.* **\n",
    "\n",
    "Imagine that, after I had already started using my class, I decided to change how I represented a `Deck`. Instead of using a list of `Card`s which we shuffle at the time of initialization, suppose that we decided that it was smarter going forward to represent a `Deck` as a dictionary: the keys will be all the possible cards, and the values will be `True` if the card has already been drawn, and `False` if it has not been drawn (we'll talk about dictionaries in a minute).\n",
    "\n",
    "Here's the point: *the lines of code below that **only reference methods** will still work if we use the updated class; the code that references attributes will break!*\n"
   ]
  },
  {
   "cell_type": "code",
   "execution_count": null,
   "metadata": {},
   "outputs": [],
   "source": [
    "# EXAMPLE 1b: Changing Implementation\n",
    "import random\n",
    "\n",
    "# IN THE BEGINNING, ALL THE CODE WILL WORK.  HOWEVER, IF I CHANGE\n",
    "# evans_card_v1 TO evans_card_v2\n",
    "# SOME OF THE CODE WILL STOP WORKING.\n",
    "from evans_card_v1 import Card, Deck\n",
    "\n",
    "\n",
    "d = Deck() # Create a deck.\n",
    "\n",
    "print(\"The good loop:\\n\")\n",
    "for i in range(10): # This only uses methods.\n",
    "    c = d.draw()    # It will NOT be broken by a change in implementation.\n",
    "    c.display()     # \n",
    "\n",
    "print(\"\\nThe bad loop:\\n\")    \n",
    "for i in range(10):                             # This references the member variable ._cards\n",
    "    card_num = random.randrange(len(d._cards))  # and it WILL be broken after a change in implementation.\n",
    "    current_card = d._cards[card_num]           #\n",
    "    del d._cards[card_num]                      #\n",
    "    current_card.display()                      #"
   ]
  },
  {
   "cell_type": "markdown",
   "metadata": {},
   "source": [
    "So, as a client, respecting the so-called \"privacy\" of attribute variables means that your code will be much less likely to break in the event of implementation change!  And as a class designer, you can *refactor* your class safely so that it works better or more efficiently, as long as you don't change the way the interface works."
   ]
  },
  {
   "cell_type": "markdown",
   "metadata": {},
   "source": [
    "# 2. Dictionaries\n",
    "\n",
    "The dictionary is a data structure that is meant to represent a *mapping* between \"keys\" (inputs) and \"values\" (outputs).  A dictionary contains a number of key-value pairs.  You may then use the dictionary by supplying it a key; the dictionary will supply the corresponding value.  \n",
    "\n",
    "The idea you should keep in mind is a translation dictionary.  In this case, the keys would be English words, and the corresponding values would be the Spanish translations.  When you perform a translation, you don't want to look up the position in the dictionary where your English word is located, and then separately look up the corresponding Spanish word -- you want to go straight from English word to Spanish word.\n",
    "\n",
    "Let's see how they work."
   ]
  },
  {
   "cell_type": "code",
   "execution_count": null,
   "metadata": {
    "collapsed": true
   },
   "outputs": [],
   "source": [
    "# EXAMPLE 2a: Dictionaries\n",
    "\n",
    "# This is a dictionary.  It is enclosed in curly braces.  Each pair of values is separated by a comma,\n",
    "# and in each pair, key and value are separated by a colon.\n",
    "eng_spn = {\"dog\":\"perro\", \"cat\":\"gato\", \"horse\":\"caballo\"}\n",
    "\n",
    "# You can access a dictionary by key, which looks a lot like accessing a list by index\n",
    "print(eng_spn[\"dog\"])\n",
    "\n",
    "word = input(\"Enter a word: \")\n",
    "# One problem with dictionaries: you get an error if you try to look up a key that is not present.\n",
    "# For these cases: exceptions to the recsue!\n",
    "try:\n",
    "    trans = eng_spn[word]\n",
    "    print(trans)\n",
    "except KeyError:\n",
    "    print(\"Why did you enter a word not in the dictionary?\")\n",
    "\n",
    "# Dictionaries are mutable.  You can add new entries like this:\n",
    "eng_spn[\"cow\"] = \"waca\"\n",
    "# and you can change the values of each key after assignment:\n",
    "eng_spn[\"cow\"] = \"vaca\"\n",
    "\n",
    "# You can also delete like you do with lists -- this will delete both key and value.\n",
    "del eng_spn[\"horse\"]\n",
    "\n",
    "# This is what it looks like when you print out a dictionary\n",
    "print(eng_spn)\n"
   ]
  },
  {
   "cell_type": "markdown",
   "metadata": {},
   "source": [
    "So, to summarize what the above code demonstrates:\n",
    "\n",
    "* You can define a dictionary using curly braces.\n",
    "* Each entry is of the form `key:value`, seperated by commas.\n",
    "* You can access elements using *dictionary_name[key]*.\n",
    "* It might be a good idea to surround code that accesses elements with try-except, since attempting to access an element with an invalid key will lead to an error.\n",
    "* You can add new values using *dictionary_name[key] = value*.\n",
    "* You can also modify existing values *dictionary_name[key] = value*, where *key* is a key that is already present.\n",
    "* You can delete pairs using *del dictionary_name[key]*.\n",
    "--------------\n",
    "\n",
    "Let's try an example.  Make a dictionary called `vote_counts`, containing three pairs: the values will be the strings `\"Alice\"`, `\"Bob\"`, and `\"Carol\"`, and the corresponding values will start with 0.  \n",
    "\n",
    "Inside the loop, have the program ask `\"Who do you want to vote for?\"`.  The user will then type in a candidate they wish to vote for, and then the count for that candidate will be increased by 1.  Can you make the code support write-in candidates?"
   ]
  },
  {
   "cell_type": "code",
   "execution_count": null,
   "metadata": {},
   "outputs": [],
   "source": [
    "# EXAMPLE 2b: Votes\n",
    "\n",
    "# Here's a dictionary called vote_counts\n",
    "vote_count = {}\n",
    "candidate_list = [\"Alice\", \"Bob\", \"Carol\"]\n",
    "for name in candidate_list:\n",
    "    vote_count[name] = 0\n",
    "print(vote_count)\n",
    "\n",
    "\n",
    "# Now, add votes\n",
    "for i in range(5):\n",
    "    vote = input(\"Who do you want to vote for? \")\n",
    "    try:\n",
    "        vote_count[vote] += 1\n",
    "    except KeyError:\n",
    "        # If vote is not one of the listed candidates, \n",
    "        # add an entry to the dictionary, with its value equal to 1.\n",
    "        vote_count[vote] = 1\n",
    "        \n",
    "print(vote_count)\n"
   ]
  },
  {
   "cell_type": "markdown",
   "metadata": {},
   "source": [
    "You can also loop through a dictionary.  However, be aware that the entries in a dictionary *don't have a fixed order*.  In an ordinary list, the order is given by the indices (0,1,2,....). In a dictionary, there are no indices -- only keys!  (Admittedly, this example may not highlight this fact -- they'll probably print out in the order supplied.)\n",
    "\n",
    "The loop will look like:\n",
    "\n",
    "`for k in dictionary:`\n",
    "\n",
    "The target variable (`k`) will take on all the *keys* in the dictionary; if you need to access the values, you can of course use `dictionary[k]`. Here's what I mean."
   ]
  },
  {
   "cell_type": "code",
   "execution_count": null,
   "metadata": {
    "collapsed": true
   },
   "outputs": [],
   "source": [
    "# EXAMPLE 2c: Looping through dictionaries\n",
    "\n",
    "vote_count = {\"Alice\":3, \"Bob\":1, \"Carol\":1}\n",
    "\n",
    "# You can loop through a dictionary looks just like looping through a list.\n",
    "for k in vote_count:\n",
    "    # k is the KEY of each pair.\n",
    "    print(k, \"got\", vote_count[k], \"votes.\")\n",
    "    \n",
    "#\n",
    "# Now: write code that finds the winner of the election, using a loop. Assume no ties.    \n",
    "# It's actually a little tricky -- you might want to have two variables to keep track of (winner's name, winning count)\n",
    "# \n",
    "max_votes = 0\n",
    "for k in vote_count:\n",
    "    if vote_count[k] > max_votes:\n",
    "        max_votes = vote_count[k]\n",
    "        current_winner = k\n",
    "print(\"Winner is:\", current_winner)"
   ]
  },
  {
   "cell_type": "markdown",
   "metadata": {},
   "source": [
    "If you just want to look at the keys of a dictionary, you can create a list out of them using `.keys()`:\n",
    "\n",
    "`evans_new_list = list(dict_name.keys())`\n",
    "\n",
    "And if you just want to look at the values of a dicitionary, you can similarly use `.values()`:\n",
    "\n",
    "`evans_new_list = list(dict_name.values())`\n"
   ]
  },
  {
   "cell_type": "code",
   "execution_count": null,
   "metadata": {
    "collapsed": true
   },
   "outputs": [],
   "source": [
    "# EXAMPLE 2d: Another way to find the winner.  \n",
    "# This is a bit hacky.\n",
    "\n",
    "vote_count = {\"Alice\":3, \"Bob\":1, \"Carol\":1}\n",
    "\n",
    "# First, create the list of counts\n",
    "count_list = list(vote_count.values())\n",
    "\n",
    "# Then, find the max value.  We're getting to be grown ups now, so let's just use the max() function.\n",
    "max_votes = max(count_list)\n",
    "\n",
    "# Now, go through the dictionary and find the key whose value is the winning_count.\n",
    "for k in vote_count:\n",
    "    if vote_count[k] == max_votes:\n",
    "        print(\"Winner is:\", k)"
   ]
  },
  {
   "cell_type": "markdown",
   "metadata": {},
   "source": [
    "# 3. In Which Evan Stops Withholding Lots of Python Tricks That Make Common Tasks Very Easy, Because Really, We're All Grown Ups and We Don't Need to Reinvent the Friggin Wheel Everyday\n",
    "\n",
    "In the last section, we used the `max()` function to find the maximum of a list.  Many you have no doubt already discovered this function a long time ago.  It takes a list as input, and outputs the value of its maximum element.\n",
    "\n",
    "Every programmer should have no trouble implementing this operation from scratch -- if you can't solve that problem, there's no way you'll be able to solve a non-trivial problem that doesn't have a canned solution.  But maybe we're comfortable with the basic max-value-of-a-list problem by now.\n",
    "\n",
    "Here are a few more shortcuts that I think you might want to know about. "
   ]
  },
  {
   "cell_type": "code",
   "execution_count": null,
   "metadata": {
    "collapsed": true
   },
   "outputs": [],
   "source": [
    "# EXAMPLE 3a: Some neat Python list tricks\n",
    "a_list = [5, 18, 20, 4, -6, 37, 33, 45, 18]\n",
    "\n",
    "# How do you find the min value of the list? Using min()\n",
    "my_min_value = min(a_list)\n",
    "print(\"The min value is:\", my_min_value)\n",
    "\n",
    "# How do you sum a list? Using sum()\n",
    "my_sum = sum(a_list)\n",
    "print(\"The sum is:\", my_sum)\n",
    "\n",
    "# This is a good one: how do you check if a number is contained in a list?  The \"in\" keyword works well for that!\n",
    "is_20_in = 20 in a_list\n",
    "print(\"Is 20 in the list?\", is_20_in)\n",
    "is_30_in = 30 in a_list\n",
    "print(\"Is 30 in the list?\", is_30_in)\n",
    "\n",
    "# How do you count how many times a number appears? Using .count()\n",
    "num_of_18s = a_list.count(18)\n",
    "num_of_157s = a_list.count(157)\n",
    "print(\"There are {0} 18's and {1} 157's\".format(num_of_18s, num_of_157s))\n",
    "\n",
    "# How do you find the POSITION of a number in the list? Use .index() (whose behavior has a couple of subtleties)\n",
    "where_is_20 = a_list.index(20)\n",
    "where_is_18 = a_list.index(18) # It gives the FIRST occurence.\n",
    "print(\"20 is at position {0}, 18 is at position {1}\".format(where_is_20, where_is_18))\n",
    "problem = a_list.index(157) # This will give an ERROR!"
   ]
  },
  {
   "cell_type": "markdown",
   "metadata": {},
   "source": [
    "So, to summarize:\n",
    "\n",
    "* `max()` and `min()` take lists as arguments, and return the max or min value of the list.\n",
    "* `sum()` takes a list as an argument, and returns its sum\n",
    "* `in`, which we've used with for loops, also acts as a membership test.  So, e.g., you can write a line like `if x in some_list:`.\n",
    "* `.count()`, when attached to a list, takes a value as argument, and returns the number of appearances of that value in the list.\n",
    "* `.index()`, when attached to a list, takes a value as argument, and \"finds\" that value -- that is, if it is in the list, it will return the position of its first appearance.\n",
    "\n",
    "This is not an exhaustive list.  You're welcome to use them from now on unless I say otherwise.\n",
    "\n",
    "# 4. List Comprehensions\n",
    "\n",
    "One more cool thing that I'm just going to flash at you very quickly: the list comprehension.  This is an amazing tool for constructing lists quickly."
   ]
  },
  {
   "cell_type": "code",
   "execution_count": null,
   "metadata": {
    "collapsed": true
   },
   "outputs": [],
   "source": [
    "# EXAMPLE 4a: List comprehensions\n",
    "\n",
    "numbers = input(\"Enter a list of numbers on one line: \")\n",
    "# This of course gives a big string.  Let's say you want to turn this string \n",
    "# into a list of floats. We know how to do that:\n",
    "\n",
    "list_1 = []\n",
    "for x in numbers.split():\n",
    "    list_1.append(float(x))\n",
    "    \n",
    "# Here's an alternate way to write this code in one line:\n",
    "# a list comprehension!\n",
    "list_2 = [float(x) for x in numbers.split()]\n",
    "\n",
    "print(list_1)\n",
    "print(list_2)\n",
    "\n"
   ]
  },
  {
   "cell_type": "markdown",
   "metadata": {},
   "source": [
    "The syntax for a list comprehension is:"
   ]
  },
  {
   "cell_type": "code",
   "execution_count": null,
   "metadata": {
    "collapsed": true
   },
   "outputs": [],
   "source": [
    "LIST COMPREHENSION SYNTAX:\n",
    "    \n",
    "<list name> = [<operation on item> for <item> in <list>]"
   ]
  },
  {
   "cell_type": "markdown",
   "metadata": {},
   "source": [
    "This creates a list, where each value comes from performing the indicated operation on each element in `<list>`. For example, how can we create a new list which is equal to some old list with each element squared?"
   ]
  },
  {
   "cell_type": "code",
   "execution_count": null,
   "metadata": {
    "collapsed": true
   },
   "outputs": [],
   "source": [
    "# EXAMPLE 4b: Square the list\n",
    "\n",
    "old = [5, 3, 8, 20, 17, 20, 64]\n",
    "new = [x**2 for x in old]\n",
    "print(new)\n",
    "\n",
    "# And let's say you wanted to find the sum of the squares of elements in old.  \n",
    "# Can we do THAT in one line?\n",
    "print(sum([x**2 for x in old]))\n"
   ]
  },
  {
   "cell_type": "markdown",
   "metadata": {},
   "source": [
    "You can also use list comprehensions together with filters."
   ]
  },
  {
   "cell_type": "code",
   "execution_count": null,
   "metadata": {
    "collapsed": true
   },
   "outputs": [],
   "source": [
    "LIST COMPREHENSION WITH FILTER SYNTAX:\n",
    "    \n",
    "<list name> = [<operation on item> for <item> in <list> if <condition on item>]"
   ]
  },
  {
   "cell_type": "markdown",
   "metadata": {},
   "source": [
    "This will only add elements for `<item>`s which satisfy the `<condition>`.  For example, let's do the problem from before, except now we'll make a list that contains only the squares of the elements that happen to be odd."
   ]
  },
  {
   "cell_type": "code",
   "execution_count": null,
   "metadata": {
    "collapsed": true
   },
   "outputs": [],
   "source": [
    "# EXAMPLE 4c: Square the odd elements in the list\n",
    "\n",
    "old = [5, 3, 8, 20, 17, 20, 64]\n",
    "new = [x**2 for x in old if x%2 == 1]\n",
    "print(new)"
   ]
  },
  {
   "cell_type": "markdown",
   "metadata": {},
   "source": [
    "One more application: a program which converts a line of text to a list of numbers, but this time ignores non-numerical entries.  It uses exceptions."
   ]
  },
  {
   "cell_type": "code",
   "execution_count": null,
   "metadata": {
    "collapsed": true
   },
   "outputs": [],
   "source": [
    "# EXAMPLE 4d: Line of input to list of numbers: \n",
    "# A SAFE version, which ignores non \"floatable\" entries.\n",
    "\n",
    "def floatable(x):\n",
    "    \"\"\"Return true if the float function can be applied safely.\"\"\"\n",
    "    try:\n",
    "        float(x)\n",
    "        # If we make it past this line, we're safe.\n",
    "        return True\n",
    "    except ValueError:\n",
    "        return False\n",
    "\n",
    "numbers = input(\"Enter a list of numbers on one line: \")\n",
    "# This simply ignores entries which can't be made into floats.\n",
    "safe_list = [float(x) for x in numbers.split() if floatable(x)]\n",
    "\n",
    "print(safe_list)"
   ]
  }
 ],
 "metadata": {
  "kernelspec": {
   "display_name": "Python 3",
   "language": "python",
   "name": "python3"
  },
  "language_info": {
   "codemirror_mode": {
    "name": "ipython",
    "version": 3
   },
   "file_extension": ".py",
   "mimetype": "text/x-python",
   "name": "python",
   "nbconvert_exporter": "python",
   "pygments_lexer": "ipython3",
   "version": "3.7.1"
  },
  "name": "_merged_merged"
 },
 "nbformat": 4,
 "nbformat_minor": 2
}
