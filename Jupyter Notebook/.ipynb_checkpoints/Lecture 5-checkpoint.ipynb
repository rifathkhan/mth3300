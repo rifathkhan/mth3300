{
 "cells": [
  {
   "cell_type": "markdown",
   "metadata": {},
   "source": [
    "# Lecture 5\n",
    "\n",
    "### Blocks; Logical Expressions; Logical Connectives;  Designing Logical Expressions; If-Elif-Else"
   ]
  },
  {
   "cell_type": "markdown",
   "metadata": {},
   "source": [
    "# 1. Blocks\n",
    "\n",
    "After an `if .... :`, which statements are controlled by that `if`?  \n",
    "\n",
    "Answer: every statement after, until an **unindented** statement is encountered.  The group of statements controlled is also called a **_block statement_**.  Other languages use curly braces to denote beginning and end of blocks -- Python is notable for eschewing this.  It's a little weird at first, but it makes good coding style the law, which I think is really great for beginners.\n",
    "\n",
    "If your `if` statement has an `else`, that has to come immediately after the end of the `if` block. There can be empty lines between `if` block and `else`, but no unindented non-empty lines.  See below."
   ]
  },
  {
   "cell_type": "code",
   "execution_count": null,
   "metadata": {
    "collapsed": true
   },
   "outputs": [],
   "source": [
    "# EXAMPLE 1a: Block Problems\n",
    "# What's wrong with this?\n",
    "\n",
    "if 2 > 1:\n",
    "    print(\"Hi\")\n",
    "    print(\"How's it going\")\n",
    "print(\"Pretty good\")\n",
    "\n",
    "else:\n",
    "    print(\"Blah\")"
   ]
  },
  {
   "cell_type": "markdown",
   "metadata": {},
   "source": [
    "<br><br><br><br><br><br><br><br><br><br>\n",
    "\n",
    "In an if-else statement, execution returns to \"normal\" (every statement is executed) after the end of the `else` block; in a plain if statement, execution returns to \"normal\" at the end of the `if` block.  \n",
    "\n",
    "This can sometimes be confusing if you see consecutive `if` statements.  When one `if` follows the conclusion of another, the two should be considered as separate: the second one will execute the same way it would if the first wasn't there.  \n",
    "\n",
    "For example, what does the following produce when the user enters 1? 10? 100?"
   ]
  },
  {
   "cell_type": "code",
   "execution_count": null,
   "metadata": {
    "collapsed": true
   },
   "outputs": [],
   "source": [
    "# EXAMPLE 1b: More Blocks\n",
    "\n",
    "x = int(input(\"Enter a number: \")) \n",
    "\n",
    "if x > 20:       \n",
    "    print(\"A\")   \n",
    "    print(\"B\")   \n",
    "else:              \n",
    "    print(\"C\")   \n",
    "print(\"D\")       \n",
    "if x > 5:        \n",
    "    print(\"E\")   \n",
    "    print(\"F\")   \n",
    "if x > 0:        \n",
    "    print(\"G\")   \n",
    "    "
   ]
  },
  {
   "cell_type": "markdown",
   "metadata": {},
   "source": [
    "<br><br><br><br><br><br><br><br><br><br>\n",
    "\n",
    "# 2. Logical Expressions\n",
    "\n",
    "Question: what would we put into `if ....:` if we wanted something to print out only when `x` is, say, an odd number between 10 and 30?  \n",
    "\n",
    "This kind of question is a little harder than the ones we've dealt with so far.  To deal with it, we will need to get familiar with **_logical expressions_**, the gatekeepers (traffic directors?) for if-else statements.\n",
    "\n",
    "Logical expressions are just like ordinary mathematical expressions, except when you evaluate them, the answers you get are not numbers, but rather `True` or `False`.  E.g.:\n",
    "\n",
    "* `3 + 5` evaluates to `8`\n",
    "* `3 < 5` evaluates to `True`\n",
    "\n",
    "The basic *arithmetic* operators are `+`, `-`, `*`, `/`.\n",
    "The basic *logical* operators are `>`, `<`, `>=`, `<=`, `==`, `!=` and also\n",
    "`not`, `and`, `or`.\n",
    "\n",
    "<br><br><br><br><br><br><br><br><br><br>\n",
    "\n",
    "The first four should be mostly self explanatory.  The fifth, `==`, is the **_equality_** operator.  Note the difference between single `=` and `==`:\n",
    "\n",
    "* `x = 3` *assigns* the value `x` to the variable `3`.  It is a complete statement, more than just an expression.\n",
    "* `x == 3` *tests* whether `x` and `3` are equal.  This is an *expression*, which will evaluate to `True` or `False`, depending on what value `x` holds. If you write a line in your program that contains *only* `x == 3`, that line won't do much (but if you put `x == 3` after `if`, that could definitely be useful).\n",
    "\n",
    "`!=` is the **_inequality_** operator: `x != y` evaluates to `True` if `x` and `y` have different values, and `False` if they have the same value.  "
   ]
  },
  {
   "cell_type": "code",
   "execution_count": null,
   "metadata": {
    "collapsed": true
   },
   "outputs": [],
   "source": [
    "# EXAMPLE 2a: Logical Expressions\n",
    "\n",
    "x = 10\n",
    "y = 20\n",
    "\n",
    "print(\"Here's x < 10:\", x < 10)\n",
    "print(\"Here's x <= 10:\", x <= 10)\n",
    "print(\"Here's x * 2 == y:\", x * 2 == y) \n",
    "# Note precedence for the last one: * evaluated before ==.\n",
    "    \n",
    "    \n",
    "if x != 10:\n",
    "    print(\"A\")\n",
    "\n",
    "if x != 11:\n",
    "    print(\"B\")\n",
    "\n",
    "# In C++, this type of thing could drive you CRAZY; fortunately\n",
    "# Python will raise an error for this.\n",
    "if y = 20:\n",
    "    print(\"C\")"
   ]
  },
  {
   "cell_type": "markdown",
   "metadata": {},
   "source": [
    "<br><br><br><br><br><br><br><br><br><br>\n",
    "\n",
    "Note that you can use comparisons with `str`s as well.  Equality and inequality should be obvious -- just be aware that equality tests *exact* equality -- cases and spaces both matter.\n",
    "\n",
    "For `<` and `>`, `str`s are compared using ASCII lexigraphical order.  What?  The \"lexigraphical\" part is easy to understand; that just means like the dictionary order.  You compare the first characters; if they are the same, you go on to the second characters; and so on.  \n",
    "\n",
    "But how would you compare \"!23\" and \"abc\"?  Recall that ASCII (American Standard Code for Information Interchange) associates each standard character with a number.  For instance:\n",
    "\n",
    "\"A\" corresponds to 65 <br>\n",
    "\"B\" corresponds to 66 <br>\n",
    "\"a\" corresponds to 97 <br>\n",
    "\"b\" corresponds to 98 <br>\n",
    "\"0\" (the symbol) corresponds to 49 <br>\n",
    "\"!\" corresponds to 33 <br>\n"
   ]
  },
  {
   "cell_type": "code",
   "execution_count": null,
   "metadata": {
    "collapsed": true
   },
   "outputs": [],
   "source": [
    "# EXAMPLE 2b: String comparisons\n",
    "\n",
    "if \"yellow\" == \"Yellow\":\n",
    "    print(\"A\")\n",
    "\n",
    "if \"yellow\" == \"yellow\":\n",
    "    print(\"B\")\n",
    "    \n",
    "if \"a \" == \"a\":\n",
    "    print(\"C\")\n",
    "\n",
    "if \"2345678\" < \"239\":\n",
    "    print(\"D\")\n",
    "    \n",
    "if \"Baby\" < \"apple\":\n",
    "    print(\"E\")\n",
    "\n",
    "if \"!23\" >= \"abc\":\n",
    "    print(\"F\")\n"
   ]
  },
  {
   "cell_type": "markdown",
   "metadata": {},
   "source": [
    "<br><br><br><br><br><br><br><br><br><br>\n",
    "\n",
    "Choose a password, and the write the following program: it should ask the user to enter a guess; if they enter the correct password, print out a secret message, and otherwise print `Access denied`."
   ]
  },
  {
   "cell_type": "code",
   "execution_count": null,
   "metadata": {
    "collapsed": true
   },
   "outputs": [],
   "source": [
    "# EXAMPLE 2c: Password\n",
    "# Ask for input: if the user enters your chosen message, print out secret files.\n",
    "\n",
    "#\n",
    "# LET'S CODE\n",
    "#"
   ]
  },
  {
   "cell_type": "markdown",
   "metadata": {},
   "source": [
    "<br><br><br><br><br><br><br><br><br><br>\n",
    "\n",
    "A warning about testing `float`s for equality: umm, avoid doing so.  Remember how `float`s are imprecise?  Well, tiny imprecisions are one thing, but the difference between `True` and `False` is a bit more stark."
   ]
  },
  {
   "cell_type": "code",
   "execution_count": null,
   "metadata": {
    "collapsed": true
   },
   "outputs": [],
   "source": [
    "# EXAMPLE 2d: Float Trouble\n",
    "# The if block ought to execute, but: that's not what happens\n",
    "\n",
    "if 0.1 + 0.2 == 0.3:\n",
    "    print(\"Math is ok\")\n",
    "else:\n",
    "    print( 0.1 + 0.2 - 0.3)"
   ]
  },
  {
   "cell_type": "markdown",
   "metadata": {},
   "source": [
    "<br><br><br><br><br><br><br><br><br><br>\n",
    "\n",
    "# 3. Logical Connectives\n",
    "\n",
    "The other three logical operators, as mentioned, are `not`, `and`, `or`.  They connect to other logical expressions, and work as follows.\n",
    "\n",
    "If `<exp1>` and `<exp2>` are logical expressions, then:\n",
    "\n",
    "* If `<exp1>` is `True`, then `not <exp1>` evaluates to `False`; and vice-versa.\n",
    "* `<exp1> and <exp2>` evaluates to `True` if **both** `<exp1>` and `<exp2>` are `True`; otherwise, `<exp1> and <exp2>`  evaluates to `False`.\n",
    "* `<exp1> or <exp2>` evaluates to `True` if **one or both** of `<exp1>` and `<exp2>` are `True`; otherwise (when both are `False`), `<exp1> or <exp2>`  evaluates to `False`.\n",
    "\n",
    "Let's play with some examples.  Suppose that `x = 2`.  What would the following three expressions evaluate to?\n"
   ]
  },
  {
   "cell_type": "code",
   "execution_count": null,
   "metadata": {
    "collapsed": true
   },
   "outputs": [],
   "source": [
    "# EXAMPLE 3a: Connectives\n",
    "# Add in the x = 2 part where you are ready\n",
    "\n",
    "\n",
    "print(  x > 1 and x < 1 )\n",
    "\n",
    "print(  not( x > 1 and (x <= 1 or 3 > x) )  )\n",
    "\n",
    "print(  (3 > x) or (not x > 1) and (x <= 1)  )\n"
   ]
  },
  {
   "cell_type": "markdown",
   "metadata": {},
   "source": [
    "<br><br><br><br><br><br><br><br><br><br>\n",
    "\n",
    "The first one: `True and False` --> `False`\n",
    "\n",
    "The second one: `not( True and (False or True) )` --> `not( True and True )` --> `not (True)` --> `False`\n",
    "\n",
    "The third one: `True or (not True) and False` --> `True or False and False` -->\n",
    "\n",
    "At this point, we have kind of a trick -- to answer it properly, you need to know more about the rules of precedence!\n",
    "They read, in part:\n",
    "\n",
    "`**`, then {`*`, `/`, `%`, `//`}, then {`+`, `-`}, then {`==`, `!=`, `<`, `>`, `<=`, `>=`}, then `not`, then `and`, and finally `or`.\n",
    "\n",
    "Within each class, operators are evaluated as they are encounted from left to right in the expression.\n",
    "\n",
    "So: `True or False and False` --> `True or False` --> `True` \n",
    "\n",
    "The `and` is evaluated first!\n",
    "\n",
    "By the way: `3 > x or not x > 1 and x <= 1` would evaluate the same way, because of those precedence rules: the parentheses are not necessary!  But why make your code unreadable?  Use parentheses even if they aren't strictly necessary!"
   ]
  },
  {
   "cell_type": "markdown",
   "metadata": {},
   "source": [
    "<br><br><br><br><br><br><br><br><br><br>\n",
    "\n",
    "One more: if `x = 2`, what would\n",
    "\n",
    "`1 < x < 3`\n",
    "\n",
    "evaluate to? There's 3 levels to this question.\n",
    "\n",
    "1. Everyday mathematics suggest that this is `True`.  Duh.\n",
    "\n",
    "2. But programming languages don't always use everyday reasoning.  Let's evaluate this like we did with the expressions above: \n",
    "\n",
    "    `1 < x < 3` --> `True < 3`    ????? \n",
    "    \n",
    "    That's nonsense!\n",
    "\n",
    "3. But Python is so smart that it realizes that you probably didn't mean for this statement to be interpreted as in level 2, and so it overrides those rules, and instead interprets the expression like in level 1.\n",
    "\n",
    "I bring all this up because while Python is smart enough to get to level 3 (smart interpretation of *chained inequalities*), C, C++, and Java among others **do not support this.**"
   ]
  },
  {
   "cell_type": "markdown",
   "metadata": {},
   "source": [
    "<br><br><br><br><br><br><br><br><br><br>\n",
    "\n",
    "# 4. Designing Logical Expressions\n",
    "\n",
    "How would you print `You can ride` if the variable `height` is between 36 and 96 (inclusive)?"
   ]
  },
  {
   "cell_type": "code",
   "execution_count": null,
   "metadata": {
    "collapsed": true
   },
   "outputs": [],
   "source": [
    "# EXAMPLE 4a: You can ride\n",
    "\n",
    "height = 40\n",
    "\n",
    "if ### ??? ###:\n",
    "    print(\"You can ride.\")\n"
   ]
  },
  {
   "cell_type": "markdown",
   "metadata": {},
   "source": [
    "\n",
    "\n",
    "How would you print `Someone got a 7!` if at least one of `x` and `y` is `7`?"
   ]
  },
  {
   "cell_type": "code",
   "execution_count": null,
   "metadata": {
    "collapsed": true
   },
   "outputs": [],
   "source": [
    "# EXAMPLE 4b: At least one 7\n",
    "\n",
    "x = 7\n",
    "y = 5\n",
    "\n",
    "if ### ??? ###:\n",
    "    print(\"Someone got a 7!\")\n"
   ]
  },
  {
   "cell_type": "markdown",
   "metadata": {},
   "source": [
    "<br><br><br><br><br><br><br><br><br><br>\n",
    "\n",
    "How would you print `Exactly one winner!` if **exactly one** of `x` and `y` is `7`?"
   ]
  },
  {
   "cell_type": "code",
   "execution_count": null,
   "metadata": {
    "collapsed": true
   },
   "outputs": [],
   "source": [
    "# EXAMPLE 4c: Exactly one 7\n",
    "# Of course, there are several ways to do this\n",
    "\n",
    "x = 5\n",
    "y = 7\n",
    "\n",
    "if ### ??? ###:\n",
    "    print(\"Exactly one winner!\")\n"
   ]
  },
  {
   "cell_type": "markdown",
   "metadata": {},
   "source": [
    "<br><br><br><br><br><br><br><br><br><br>\n",
    "\n",
    "How would you print `Buzz` if a variable `x` is either a multiple of `7` or ends with the digit `7`?"
   ]
  },
  {
   "cell_type": "code",
   "execution_count": null,
   "metadata": {
    "collapsed": true
   },
   "outputs": [],
   "source": [
    "# EXAMPLE 4d: Buzz\n",
    "\n",
    "x = 17\n",
    "\n",
    "if ### ??? ###:\n",
    "    print(\"Buzz\")\n"
   ]
  },
  {
   "cell_type": "markdown",
   "metadata": {},
   "source": [
    "<br><br><br><br><br><br><br><br><br><br>\n",
    "\n",
    "How would you write code which stores the absolute value of `x` into the variable `y`?  (Actually, there's a function for that in the `math` library, but let's use `if` to do it instead.)"
   ]
  },
  {
   "cell_type": "code",
   "execution_count": null,
   "metadata": {
    "collapsed": true
   },
   "outputs": [],
   "source": [
    "# EXAMPLE 4e: Absolute value\n",
    "\n",
    "x = -3\n",
    "\n",
    "if ### ??? ###\n",
    "\n",
    "print(y)\n"
   ]
  },
  {
   "cell_type": "markdown",
   "metadata": {},
   "source": [
    "<br><br><br><br><br><br><br><br><br><br>\n",
    "\n",
    "# 5. If-Elif-Else Chains\n",
    "\n",
    "If-else is great when you have two possibilites to choose from.  What if you have 3 possibilities, or 5? In that case, you might want an **_if-elif-else chain_**.  (\"Elif\" is short for \"else if\".) Example:"
   ]
  },
  {
   "cell_type": "code",
   "execution_count": null,
   "metadata": {
    "collapsed": true
   },
   "outputs": [],
   "source": [
    "# EXAMPLE 5a: Pie\n",
    "\n",
    "favorite = input(\"Please state your favorite type of pie: \")\n",
    "\n",
    "if favorite == \"Key Lime\":\n",
    "    print(\"Yeah, that's what's up!\")\n",
    "elif favorite == \"Pumpkin\" or favorite == \"Apple\":\n",
    "    print(\"That's very American.  I can respect that.\")\n",
    "elif favorite == \"Chocolate\":\n",
    "    print(\"You're not really a pie person, are you?\")\n",
    "else:\n",
    "    print(\"Well, at least you didn't put \\\"Chocolate\\\".\")"
   ]
  },
  {
   "cell_type": "markdown",
   "metadata": {},
   "source": [
    "<br><br><br><br><br><br><br><br><br><br>\n",
    "\n",
    "Here is the general syntax:"
   ]
  },
  {
   "cell_type": "code",
   "execution_count": null,
   "metadata": {
    "collapsed": true
   },
   "outputs": [],
   "source": [
    "IF-ELIF-ELSE CHAIN SYNTAX:\n",
    "\n",
    "\"...previous statements (unindented)...\"\n",
    "\n",
    "if <expr 1>:\n",
    "    <body 1>\n",
    "elif <expr 2>:\n",
    "    <body 2>\n",
    "elif <expr 3>:\n",
    "    <body 3>\n",
    "else:\n",
    "    <body 4>\n",
    "\n",
    "\"...further statements (unindented)...\""
   ]
  },
  {
   "cell_type": "markdown",
   "metadata": {},
   "source": [
    "Note that the `elif`'s go in the middle, and of course you can have more or less than 2.  Also, the `else` at the end is optional.\n",
    "\n",
    "The idea is that when this chain is encountered:\n",
    "\n",
    "* The first logical expression, `<expr 1>`, is evaluated.\n",
    "\n",
    "* If `True`, `<body 1>` is evaluated, and then execution skips past the rest of the chain.  \n",
    "\n",
    "* If `False`, then execution moves on to the first `elif`, and `<expr 2>` is evaluated. If this is `True`, then `<body 2>` is evaluated; if `False`, execution moves to the third `elif`.\n",
    "\n",
    "* And so on.  If there is an `else` at the end, that executes if none of the logical expressions are `True` (the \"default\" scenario); if there is no `else` at the end, then it is possible for none of the bodies to execute.\n",
    "\n",
    "<br><br><br><br><br><br><br><br><br><br>\n",
    "\n",
    "Here's a flowchart, for an if-elif-else chain with an else at the end:\n",
    "\n",
    "![IMAGE NOT FOUND](ifelsechain.png)\n",
    "\n",
    "Again: notice that **exactly one** of the bodies is executed.  (And if there were no `else`, then **at most one** body would be executed.)\n",
    "\n",
    "<br><br><br><br><br><br><br><br><br><br>\n",
    "\n",
    "Write a program which asks the user to put in a lowercase letter.  Then have it print out `Always` if it is a,e,i,o,u; `Sometimes` if it is y; and `Never` otherwise.  (To test this properly, you need a bare minimum of three test runs.)"
   ]
  },
  {
   "cell_type": "code",
   "execution_count": null,
   "metadata": {
    "collapsed": true
   },
   "outputs": [],
   "source": [
    "# EXAMPLE 5b: Vowels\n",
    "# Ask user to input a lowercase letter, then print out whether or not it is \n",
    "# a vowel always, sometimes, or never\n",
    "\n",
    "letter = input(\"Enter a lowercase letter: \")\n",
    "\n",
    "#\n",
    "# YOUR CODE HERE\n",
    "#"
   ]
  },
  {
   "cell_type": "markdown",
   "metadata": {},
   "source": [
    "<br><br><br><br><br><br><br><br><br><br>\n",
    "\n",
    "\n",
    "I have here three versions of a program.  The program is a (slightly lazy) grade converter.  It asks for a score, and then prints out `A` for 90-100, `B` for in the 80's, a `C or lower` for less than 80.  All versions have flaws.  What are the flaws, exactly?"
   ]
  },
  {
   "cell_type": "code",
   "execution_count": null,
   "metadata": {
    "collapsed": true
   },
   "outputs": [],
   "source": [
    "# EXAMPLE 5c: Flawed Grades, Version 1\n",
    "\n",
    "score = input(\"Enter score: \")\n",
    "score = float(score)\n",
    "\n",
    "if score >= 90:\n",
    "    print(\"A\")\n",
    "else score >= 80:\n",
    "    print(\"B\")\n",
    "else:\n",
    "    print(\"C or lower\")\n",
    "    "
   ]
  },
  {
   "cell_type": "code",
   "execution_count": null,
   "metadata": {
    "collapsed": true
   },
   "outputs": [],
   "source": [
    "# EXAMPLE 5d: Flawed Grades, Version 2\n",
    "\n",
    "score = input(\"Enter score: \")\n",
    "score = float(score)\n",
    "\n",
    "\n",
    "if score < 80:\n",
    "    print(\"C or lower\")\n",
    "elif score >= 80:\n",
    "    print(\"B\")\n",
    "elif score >= 90:\n",
    "    print(\"A\")\n"
   ]
  },
  {
   "cell_type": "code",
   "execution_count": null,
   "metadata": {
    "collapsed": true
   },
   "outputs": [],
   "source": [
    "# EXAMPLE 5e: Flawed Grades, Version 3\n",
    "\n",
    "score = input(\"Enter score: \")\n",
    "score = float(score)\n",
    "\n",
    "if score >= 90:\n",
    "    print(\"A\")\n",
    "if score >= 80:\n",
    "    print(\"B\")\n",
    "else:\n",
    "    print(\"C or lower\")"
   ]
  },
  {
   "cell_type": "markdown",
   "metadata": {},
   "source": [
    "<br><br><br><br><br><br><br><br><br><br>\n",
    "\n",
    "Version 1: This is a straight syntax error: there is no such thing as `else <logical expression>`.  `else` is never followed by anything but a `:`.  Obviously, `elif` was intended.\n",
    "\n",
    "Version 2: The backwards order isn't inherently a problem, nor is the lack of an `else`.  What IS a problem, however, is that a `score` that is `>= 90` will also be `>= 80`, so `B` will print out, and you will never get to the second `elif`.\n",
    "\n",
    "Version 3: Notice that the middle statement is `if`, not `elif` -- so the first two lines are severed from the last four!  So if `score >= 90`, then `A` prints out; then, you execute the next if-else statement: for which `B` will also print out.  Here's a flow chart illustrating:\n",
    "\n",
    "![IMAGE NOT FOUND!!!!!!!!!!](grades.png)\n",
    "\n",
    "\n"
   ]
  }
 ],
 "metadata": {
  "kernelspec": {
   "display_name": "Python 3",
   "language": "python",
   "name": "python3"
  },
  "language_info": {
   "codemirror_mode": {
    "name": "ipython",
    "version": 3
   },
   "file_extension": ".py",
   "mimetype": "text/x-python",
   "name": "python",
   "nbconvert_exporter": "python",
   "pygments_lexer": "ipython3",
   "version": "3.7.0"
  },
  "name": "_merged_merged"
 },
 "nbformat": 4,
 "nbformat_minor": 2
}
