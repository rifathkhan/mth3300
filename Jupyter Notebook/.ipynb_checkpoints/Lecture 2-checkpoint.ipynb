{
 "cells": [
  {
   "cell_type": "markdown",
   "metadata": {},
   "source": [
    "# Lecture 2\n",
    "\n",
    "#### Variables and Expressions (and Printing); Assignments and Statements; Basic Numerical Operators; `float` Weirdness and Binary; Functions, Randomness and Modules; String Basics"
   ]
  },
  {
   "cell_type": "markdown",
   "metadata": {},
   "source": [
    "# 1. Variables and Expressions (and Printing)\n",
    "\n",
    "\n",
    "A **_variable_** is a *name* that is associated with a *value*. (Warning: this is actually a simplification. But it wouldn't be helpful to describe the truth right now.) \n",
    "\n",
    "The name part of a variable is called the variable's **_identifier_**.  Rules for Python identifiers:\n",
    "\n",
    "* Only letters, digits, and underscores (`_`), no spaces or other punctuation\n",
    "* May not begin with a digit\n",
    "* May not be a reserved word (`if`, `import`, `def`, etc.)\n",
    "\n",
    "So, these are legal: `hey123`, `AHHH`, `_x_y_z`\n",
    "\n",
    "And these are not: `1st_thing`, `what?`, `no spaces`\n",
    "\n",
    "Also:\n",
    "\n",
    "* Identifiers are case-sensitive: `hello` is not the same as `hElLo`\n",
    "* Probably should be *meaningful*\n",
    "* We'll start variable names with lowercase letters usually\n",
    "\n",
    "\n",
    "**The purpose of variables is to hold data values for reference later on.**  This \"obvious\" point takes a while to click for most beginners.  Variables aren't just things you throw in your program because whatever; their purpose is to remember data that you'll need later on.\n",
    "\n",
    "<br><br><br><br><br><br><br><br><br><br>\n",
    "\n",
    "To *create* a variable: simply write a line assigning it a value, of the following form:"
   ]
  },
  {
   "cell_type": "code",
   "execution_count": null,
   "metadata": {
    "collapsed": true
   },
   "outputs": [],
   "source": [
    "VARIABLE CREATION SYNTAX (do not run me):\n",
    "\n",
    "<variable name> = <value>\n"
   ]
  },
  {
   "cell_type": "markdown",
   "metadata": {},
   "source": [
    "After that, the variable name will be associated with that value, until it is assigned a different value.  \n",
    "\n",
    "(Note: In these notes, I will use `<this notation>` to represent a blank to be filled in.  I use this to highlight **_syntax_**: this refers to the order in which variables and operators are placed to make meaningful statements.  For example,  `x = 17` and `17 = x` are very different statements -- the latter causes a *syntax error*, because that's not the order you're supposed to write things in -- we'll discuss why soon.)\n",
    "\n",
    "\n",
    "\n",
    "<br><br><br><br><br><br><br><br><br><br>\n",
    "\n",
    "An **_expression_** is one or more literals or variables, connected with **operators** (e.g., `+`, `-`, etc.) and functions, which can be **_evaluated_** to produce a value.  For example:\n",
    "\n",
    "`3 + 4.5` <br>\n",
    "`\"Hello\" + \"Goodbye\"` <br>\n",
    "`len(\"Hello\")` <br>\n",
    "`\"Hello\" * 3` <br>\n",
    "\n",
    "When these are encountered in a program, the interpreter respectively computes values of `7.5`, `\"HelloGoodbye\"`, `5`, and `\"HelloHelloHello\"` for the first four.  (Notice that \"value\" doesn't mean *number* -- it means any type of data, and so strings are perfectly good end values.)\n",
    "\n",
    "These are **_not_** (just) expressions:\n",
    "\n",
    "`x = 5 + 7` <br>\n",
    "`print(5+7)`\n",
    "\n",
    "Sure, `5+7` on its own is an expression -- it has a value.  But `x = 5 + 7` and `print(5+7)` are really *instructions* about what to do with values, rather that *values* themselves.   \n",
    "\n",
    "Also, `3 + xyz` is also a (probably) valid expression.  Since the `xyz` is **not in quotes, it is treated as a variable!**\n",
    "\n",
    "To evaluate this expression, the interpreter reads the *current* value of the variable `xyz`, and (assuming it's numerical) produces that value plus 3. But: if \n",
    "\n",
    "* `xyz` has a non-numeric value, or\n",
    "* `xyz` has not previously been assigned a value\n",
    "\n",
    "then this will cause an error!\n",
    "\n",
    "\n",
    "<br><br><br><br><br><br><br><br><br><br>\n",
    "\n",
    "Let's talk about the very basics of printing, which you may have caught on to."
   ]
  },
  {
   "cell_type": "code",
   "execution_count": null,
   "metadata": {
    "collapsed": true
   },
   "outputs": [],
   "source": [
    "SYNTAX FOR THE PRINT FUNCTION:\n",
    "\n",
    "print(<whatever>, <another>, <yet another>, <as many of these as you like>)"
   ]
  },
  {
   "cell_type": "markdown",
   "metadata": {},
   "source": [
    "Each of those arguments (`<whatever>`, `<another>`, etc.) must be a single expression -- either a single literal, or a single variable, or a more complex formula.  When your program reaches the `print` line, each of the expressions will be printed out on the same line, with their current values at that line, in order, with spaces between each value.  The next `print` statement will be printed starting on a new line."
   ]
  },
  {
   "cell_type": "code",
   "execution_count": null,
   "metadata": {
    "collapsed": true
   },
   "outputs": [],
   "source": [
    "# EXAMPLE 1a: Basic print\n",
    "\n",
    "variable_x = 4 + 5\n",
    "print(\"Hello\", True, variable_x, 5*variable_x  - (variable_x+2), \"Goodbye\")\n",
    "print(\"Next line\")\n",
    "# That looks like two expressions to me, so there's got to be a comma between them!\n",
    "# If you put a comma in between, then this code will run.\n",
    "print(\"Here's a problem\" variable_x) "
   ]
  },
  {
   "cell_type": "markdown",
   "metadata": {},
   "source": [
    "You can also suppress the automatic newline at the end of a print by including `end = \"\"` at the end of the print statement, as follows."
   ]
  },
  {
   "cell_type": "code",
   "execution_count": null,
   "metadata": {
    "collapsed": true
   },
   "outputs": [],
   "source": [
    "# EXAMPLE 1b: Suppressing the automatic newline\n",
    "\n",
    "print(10)\n",
    "print(11)\n",
    "print(12, end = \"\") # This print statement won't be followed by an automatic newline...\n",
    "print(13)           # ...which means that this is displayed IMMEDIATELY after the 12, not even a space in between.\n",
    "print(14)"
   ]
  },
  {
   "cell_type": "markdown",
   "metadata": {},
   "source": [
    "\n",
    "<br><br><br><br><br><br><br><br><br><br>\n",
    "\n",
    "\n",
    "# 2. Assignment and Statements\n",
    "\n",
    "The single equals sign `=` is called the **_assignment operator_**.  We've already seen it with variable creation, but it works more generally:"
   ]
  },
  {
   "cell_type": "code",
   "execution_count": null,
   "metadata": {
    "collapsed": true
   },
   "outputs": [],
   "source": [
    "ASSIGNMENT SYNTAX:\n",
    "\n",
    "<variable name> = <expression>\n"
   ]
  },
  {
   "cell_type": "markdown",
   "metadata": {},
   "source": [
    "(Note the order!!) When you write this line, three things happen:\n",
    "\n",
    "1. **_FIRST_**, the right side gets evaluated.\n",
    "\n",
    "2. **_THEN_**, the value you gets stored to the variable `<variable name>`\n",
    "\n",
    "3. Until `<variable name>` gets reassigned, all subsequent references to it will produce that value.\n",
    "\n",
    "**Understanding assignment isn't too hard, but it is utterly utterly crucial to understanding programming. Read those 3 lines carefully.** \n",
    "\n",
    "Also, be aware that we use the equals sign in (at least) two different ways in mathematics: in addition to assignment (as in \"set $x = 3$, and then tell me what $x^2$ is\"), there is also the logical operator (as in \"is 2 + 2 = 5?  No, that statement is False\").  The first one is a command to do something, the second one expresses a potential fact; pay attention to the distinction. \n",
    "\n",
    "\n",
    "<br><br><br><br><br><br><br><br><br><br>\n",
    "\n",
    "If I write\n",
    "\n",
    "`x = 4 + 2`\n",
    "\n",
    "1. 4+2 evaluates to 6.\n",
    "2. The value 6 is assigned to `x`.\n",
    "3. If I saw, e.g., `print(x+4)`, then `10` would be displayed.\n",
    "\n",
    "*But*, imagine if I wrote\n",
    "\n",
    "`4 + 2 = x`\n",
    "\n",
    "1. `x` evaluates to... I'm not sure. Maybe it has a value already? Huh.\n",
    "2. Whatever that value is gets assigned to 4+2...what?  The program is trying to change the value of 4+2?  That's nonsense!\n",
    "\n",
    "So, order matters deeply here.\n",
    "\n",
    "\n",
    "<br><br><br><br><br><br><br><br><br><br>\n",
    "\n",
    "Variables can change, which means that you have to pay attention to assignments really closely to predict program behavior.  \n",
    "Look at the following example.  Try to figure out what happens in this program; then, when you've got an idea, add print statements to the bottom to confirm.\n",
    "(Remember: lines execute in order, and on any line, a variable has the value of its most recent assignment, and the right side of an assignment is evaluated **first**.)"
   ]
  },
  {
   "cell_type": "code",
   "execution_count": null,
   "metadata": {
    "collapsed": true
   },
   "outputs": [],
   "source": [
    "# EXAMPLE 2a: Walkthrough\n",
    "\n",
    "x = 0        \n",
    "y = 1        \n",
    "z = 2\n",
    "a = 3\n",
    "y = x + 10\n",
    "z = z + y    \n",
    "z - 2        \n",
    "x = 3 * x # DON'T WRITE \"3x\" -- actually put the \"*\" explicitly.   \n",
    "a = \"x\"\n",
    "\n",
    "# When you're ready, print out x,y,z,a.\n"
   ]
  },
  {
   "cell_type": "markdown",
   "metadata": {},
   "source": [
    "\n",
    "<br><br><br><br><br><br><br><br><br><br>\n",
    "\n",
    "You've noticed by now that a Python program is typically a list of lines.  Some of those lines begin with `#`'s -- those are **_comments_**, which give human readers clues to how the nearby code works.  Each one of the non-comment lines is called a **_statement_**. You should type each statement on a single line, *with no leading spaces*.  It is common to put exactly one space between each variable, operator, and/or literal appearing in your statement, although you have some freedom in doing this.  \n",
    "\n",
    "When a program runs, it performs the *actions* specified by those statements, in order; we say that the program **_executes_** those statements.  You should think of a statement as an instruction, and executing a statement as the program trying to follow the instruction.\n",
    "\n",
    "As we've just noted: a statement that doesn't either change the value of a variable or print something out is legal, but probably isn't very useful!  A statement that is just an expression without a print or an assignment is like going up to your brother and just saying \"the dog\" and nothing else.  If you want your brother to take the dog out for a walk, you can't just give him a noun -- you need to specify to him what you want done with that noun.\n",
    "\n",
    "\n",
    "\n",
    "<br><br><br><br><br><br><br><br><br><br>\n",
    "\n",
    "Let's make a slightly less dumb (still pretty dumb) program.\n",
    "\n",
    "Create four variables:\n",
    "\n",
    "* a variable called `name`, which you should assign to be your name\n",
    "* two variables called `score1` and `score2`, which you should assign to be `90` and `100`, respectively\n",
    "* a variable called `average`, which should be assigned the average of the two scores.  (Have Python do the computation, even though we all know the average is 95.)\n",
    "\n",
    "Then, using these variables, have the program print out:\n",
    "\n",
    "`Hi <name variable here>` <br>\n",
    "`Your average is: <average variable here>`\n",
    "\n",
    "**You should type your name, 90 and 100 each only once, and never type 95.**\n"
   ]
  },
  {
   "cell_type": "code",
   "execution_count": null,
   "metadata": {
    "collapsed": true
   },
   "outputs": [],
   "source": [
    "# EXAMPLE 2b: Average calculator\n",
    "# See instructions above.\n",
    "\n",
    "\n",
    "\n",
    "\n"
   ]
  },
  {
   "cell_type": "markdown",
   "metadata": {},
   "source": [
    "\n",
    "<br><br><br><br><br><br><br><br><br><br>\n",
    "\n",
    "# 3.  Basic Numerical Operators\n",
    "\n",
    "This is a math class, so let's talk about math!\n",
    "\n",
    "With `int`s and `float`s, the basic operators are `+`, `-`, `*`, `/`, and `**` (the last one being exponentiation).  The first two can be used with a single number, to indicate positive or negative, and all of them can be used with two arguments (which is a fancy word for \"inputs\").  They mostly work the way you'd expect, but there are some things to be aware of.\n",
    "\n",
    "* Obviously, you can't divide by 0.\n",
    "* `float`s can be weird.  I'll elaborate shortly. \n",
    "* If you add or subtract or multiply two `int`s, Python will produce an `int` value as the result.  If you divide two `int`s, or perform any operation involving at least one `float`, Python will *always* provide a `float` answer -- even if you divide 12 by 6, the result will be a `float`.\n",
    "* Python has built-in support for complex numbers, but it uses the letter `j` for $\\sqrt{-1}$ instead of `i`."
   ]
  },
  {
   "cell_type": "code",
   "execution_count": null,
   "metadata": {
    "collapsed": true
   },
   "outputs": [],
   "source": [
    "# EXAMPLE 3a: Arithmetic\n",
    "# What do these evaluate to?\n",
    "\n",
    "print(5 + 2)     # Notice the output types for these four lines:\n",
    "print(6.0 * 4)   # if it has a decimal point, Python's producing a float,  \n",
    "print(12 / 6)    # if not, almost certainly Python's produced an int.\n",
    "print(4 * 3 + 2) #\n",
    "\n",
    "print(2 ** 10)     #\n",
    "print(2 ** 0.5)    # Exponents\n",
    "print((-2) ** 0.5) #\n",
    "\n",
    "print(3 / 0)        # I think you know this is an error"
   ]
  },
  {
   "cell_type": "markdown",
   "metadata": {
    "collapsed": true
   },
   "source": [
    "\n",
    "<br><br><br><br><br><br><br><br><br><br>\n",
    "\n",
    "For `int`s, there are two other operations worth knowing about: mod `%` and floored division `//`.  \n",
    "\n",
    "The first one gives *remainders*.  That is, `x % y` gives the remainder when `x` is divided by `y`.  \n",
    "\n",
    "The second one gives *integer part of division*. That is, `x // y` divides `x` by `y`, but simply removes the decimal part."
   ]
  },
  {
   "cell_type": "code",
   "execution_count": null,
   "metadata": {
    "collapsed": true
   },
   "outputs": [],
   "source": [
    "# EXAMPLE 3b: % and //\n",
    "# What are the answers?\n",
    "\n",
    "print(29//7)\n",
    "print(29 % 7)\n",
    "print(123 % 10)\n",
    "\n",
    "# Check this one out: what am I doing?\n",
    "x = 1896\n",
    "print( (x//100) % 10 )"
   ]
  },
  {
   "cell_type": "markdown",
   "metadata": {},
   "source": [
    "\n",
    "<br><br><br><br><br><br><br><br><br><br>\n",
    "\n",
    "Having introduced all these operators, let's now talk about operator precedence.  Imagine you see an expression like\n",
    "\n",
    "`1 + 2 * 4 % 5 - 1` or `5 - 3 - 2 ** 2`\n",
    "\n",
    "The computer can only do one operation at a time, which means it needs to choose an order to do them in.  How does it choose?\n",
    "\n",
    "The basic rules are:\n",
    "\n",
    "1. `**` is evaluated before {`*`, `/`, `//`, `%`}, which are evaluated before {`+`, `-`}.\n",
    "2. Within each class, appearances of any of the symbols are evaluated as they are encountered in the expression, from left to right.\n",
    "\n",
    "So, in the first expression, what happens? What about in the second?\n",
    "\n",
    "First one:\n",
    "\n",
    "`1 + 2 * 4 % 5 - 1` --> `1 + 8 % 5 - 1` --> `1 + 3 - 1` --> `4 - 1` -- > `3`\n",
    "\n",
    "Second one:\n",
    "\n",
    "`5 - 3 - 2 ** 2` --> `5 - 3 - 4` --> `2 - 4` -- > `-2`\n",
    "\n",
    "Of course, parentheses can override these rules, and obviously should be used when there is any doubt:\n",
    "\n",
    "`10 - (2 - 1)` --> `10 - 1` --> `9`\n"
   ]
  },
  {
   "cell_type": "code",
   "execution_count": null,
   "metadata": {
    "collapsed": true
   },
   "outputs": [],
   "source": [
    "# EXAMPLE 3c: Precedence\n",
    "\n",
    "print(1 + 2 * 4 % 5 - 1)\n",
    "print(5 - 3 - 2 ** 2)\n",
    "print(10 - (2 - 1))"
   ]
  },
  {
   "cell_type": "markdown",
   "metadata": {},
   "source": [
    "\n",
    "<br><br><br><br><br><br><br><br><br><br>\n",
    "\n",
    "\n",
    "# 4. `float` Weirdness, Binary"
   ]
  },
  {
   "cell_type": "markdown",
   "metadata": {},
   "source": [
    "I said that `float`s can be \"weird\".  Here's what I mean."
   ]
  },
  {
   "cell_type": "code",
   "execution_count": null,
   "metadata": {
    "collapsed": true
   },
   "outputs": [],
   "source": [
    "# EXAMPLE 4a: Floats misbehaving\n",
    "\n",
    "print(0.1 + 0.2) # Wait, seriously?\n",
    "\n",
    "print(2 ** 2000)     # A really big int\n",
    "print(2.0 ** 2000)   # A really big float"
   ]
  },
  {
   "cell_type": "markdown",
   "metadata": {},
   "source": [
    "So, the two basic \"weird\" things to be aware of when it comes to `float`s are that they are imprecise, and that they cannot express arbitrarily large numbers -- numbers greater that about $10^{300}$ in absolute value can't be stored as `float`s. (On the off chance that you need to deal with numbers that large, there are special packages that can assist you).  \n",
    "\n",
    "The reason why both these phenomena happen, in short, is that `float`s are stored using a fixed number of binary digits.\n",
    "\n",
    "Pause: I think I have to explain binary now.  All data on a computer is stored using binary in one way or another, but let's stick with numbers (both `float`s and `int`s), for now.\n",
    "\n",
    "\n",
    "<br><br><br><br><br><br><br><br><br><br>\n",
    "\n",
    "Humans use the decimal system for writing our numbers. Everything is based around the number ten: ten digits, powers of ten.  We use the decimal system because ... why?\n",
    "\n",
    "Anyhow, when I write down a number like 307.4, each of those four digits stands for something.  The \"3\" stands for 3 hundreds, the \"0\" stands for 0 tens, the \"7\" stands for 7 ones, and the \"4\" stands for 4 tenths.  Each digit counts the number of a quantity that is a power of 10; which power of 10 depends on the position of the digit from the decimal point.  Oh, and of course, you add those quantities together: $3 \\times 10^2 + 0 \\times 10^1 + 7 \\times 10^0 + 4 \\times 10^{-1}$ is the quantity we mean when we write down $307.4$.\n",
    "\n",
    "Now, computers have to store data -- each digit of each number it needs to compute with -- using tiny physical \"switches\".  (What exactly this \"switch\" looks like in physical terms depends on the type of memory we are talking about.) It's hard to engineer a tiny switch that can have ten different positions; it's much easier to engineer a switch that has two positions.   So, computers don't use base ten; they use base two -- binary.\n",
    "\n",
    "The binary system works in exactly the same way as decimal, except the only digits allowed are 0 and 1, and all the quantities are powers of 2.\n",
    "\n",
    "So, for example, \n",
    "\n",
    "$ 111001 $ (binary)\n",
    "\n",
    "is the decimal number $1 \\times 2^5 + 1 \\times 2^4 + 1 \\times 2^3 + 0 \\times 2^2 + 0 \\times 2^1 + 1 \\times 2^0 = 32 + 16 + 8 + 0 + 0 + 1 = 57$.\n",
    "\n",
    "What would $1010101$ (binary) be?  What would $110.101$ (binary) be?   \n",
    "\n",
    "The latter would be $1\\times 4 + 1\\times 2 + 0\\times 1 + 1\\times \\dfrac{1}{2} + 0\\times\\dfrac{1}{4} + 1\\times\\dfrac{1}{8} = 6.625$. \n",
    "\n",
    "\n",
    "<br><br><br><br><br><br><br><br><br><br>\n",
    "\n",
    "\n",
    "Now, `int`s are stored in the computer exactly, as finite sequences of \"0\"s and \"1\"s (where \"0\" would be represented by a down switch, and \"1\" would be represented by an up switch). And if you do arithmetic with `int`s, you will always get exactly correct answers.  In fact, that's the primary reason for the existence of `int`s: if you need an answer that you can be confident is *exactly* right -- often you do! -- you can have that with `int` arithmetic.\n",
    "\n",
    "`float`s, on the other hand, are harder to store, because numbers can have infinitely many digits to the right of the decimal point.  Furthermore, it turns out that many numbers we would think are very tame become infinite decimals in binary.  For example:\n",
    "\n",
    "$0.3$ (decimal) $ = 0.01001100110011001100110011001100\\ldots$ (binary)\n",
    "\n",
    "A finite computer can't store an infinite number of bits, and so it cuts off after a finite number of places -- leading to weird rounding errors.  \n",
    "\n",
    "Technically, a `float` is stored as an integer (in binary), together with a power of 2 to multiply it by (also stored in binary).  An analogue in base 10 would be: $1234.56$ can be written as $123456 \\times 10^{-2}$, so $123456$ and $-2$ would be stored.  Only a fixed number of bits are allowed for each part: if the exponent is too large to fit in its allotment, you get an error; if there are too many significant digits, the least significant ones just get rounded off. This explains both of the oddities we saw before.\n",
    "\n",
    "Don't get too hung up on this -- these rounding errors usually show up after more than 10 significant (decimal) digits, and so they rarely affect practical calculations.  The biggest thing you need to watch out for is *comparisons*. I think you'd agree that 0.3 is very close to 0.30000000004, but `True` and `False` seem rather distinct."
   ]
  },
  {
   "cell_type": "code",
   "execution_count": null,
   "metadata": {
    "collapsed": true
   },
   "outputs": [],
   "source": [
    "# EXAMPLE 4b: Comparisons\n",
    "\n",
    "print(1 + 2 <= 3)       # Would you say that 1 + 2 <= 3 is a True statement?\n",
    "print(0.1 + 0.2 <= 0.3) # Would you say that 0.1 + 0.2 <= 0.3 is a True statement?"
   ]
  },
  {
   "cell_type": "markdown",
   "metadata": {},
   "source": [
    "\n",
    "<br><br><br><br><br><br><br><br><br><br>\n",
    "\n",
    "# 5. Functions, Modules, and Randomness"
   ]
  },
  {
   "cell_type": "markdown",
   "metadata": {},
   "source": [
    "In general, a **_function_** in Python is any expression that has the general form"
   ]
  },
  {
   "cell_type": "code",
   "execution_count": null,
   "metadata": {
    "collapsed": true
   },
   "outputs": [],
   "source": [
    "FUNCTION SYNTAX:\n",
    "\n",
    "<fn name>()  \n",
    "\n",
    "or \n",
    "\n",
    "<fn name>(  <inputs>  )\n"
   ]
  },
  {
   "cell_type": "markdown",
   "metadata": {},
   "source": [
    "So a function is something that you write with parentheses, that often (not always) has inputs, and which produces some action or value. (Cripes, what a horrible definition.  Let's stick with it anyway.)  \n",
    "\n",
    "`print()` is a function: you give it a `str` or a number, and it displays it on the screen.  \n",
    "\n",
    "`len()` is a function: you give it a `str`, and it produces a value: the length of that `str`.  \n",
    "\n",
    "And of course, your favorite math functions are Python functions too!  They look slightly different in Python than they do in Calculus class, but I'm sure you can get the gist easily.   But: to use these functions, be sure to **import the `math` module**.  See below.  (For other math functions, use a textbook or Google!)   "
   ]
  },
  {
   "cell_type": "code",
   "execution_count": null,
   "metadata": {
    "collapsed": true
   },
   "outputs": [],
   "source": [
    "# EXAMPLE 5a: The math module\n",
    "\n",
    "# The following line IMPORTS A MODULE: the math module, which contains\n",
    "# functions beyond basic arithmetic\n",
    "\n",
    "import math \n",
    "\n",
    "# Now you can use functions and variables in the math module; just write math. \n",
    "# in front of whatever you need.\n",
    "\n",
    "y = 25.0\n",
    "z = (3.14159)/6 # This is a crappy way of writing PI/6 -- see below.\n",
    "\n",
    "# math.exp() is the function e^x\n",
    "print(math.exp(1))\n",
    "# math.sqrt() is the square root function\n",
    "print(math.sqrt(y))\n",
    "# I think you can guess this one\n",
    "print(math.sin(z))\n",
    "\n",
    "# math.pi isn't a function -- it's an imported variable. \n",
    "# Indeed, notice the lack of parentheses.\n",
    "print(math.pi)"
   ]
  },
  {
   "cell_type": "markdown",
   "metadata": {},
   "source": [
    "\n",
    "<br><br><br><br><br><br><br><br><br><br>\n",
    "\n",
    "Computers are great at following directions, but they are suprisingly bad at picking random numbers.  Fortunately, the creators of Python have made tools so that Python can do a pretty convincing job at faking it. \n",
    "To use random numbers, we'll have to import another module: the `random` module.\n",
    "\n",
    "For now, we'll use two basic ways to generate random numbers:\n",
    "\n",
    "* `random.random()` will return a random float between 0 and 1.  Each float has a roughly equal chance of being chosen.\n",
    "* `random.randrange(<int1>, <int2>)` will return a random integer that is $\\geq$ `<int1>` but less than `<int2>`. Pay attention to the boundaries: `<int1>` can be chosen, but `<int2>` cannot! "
   ]
  },
  {
   "cell_type": "code",
   "execution_count": null,
   "metadata": {
    "collapsed": true
   },
   "outputs": [],
   "source": [
    "# EXAMPLE 5b: Random numbers\n",
    "\n",
    "import random\n",
    "\n",
    "# Every time we run this, we'll get different results, but all 3 numbers should be between 0 and 1.\n",
    "x = random.random()\n",
    "y = random.random()\n",
    "z = random.random()\n",
    "\n",
    "print(x,y,z)\n",
    "\n",
    "# Here are some random \"dice rolls\" -- numbers between 1 and 6 (inclusive).\n",
    "\n",
    "roll_1 = random.randrange(1,7)\n",
    "roll_2 = random.randrange(1,7)\n",
    "roll_3 = random.randrange(1,7)\n",
    "\n",
    "print(roll_1, roll_2, roll_3)\n",
    "\n",
    "    "
   ]
  },
  {
   "cell_type": "markdown",
   "metadata": {},
   "source": [
    "\n",
    "<br><br><br><br><br><br><br><br><br><br>\n",
    "\n",
    "# 6.  String Basics\n",
    "\n",
    "Basic string operations include `+`, `len()`, and `*` as we discussed before, and also the *index operator*, represented by a pair of square brackets.  It works as follows: suppose that we write the lines\n",
    "\n",
    "`x = \"Hi!  Ho? \"` <br>\n",
    "`print(x[0])`<br>\n",
    "`print(x[1])`<br>\n",
    "`print(x[2])`<br>\n",
    "`print(x[6])`\n",
    "\n",
    "`x` is a `str` containing 9 characters (note the 2 spaces in the middle and the one at the end).  Then `x[0]` will produce the character `\"H\"`, while `x[1]` will produce the character `\"i\"`, and `x[2]` will produce the char `\"!\"`.  And `x[6]` will produce the seventh character (counting spaces), which is `\"o\"`.  Notice the **zero-based indexing**: the first character is labelled 0 rather than 1.  This is for historical reasons, but most major programming languages use it, and Reddit will make fun of you if you try to start counting with 1.\n",
    " \n",
    "Also be aware that if you see numbers in quotation marks, they are being treated by the program as sequences of symbols, rather than numbers.  See the next example."
   ]
  },
  {
   "cell_type": "code",
   "execution_count": null,
   "metadata": {
    "collapsed": true
   },
   "outputs": [],
   "source": [
    "# EXAMPLE 6a: Strings\n",
    "a = \"Hello\"\n",
    "b = \"Goodbye\"\n",
    "print(a+b) \n",
    "print(len(a+b))\n",
    "print(3*a)\n",
    "\n",
    "x = \"Hi!  Ho? \"\n",
    "print(x[0], x[1], x[2], x[6])\n",
    "print(x[-2]) # Here's a bonus tip -- if you put in a negative index, it counts from the end (but not zero-based)\n",
    "\n",
    "# Watch out here! It doesn't matter that us humans see numbers -- \n",
    "# if they are in quotes, they are treated as strings, NOT numbers.\n",
    "num1 = \"10\"\n",
    "num2 = \"20\"\n",
    "print(num1 + num2)\n",
    "print(num1 - num2)"
   ]
  },
  {
   "cell_type": "markdown",
   "metadata": {},
   "source": [
    "\n",
    "<br><br><br><br><br><br><br><br><br><br>\n",
    "\n",
    "\n",
    "Imagine that I wanted to store the following literal in a single string variable:\n",
    "\n",
    "`Evan said \"3300 is fun\" and we nodded politely.`\n",
    "\n",
    "Do you see why that could be tricky?"
   ]
  },
  {
   "cell_type": "code",
   "execution_count": null,
   "metadata": {
    "collapsed": true
   },
   "outputs": [],
   "source": [
    "# EXAMPLE 6b: A troublesome string literal\n",
    "\n",
    "# Look at the coloring of the code below -- it gives a big hint\n",
    "# about what the problem is.\n",
    "sentence = \"Evan said \"3300 is fun\" and we nodded politely.\"\n",
    "print(sentence)"
   ]
  },
  {
   "cell_type": "markdown",
   "metadata": {},
   "source": [
    "The quotes, which we want to be characters within the string, end up accidentally ending the string!\n",
    "\n",
    "There are a few characters that, for one reason or another, are tricky to type.  To type these, Python (and many languages) have the so-called **_escape characters_**.  They are all typed as a backslash(`\\`) and one more keystroke; and they are used to represent these tricky characters.  Here are a few: \n",
    "\n",
    "* `\\n`: is the newline character.  If this is included in a string literal, then when that literal is printed, the slash and n will not be displayed -- in their place, you will see your output with part of it on a new line (the part after the backslash n).\n",
    "\n",
    "* `\\\"`: if you want to see the quote mark character, you can use \\\", and then that quote won't be interpreted as the end of the string.\n",
    "\n",
    "* `\\\\`: what if you actually truly want to see the backslash character?  You use two backslashes.\n"
   ]
  },
  {
   "cell_type": "code",
   "execution_count": null,
   "metadata": {
    "collapsed": true
   },
   "outputs": [],
   "source": [
    "# EXAMPLE 6c: Escape characters\n",
    "\n",
    "sentence = \"Evan said \\\"escape sequences are helpful\\\" and we nodded knowingly.\"\n",
    "print(sentence)\n",
    "\n",
    "forget = \"\\nHe also said... \\n\\n ...actually, I can't remember what else he said.\\n\"\n",
    "print(forget)\n",
    "\n",
    "slash = \"I guess I wasn't \\\\\\\\listening//.\"\n",
    "print(slash)\n",
    "\n"
   ]
  },
  {
   "cell_type": "markdown",
   "metadata": {},
   "source": [
    "\n",
    "<br><br><br><br><br><br><br><br><br><br>\n",
    "\n",
    "If you surround your string literals with pairs of double-quotes (`\"my usual\"`), they have to be typed on a single line of code.  But there is an alternative: you can surround them with **triple** double quotes (`\"\"\"Like this\"\"\"`) -- in this case, your literal is allowed to span many lines.  (This is also a trick used to temporarily disable big chunks of code without deleting them.)"
   ]
  },
  {
   "cell_type": "code",
   "execution_count": null,
   "metadata": {
    "collapsed": true
   },
   "outputs": [],
   "source": [
    "# EXAMPLE 6d: Multi-line literals\n",
    "\n",
    "# This works\n",
    "multi_line = \"\"\"This multi-line literal is legal.\n",
    "(The syntax coloring seems to back that up.)\n",
    "That's because I started the literal with a triple quote.\"\"\" \n",
    "print(multi_line)\n",
    "\n",
    "\n",
    "# This one won't work.  \n",
    "bad = \"Let me just\n",
    "use single quotes \n",
    "for a multi-line literal\n",
    "and see what happens\"\n",
    "\n",
    "print(bad)"
   ]
  },
  {
   "cell_type": "markdown",
   "metadata": {},
   "source": [
    "By the way -- we learned how the computer stores numbers, but how does it store strings? Simplified answer: there is a special, widely used system called ASCII (American Standard Code for Information Interchange), which associates a number to each printable character.  For example, `a` is 97, `b` is 98, `A` is 65, `0` (the symbol) is 49, `!` is 33, etc.  So, characters can be represented by integers, which we know how the computer stores.  So strings can also be stored in binary -- and indeed, all data stored by a computer is encoded in 0's and 1's somehow. "
   ]
  }
 ],
 "metadata": {
  "kernelspec": {
   "display_name": "Python 3",
   "language": "python",
   "name": "python3"
  },
  "language_info": {
   "codemirror_mode": {
    "name": "ipython",
    "version": 3
   },
   "file_extension": ".py",
   "mimetype": "text/x-python",
   "name": "python",
   "nbconvert_exporter": "python",
   "pygments_lexer": "ipython3",
   "version": "3.7.0"
  },
  "name": "_merged_merged"
 },
 "nbformat": 4,
 "nbformat_minor": 2
}
