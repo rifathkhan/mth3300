{
 "cells": [
  {
   "cell_type": "markdown",
   "metadata": {},
   "source": [
    "# Lecture 9\n",
    "\n",
    "### Loop Tasks 1: Accumulation; Loop Tasks 2: Search (and `break`); Repeating 50 Times With `range()`; Loop Tasks 3: Number-Based Repetitions; Loop Tasks 4: Simulations"
   ]
  },
  {
   "cell_type": "markdown",
   "metadata": {},
   "source": [
    "# 1. Common Loop Tasks, Part 1: Accumulation\n",
    "\n",
    "\n",
    "### Accumulating sums and products\n",
    "\n",
    "One basic use of loops is for *accumulation* processes, where individual bits of data are gathered into a whole.  Perhaps the simplest case of this idea is taking the sum or product of a list of numbers.  \n",
    "\n",
    "The general strategy for accumulation is: start with an \"empty accumulator\", and then add on to it bit by bit.  \n",
    "In the present cases, that means starting by creating a variable called `running_sum` or `running_product`, initialized to `0` or `1` respectively.  Then, you go through the list, and add/multiply on each successive term onto the sum/product.  Like so:"
   ]
  },
  {
   "cell_type": "code",
   "execution_count": 2,
   "metadata": {},
   "outputs": [
    {
     "data": {
      "text/plain": [
       "825"
      ]
     },
     "execution_count": 2,
     "metadata": {},
     "output_type": "execute_result"
    }
   ],
   "source": [
    "# EXAMPLE 1a: Accumulating sum/product\n",
    "\n",
    "big_list_o_numbers = [15,72,1,84,52,48,83,26,94,58,73,95,51,73]\n",
    "\n",
    "# Let's add'em up.\n",
    "# Initialize sum to zero.\n",
    "running_sum = 0\n",
    "\n",
    "for num in big_list_o_numbers:\n",
    "    running_sum = running_sum + num\n",
    "    \n",
    "print(\"Sum is:\", running_sum)\n",
    "\n",
    "# Let's multiply'em.\n",
    "# Initialize prod to ONE.\n",
    "running_prod = 1 \n",
    "\n",
    "for num in big_list_o_numbers:\n",
    "    running_prod = running_prod * num\n",
    "    \n",
    "print(\"Product is:\", running_prod)"
   ]
  },
  {
   "cell_type": "markdown",
   "metadata": {},
   "source": [
    "<br><br><br><br><br><br><br><br><br><br>\n",
    "\n",
    "You'll notice that \"update assignments\" like `sum = sum + num` and `prod = prod * num` are very common.  Indeed, they are so common that they have shortcuts: `+=`, `-=`, `*=`, `/=`.  These work as follows: \n",
    "\n",
    "`<variable> += <value>`  is equivalent to `<variable> = <variable> + <value>`\n",
    "\n",
    "So, for example, `sum += 3` is the same as `sum = sum + 3` -- in other words, `sum += 3` adds 3 to `sum` **and then assigns that to be the new value of `sum`.**  The other three operations work similarly.\n"
   ]
  },
  {
   "cell_type": "code",
   "execution_count": null,
   "metadata": {
    "collapsed": true
   },
   "outputs": [],
   "source": [
    "# EXAMPLE 1b: Average\n",
    "# 1. Use += to find the average of the list of numbers.\n",
    "# 2. Write it so that it still works if I add numbers to big_list.\n",
    "\n",
    "big_list = [15,72,1,84,52,48,83,26,94,58,73,95,51,73]\n",
    "\n",
    "#\n",
    "# YOUR CODE HERE\n",
    "#\n",
    "\n",
    "\n",
    "\n",
    "print(\"Average is:\", average)\n",
    "\n"
   ]
  },
  {
   "cell_type": "markdown",
   "metadata": {},
   "source": [
    "<br><br><br><br><br><br><br><br><br><br>\n",
    "\n",
    "### Counting hits\n",
    "\n",
    "Counting the number of elements in a list that meet a certain criteria is also a type of accumulation.  You can keep a count variable, and then add one every time you encounter an item in your list that meets your given criteria.  For example, how many words in the following list begin with the letter \"b\"?"
   ]
  },
  {
   "cell_type": "code",
   "execution_count": null,
   "metadata": {},
   "outputs": [],
   "source": [
    "# EXAMPLE 1c: Counting \"B\" words\n",
    "# How many words start with the letter \"B\"?\n",
    "\n",
    "word_list = [\"Apple\", \"Ball\", \"Animal\", \"Bell\", \"Band\", \"Carrot\", \"Angry\", \"Banana\", \"Bear\", \"Attic\", \"Candle\", \"Cup\", \"Beware\"]\n",
    "\n",
    "b_count = 0\n",
    "\n",
    "for x in word_list:\n",
    "    if x[0] == \"B\":\n",
    "        b_count += 1\n",
    "    \n",
    "\n",
    "print(\"Number of B words =\", b_count)\n"
   ]
  },
  {
   "cell_type": "markdown",
   "metadata": {},
   "source": [
    "<br><br><br><br><br><br><br><br><br><br>\n",
    "\n",
    "You can iterate through strings using a `for` loop, too, like you would with a list.  Each pass through the loop will correspond to a single character.  So, for example, if you wrote some code starting with\n",
    "\n",
    "`string_variable = \"abcdef\"` <br>\n",
    "`for letter in string_variable:`\n",
    "\n",
    "then `letter` would take on `\"a\"`, then `\"b\"`, etc.\n",
    "\n",
    "Let's figure out how many times the letter \"e\" appears in this sentence that I am currently writing."
   ]
  },
  {
   "cell_type": "code",
   "execution_count": null,
   "metadata": {},
   "outputs": [],
   "source": [
    "# EXAMPLE 1d: How many \"e\"'s?\n",
    "\n",
    "# Note the use of the triple quotes for a multi-line string!\n",
    "my_sentence = \"Let's figure out how many times the letter \\\"e\\\" appears in this sentence that I am currently writing.\"\n",
    "\n",
    "e_counter = 0\n",
    "\n",
    "for char in my_sentence:\n",
    "    # letter will be \"L\", then \"e\", then \"t\", then \"'\", etc.\n",
    "    if char == \"e\" or char == \"E\":\n",
    "        e_counter += 1\n",
    "    \n",
    "print(e_counter, \"e's in that paragraph.\")"
   ]
  },
  {
   "cell_type": "markdown",
   "metadata": {},
   "source": [
    "<br><br><br><br><br><br><br><br><br><br>\n",
    "\n",
    "# 2. Common Loop Tasks, Part 2: Searching (and `break`)\n",
    "\n",
    "### Max/min\n",
    "\n",
    "How do we find the maximum value appearing in a sorted list?  (Python provides a function for this, but if you can't do this without using that function, you'll have a lot of difficulty in this class.  And sometimes I require you not to use it.)\n"
   ]
  },
  {
   "cell_type": "code",
   "execution_count": null,
   "metadata": {
    "collapsed": true
   },
   "outputs": [],
   "source": [
    "# EXAMPLE 2a: Maximum\n",
    "\n",
    "big_list = [15,72,1,84,52,48,83,26,94,58,73,95,51,73]\n",
    "\n",
    "\n",
    "# First, we set largest to be the very first element.\n",
    "current_largest = big_list[0]\n",
    "\n",
    "# Then, we go through the list.  If a number is greater than \"largest\", we\n",
    "# reassign \"largest\" to be that number.\n",
    "for num in big_list:\n",
    "    #\n",
    "    # ????\n",
    "    #\n",
    "    \n",
    "print(current_largest)"
   ]
  },
  {
   "cell_type": "markdown",
   "metadata": {},
   "source": [
    "<br><br><br><br><br><br><br><br><br><br>\n",
    "\n",
    "Think about how you do this as a human.  It's a little tricky.  What you do is, at least with a long list: start reading at the beginning, and always keep track of the largest you've seen so far, updating that when you see a larger one.  That's what our program will do.\n",
    "\n",
    "`current_largest` will keep track of the largest one we've seen so far.  It's important to initialize this properly: a good choice is to initialize this to the very first element (that's kind of what a careful human would do, right?).  Then, for each number in the list, you ask the question:\n",
    "\n",
    "Is it bigger than `current_largest`?\n",
    "\n",
    "* If it is: well, then `current_largest` should change -- it should be the number you're looking at right now.\n",
    "* If it isn't ... well, carry on.  (Don't do anything.)\n",
    "\n",
    "At the end, `current_largest` will be the largest out of all the values.  (And of course, all this works similarly for minimums too.)"
   ]
  },
  {
   "cell_type": "markdown",
   "metadata": {},
   "source": [
    "<br><br><br><br><br><br><br><br><br><br>\n",
    "\n",
    "\n",
    "### Searching\n",
    "\n",
    "Suppose that we already have a list of data already stored, and we want to search through this list to see if a particular value is present.  For this problem, it is important to understand that the answer we are trying to provide is \"Yes\" or \"No\". This means that we want a `bool` variable (recall that they are sometimes called **_flags_**).\n"
   ]
  },
  {
   "cell_type": "code",
   "execution_count": null,
   "metadata": {
    "collapsed": true
   },
   "outputs": [],
   "source": [
    "# EXAMPLE 2b: Search\n",
    "\n",
    "# The 30 most popular baby names ... of, like, 2014.  Sorry for not keeping my notes current yall.\n",
    "names = [\"Jacob\", \"Sophia\", \"Mason\", \"Isabella\", \"William\", \"Emma\", \"Jayden\",\n",
    "         \"Olivia\", \"Noah\", \"Ava\", \"Michael\", \"Emily\", \"Ethan\", \"Abigail\",\n",
    "         \"Alexander\", \"Madison\", \"Aiden\", \"Mia\", \"Daniel\", \"Chloe\", \"Anthony\",\n",
    "         \"Elizabeth\", \"Matthew\", \"Ella\", \"Elijah\", \"Addison\", \"Joshua\", \"Natalie\", \"Liam\", \"Lily\"]\n",
    "# Notice that a list can extend across several lines.\n",
    "\n",
    "\n",
    "search_entry = input(\"Input a name to search for: \")\n",
    "\n",
    "# found is the flag.  We will set it to be true if and when we find the name; \n",
    "# but at the beginning, we have not found the name yet.\n",
    "found = False\n",
    "\n",
    "for current_name in names:\n",
    "    if current_name == search_entry:\n",
    "        found = True    \n",
    "    else:\n",
    "        found = False  # Hmmm...\n",
    "        \n",
    "if found == True:\n",
    "    print(search_entry + \" is in the list!\")\n",
    "else:\n",
    "    print(\"Nobody likes your name. Choose a better name.\")\n",
    "        \n"
   ]
  },
  {
   "cell_type": "markdown",
   "metadata": {},
   "source": [
    "<br><br><br><br><br><br><br><br><br><br>\n",
    "\n",
    "### Searching with position\n",
    "\n",
    "Now, you could imagine that you might want to be aware not just *whether* a name is in the list, but also *where* in the list your entry is.  How can we do this?\n",
    "\n",
    "There are many ways.  One way (not the most \"Pythonic\" way, but one that can be understood without explaining new syntax) is to have a **parallel counter**.  It starts at 1 (let's report a human numbering: that is, let's not use zero based indexing), and goes up by 1 each pass through the loop.\n",
    "\n",
    "Let's add in one new feature!  We probably want to stop the search at the moment we've found the entry.  For this purpose, the command `break` is useful: if the line `break` is encountered in a loop, the loop immediately stops executing; execution resumes with the first statement after the end of the loop. (We could have used this in the last example, as well.)"
   ]
  },
  {
   "cell_type": "code",
   "execution_count": null,
   "metadata": {
    "collapsed": true
   },
   "outputs": [],
   "source": [
    "# EXAMPLE 2c: Search, with a parallel counter\n",
    "\n",
    "names = [\"Jacob\", \"Sophia\", \"Mason\", \"Isabella\", \"William\", \"Emma\", \"Jayden\", \"Olivia\", \"Noah\", \"Ava\", \"Michael\", \"Emily\", \"Ethan\", \"Abigail\",\n",
    "    \"Alexander\", \"Madison\", \"Aiden\", \"Mia\", \"Daniel\", \"Chloe\", \"Anthony\", \"Elizabeth\", \"Matthew\", \"Ella\", \"Elijah\", \"Addison\", \"Joshua\", \"Natalie\", \"Liam\", \"Lily\"]\n",
    "# In the beginning, not found\n",
    "found = False\n",
    "\n",
    "search_entry = input(\"Input a name to search for: \")\n",
    "\n",
    "\n",
    "# The counter starts at 0\n",
    "count = 0\n",
    "\n",
    "for current_name in names:\n",
    "    #\n",
    "    # LET'S WRITE!!\n",
    "    #\n",
    "    \n",
    "if found:\n",
    "    print(\"{0} is in the list, at position {1}\".format(search_entry, count))\n",
    "else:\n",
    "    print(\"Society thinks you have poor taste, and your child will suffer for your choices.\")\n",
    "        \n"
   ]
  },
  {
   "cell_type": "markdown",
   "metadata": {},
   "source": [
    "<br><br><br><br><br><br><br><br><br><br>\n",
    "\n",
    "# 3. Repeating 50 Times With `range()`\n",
    "\n",
    "What if you want to print `Jerry! Hello!` fifty times?  That's pretty repetitive, so it sounds like a job for a `for` loop.   But wait -- we need a list (or something like it).  What's the list?\n",
    "\n",
    "That's what ranges are for.  `range(50)` will create the \"list\" `[0, 1, 2, 3, 4, 5, ..., 49]`. (The quotation marks will be clarified in a moment.)  `range`s are enormously useful -- even though you often don't do much with the actual numbers in the list, the list itself can be used to make sure that some process repeats a specified number of times.  "
   ]
  },
  {
   "cell_type": "code",
   "execution_count": null,
   "metadata": {},
   "outputs": [],
   "source": [
    "# EXAMPLE 3a: Jerry! Hello!\n",
    "\n",
    "# This will print \"0 Jerry! Hello!\", then \"1 Jerry! Hello!\", etc., down to \"49 Jerry! Hello!\"\n",
    "# Note that despite the funny numbering, that would be exactly 50 \"Jerry! Hello!\"s.\n",
    "for i in range(50):\n",
    "    print(i, \"Jerry! Hello!\")\n",
    "    \n",
    "\n",
    "# What if you didn't want the numbers \"0\", \"1\", ..., \"49\" printing out?\n",
    "for i in range(50):\n",
    "    print(\"Jerry! Hello!\")\n",
    "\n",
    "    # Moral: It's ok to not use the values in the list, or the variable i, in the body of the loop.  \n",
    "    # The list still provides a function: making sure the body runs 50 times.\n"
   ]
  },
  {
   "cell_type": "markdown",
   "metadata": {},
   "source": [
    "<br><br><br><br><br><br><br><br><br><br>\n",
    "\n",
    "There are three basic ways to create `range`s, which are \"lists\" composed of arithmetic sequences:\n",
    "\n",
    "* `range(<int>)` will create the list of integers starting at `0`, up to `<int>-1`.  I've called the variable `<int>` to emphasize that it must be an integers.  Another important thing to emphasize is that this list will *have length equal to `<int>`, even though it will not include `<int>`*. \n",
    "* `range(<int>, <bigger int>)` with `<int> < <bigger int>` will create the list of integers starting with `<int>`, up to *but not including* `<bigger int>`.  The length of this range will be equal to `<bigger int> - <int>`.\n",
    "* `range(<int>, <bigger int>, <step>)` is like the above, but it will count `<step>` at a time (at least if `<step>` is positive).\n"
   ]
  },
  {
   "cell_type": "code",
   "execution_count": null,
   "metadata": {},
   "outputs": [],
   "source": [
    "#EXAMPLE 3b: Ranges\n",
    "\n",
    "print(\"range(10):\")\n",
    "for i in range(10):\n",
    "    print(i, end = \" \")\n",
    "print(\"\\n\")\n",
    "\n",
    "print(\"range(10, 20):\")\n",
    "for i in range(10, 20):\n",
    "    print(i, end = \" \")\n",
    "print(\"\\n\")\n",
    "\n",
    "print(\"range(10, 20, 2):\")\n",
    "for i in range(10, 20, 2):\n",
    "    print(i, end = \" \")\n",
    "print(\"\\n\")\n",
    "\n",
    "# It doesn't matter whether 20 would have been part of the sequence or not.\n",
    "# The range will keep going up to, but not including, any number >= 20.\n",
    "print(\"range(10, 20, 3):\")\n",
    "for i in range(10, 20, 3):\n",
    "    print(i, end = \" \")\n",
    "   "
   ]
  },
  {
   "cell_type": "markdown",
   "metadata": {},
   "source": [
    "<br><br><br><br><br><br><br><br><br><br>\n",
    "\n",
    "Three notes:\n",
    "\n",
    "1. You can use negative step sizes if you want to count backwards.  In that case, `range(<x>, <y>, <negative step>)` will count starting with `<x>`, and ending when it reaches a number **less than or equal to** `<y>`.  So in the presence of a negative step, `<x>` should really be the larger number.\n",
    "2. A `range()` isn't reallllllly a `list` if we're being entirely truthful.  Python does this mostly for the sake of efficiency.  Here's an analogy which hints at the thought process of Python's designers: imagine that I asked you to count from 1 to 100 out loud.  Would you write down those 100 numbers, and then when you're finished, read from the list?  Probably not.  Python creating an honest list out of 1 to 100 would be analogous to doing that; a Python range is analogous to what you actually do, which is to generate the next number on the fly.   \n",
    "3. But the last note won't really matter unless you try to use a `range` outside of a `for` loop -- and most of the time, when you think this is necessary, there's a better way to do what you're trying to do.  That said, for the few times where you actually need a true `list` version of a `range()`, you can write, e.g., `list(range(10))`. \n"
   ]
  },
  {
   "cell_type": "code",
   "execution_count": null,
   "metadata": {},
   "outputs": [],
   "source": [
    "#EXAMPLE 3c: Three notes\n",
    "\n",
    "# NOTE 1: Here's how negative steps work.\n",
    "print(\"range(10, 0, -1):\")\n",
    "for i in range(10, 0, -1):\n",
    "    print(i, end = \" \")\n",
    "print(\"\\n\")\n",
    "\n",
    "print(\"range(100, 0, -7):\")\n",
    "for i in range(100, 0, -7):\n",
    "    print(i, end = \" \")\n",
    "print(\"\\n#####################\")\n",
    "\n",
    "# NOTE 2: A range() isn't really a list.\n",
    "# Look what happens if you want to print range(50) -- not really what you wanted, right?\n",
    "\n",
    "print(range(50)) \n",
    "print(\"\\n#####################\")\n",
    "\n",
    "# NOTE 3: If you reallllly want your range to be a true list, surround it with \"list()\"\n",
    "\n",
    "print(  list(range(50)) )\n",
    "\n",
    "# (but if you do this, you should probably ask yourself \"is this necessary\"? The answer is usually no.)"
   ]
  },
  {
   "cell_type": "markdown",
   "metadata": {},
   "source": [
    "<br><br><br><br><br><br><br><br><br><br>\n",
    "\n",
    "# 4. Common Loop Tasks, Part 3: Number-Based Repetitions\n",
    "\n",
    "\n",
    "### Saving `n` entries\n",
    "\n",
    "What if you want to, say, accept a list of `n` names from the user? This is a different type of accumulation process.  You'll need a loop that runs `n` times.  In addition, you should also start with an empty list (write this *before* entering the loop); and the body of the loop should ask for a value, and then append it to the loop."
   ]
  },
  {
   "cell_type": "code",
   "execution_count": null,
   "metadata": {
    "collapsed": true
   },
   "outputs": [],
   "source": [
    "# EXAMPLE 4a: Grab n names\n",
    "\n",
    "num_names = int(input(\"How many names do you want to store? \"))\n",
    "\n",
    "# List of names, initialized to be empty.\n",
    "\n",
    "name_list = []\n",
    "\n",
    "for i in range(num_names):\n",
    "    # We won't use the variable i, and that's ok! The range just ensures the correct number of iterations.\n",
    "    \n",
    "    # CODE?\n",
    "    \n",
    "print(name_list)"
   ]
  },
  {
   "cell_type": "markdown",
   "metadata": {},
   "source": [
    "<br><br><br><br><br><br><br><br><br><br>\n",
    "\n",
    "### Sigma Notation\n",
    "\n",
    "$ \\displaystyle \\sum_{n = 1}^{100} \\sin(n^2) = ?$  Sums like this are made for `for`-loops. \n",
    "\n",
    "In case you're uncomfortable with $\\Sigma$ notation, make sure that you can unravel this into \"longhand\" notation:\n",
    "\n",
    "$$  \\sum_{n = 1}^{100} \\sin(n^2) = \\sin(1^2) + \\sin(2^2) + \\sin(3^2) + \\ldots + \\sin(100^2) $$\n",
    "\n",
    "For these problems, while it isn't required, I think it's much less confusing to use a `range` that matches your notation exactly: so, since the $\\Sigma$ notation goes from 1 to 100, I would use `range(1, 101)`."
   ]
  },
  {
   "cell_type": "code",
   "execution_count": 33,
   "metadata": {},
   "outputs": [
    {
     "name": "stdout",
     "output_type": "stream",
     "text": [
      "1.5839364467201182\n",
      "1.5839364467201182\n"
     ]
    }
   ],
   "source": [
    "# Example 4b: Sigma notation\n",
    "import math\n",
    "\n",
    "sigma = 0\n",
    "for n in range(1,101):\n",
    "    sigma += math.sin(n**2)\n",
    "print(sigma)\n",
    "\n",
    "###\n",
    "# This works too, since it has the right number of terms. \n",
    "# The formula might be a bit puzzling -- \n",
    "# but if you look at the first and second and last terms, it appears to work.\n",
    "sigma = 0\n",
    "for n in range(100):\n",
    "    sigma += math.sin( (n+1)**2 )\n",
    "print(sigma)"
   ]
  },
  {
   "cell_type": "markdown",
   "metadata": {},
   "source": [
    "<br><br><br><br><br><br><br><br><br><br>\n",
    "\n",
    "How would we find the sum of the squares of the first 100 odd numbers?   Let's do this two ways. \n",
    "\n",
    "**First method**: let's write this in $\\Sigma$ notation, and iterate over the index of the $\\Sigma$ notation.\n",
    "\n",
    "$$ 1^2 + 3^2 + 5^2 + \\ldots + [100th\\,odd\\,number]^2 = \\sum_{n=1}^{100} ??$$\n",
    "\n",
    "What is $??$ Let's look at the terms $n = 1, 2, 3$ and see if we can sniff out a formula.\n",
    "\n"
   ]
  },
  {
   "cell_type": "code",
   "execution_count": 47,
   "metadata": {},
   "outputs": [
    {
     "name": "stdout",
     "output_type": "stream",
     "text": [
      "1333300\n"
     ]
    }
   ],
   "source": [
    "# EXAMPLE 4c: Sum of first 100 odd squares, method 1\n",
    "# Iterating over the index of the Sigma notation\n",
    "\n",
    "sigma = 0\n",
    "for n in range (1,101):\n",
    "    sigma += (2*n -1)**2\n",
    "print(sigma)\n"
   ]
  },
  {
   "cell_type": "markdown",
   "metadata": {},
   "source": [
    "<br><br><br><br><br><br><br><br><br><br>\n",
    "\n",
    "**Second method**: let's make a range consisting of just the odd numbers, using a step, and iterate directly over that.\n",
    "\n",
    "What are the odd numbers we are squaring? 1, 3, 5, ..., but where do we end?  Once again, we use the formula we discovered while we were pursuing the other method: the 100th odd number is $2(100) - 1 = 199$.  Therefore, our odd numbers form `range(1, 200, 2)`."
   ]
  },
  {
   "cell_type": "code",
   "execution_count": null,
   "metadata": {},
   "outputs": [],
   "source": [
    "# EXAMPLE 4d: Sum of first 100 odd squares, method 2\n",
    "# Iterating directly over the odd numbers.\n",
    "\n",
    "sum_odd_squares = 0\n",
    "for odd in range(1, 200, 2):\n",
    "    sum_odd_squares += odd ** 2\n",
    "    \n",
    "print(sum_odd_squares)\n"
   ]
  },
  {
   "cell_type": "markdown",
   "metadata": {},
   "source": [
    "<br><br><br><br><br><br><br><br><br><br>\n",
    "\n",
    "### FizzBuzz\n",
    "\n",
    "The famous interview problem:  print out all the numbers from 1 to 100, **except**: any number that is a multiple of 3 should be replaced by `Fizz`; any number that is a multiple of 5 should be replaced by `Buzz`; any number that is a multiple of *both* 3 and 5 should be replaced by `FizzBuzz`."
   ]
  },
  {
   "cell_type": "code",
   "execution_count": null,
   "metadata": {},
   "outputs": [],
   "source": [
    "# EXAMPLE 4e: FizzBuzz\n",
    "\n",
    "for n in range(1,101):\n",
    "    if n % 3 == 0:\n",
    "        print(\"Fizz\")\n",
    "    elif n % 5 == 0:\n",
    "        print(\"Buzz\")\n",
    "    elif n % 3 == 0 and n % 5 == 0:\n",
    "        print(\"FizzBuzz\")\n",
    "    else:\n",
    "        print(n)\n",
    "        \n",
    "# Look closely for the error.  How do we fix it?"
   ]
  }
 ],
 "metadata": {
  "kernelspec": {
   "display_name": "Python 3",
   "language": "python",
   "name": "python3"
  },
  "language_info": {
   "codemirror_mode": {
    "name": "ipython",
    "version": 3
   },
   "file_extension": ".py",
   "mimetype": "text/x-python",
   "name": "python",
   "nbconvert_exporter": "python",
   "pygments_lexer": "ipython3",
   "version": "3.7.1"
  },
  "name": "_merged_merged"
 },
 "nbformat": 4,
 "nbformat_minor": 2
}
