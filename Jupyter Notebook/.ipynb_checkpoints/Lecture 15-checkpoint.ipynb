{
 "cells": [
  {
   "cell_type": "markdown",
   "metadata": {},
   "source": [
    "# Lecture 15\n",
    "\n",
    "#### The Truth About Variables and Objects;  Creating 2D Lists; GCD; Functions and Modular Programming"
   ]
  },
  {
   "cell_type": "markdown",
   "metadata": {},
   "source": [
    "# 1. The Truth About Variables and Objects\n",
    "\n",
    "Remember this?  What's going on here???"
   ]
  },
  {
   "cell_type": "code",
   "execution_count": 1,
   "metadata": {},
   "outputs": [
    {
     "name": "stdout",
     "output_type": "stream",
     "text": [
      "Old\n",
      "['Old', 'One']\n",
      "['New!!!!', 'One']\n"
     ]
    }
   ],
   "source": [
    "# EXAMPLE 1a: Assignment\n",
    "\n",
    "# Compare the results of this bit of code....\n",
    "x = \"Old\"\n",
    "y = x\n",
    "x = \"New\"\n",
    "print(y)\n",
    "\n",
    "# ...with this one... #\n",
    "x = [\"Old\", \"One\"]    #\n",
    "y = x                 #   BLOCK A\n",
    "x = [\"New\", \"Guy\"]    #\n",
    "print(y)              #\n",
    "\n",
    "#...AND THIS ONE!!!!! #\n",
    "x = [\"Old\", \"One\"]    #\n",
    "y = x                 #   BLOCK B\n",
    "x[0] = \"New!!!!\"      #\n",
    "print(y)              #"
   ]
  },
  {
   "cell_type": "markdown",
   "metadata": {},
   "source": [
    "Why are the last two snippets so different?  They both change `x`, but one change causes `y` to change, and the other doesn't. \n",
    "\n",
    "The short answer is:\n",
    "\n",
    "* the line `y = x` (in Block A and Block B), makes `y` and `x` refer to the same object in memory;\n",
    "\n",
    "* the subsequent line in Block A, starting with `x = `, reassigns `x` to an *entirely new object*, while `y` still is bound to the old object;\n",
    "\n",
    "* the subsequent line in Block B, starting with `x[0] = `, is a *mutation* which alters, but does not replace, the object which `x` and `y` both point to.  \n",
    "\n",
    "But that probably doesn't make a lot of sense.  To make sense out of this, I need to go back to the beginning, and tell you the truth about variables, objects, and your computer's memory. \n",
    "\n",
    "(What follows is still not 100% accurate, but it does give a morally correct overview of how Python manages your computer's resources, and explains the above phenomenon.)\n",
    "\n",
    "<br><br><br><br><br><br><br><br><br><br>\n",
    "\n",
    "Let's say I ask you to multiply 5201 by 3157. You probably can't do that in your head: you need to write down those numbers, and write down the results of intermediate computations.  Maybe you write it down on the whiteboard, or on a piece of paper.\n",
    "\n",
    "If I ask the computer to multiply 5201 by 3157, it needs to \"write things down\", too.  Its version of the whiteboard is the Random Access Memory, or RAM (we'll just call it the memory).  The two big differences between the computer and humans is that: the computer doesn't have eyes, so it uses numbers called *memory addresses* to keep track of where it exactly it wrote everything down; and the computer writes down only 0's and 1's, using circuitry instead of ink (we already discussed this).  I'll use `0x` to indicate that I'm writing down a memory address in the examples I show you -- these addresses will be made-up numbers, just meant to help to assist explanations, but your computer does use a numerical addressing system kind of like what I'm doing.\n",
    "\n",
    "---------\n",
    "\n",
    "\n",
    "For every value Python needs -- every literal value it encounters, and every evaluation of an expression -- it creates an **_object_**: a parcel of memory which contains a *value* and information about what *data type* that value represents, and which has an *address*.   \n",
    "\n",
    "I've intimated that variables are attached to values.  It's maybe more accurate to say that variables are bound to **addresses**.  In fact, Python maintains a sort-of \"table\", which matches defined variables to the addresses of the  objects they are bound to.\n",
    "\n",
    "\n",
    "\n",
    "<br><br><br><br><br><br><br><br><br><br>\n",
    "\n",
    "Let's look at a simple program to illustrate."
   ]
  },
  {
   "cell_type": "code",
   "execution_count": 5,
   "metadata": {},
   "outputs": [
    {
     "name": "stdout",
     "output_type": "stream",
     "text": [
      "6\n",
      "0x7ffa3142b3f0\n"
     ]
    }
   ],
   "source": [
    "# EXAMPLE 1b: A simple program\n",
    "\n",
    "var = 5\n",
    "x = var + 1\n",
    "var = x\n",
    "print(var)\n",
    "\n",
    "print(hex(id(var)))"
   ]
  },
  {
   "cell_type": "markdown",
   "metadata": {},
   "source": [
    "Here's what Python does with this.\n",
    "\n",
    "*On the first line:* As always, assignment starts on the right.  So, Python first creates an object for `5`. Then, `var` is bound to that object: it is added to the table of variables, matched with the address of the object.\n",
    "\n",
    "\n",
    "\n",
    "![IMAGE NOT FOUND!!!!!!!!!!!!](frame1.jpg)\n",
    "\n",
    "*On the second line:* An object for `1` is created.  Then, Python looks to address `0x1` to retrieve the value of `var`, and then the values of these two objects are added, to create a new object, with value `6`.  That new object is bound to the variable `x`.\n",
    "\n",
    "\n",
    "![IMAGE NOT FOUND!!!!!!!!!!!!](frame2.jpg)\n",
    "\n",
    "\n",
    "*On the third line:* Finally, the last assignment doesn't involve any new objects being created.  Python checks which object is attached to `x`, and then that object is bound to `var`.  So now, both `var` and `x` look to address `0x3` for their value.\n",
    "\n",
    "\n",
    "![IMAGE NOT FOUND!!!!!!!!!!!!](frame3.jpg)\n",
    "\n",
    "*On the last line:* Since `var` is attached to `0x3`, Python looks at address `0x3` to retrieve what it will be printing out.\n",
    "\n",
    "\n",
    "<br><br><br><br><br><br><br><br><br><br>\n",
    "\n",
    "So far, none of this is particularly illuminating.  But when you bring in mutable objects like lists, things get more interesting."
   ]
  },
  {
   "cell_type": "code",
   "execution_count": 6,
   "metadata": {},
   "outputs": [],
   "source": [
    "# EXAMPLE 1c: Lists\n",
    "\n",
    "my_list = [8,9]\n",
    "my_list[0] = 20"
   ]
  },
  {
   "cell_type": "markdown",
   "metadata": {},
   "source": [
    "This code snippet plays out as follows:\n",
    "\n",
    "*On the first line*: first, objects are created for the literals `8` and `9`. Then, a list object is created. **A list object contains the addresses of the values it contains.** And the list object is bound to `my_list`.\n",
    "\n",
    "\n",
    "![IMAGE NOT FOUND!!!!!!!!!!!!](frame4.jpg)\n",
    "\n",
    "\n",
    "*On the second line*: an object is created for the value `20`, and the address of that object is placed as the first entry of the list object at `0x13`. Let's emphasize this: **this line is a mutation, and so it doesn't change which object `my_list` is bound to -- it just alters that object**. \n",
    "\n",
    "\n",
    "![IMAGE NOT FOUND!!!!!!!!!!!!](frame5.jpg)\n",
    "\n",
    "\n",
    "<br><br><br><br><br><br><br><br><br><br>\n",
    "\n",
    "Finally, we can solve the riddle."
   ]
  },
  {
   "cell_type": "code",
   "execution_count": null,
   "metadata": {
    "collapsed": true
   },
   "outputs": [],
   "source": [
    "# EXAMPLE 1d: The weird code.\n",
    "\n",
    "x = [\"Old\", \"One\"]  # Line 1a\n",
    "y = x                # Line 2a\n",
    "x = [\"New\", \"Guy\"]  # Line 3a\n",
    "\n",
    "x = [\"Old\", \"One\"]  # Line 1b\n",
    "y = x                # Line 2b\n",
    "x[0] = \"New!!!!\"     # Line 3b"
   ]
  },
  {
   "cell_type": "markdown",
   "metadata": {},
   "source": [
    "Line 1a/b: Creates objects for `\"Old\"`, `\"One\"`, and the list; puts the addresses of the strings into the list; and binds `x` to the list object.\n",
    "\n",
    "\n",
    "Line 2a/b: `x` is bound to the object at `0x23`, so this object now gets bound to `y` as well.\n",
    "\n",
    "\n",
    "![IMAGE NOT FOUND!!!!!!!!!!!!](frame6.jpg)\n",
    "\n",
    "\n",
    "*Now, here's the difference*\n",
    "\n",
    "Line 3a: Creates objects for `\"New\"`, `\"Guy\"`, and a new list object to hold them; puts the addresses of the strings into the list; and binds `x` to the new list object.  **The old object at `0x23` isn't touched, and `y` is still bound it it.**\n",
    "\n",
    "\n",
    "![IMAGE NOT FOUND!!!!!!!!!!!!](frame7.jpg)\n",
    "\n",
    "Line 3b: Modifies the contents of the list object at `0x23`.  Note that neither of the variable bindings change -- they both still point to `0x23`, which has now been changed!\n",
    "\n",
    "\n",
    "![IMAGE NOT FOUND!!!!!!!!!!!!](frame8.jpg)\n",
    "\n",
    "\n",
    "\n",
    "<br><br><br><br><br><br><br><br><br><br>\n"
   ]
  },
  {
   "cell_type": "code",
   "execution_count": null,
   "metadata": {
    "collapsed": true
   },
   "outputs": [],
   "source": [
    "# EXAMPLE 1e: What happens in this case?\n",
    "\n",
    "x = [1,2,3]\n",
    "y = x\n",
    "x[0] = 4\n",
    "x = [5,6,7]\n",
    "x[0] = 8\n",
    "\n",
    "# What will y be? Print it when you know.\n",
    "# Also: you can run code at http://pythontutor.com/visualize.html \n",
    "# which will give nice visualizations of what we've described."
   ]
  },
  {
   "cell_type": "markdown",
   "metadata": {},
   "source": [
    "Why does Python do this?  In short, because copying addresses is faster than copying large lists. \n",
    "\n",
    "Also, you should know that these mechanics are simpler to how *pointers* behave in C/C++."
   ]
  },
  {
   "cell_type": "markdown",
   "metadata": {},
   "source": [
    "\n",
    "\n",
    "<br><br><br><br><br><br><br><br><br><br>\n",
    "\n",
    "# 2. Creating 2D Lists\n",
    "\n",
    "The above is relevant to one more topic regarding 2D lists:  creating them from scratch, rather than manipulating 2D lists that are handed to you.\n",
    "\n",
    "For this, nested loops and `.append()` is a reasonable way to go.  Let's make code which creates an 4 by 8 list (that means 4 \"rows\", where each \"row\" has 8 entries), with each entry initialized to 0.  That sounds easy, right?"
   ]
  },
  {
   "cell_type": "code",
   "execution_count": 9,
   "metadata": {},
   "outputs": [
    {
     "ename": "IndexError",
     "evalue": "list index out of range",
     "output_type": "error",
     "traceback": [
      "\u001b[1;31m---------------------------------------------------------------------------\u001b[0m",
      "\u001b[1;31mIndexError\u001b[0m                                Traceback (most recent call last)",
      "\u001b[1;32m<ipython-input-9-119b43e55a7e>\u001b[0m in \u001b[0;36m<module>\u001b[1;34m\u001b[0m\n\u001b[0;32m      6\u001b[0m \u001b[1;32mfor\u001b[0m \u001b[0mi\u001b[0m \u001b[1;32min\u001b[0m \u001b[0mrange\u001b[0m\u001b[1;33m(\u001b[0m\u001b[1;36m4\u001b[0m\u001b[1;33m)\u001b[0m\u001b[1;33m:\u001b[0m\u001b[1;33m\u001b[0m\u001b[1;33m\u001b[0m\u001b[0m\n\u001b[0;32m      7\u001b[0m     \u001b[1;32mfor\u001b[0m \u001b[0mj\u001b[0m \u001b[1;32min\u001b[0m \u001b[0mrange\u001b[0m\u001b[1;33m(\u001b[0m\u001b[1;36m8\u001b[0m\u001b[1;33m)\u001b[0m\u001b[1;33m:\u001b[0m\u001b[1;33m\u001b[0m\u001b[1;33m\u001b[0m\u001b[0m\n\u001b[1;32m----> 8\u001b[1;33m         \u001b[0mmy_table\u001b[0m\u001b[1;33m[\u001b[0m\u001b[0mi\u001b[0m\u001b[1;33m]\u001b[0m\u001b[1;33m[\u001b[0m\u001b[0mj\u001b[0m\u001b[1;33m]\u001b[0m \u001b[1;33m=\u001b[0m \u001b[1;36m0\u001b[0m\u001b[1;33m\u001b[0m\u001b[1;33m\u001b[0m\u001b[0m\n\u001b[0m\u001b[0;32m      9\u001b[0m \u001b[1;33m\u001b[0m\u001b[0m\n\u001b[0;32m     10\u001b[0m \u001b[0mprint\u001b[0m\u001b[1;33m(\u001b[0m\u001b[0mmy_table\u001b[0m\u001b[1;33m)\u001b[0m\u001b[1;33m\u001b[0m\u001b[1;33m\u001b[0m\u001b[0m\n",
      "\u001b[1;31mIndexError\u001b[0m: list index out of range"
     ]
    }
   ],
   "source": [
    "# EXAMPLE 2a: Create a 2D List, initialized with 0's.\n",
    "# Why doesn't this work?\n",
    "\n",
    "my_table = []\n",
    "\n",
    "for i in range(4):\n",
    "    for j in range(8):\n",
    "        my_table[i][j] = 0\n",
    "        \n",
    "print(my_table)"
   ]
  },
  {
   "cell_type": "code",
   "execution_count": 10,
   "metadata": {},
   "outputs": [
    {
     "name": "stdout",
     "output_type": "stream",
     "text": [
      "[0, 0, 0, 0, 0, 0, 0, 0, 0, 0, 0, 0, 0, 0, 0, 0, 0, 0, 0, 0, 0, 0, 0, 0, 0, 0, 0, 0, 0, 0, 0, 0]\n"
     ]
    }
   ],
   "source": [
    "# EXAMPLE 2b: Create a 2D List, initialized with 0's.\n",
    "# What about this?\n",
    "\n",
    "my_table = []\n",
    "\n",
    "for i in range(4):\n",
    "    for j in range(8):\n",
    "        my_table.append(0)\n",
    "        \n",
    "print(my_table)"
   ]
  },
  {
   "cell_type": "markdown",
   "metadata": {},
   "source": [
    "Maybe it's not so easy!  \n",
    "\n",
    "\n",
    "<br><br><br><br><br><br><br><br><br><br>\n",
    "\n",
    "\n",
    "Here's a strategy that works: we will start `my_table` as empty.  For each entry, we'll create an empty row, which we'll append with the requisite number of 0's.  Then, we will append this row to `my_table`."
   ]
  },
  {
   "cell_type": "code",
   "execution_count": 15,
   "metadata": {},
   "outputs": [
    {
     "name": "stdout",
     "output_type": "stream",
     "text": [
      "[[0, 0, 0, 0, 0, 0, 0, 0], [0, 0, 0, 0, 0, 0, 0, 0], [0, 0, 0, 0, 0, 0, 0, 0], [0, 0, 0, 0, 0, 0, 0, 0]]\n",
      "[[212, 0, 0, 0, 0, 0, 0, 0], [0, 0, 0, 0, 0, 0, 0, 0], [0, 0, 0, 0, 0, 0, 0, 0], [0, 0, 0, 0, 0, 0, 0, 0]]\n"
     ]
    }
   ],
   "source": [
    "# EXAMPLE 2c: Create a 2D List, initialized with 0's.\n",
    "# This works.\n",
    "\n",
    "my_table = []\n",
    "\n",
    "for i in range(4):\n",
    "    row = []\n",
    "    for j in range(8):\n",
    "        row.append(0)\n",
    "    \n",
    "    #After you've created an entire row of 0's, add this row to my_table\n",
    "    my_table.append(row)\n",
    "    \n",
    "    \n",
    "print(my_table)\n",
    "\n",
    "my_table[0][0] = 212\n",
    "print(my_table)"
   ]
  },
  {
   "cell_type": "markdown",
   "metadata": {},
   "source": [
    "\n",
    "<br><br><br><br><br><br><br><br><br><br>\n",
    "\n",
    "Hey, how about this?  \n",
    "\n",
    "`zeros = [0]*8`\n",
    "\n",
    "`my_table = [zeros]*4`\n",
    "\n",
    "\n",
    "\n",
    "`[0]*8` creates a list with eight 0's, `[zeros]*4` creates a list containing four copies of that list.  This actually works.  \n",
    "\n",
    "But beware! Such a 2D list is very very brittle."
   ]
  },
  {
   "cell_type": "code",
   "execution_count": 14,
   "metadata": {},
   "outputs": [
    {
     "name": "stdout",
     "output_type": "stream",
     "text": [
      "[[0, 0, 0, 0, 0, 0, 0, 0], [0, 0, 0, 0, 0, 0, 0, 0], [0, 0, 0, 0, 0, 0, 0, 0], [0, 0, 0, 0, 0, 0, 0, 0]]\n",
      "[[21361366, 0, 0, 0, 0, 0, 0, 0], [21361366, 0, 0, 0, 0, 0, 0, 0], [21361366, 0, 0, 0, 0, 0, 0, 0], [21361366, 0, 0, 0, 0, 0, 0, 0]]\n"
     ]
    }
   ],
   "source": [
    "# EXAMPLE 1d: Create a 2D List, initialized with 0's. Be EXTREMELY careful with this shortcut.\n",
    "\n",
    "zeros = [0]*8\n",
    "my_table = [zeros]*4\n",
    "print(my_table)\n",
    "\n",
    "# Watch what happens when I try to change one element!!!!!!!\n",
    "my_table[0][0] = 21361366\n",
    "print(my_table)"
   ]
  },
  {
   "cell_type": "markdown",
   "metadata": {},
   "source": [
    "What happened?????  The answer is that when you write `my_table = [zeros]*4`, Python goes to memory, and creates `zeros` at some memory address.  Then, it represents `my_table` in memory as a list with 4 addresses -- all of which will be the address of `zeros`.  When I try to change `my_table[0][0]`, Python goes to `zeros` and changes an entry -- but all four entries (rows) of `my_table` still have the address of `zeros`!  So *all* the rows get updated.\n",
    "\n",
    "So, avoid using list multiplication to initialize 2D lists.  (Or to initialize any list which contains mutable entries.)"
   ]
  },
  {
   "cell_type": "markdown",
   "metadata": {},
   "source": [
    "\n",
    "<br><br><br><br><br><br><br><br><br><br>\n",
    "\n",
    "# 3. GCD\n",
    "\n",
    "Before we move on from loops, let's look at a well-known problem: finding the greatest common divisor of two numbers.\n",
    "\n",
    "First, what is the most basic way to perform this?"
   ]
  },
  {
   "cell_type": "code",
   "execution_count": null,
   "metadata": {
    "collapsed": true
   },
   "outputs": [],
   "source": [
    "Get the two numbers x and y\n",
    "Set GCD = 1\n",
    "For all numbers up to the smaller one:\n",
    "    if number goes into both x and y\n",
    "        GCD = number"
   ]
  },
  {
   "cell_type": "code",
   "execution_count": null,
   "metadata": {
    "collapsed": true
   },
   "outputs": [],
   "source": [
    "# EXAMPLE 3a: Basic GCD\n",
    "\n",
    "x = int(input(\"Enter the first number: \"))\n",
    "y = int(input(\"Enter the second number: \"))\n",
    "lesser = min(x,y)\n",
    "\n",
    "current_gcd = 1\n",
    "\n",
    "\n",
    "for divisor in range(2, lesser + 1):\n",
    "    if x % divisor == 0 and y % divisor == 0:\n",
    "        current_gcd = divisor\n",
    "        \n",
    "print(current_gcd)\n"
   ]
  },
  {
   "cell_type": "markdown",
   "metadata": {},
   "source": [
    "\n",
    "<br><br><br><br><br><br><br><br><br><br>\n",
    "\n",
    "Here's a much faster way, called Euclid's algorithm.  Starting with two integers `x` and `y`, observe that the GCD of `x` and `y` is the same as the GCD of `y` and `x%y`. (For example, any number that goes into 100 and 108 would have to go into 8 as well.)\n",
    "\n",
    "So, we can replace the GCD(`x`,`y`) problem with the problem of finding GCD(`y`, `x%y`).  Furthermore, since `x%y` is less than `x`, the new problem will be \"smaller.\"  Do this enough times and you'll be done."
   ]
  },
  {
   "cell_type": "code",
   "execution_count": null,
   "metadata": {
    "collapsed": true
   },
   "outputs": [],
   "source": [
    "Get the two numbers x and y\n",
    "While y != 0:\n",
    "    Replace x and y with y and x%y, respectively\n",
    "Print x"
   ]
  },
  {
   "cell_type": "markdown",
   "metadata": {},
   "source": [
    "\n",
    "<br><br><br><br><br><br><br><br><br><br>"
   ]
  },
  {
   "cell_type": "code",
   "execution_count": null,
   "metadata": {
    "collapsed": true
   },
   "outputs": [],
   "source": [
    "# EXAMPLE 3b: Euclid's algorithm\n",
    "\n",
    "x = int(input(\"Enter the first number: \"))\n",
    "y = int(input(\"Enter the second number: \"))\n",
    "\n",
    "while y != 0:\n",
    "    # y is going to be the smaller number always.\n",
    "    # At each step, new x will be the old y, and new y will be the old x % old y.  A temp variable helps for the \n",
    "    # transition.\n",
    "    # The loop should stop when y goes into x -- then, y will be a factor of x, and obviously a factor of y.\n",
    "    temp = y\n",
    "    y = x%y\n",
    "    x = temp\n",
    "    \n",
    "print(x)"
   ]
  },
  {
   "cell_type": "markdown",
   "metadata": {},
   "source": [
    "Notice how much faster the Euclid algorithm is than the \"trial division\" method proposed above.  If $n$ represents the size of the smaller input, trial division is known as an $O(n^{1})$ algorithm.  The \"$O$\" stands for *order* -- because we don't care about the exact number of steps involved, but we would like to know roughly how many steps will take place as a function of the size of the input.  And the \"$n^{1}$\" here means that the number of steps is roughly a *linear* function of the input.  After all, if your lesser number is $10468$, then you're going to have to do roughly $2 \\cdot 10468$ mod operations to find the GCD. If your lesser number is $n$, you're going to have to do roughly $2n$ operations.\n",
    "\n",
    "On the other hand, the Euclid algorithm can be shown to run $O(\\log n)$ time when the larger number is $n$.  This means that the number of steps the algorithm needs is no more than (a constant multiple of) $\\log (n)$ when the larger number is $n$.  If you want to be really precise: the number of steps is guaranteed to be $\\leq 5\\log_{10}(n)$, where a \"step\" means a pass through the loop.  (This is far from obvious!)"
   ]
  },
  {
   "cell_type": "markdown",
   "metadata": {},
   "source": [
    "\n",
    "<br><br><br><br><br><br><br><br><br><br>\n",
    "\n",
    "# 4. Functions and Modular Programming\n",
    "\n",
    "We've discussed writing functions before.  I'd like to return to that now, because our programs have gotten fairly complex, and it will become more and more of a good idea to decompose our programs into \"modules\": independent subprograms that can be **written**, **understood**, **tested**, and **debugged** independently.  They also help you **minimize repetition** of code. \n",
    "\n",
    "Two examples: \n"
   ]
  },
  {
   "cell_type": "code",
   "execution_count": null,
   "metadata": {
    "collapsed": true
   },
   "outputs": [],
   "source": [
    "# EXAMPLE 4a: Happy birthday, without functions.\n",
    "\n",
    "birthday_boy = input(\"Whose birthday is it? \")\n",
    "print(\"Happy birthday to you.\")\n",
    "print(\"Happy birthday to you.\")\n",
    "print(\"Happy birthday dear \" + birthday_boy + \".\")\n",
    "print(\"Happy birthday to you.\")\n",
    "\n",
    "birthday_girl = input(\"Is it anyone else's birthday? \")\n",
    "print(\"Happy birthday to you.\")\n",
    "print(\"Happy birthday to you.\")\n",
    "print(\"Happy birthday dear \" + birthday_girl + \".\")\n",
    "print(\"Happy birthday to you.\")\n"
   ]
  },
  {
   "cell_type": "markdown",
   "metadata": {},
   "source": [
    "What if you want to change the song, because the copyright holders want to sue you for singing it without their permission?  Then you have to go through and change the words *twice*. Here's an alternative."
   ]
  },
  {
   "cell_type": "code",
   "execution_count": null,
   "metadata": {
    "collapsed": true
   },
   "outputs": [],
   "source": [
    "# EXAMPLE 4b: Happy birthday, with functions.\n",
    "\n",
    "# Here is a Python FUNCTION.\n",
    "# The top line is the SIGNATURE --\n",
    "# it contains the keyword def, the NAME of the function, and the FORMAL PARAMETER list.\n",
    "def bday_song(name):\n",
    "    \"\"\"Sing the birthday song.\"\"\"\n",
    "    \n",
    "    print(\"Happy birthday to you.\")\n",
    "    print(\"Happy birthday to you.\")\n",
    "    print(\"Happy birthday dear \" + name + \".\")\n",
    "    print(\"Happy birthday to you.\")\n",
    "\n",
    "##################################################\n",
    "# Now, we use the function:\n",
    "\n",
    "birthday_boy = input(\"Whose birthday is it? \")\n",
    "bday_song(birthday_boy)\n",
    "\n",
    "birthday_girl = input(\"Is it anyone else's birthday? \")\n",
    "bday_song(birthday_girl)\n",
    "\n",
    "# What will happen on this line?\n",
    "# print(bday_song(\"Bob\"))"
   ]
  },
  {
   "cell_type": "markdown",
   "metadata": {},
   "source": [
    "So, this example demonstrates code re-use.  \n",
    "\n",
    "Notice: this function has no return statement.  Any function *call* -- when you use a function -- will execute the function code until either a return statement is encountered, or until the end of the function body is reached.  If the end of the body is reached before a return statement is encountered, then the special value \"None\" is automatically returned.  \n",
    "\n",
    "Also, this function does something that most of the functions we've done so far don't: it **prints**.  That's ok here, because the whole point of this function is to make printing something less tedious.  It's also a decent idea to have a function print if you are trying to debug, and want to follow how the function executes.  Generally, though, outputs of a function should be *returned*, so that the outputs can be printed, stored to a variable, or used in further computations.  Most functions should *not* print anything.\n",
    "\n",
    "\n",
    "<br><br><br><br><br><br><br><br><br><br>\n",
    "\n",
    "Here's an example of using functions to break a problem down.  First, a non-modular program: remember thing explaining? We want to check if each word in the `text_list` is in the list of 1000 common words."
   ]
  },
  {
   "cell_type": "code",
   "execution_count": null,
   "metadata": {},
   "outputs": [],
   "source": [
    "# EXAMPLE 4c: Ten Hundred Most Common Words\n",
    "\n",
    "my_dictionary = open(\"smallwords.txt\", \"r\")\n",
    "dic_list = my_dictionary.read().split()\n",
    "my_dictionary.close()\n",
    "\n",
    "# The text!\n",
    "text_list = \"\"\"you have a bad problem and you will not go to space today\"\"\".split()\n",
    "\n",
    "all_good = True\n",
    "for text_word in text_list:\n",
    "    found_yet = False \n",
    "    for dic_word in dic_list:\n",
    "        if text_word == dic_word:\n",
    "            found_yet = True\n",
    "        break\n",
    "            \n",
    "    if found_yet:\n",
    "        all_good = False\n",
    "        print(\"\\\"\" + text_word + \"\\\" is not in the dictionary!!\")\n",
    "                \n",
    "if all_good:\n",
    "    print(\"Every word was in the dictionary.\")"
   ]
  },
  {
   "cell_type": "markdown",
   "metadata": {},
   "source": [
    "It has a bug (perhaps an obvious one).  Let's compare this to a modular solution to the same problem.  The idea here is to seperate the code that checks whether an individual word is in the dictionary from the code that keeps track of all the words in the text.\n",
    "\n",
    "\n",
    "<br><br><br><br><br><br><br><br><br><br>"
   ]
  },
  {
   "cell_type": "code",
   "execution_count": null,
   "metadata": {},
   "outputs": [],
   "source": [
    "# EXAMPLE 4d: Ten Hundred Most Common Words\n",
    "# A modular solution, with a function, and still a bug. \n",
    "\n",
    "import random\n",
    "\n",
    "def is_word_in_dic(word, dict_list):\n",
    "    \"\"\"Check if the given word is in dict_list.\"\"\"\n",
    "    found_yet = False \n",
    "    for dic_word in dic_list:\n",
    "        if text_word == dic_word:\n",
    "            found_yet = True\n",
    "        break\n",
    "    return found_yet\n",
    "\n",
    "###################################################################\n",
    "# Here's the TEST code: what do you expect to have happen?  What actually does?\n",
    "###################################################################\n",
    "\n",
    "my_dictionary = open(\"smallwords.txt\", \"r\")\n",
    "dic_list = my_dictionary.read().split()\n",
    "my_dictionary.close()\n",
    "\n",
    "print(is_word_in_dic(\"here\", dic_list))\n",
    "print(is_word_in_dic(\"juxtaposition\", dic_list))\n",
    "print(is_word_in_dic(\"trip\", dic_list))\n",
    "\n",
    "###################################################################\n",
    "# Now, here's the code that goes through the text.\n",
    "###################################################################\n",
    "text_list = \"\"\"you have a bad problem and you will not go to space today\"\"\".split()\n",
    "\n",
    "all_good = True\n",
    "for text_word in text_list:\n",
    "    found_yet = is_word_in_dic(text_word, dic_list) # USING THE FUNCTION!\n",
    "            \n",
    "    if found_yet:\n",
    "        all_good = False\n",
    "        print(\"\\\"\" + text_word + \"\\\" is not in the dictionary!!\")\n",
    "                \n",
    "if all_good:\n",
    "    print(\"Every word was in the dictionary.\")"
   ]
  },
  {
   "cell_type": "markdown",
   "metadata": {},
   "source": [
    "Now, we can clearly identify the part of the program that contains the error -- since the tests are clearly failing, the problem is in the function, not the code that calls it.  (Or at least, the FIRST problem is in the function.)"
   ]
  },
  {
   "cell_type": "markdown",
   "metadata": {},
   "source": [
    "\n",
    "<br><br><br><br><br><br><br><br><br><br>\n",
    "\n",
    "What if you wanted to turn the Scrooge program from the homework into a modular program?  What might that look like?"
   ]
  },
  {
   "cell_type": "code",
   "execution_count": null,
   "metadata": {},
   "outputs": [],
   "source": [
    "# EXAMPLE 4e: Scrooge\n",
    "\n",
    "import random\n",
    "\n",
    "\n",
    "# Write a function that simulates a game, and returns the total amount won\n",
    "def game_sim():\n",
    "    \"\"\"Return the amount won in one simulated game\"\"\"\n",
    "    coin_sum = 0\n",
    "    pick_list = [1, 5, 10, 25]\n",
    "    for pick in range(10):\n",
    "        index_choice = random.randrange(0,4) # OR:\n",
    "        coin_pick = pick_list[index_choice]  # coin_pick = random.choice(pick_list)\n",
    "                \n",
    "        coin_sum += coin_pick\n",
    "        \n",
    "    if coin_sum >= 100:\n",
    "        return coin_sum/100\n",
    "    else:\n",
    "        return -1\n",
    "########################################################\n",
    "\n",
    "# Now, 100,000 simulations.    \n",
    "NUM_GAMES = 100000\n",
    "games_won = 0\n",
    "money_won = 0\n",
    "\n",
    "for game in range(NUM_GAMES):\n",
    "    #\n",
    "    # WHAT CAN WE PUT HERE?\n",
    "    #\n",
    "        \n",
    "print(games_won/NUM_GAMES)\n",
    "print(money_won/NUM_GAMES)\n",
    "\n"
   ]
  }
 ],
 "metadata": {
  "kernelspec": {
   "display_name": "Python 3",
   "language": "python",
   "name": "python3"
  },
  "language_info": {
   "codemirror_mode": {
    "name": "ipython",
    "version": 3
   },
   "file_extension": ".py",
   "mimetype": "text/x-python",
   "name": "python",
   "nbconvert_exporter": "python",
   "pygments_lexer": "ipython3",
   "version": "3.7.1"
  },
  "name": "_merged_merged"
 },
 "nbformat": 4,
 "nbformat_minor": 2
}
