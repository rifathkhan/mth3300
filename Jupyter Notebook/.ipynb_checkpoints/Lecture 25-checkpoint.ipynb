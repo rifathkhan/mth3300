{
 "cells": [
  {
   "cell_type": "markdown",
   "metadata": {},
   "source": [
    "# Lecture 25\n",
    "\n",
    "#### Euclid's Algorithm Revisited; The Koch Fractal; Flatten; Sorting and Selection Sort; Merge Sort"
   ]
  },
  {
   "cell_type": "markdown",
   "metadata": {},
   "source": [
    "# 1. Euclid's Algorithm, Revisited\n",
    "\n",
    "Recall Euclid's algorithm for finding the GCD of two numbers.  The idea was that to find the GCD of $x$ and $y$, it suffices to find the GCD of $y$ and $x \\% y$.  So, we keep doing this until we arrive at a pair where one of the numbers is 0; then, the other number will be the GCD.\n",
    "\n",
    "This is definitely a job for recursion.  To solve the GCD problem for $x$ and $y$, you solve the same problem for smaller numbers.  So let's try this."
   ]
  },
  {
   "cell_type": "code",
   "execution_count": null,
   "metadata": {
    "collapsed": true
   },
   "outputs": [],
   "source": [
    "# EXAMPLE 1a: Euclid's Algorithm via Recursion, Take 1\n",
    "\n",
    "def gcd(x,y):\n",
    "    \"\"\"Return the greatest common divisor of x and y.\"\"\"\n",
    "    return gcd(y, x%y)\n",
    "\n",
    "# Test it!\n",
    "g = gcd(77, 56)\n",
    "print(\"\")\n",
    "h = gcd(40, 98)\n",
    "print(\"\")\n",
    "print(g, h)\n"
   ]
  },
  {
   "cell_type": "markdown",
   "metadata": {},
   "source": [
    "What goes wrong? The GCD function never actually returns a value -- it simply makes call after call to itself, never doing anything to stop the chain.  Eventually, it tries to execute $x \\% 0$, which is not allowed.\n",
    "\n",
    "<br><br><br><br><br><br><br><br><br><br>\n",
    "\n",
    "\n",
    "*Every recursive function has to have a base case, so that at least one of the calls can return a value without referring back to the function.*  So let's fix."
   ]
  },
  {
   "cell_type": "code",
   "execution_count": null,
   "metadata": {
    "collapsed": true
   },
   "outputs": [],
   "source": [
    "# EXAMPLE 1b: Euclid's Algorithm via Recursion, Corrected\n",
    "\n",
    "def gcd(x,y):\n",
    "    \"\"\"Return the greatest common divisor of x and y.\"\"\"\n",
    "    # Just for fun, let's watch the path of reduction.\n",
    "    print(x, y)\n",
    "    if y == 0:\n",
    "        return x\n",
    "    if x == 0:      # Actually, these two lines\n",
    "        return y    # aren't even necessary -- why?\n",
    "    return gcd(y, x%y)\n",
    "    #\n",
    "    # Why doesn't gcd(x%y, y) work?  It's subtle. \n",
    "    # Right way: when you call gcd(y, x%y), you replace x with y, and y with x%y: both values change!\n",
    "    # Wrong way: when you call gcd(x%y, y), you replace x with x%y, and y with y -- notice that the y value \n",
    "    # DOES NOT CHANGE.  This causes the function to get stuck.  For example: if this were coded the wrong way,\n",
    "    # and you called gcd(10,8), it would progress like\n",
    "    # gcd(10,8) --> gcd(2,8) --> gcd(2,8) --> gcd(2,8) --> .....\n",
    "    # MORAL: for recursion to work, each call typically has to move to a \"smaller\" problem -- it can't\n",
    "    # keep calling itself with the same values!\n",
    "    #\n",
    "    \n",
    "# Test it!\n",
    "g = gcd(77, 56)\n",
    "print(\"\")\n",
    "h = gcd(40,98)\n",
    "print(\"\")\n",
    "print(g, h)\n"
   ]
  },
  {
   "cell_type": "markdown",
   "metadata": {},
   "source": [
    "<br><br><br><br><br><br><br><br><br><br>\n",
    "\n",
    "In the lengthy comment above, I've highlighted a subtle issue in the implementation.  This is centered around a second principle of designing recursive functions:  in addition to always having a base case, the calls that the function makes to itself must be in some sense \"smaller\" -- otherwise, you will never *arrive* at the base case.  This is a lot like an infinite loop!"
   ]
  },
  {
   "cell_type": "code",
   "execution_count": null,
   "metadata": {
    "collapsed": true
   },
   "outputs": [],
   "source": [
    "# EXAMPLE 1c: No progression to the base case\n",
    "\n",
    "def bad(x):\n",
    "    if x == 1:\n",
    "        return x\n",
    "    else:\n",
    "        return bad(x)\n",
    "    \n",
    "# I've intentionally left off the last parentheses in the next line, because if you ran it,\n",
    "# bad(2) would call bad(2) would call bad(2) would could call bad(2) would call.....\n",
    "print(bad(2)"
   ]
  },
  {
   "cell_type": "markdown",
   "metadata": {},
   "source": [
    "<br><br><br><br><br><br><br><br><br><br>\n",
    "\n",
    "\n",
    "# 2. Flatten\n",
    "\n",
    "The following is the type of problem where recursion provide the most natural implementation.\n",
    "\n",
    "Suppose that you have a list of numbers that is nested in some weird way, like\n",
    "\n",
    "`x = [1, [2, 3], [[4, 5], 6, [7, 8]], 9, [10, 11]]`\n",
    "\n",
    "that you would like to turn into a basic, unnested, 1D list:\n",
    "\n",
    "`f = [1, 2, 3, 4, 5, 6, 7, 8, 9, 10, 11]`\n",
    "\n",
    "To flatten `x`, we start with an empty list, go through `x` one element at a time, and add each element of the list, as follows.\n",
    "\n",
    "Consider each element of `x` -- those would be `1` and `[2,3]` and `[[4, 5], 6, [7, 8]]` and `9` and `[10,11]`.  \n",
    "\n",
    "Some of these are just numbers (like `1` and `9`): these should just be *appended* to the list in progress.  \n",
    "\n",
    "Other elements are nested lists (like `[[4, 5], 6, [7, 8]]`) -- we will apply `flatten` to these to produce 1D lists, and `+=` them onto the list in progress.  \n",
    "\n",
    "Finally, some elements are plain 1D lists (like `[2, 3]` and `[10, 11]`) -- we will flatten these and `+=` them too: if `flatten` is implemented correctly, then flattening these lists should produce exactly the same list.\n",
    "\n",
    "The only challenge is: how do you check if an element is a list (nested/unnested) or not?  Easy!  Use \n",
    "\n",
    "`type(x) == list`.\n",
    "\n",
    "<br><br><br><br><br><br><br><br><br><br>"
   ]
  },
  {
   "cell_type": "code",
   "execution_count": null,
   "metadata": {},
   "outputs": [],
   "source": [
    "# EXAMPLE 2a: Flatten a nested list.\n",
    "\n",
    "def flatten(in_list):\n",
    "    out_list = []\n",
    "    # Go through each element of the in_list: each element might be a number,\n",
    "    # or some type of list.\n",
    "    \n",
    "    \n",
    "    \n",
    "    \n",
    "    \n",
    "    \n",
    "    \n",
    "    \n",
    "    \n",
    "    \n",
    "    \n",
    "    \n",
    "    \n",
    "    \n",
    "    \n",
    "    return out_list\n",
    "\n",
    "# Test!\n",
    "x = flatten([1, [2, 3], [[4, 5], 6, [7, 8]], 9, [10, 11]])\n",
    "print(x)\n",
    "\n"
   ]
  },
  {
   "cell_type": "markdown",
   "metadata": {},
   "source": [
    "<br><br><br><br><br><br><br><br><br><br>\n",
    "\n",
    "\n",
    "# 3.  The Koch Fractal\n",
    "\n",
    "Let's look at one more recursion, using turtles. First, let's look at using a function with a turtle."
   ]
  },
  {
   "cell_type": "code",
   "execution_count": null,
   "metadata": {
    "collapsed": true
   },
   "outputs": [],
   "source": [
    "# EXAMPLE 3a: The hat\n",
    "\n",
    "import turtle\n",
    "\n",
    "def draw_hat(sidelength, turtle):\n",
    "    \"\"\"\n",
    "    Have the turtle continue in the direction it is currently facing, tracing out a \"hat\" shape, where each side\n",
    "    is a line segment of size = sidelength.\n",
    "    Notice the lack of a return value: this function produces an action.\n",
    "    \"\"\"\n",
    "    turtle.forward(sidelength)\n",
    "    turtle.left(60)\n",
    "    turtle.forward(sidelength)\n",
    "    turtle.right(120)\n",
    "    turtle.forward(sidelength)\n",
    "    turtle.left(60)\n",
    "    turtle.forward(sidelength)\n",
    "    \n",
    "t = turtle.Turtle()\n",
    "scr = turtle.Screen()\n",
    "\n",
    "draw_hat(30, t) # Notice: we just call the function; we don't print or assign the return value, which is None!\n",
    "t.left(90)\n",
    "draw_hat(100, t)\n",
    "\n",
    "scr.mainloop()\n",
    "turtle.bye()    "
   ]
  },
  {
   "cell_type": "markdown",
   "metadata": {},
   "source": [
    "<br><br><br><br><br><br><br><br><br><br>\n",
    "\n",
    "\n",
    "Now, let's try to produce this shape, the \"Koch fractal\":\n",
    "\n",
    "![NOT FOUND!!!!!!!!!!](koch_3.png)\n",
    "\n",
    "\n",
    "We're taking a hat, replacing each side of the hat with a smaller hat, with each side of those hats replaced by even smaller hats.  There's some recursion here!\n",
    "\n",
    "To help us along, let's define the \"order\" of a Koch fractal.  An order 0 Koch fractal is a straight line.  An order 1 Koch fractal will be the hat from before.  An order 2 Koch fractal will be a hat, with each of it's sides replaced by an order 1 Koch fractal.  And so on...\n",
    "\n",
    "Also, we'll let the \"total distance\" be the straight line distance from start point to end point.  Then each side of a plain hat will just be the total distance divided by 3."
   ]
  },
  {
   "cell_type": "code",
   "execution_count": null,
   "metadata": {
    "collapsed": true
   },
   "outputs": [],
   "source": [
    "# EXAMPLE 3b: The Koch fractal\n",
    "\n",
    "import turtle\n",
    "\n",
    "def koch(total_dist, turtle, order):\n",
    "    \"\"\"\n",
    "    Have the turtle continue in the direction it is currently facing, tracing out a \"Koch fractal\" with the \n",
    "    given order, and with total_dist equal to the straight line distrance from first point to last.\n",
    "    \"\"\"\n",
    "    \n",
    "    \n",
    "    \n",
    "    \n",
    "    \n",
    "    \n",
    "    \n",
    "    \n",
    "    \n",
    "    \n",
    "    \n",
    "    \n",
    "    \n",
    "    \n",
    "def main():    \n",
    "    t = turtle.Turtle()\n",
    "    scr = turtle.Screen()\n",
    "\n",
    "    dis = int(input(\"Total distance: \"))\n",
    "    order = int(input(\"Order: \"))\n",
    "\n",
    "    koch(dis, t, order)\n",
    "    \n",
    "    scr.mainloop()\n",
    "    turtle.bye()\n",
    "    \n",
    "    \n",
    "main()"
   ]
  },
  {
   "cell_type": "markdown",
   "metadata": {},
   "source": [
    "The idea is to take the hat function, and replace each line that says \"turtle.forward(sidelength)\" with a recursive call to the koch function.  However, this has to be done carefully.  If we want to draw a Koch fractal of order 5, each of its side will be a Koch fractal of order 4!  And a Koch fractal of order 0 is the base case, just a straight line.\n",
    "\n",
    "Also, if the total distance of a Koch fractal is 30, then the total distance of each of its sides should be 10 -- unless the fractal is of order 0, in which case it simply is a single side of the given distance. \n",
    "\n",
    "\n",
    "<br><br><br><br><br><br><br><br><br><br>"
   ]
  },
  {
   "cell_type": "markdown",
   "metadata": {},
   "source": [
    "# 4. Sorting, and Selection Sort\n",
    "\n",
    "OMG, we haven't talked about sorting at all! That's only the most classic computer science topic there is.\n",
    "\n",
    "How do you sort a list?  This means, for instance, given a list of words, how can you put that list in alphabetical order?  Well, here's one way:\n",
    "\n",
    "\n",
    "\n"
   ]
  },
  {
   "cell_type": "code",
   "execution_count": null,
   "metadata": {
    "collapsed": true
   },
   "outputs": [],
   "source": [
    "# EXAMPLE 4a: Sorting, done for you.\n",
    "\n",
    "names = [\"Jacob\", \"Sophia\", \"Mason\", \"Isabella\", \"William\", \"Emma\", \"Jayden\",\n",
    "         \"Olivia\", \"Noah\", \"Ava\", \"Michael\", \"Emily\", \"Ethan\", \"Abigail\",\n",
    "         \"Alexander\", \"Madison\", \"Aiden\", \"Mia\", \"Daniel\", \"Chloe\", \"Anthony\",\n",
    "         \"Elizabeth\", \"Matthew\", \"Ella\", \"Elijah\", \"Addison\", \"Joshua\", \"Natalie\", \"Liam\", \"Lily\"]\n",
    "names.sort()\n",
    "print(names)\n"
   ]
  },
  {
   "cell_type": "markdown",
   "metadata": {},
   "source": [
    "Ok, that was easy.  But then, how does Python do that?  The Python interpreter doesn't just wave a wand and instantly the list becomes sorted -- it performs a lot of operations moving elements around in memory to get them in the right order.  Given that a **lot** of thought went into the best way to do this, perhaps we should learn about some of the ways this is done.  \n",
    "\n",
    "Along the way, I hope you'll pick up a simple idea: just because a line of code is quick to write( `names.sort()`), doesn't mean it is quick to *execute* (if the list is long, generally sorting it will take very long, relatively speaking).\n",
    "\n",
    "<br><br><br><br><br><br><br><br><br><br>\n",
    "\n",
    "Let's start with a simple one: the selection sort. The selection sort works like this.  \n",
    "\n",
    "* Go through the entire list and find the least element.\n",
    "* Swap that element with the first one.\n",
    "* Then, go through the list starting with the second element, looking for the least element out of those.\n",
    "* Swap that element with the second one.\n",
    "* So on and so forth, until you are down to a one element list.\n",
    "\n",
    "So for example, to sort the list `j, d, b, h, c, i`, the steps would be:\n",
    "\n",
    "1. `b, d, j, h, c, i`\n",
    "2. `b, c, j, h, d, i`\n",
    "3. `b, c, d, h, j, i`\n",
    "4. `b, c, d, h, j, i`\n",
    "5. `b, c, d, h, i, j`\n",
    "\n",
    "Notice that steps 3 and 4 look the same.  Step 3 is designed to make sure that the third element, `d`, is what it should be.  We can see, because we have eyes, that the element after, `h`, is also in the right position -- but remember, we should take the perspective of a computer, which has to actually compare `h` with all the remaining elements in the list to confirm that `h` is indeed the least of the remaining elements after `d`. \n",
    "\n",
    "<br><br><br><br><br><br><br><br><br><br>"
   ]
  },
  {
   "cell_type": "code",
   "execution_count": null,
   "metadata": {
    "collapsed": true
   },
   "outputs": [],
   "source": [
    "# EXAMPLE 4b: Selection sort\n",
    "\n",
    "names = [\"Jacob\", \"Sophia\", \"Mason\", \"Isabella\", \"William\", \"Emma\", \"Jayden\",\n",
    "         \"Olivia\", \"Noah\", \"Ava\", \"Michael\", \"Emily\", \"Ethan\", \"Abigail\",\n",
    "         \"Alexander\", \"Madison\", \"Aiden\", \"Mia\", \"Daniel\", \"Chloe\", \"Anthony\",\n",
    "         \"Elizabeth\", \"Matthew\", \"Ella\", \"Elijah\", \"Addison\", \"Joshua\", \"Natalie\", \"Liam\", \"Lily\"]\n",
    "\n",
    "# To implement the selection sort, we will go through the list by INDEX.  That is because we will need to keep track\n",
    "# of where the elements we are switching are.\n",
    "\n",
    "for i in range(len(names)):\n",
    "    # Turn i through the loop will put the right element in position i.\n",
    "    # pos_of_min will contain the position of the least element from position i on.\n",
    "    # In the beginning, we'll start it with i.\n",
    "    position_of_min = i\n",
    "    \n",
    "    # Look through all the names AFTER position i\n",
    "    for j in range(i+1, len(names)):\n",
    "        if names[j] < names[position_of_min]:\n",
    "            # Then we've found the current least element -- now we record it's position.\n",
    "            \n",
    "            \n",
    "            # WHAT IS THE ONE MISSING LINE?\n",
    "            \n",
    "            \n",
    "            \n",
    "            \n",
    "    # Finally, swap names[i] with names[position_of_min]\n",
    "    temp = names[i]\n",
    "    names[i] = names[position_of_min]\n",
    "    names[position_of_min] = temp\n",
    "            \n",
    "            \n",
    "print(names)"
   ]
  },
  {
   "cell_type": "markdown",
   "metadata": {},
   "source": [
    "Now, roughly how many comparisons do we perform when we do a selection sort?  If the length of the list is $n$, to set the first element, we use $n-1$ comparisons; to set the second element, we use $n-2$ comparisons, ..., and the last element is set using $0$ comparisons.  So, the total number of comparisons is\n",
    "$$(n-1) + (n-2) + \\ldots + 2 + 1+ 0$$\n",
    "which turns out to equal $\\frac{1}{2}(n^2 - n)$ comparisons.  We say that this algorithm is an $O(n^2)$ algorithm -- the number of steps, as a function of $n$, is quadratic.  This turns out to be rather inefficient -- you can do way better."
   ]
  },
  {
   "cell_type": "markdown",
   "metadata": {},
   "source": [
    "<br><br><br><br><br><br><br><br><br><br>\n",
    "\n",
    "\n",
    "# 5. Merge Sort\n",
    "\n",
    "Here's another sort that's a bit more sophisticated, but has improved performace.\n",
    "\n",
    "Merge sort works as follows:\n",
    "\n",
    "* Split the list into two parts.\n",
    "* Sort each list (using the algorithm we are currently describing if the length is more than 1).\n",
    "* Then, merge the two sorted lists: create an output list; examine the leading elements of the two lists, and remove the lesser, appending the value to the output list; repeat this procedure until one list has had all its elements removed, and then concatenate the remaining list onto the output list.\n",
    "\n",
    "For example, let's merge sort `38, 27, 43, 3, 9, 82, 10`. Image from Wikipedia:\n",
    "\n",
    "![NOT FOUND!!!!!!!!!!](merge.png)\n",
    "\n",
    "Fun fact: I sometimes use a crude version of merge sort to alphabetize papers.  Fun fact: Python's `.sort()` uses a sort called Timsort that is partially based on merge sort."
   ]
  },
  {
   "cell_type": "code",
   "execution_count": null,
   "metadata": {
    "collapsed": true
   },
   "outputs": [],
   "source": [
    "# EXAMPLE 5a: Merge sort\n",
    "\n",
    "\n",
    "names = [\"Jacob\", \"Sophia\", \"Mason\", \"Isabella\", \"William\", \"Emma\", \"Jayden\",\n",
    "         \"Olivia\", \"Noah\", \"Ava\", \"Michael\", \"Emily\", \"Ethan\", \"Abigail\",\n",
    "         \"Alexander\", \"Madison\", \"Aiden\", \"Mia\", \"Daniel\", \"Chloe\", \"Anthony\",\n",
    "         \"Elizabeth\", \"Matthew\", \"Ella\", \"Elijah\", \"Addison\", \"Joshua\", \"Natalie\", \"Liam\", \"Lily\"]\n",
    "\n",
    "\n",
    "\n",
    "def merge(list1, list2):\n",
    "    \"\"\"Return a single list, which merges two sorted lists into one sorted list.\"\"\"\n",
    "    output_list = []\n",
    "    \n",
    "    # pos1 and pos2 will represent what position we are at in each list.\n",
    "    pos1 = 0\n",
    "    pos2 = 0\n",
    "    \n",
    "    # Starting at the beginning: we compare the elements at pos1 in list 1 and pos2 in list 2.\n",
    "    # We put the smaller element on the output_list, and move that position forward.\n",
    "    # We do this until we have reached the end of one list.\n",
    "    while pos1 < len(list1) and pos2 < len(list2):\n",
    "        if list1[pos1] < list2[pos2]:\n",
    "            output_list.append(list1[pos1])\n",
    "            pos1 += 1\n",
    "        else:\n",
    "            output_list.append(list2[pos2])\n",
    "            pos2 += 1\n",
    "            \n",
    "    # After we've made it to the end of one list, we concatenate the rest of the other list.\n",
    "    if pos1 == len(list1):\n",
    "        output_list += list2[pos2:]\n",
    "    else:\n",
    "        output_list += list1[pos1:]\n",
    "    return output_list\n",
    "\n",
    "\n",
    "def merge_sort(my_list):\n",
    "    \"\"\"Return my_list sorted, using a merge sort.\"\"\"\n",
    "    if len(my_list) == 1:\n",
    "        # Base case\n",
    "        \n",
    "        \n",
    "        #????????????\n",
    "        \n",
    "        \n",
    "        \n",
    "    else:\n",
    "        # Split the list into two. Sort each half.  Then merge the two.\n",
    "        \n",
    "        \n",
    "        #????????????\n",
    "        \n",
    "        \n",
    "        \n",
    "        \n",
    "sort_names = merge_sort(names)\n",
    "print(sort_names)\n",
    "      \n",
    "        "
   ]
  },
  {
   "cell_type": "markdown",
   "metadata": {},
   "source": [
    "<br><br><br><br><br><br><br><br><br><br>\n",
    "\n",
    "Now, I claim that merge sort runs in $O(n \\log_2 n)$ time (where $n$ is the length of the input list), which is way faster than $O(n^2)$ time.  Why?\n",
    "\n",
    "Let's look at that picture again:\n",
    "\n",
    "![NOT FOUND!!!!!!!!!!](merge.png)\n",
    "\n",
    "Let's focus on the bottom half, where the merges take place.  There are 3 stages of merging: merging the individual elements into twosies; merging the twosies into foursies; and finally merging the foursies into the entire list.  The key idea is that: *in each stage, the total number of comparisons is roughly equal to the total length of the list*.  This is because each comparison will result in one number being merged into a list, and every number will be merged exactly once at each stage.\n",
    "\n",
    "Now, how many stages are there?  That would be around $\\log_2 n$ -- this is the number of times you can divide a list of length $n$ in 2 before you get onesies.  So, in total: approximately $n$ comparisons per stage time $\\log_2 n$ stages equals approximately $n \\log_2 n$ operations in total.\n"
   ]
  }
 ],
 "metadata": {
  "kernelspec": {
   "display_name": "Python 3",
   "language": "python",
   "name": "python3"
  },
  "language_info": {
   "codemirror_mode": {
    "name": "ipython",
    "version": 3
   },
   "file_extension": ".py",
   "mimetype": "text/x-python",
   "name": "python",
   "nbconvert_exporter": "python",
   "pygments_lexer": "ipython3",
   "version": "3.7.1"
  },
  "name": "_merged_merged"
 },
 "nbformat": 4,
 "nbformat_minor": 2
}
