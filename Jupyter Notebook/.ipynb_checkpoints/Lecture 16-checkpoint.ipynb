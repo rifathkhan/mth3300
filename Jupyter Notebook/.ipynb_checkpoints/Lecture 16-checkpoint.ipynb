{
 "cells": [
  {
   "cell_type": "markdown",
   "metadata": {},
   "source": [
    "# Lecture 16\n",
    "\n",
    "#### Functions and Modular Programming; Return Values and Scope; The \"Downside\" of Scoping; Lists and Mutables as Arguments"
   ]
  },
  {
   "cell_type": "markdown",
   "metadata": {},
   "source": [
    "# 1. Functions and Modular Programming\n",
    "\n",
    "We've discussed writing functions before.  I'd like to return to that now, because our programs have gotten fairly complex, and it will become more and more of a good idea to decompose our programs into \"modules\": independent subprograms that can be **written**, **understood**, **tested**, and **debugged** independently.  They also help you **minimize repetition** of code. \n",
    "\n",
    "Two examples: \n"
   ]
  },
  {
   "cell_type": "code",
   "execution_count": null,
   "metadata": {},
   "outputs": [],
   "source": [
    "# EXAMPLE 1a: Happy birthday, without functions.\n",
    "\n",
    "birthday_boy = input(\"Whose birthday is it? \")\n",
    "print(\"Happy birthday to you.\")\n",
    "print(\"Happy birthday to you.\")\n",
    "print(\"Happy birthday dear \" + birthday_boy + \".\")\n",
    "print(\"Happy birthday to you.\")\n",
    "\n",
    "birthday_girl = input(\"Is it anyone else's birthday? \")\n",
    "print(\"Happy birthday to you.\")\n",
    "print(\"Happy birthday to you.\")\n",
    "print(\"Happy birthday dear \" + birthday_girl + \".\")\n",
    "print(\"Happy birthday to you.\")\n"
   ]
  },
  {
   "cell_type": "markdown",
   "metadata": {},
   "source": [
    "<br><br><br><br><br><br><br><br><br><br>\n",
    "\n",
    "What if you want to change the song, because the copyright holders want to sue you for singing it without their permission?  Then you have to go through and change the words *twice*. Here's an alternative."
   ]
  },
  {
   "cell_type": "code",
   "execution_count": 1,
   "metadata": {},
   "outputs": [
    {
     "name": "stdout",
     "output_type": "stream",
     "text": [
      "Whose birthday is it? Rifat\n",
      "Happy birthday to you.\n",
      "Happy birthday to you.\n",
      "Happy birthday dear Rifat.\n",
      "Happy birthday to you.\n",
      "Is it anyone else's birthday? Jeneera\n",
      "Happy birthday to you.\n",
      "Happy birthday to you.\n",
      "Happy birthday dear Jeneera.\n",
      "Happy birthday to you.\n"
     ]
    }
   ],
   "source": [
    "# EXAMPLE 1b: Happy birthday, with functions.\n",
    "\n",
    "# Here is a Python FUNCTION.\n",
    "# The top line is the SIGNATURE --\n",
    "# it contains the keyword def, the NAME of the function, and the FORMAL PARAMETER list.\n",
    "def bday_song(name):\n",
    "    \"\"\"Sing the birthday song.\"\"\"\n",
    "    \n",
    "    print(\"Happy birthday to you.\")\n",
    "    print(\"Happy birthday to you.\")\n",
    "    print(\"Happy birthday dear \" + name + \".\")\n",
    "    print(\"Happy birthday to you.\")\n",
    "\n",
    "##################################################\n",
    "# Now, we use the function:\n",
    "\n",
    "birthday_boy = input(\"Whose birthday is it? \")\n",
    "bday_song(birthday_boy)\n",
    "\n",
    "birthday_girl = input(\"Is it anyone else's birthday? \")\n",
    "bday_song(birthday_girl)"
   ]
  },
  {
   "cell_type": "markdown",
   "metadata": {},
   "source": [
    "So, this example demonstrates code re-use.  \n",
    "\n",
    "Notice: this function has no return statement.  Any function *call* -- when you use a function -- will execute the function code until either a return statement is encountered, or until the end of the function body is reached.  If the end of the body is reached before a return statement is encountered, then the special value \"None\" is automatically returned.  \n",
    "\n",
    "Also, this function does something that most of the functions we've done so far don't: it **prints**.  That's ok here, because the whole point of this function is to make printing something less tedious.  It's also a decent idea to have a function print if you are trying to debug, and want to follow how the function executes.  Generally, though, outputs of a function should be *returned*, so that the outputs can be printed, stored to a variable, or used in further computations.  Most functions should *not* print anything.\n",
    "\n",
    "<br><br><br><br><br><br><br><br><br><br>\n",
    "\n",
    "Here's an example of using functions to break a problem down.  First, a non-modular program: remember thing explaining? We want to check if each word in the `text_list` is in the list of 1000 common words."
   ]
  },
  {
   "cell_type": "code",
   "execution_count": 2,
   "metadata": {},
   "outputs": [
    {
     "name": "stdout",
     "output_type": "stream",
     "text": [
      "\"a\" is not in the dictionary!!\n"
     ]
    }
   ],
   "source": [
    "# EXAMPLE 1c: Ten Hundred Most Common Words\n",
    "\n",
    "my_dictionary = open(\"smallwords.txt\", \"r\")\n",
    "dic_list = my_dictionary.read().split()\n",
    "my_dictionary.close()\n",
    "\n",
    "# The text!\n",
    "text_list = \"\"\"you have a bad problem and you will not go to space today\"\"\".split()\n",
    "\n",
    "all_good = True\n",
    "for text_word in text_list:\n",
    "    found_yet = False \n",
    "    for dic_word in dic_list:\n",
    "        if text_word == dic_word:\n",
    "            found_yet = True\n",
    "        break\n",
    "            \n",
    "    if found_yet:\n",
    "        all_good = False\n",
    "        print(\"\\\"\" + text_word + \"\\\" is not in the dictionary!!\")\n",
    "                \n",
    "if all_good:\n",
    "    print(\"Every word was in the dictionary.\")"
   ]
  },
  {
   "cell_type": "markdown",
   "metadata": {},
   "source": [
    "\n",
    "It has a bug (perhaps an obvious one).  Let's compare this to a modular solution to the same problem.  The idea here is to seperate the code that checks whether an individual word is in the dictionary from the code that keeps track of all the words in the text.\n",
    "\n",
    "\n",
    "<br><br><br><br><br><br><br><br><br><br>"
   ]
  },
  {
   "cell_type": "code",
   "execution_count": null,
   "metadata": {},
   "outputs": [],
   "source": [
    "# EXAMPLE 1d: Ten Hundred Most Common Words\n",
    "# A modular solution, with a function, and still a bug. \n",
    "\n",
    "import random\n",
    "\n",
    "def is_word_in_dic(word, dict_list):\n",
    "    \"\"\"Check if the given word is in dict_list.\"\"\"\n",
    "    found_yet = False \n",
    "    for dic_word in dic_list:\n",
    "        if text_word == dic_word:\n",
    "            found_yet = True\n",
    "        break\n",
    "    return found_yet\n",
    "\n",
    "###################################################################\n",
    "# Here's the TEST code: what do you expect to have happen?  What actually does?\n",
    "###################################################################\n",
    "\n",
    "my_dictionary = open(\"smallwords.txt\", \"r\")\n",
    "dic_list = my_dictionary.read().split()\n",
    "my_dictionary.close()\n",
    "\n",
    "print(is_word_in_dic(\"here\", dic_list))\n",
    "print(is_word_in_dic(\"juxtaposition\", dic_list))\n",
    "print(is_word_in_dic(\"trip\", dic_list))\n",
    "\n",
    "###################################################################\n",
    "# Now, here's the code that goes through the text.\n",
    "###################################################################\n",
    "text_list = \"\"\"you have a bad problem and you will not go to space today\"\"\".split()\n",
    "\n",
    "all_good = True\n",
    "for text_word in text_list:\n",
    "    found_yet = is_word_in_dic(text_word, dic_list) # USING THE FUNCTION!\n",
    "            \n",
    "    if !found_yet:\n",
    "        all_good = False\n",
    "        print(\"\\\"\" + text_word + \"\\\" is not in the dictionary!!\")\n",
    "                \n",
    "if all_good:\n",
    "    print(\"Every word was in the dictionary.\")"
   ]
  },
  {
   "cell_type": "markdown",
   "metadata": {},
   "source": [
    "Now, we can clearly identify the part of the program that contains the error -- since the tests are clearly failing, the problem is in the function, not the code that calls it.  (Or at least, the FIRST problem is in the function.)"
   ]
  },
  {
   "cell_type": "markdown",
   "metadata": {},
   "source": [
    "\n",
    "<br><br><br><br><br><br><br><br><br><br>\n",
    "\n",
    "What if you wanted to turn the coin program from the homework into a modular program?  What might that look like?"
   ]
  },
  {
   "cell_type": "code",
   "execution_count": 5,
   "metadata": {},
   "outputs": [
    {
     "name": "stdout",
     "output_type": "stream",
     "text": [
      "-1\n",
      "1.02\n",
      "-1\n",
      "0.51994\n",
      "0.6482490000000074\n"
     ]
    }
   ],
   "source": [
    "# EXAMPLE 1e: Scrooge\n",
    "\n",
    "import random\n",
    "\n",
    "\n",
    "# Write a function that simulates a game, and returns the total amount won\n",
    "def game_sim():\n",
    "    \"\"\"Return the amount won in one simulated game\"\"\"\n",
    "    coin_sum = 0\n",
    "    pick_list = [1, 5, 10, 25]\n",
    "    for pick in range(10):\n",
    "        index_choice = random.randrange(0,4) # OR:\n",
    "        coin_pick = pick_list[index_choice]  # coin_pick = random.choice(pick_list)\n",
    "                \n",
    "        coin_sum += coin_pick\n",
    "        \n",
    "    if coin_sum >= 100:\n",
    "        return coin_sum/100\n",
    "    else:\n",
    "        return -1\n",
    "########################################################\n",
    "# TEST\n",
    "########################################################\n",
    "print(game_sim())\n",
    "print(game_sim())\n",
    "print(game_sim())\n",
    "\n",
    "\n",
    "########################################################\n",
    "# FULL SIMULATION\n",
    "########################################################\n",
    "NUM_GAMES = 100000\n",
    "games_won = 0\n",
    "money_won = 0\n",
    "\n",
    "for game in range(NUM_GAMES):\n",
    "    result = game_sim()\n",
    "    \n",
    "    if result != -1:\n",
    "        games_won += 1\n",
    "        money_won += result\n",
    "    \n",
    "    \n",
    "print(games_won/NUM_GAMES)\n",
    "print(money_won/NUM_GAMES)"
   ]
  },
  {
   "cell_type": "markdown",
   "metadata": {},
   "source": [
    "<br><br><br><br><br><br><br><br><br><br>\n",
    "\n",
    "# 2. Return Values and Scope\n",
    "\n",
    "Let's talk about the technicalities of functions.  First, observe the following program, which highlights some points about return values."
   ]
  },
  {
   "cell_type": "code",
   "execution_count": null,
   "metadata": {},
   "outputs": [],
   "source": [
    "# EXAMPLE 2a: A function with several returns\n",
    "\n",
    "# What does this weird function return?\n",
    "def weird_fn(param):\n",
    "    \"\"\"Weirdness.\"\"\"\n",
    "    if param > 0:\n",
    "        if param == 2:\n",
    "            return 100\n",
    "        return [200, 300]\n",
    "        return 400\n",
    "        \n",
    "print(weird_fn(2))\n",
    "print(weird_fn(3))\n",
    "print(weird_fn(-1))\n"
   ]
  },
  {
   "cell_type": "markdown",
   "metadata": {},
   "source": [
    "So, the function illustrates four things\n",
    "\n",
    "1. A function can have several return statements.  \n",
    "2. This does not allow you to return more than one value -- the function stops executing when a return statement is reached.  \n",
    "3. If you reallllly want to return several values, you can return a list!\n",
    "4. If you reach the end of a function without hitting an explicit return statement, your program still returns a value -- the special value `None`.   (`None` has its own special datatype -- the `NoneType`.)\n",
    "\n",
    "<br><br><br><br><br><br><br><br><br><br>\n",
    "\n",
    "Next, let's talk about scope.  What is *scope*?   To explain it, it helps to look at an example like the one below.  Pay attention to the variable named `aaa` -- actually, those are really **two different** variables.   "
   ]
  },
  {
   "cell_type": "code",
   "execution_count": null,
   "metadata": {
    "scrolled": true
   },
   "outputs": [],
   "source": [
    "# EXAMPLE 2b: Variable names and scope\n",
    "\n",
    "# In this program, pay attention to all the variable(s) named aaa\n",
    "\n",
    "def add10(param):\n",
    "    aaa = param + 10\n",
    "    print(\"In function: aaa =\", aaa)\n",
    "    return aaa\n",
    "    \n",
    "aaa = 5   \n",
    "print(\"Before function call: aaa =\", aaa)\n",
    "value_of_fn = add10(aaa)\n",
    "print(\"Value of function =\", value_of_fn)\n",
    "print(\"After the function call: aaa =\", aaa)\n"
   ]
  },
  {
   "cell_type": "markdown",
   "metadata": {},
   "source": [
    "So, what happened here?  The answer is that \n",
    "\n",
    "**variables that are assigned to in functions are called *local variables*, and they only exist within each function call. If two variables reside in different functions, Python treats them differently, *even if have they have the same name*. **\n",
    "\n",
    "The *scope* of a variable is the set of locations where it is accessible.  A variable that is initialized outside of a function is called a *global* variable: its scope is every statement encountered after it has first been assigned, except within functions where a local variable of the same name exists.  On the other hand, the scope of a variable defined in a function will be only the statements encountered within the function after it is first assigned.\n",
    "\n",
    "In this example, first (global)`aaa` is assigned the value 5, on line 10.  Then, on line 12, there is a function call, which passes the value 5 to the function `add10()`.\n",
    "\n",
    "At this point, two local variables are created.  One is called `param`: this is the formal parameter, which gets the value 5.  The other is called (local)`aaa`: it is a **completely different variable**, which gets the value 15.  That value is printed, and then returned to the function caller -- so `value_of_fn` gets the value 15.  \n",
    "\n",
    "Finally, since we are back outside of the function, any further reference to `aaa` will mean the original, global `aaa`.  This hasn't had a change of value, and so it still retains the value 5."
   ]
  },
  {
   "cell_type": "code",
   "execution_count": null,
   "metadata": {},
   "outputs": [],
   "source": [
    "# EXAMPLE 2c: More scope\n",
    "# Uncomment the prints when you know what they will do.\n",
    "\n",
    "def f(x):\n",
    "    x = x + 4\n",
    "    y = 100\n",
    "    #print(x, y)\n",
    "    return x + y\n",
    "    \n",
    "x = 2.1\n",
    "y = 3.4\n",
    "x = f(y)\n",
    "#print(x, y)"
   ]
  },
  {
   "cell_type": "markdown",
   "metadata": {},
   "source": [
    "<br><br><br><br><br><br><br><br><br><br>\n",
    "\n",
    "Why is this desirable behavior for Python to have? \n",
    "\n",
    "When you write a function, you usually try to write it and test it once, even though you may not have in mind every single situation in which your function will be used.  You might use the same function in several programs, all of which have different variables with different names.  \n",
    "\n",
    "What if some program accidentally uses the same variable names as you use when you write your function?  With scoping, that's **no problem at all**!  Even if a user of your function (a *client program*) happens to choose the same name for one of their variables as your function uses, Python will be smart enough to treat them as separate variables."
   ]
  },
  {
   "cell_type": "code",
   "execution_count": null,
   "metadata": {},
   "outputs": [],
   "source": [
    "# EXAMPLE 2d: Lowest terms\n",
    "\n",
    "def gcd(m, n):\n",
    "    \"\"\"Return the gcd of integers m and n.\"\"\"\n",
    "    m = abs(m)\n",
    "    n = abs(n)\n",
    "    while n != 0:\n",
    "        temp = n\n",
    "        n = m % n\n",
    "        m = temp\n",
    "    return m\n",
    "    \n",
    "    \n",
    "# Notice the use of the variable n here.  In this part of the program, n stands for numerator; \n",
    "# in the function, there is a variable named n also, but it is completely different!\n",
    "n = int(input(\"Enter numerator: \"))\n",
    "d = int(input(\"Enter denominator: \"))\n",
    "\n",
    "print(\"In lowest terms: \", end = \"\")\n",
    "\n",
    "# In fact, we're plugging n in for m, and d in for n!  It's a really good thing that the function doesn't confuse\n",
    "# the n we see here with its second argument.\n",
    "common = gcd(n, d)\n",
    "\n",
    "new_n = n // common\n",
    "new_d = d // common\n",
    "print(\"{0}/{1}\".format(new_n, new_d))"
   ]
  },
  {
   "cell_type": "markdown",
   "metadata": {},
   "source": [
    "\n",
    "<br><br><br><br><br><br><br><br><br><br>\n",
    "\n",
    "In fact, because of the benefits of scoping in restricting access to variables, as well as to highlight the primary segment of code which is calling other functions for help (and other reasons too), it is common to create a `main()` function in a program.  We will do this from time to time from now on, when we utilize a lot of functions. "
   ]
  },
  {
   "cell_type": "code",
   "execution_count": null,
   "metadata": {},
   "outputs": [],
   "source": [
    "# EXAMPLE 2e: Lowest terms, with a main() function\n",
    "\n",
    "def gcd(m, n):\n",
    "    \"\"\"Return the gcd of integers m and n.\"\"\"\n",
    "    m = abs(m)\n",
    "    n = abs(n)\n",
    "    while n != 0:\n",
    "        temp = n\n",
    "        n = m % n\n",
    "        m = temp\n",
    "    return m\n",
    "\n",
    "# We'll put out code inside a main() function.\n",
    "def main():\n",
    "    n = int(input(\"Enter numerator: \"))\n",
    "    d = int(input(\"Enter denominator: \"))\n",
    "\n",
    "    print(\"In lowest terms: \", end = \"\")\n",
    "    common = gcd(n, d)\n",
    "\n",
    "    new_n = n // common\n",
    "    new_d = d // common\n",
    "    print(\"{0}/{1}\".format(new_n, new_d))\n",
    "    \n",
    "# Of course, if you put your primary code inside a main() function, you need to call it,\n",
    "# or else nothing will run!\n",
    "\n",
    "main() # This will run the main() function, which will call gcd()"
   ]
  },
  {
   "cell_type": "markdown",
   "metadata": {},
   "source": [
    "\n",
    "<br><br><br><br><br><br><br><br><br><br>\n",
    "\n",
    "\n",
    "# 3. The \"Downside\" of Scoping\n",
    "\n",
    "Scoping does have one downside: a function can't refer to variables that are defined outside of itself. (Technically, you can use global variables if they are *only* read, and *never* assigned values in the function -- but even then, it is strongly frowned upon.) Therefore, if your function needs to know the value of some variable, you **ought to pass that as a parameter**.  \n",
    "\n",
    "Here's an example of bad code.  I have a account, which starts with principal P.  Every now and then, I want to add some interest.  I do this by supplying a value of r and and a value of t, using the formula $A = Pe^{rt}$ (or really, $\\mbox{New value} = (\\mbox{Old value})e^{rt}$).  I write a function to do this ... sort of."
   ]
  },
  {
   "cell_type": "code",
   "execution_count": null,
   "metadata": {},
   "outputs": [],
   "source": [
    "# EXAMPLE 3a: Compound interest\n",
    "\n",
    "val = float(input(\"Enter principal: \"))\n",
    "\n",
    "# This function is supposed to compute the accumulated value of an investment earning compound interest.\n",
    "# How can we change it to make it a work?\n",
    "def accumulate_value():\n",
    "    val = val*math.exp(r*t)\n",
    "\n",
    "\n",
    "r = float(input(\"Enter annual interest rate as a decimal: \"))\n",
    "t = float(input(\"Enter time period in years: \"))\n",
    "\n",
    "accumulate_value() # Update P...??\n",
    "\n",
    "r = float(input(\"Enter annual interest rate as a decimal: \"))\n",
    "t = float(input(\"Enter time period in years: \"))\n",
    "\n",
    "accumulate_value() # Update P...??\n",
    "\n",
    "print(val)"
   ]
  },
  {
   "cell_type": "markdown",
   "metadata": {},
   "source": [
    "To get this function to work, we need to have val, r and t be *inputs*, and the new accumulated value to be *returned* and then *assigned to val*."
   ]
  },
  {
   "cell_type": "markdown",
   "metadata": {},
   "source": [
    "\n",
    "<br><br><br><br><br><br><br><br><br><br>\n",
    "\n",
    "# 4.  Lists (and other Mutables) as Arguments\n",
    "\n",
    "So far, we have passed numbers and strings to functions; they happen to be **immutable** data types (more precisely said, objects with these data types are immutable).  However, if you pass a function an object whose data type is **mutable**, then you might be able to notice changes Python makes to the input."
   ]
  },
  {
   "cell_type": "code",
   "execution_count": null,
   "metadata": {},
   "outputs": [],
   "source": [
    "# EXAMPLE 1a: A function that has SIDE EFFECTS.\n",
    "\n",
    "def add_one(x, y):\n",
    "    \"\"\"\n",
    "    The first parameter is a number; the second is a list. \n",
    "    This function will 'change' both, but one of the changes you'll notice afterwards.\n",
    "    \"\"\"\n",
    "    x = x + 1\n",
    "    y[0] += 1\n",
    "    \n",
    "number = 5\n",
    "num_list = [3,7,12]\n",
    "\n",
    "add_one(number, num_list)\n",
    "# The function has a SIDE EFFECT: it affects the value of the SECOND input, \n",
    "# even though no further assignment has taken place outside of the function.\n",
    "print(number, num_list)"
   ]
  },
  {
   "cell_type": "markdown",
   "metadata": {},
   "source": [
    "\n",
    "<br><br><br><br><br><br><br><br><br><br>\n",
    "\n",
    "A **side effect** of a function is a change to an actual parameter that occurs only due to assignments in the function.\n",
    "You won't ever notice them with immutable inputs, but they can occur when you *perform **mutations** to mutable inputs.*\n",
    "\n",
    "The main mutable data types we've dealt with are lists and file objects.  With these objects, you can perform modifications.  For instance, suppose that `x = [3, 7, 12]`.  If I were then to write\n",
    "\n",
    "`x[0] = 1` or `x.append(5)`,\n",
    "\n",
    "the object that `x` was associated with would change.  On the other hand, if I were to write\n",
    "\n",
    "`x = [1,2,3]`,\n",
    "\n",
    "Python would create an entirely new list object, and assign that object to the variable `x`.\n",
    "\n",
    "This matters because \"modifications cause side effects, whereas assignments don't.\"  I'll get to the whole truth in a moment, but let's see if we get this.\n"
   ]
  },
  {
   "cell_type": "code",
   "execution_count": null,
   "metadata": {},
   "outputs": [],
   "source": [
    "# EXAMPLE 4b: What side effects will take place from this function?\n",
    "\n",
    "def fn(a, b):\n",
    "    a[0] = \"Hello\"\n",
    "    del a[1]\n",
    "    a = [\"Apple\", \"Banana\", \"Cantaloupe\"]\n",
    "    a[0] = \"Goodbye\"\n",
    "    \n",
    "    b = b + 1\n",
    "    b = 5\n",
    "    \n",
    "    \n",
    "first_in = [\"Word\", \"Another\", \"Thirdword\"]\n",
    "second_in = 4\n",
    "\n",
    "# Now apply the function.  What side effects occur?\n",
    "fn(first_in, second_in)\n",
    "\n",
    "# Print first_in and second_in when you have an idea.\n"
   ]
  },
  {
   "cell_type": "markdown",
   "metadata": {},
   "source": [
    "\n",
    "<br><br><br><br><br><br><br><br><br><br>\n",
    "\n",
    "So, what is truly going on?  Remember that variables are references to objects.  When you call a function, the formal parameters become references to the same objects that are passed to them.\n",
    "\n",
    "For example, consider the code"
   ]
  },
  {
   "cell_type": "code",
   "execution_count": null,
   "metadata": {},
   "outputs": [],
   "source": [
    "# EXAMPLE 4c: A small example illustrating pass by object reference\n",
    "\n",
    "def my_function(x):\n",
    "    x[0] = 1\n",
    "    x = [2, 3]\n",
    "############################    \n",
    "a = [5, 6]\n",
    "my_function(a)\n",
    "print(a)"
   ]
  },
  {
   "cell_type": "markdown",
   "metadata": {},
   "source": [
    "The line `a = [5, 6]` will create a `list` object with two entries, which `a` will point to.  \n",
    "\n",
    "![NOT FOUND!!!!!!!!](fn_scope1.jpg)\n",
    "\n",
    "The second line will call `my_function` with `a` as input; the local variable `x` will then be assigned to be a reference to the same `list` object.  \n",
    "\n",
    "![NOT FOUND!!!!!!!!](fn_scope2.jpg)\n",
    "\n",
    "The line `x[0] = 1`, as a modification line, will work directly with the `list` object.\n",
    "\n",
    "![NOT FOUND!!!!!!!!](fn_scope3.jpg)\n",
    "\n",
    "However, the line `x = [2, 3]` creates an entirely new list, and assigns `x` to refer to that.  Therefore, this has no effect on the value that `a` points to; and any further changes to `x` will similarly have no effect on the original `a` list.\n",
    "\n",
    "![NOT FOUND!!!!!!!!](fn_scope4.jpg)\n",
    "\n",
    "Note that if the inputs are immutable, the same pictures describe what is happening during function execution -- however, the lack of mutation operations means that there is no behavior subtle enough to require these pictures to explain what is happening.\n",
    "\n",
    "\n",
    "<br><br><br><br><br><br><br><br><br><br>\n",
    "\n",
    "Side effects, of course, can be useful! For example: here's a function which inserts an element into a sorted list, in order.  It returns **nothing**, but it mutates its input in a useful way -- and those changes survive after the function is finished executing."
   ]
  },
  {
   "cell_type": "code",
   "execution_count": null,
   "metadata": {},
   "outputs": [],
   "source": [
    "# EXAMPLE 4d: Insert in order\n",
    "\n",
    "def insert_in_order(s_list, value):\n",
    "    \"\"\"\n",
    "    Accept a sorted list (in increasing order), and a value to insert.  Insert the value into the list,\n",
    "    in the right position so that the list remains sorted.\n",
    "    \"\"\"\n",
    "    \n",
    "    for i in range(len(s_list)):\n",
    "        # Insert the value at the FIRST position where\n",
    "        # it is less than the value\n",
    "        if value < s_list[i]:\n",
    "            s_list.insert(i, value)\n",
    "            break\n",
    "        # If the value is not less than ANY of the elements\n",
    "        # in the list: it should be placed at the end!\n",
    "        if i == len(s_list) - 1:\n",
    "            s_list.append(value)\n",
    "    \n",
    "################\n",
    "\n",
    "\n",
    "x = [20, 40, 60, 80]\n",
    "insert_in_order(x, 55) # Notice how there is no return value.  This function's \"output\" isn't a new value; it's \n",
    "                       # the action, of mutating x\n",
    "print(x)\n",
    "insert_in_order(x, 15)\n",
    "print(x)\n",
    "insert_in_order(x, 90)\n",
    "print(x)"
   ]
  }
 ],
 "metadata": {
  "kernelspec": {
   "display_name": "Python 3",
   "language": "python",
   "name": "python3"
  },
  "language_info": {
   "codemirror_mode": {
    "name": "ipython",
    "version": 3
   },
   "file_extension": ".py",
   "mimetype": "text/x-python",
   "name": "python",
   "nbconvert_exporter": "python",
   "pygments_lexer": "ipython3",
   "version": "3.7.1"
  },
  "name": "_merged_merged"
 },
 "nbformat": 4,
 "nbformat_minor": 2
}
