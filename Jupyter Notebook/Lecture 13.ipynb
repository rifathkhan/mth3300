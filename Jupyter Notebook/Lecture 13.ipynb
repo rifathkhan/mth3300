{
 "cells": [
  {
   "cell_type": "markdown",
   "metadata": {},
   "source": [
    "# Lecture 13\n",
    "\n",
    "###   Flag-Controlled Loops; File Objects; More on Reading Files; File Validation; Thing Explaining"
   ]
  },
  {
   "cell_type": "markdown",
   "metadata": {},
   "source": [
    "# 1. Flag-Controlled Loops\n",
    "\n",
    "Recall that a *flag* is a fancy name for a `True`-`False` (or \"yes-no\") variable.  Sometimes, the easiest way to control a loop is using a flag, something like:\n",
    "\n",
    "`while keep_going == True:`\n",
    "\n",
    "where `keep_going` is a `bool` variable.  This variable will start out as `True`, but perhaps somewhere along the way something will happen that signals that the program should stop repeating -- at that moment, `keep_going` will be reset to be `False`.  \n",
    "\n",
    "(BTW: instead of writing `while keep_going == True:`, you could just write\n",
    "\n",
    "`while keep_going:`\n",
    "\n",
    "because `keep_going == True` is just going to be evaluated, producing the same value as `keep_going` itself.)\n",
    "\n",
    "<br><br><br><br><br><br><br><br><br><br>\n",
    "\n",
    "\n",
    "Here's an example: a famous guessing game.\n"
   ]
  },
  {
   "cell_type": "code",
   "execution_count": null,
   "metadata": {},
   "outputs": [],
   "source": [
    "# EXAMPLE 1a: Guess the number\n",
    "# This is an example of log base 2 of n\n",
    "\n",
    "import random\n",
    "\n",
    "# Choose the random number\n",
    "secret_number = random.randrange(1,101)\n",
    "\n",
    "# This holds the answer to the question \"Should we keep guessing?\"\n",
    "# In the beginning, we certainly should\n",
    "keep_guessing = True\n",
    "\n",
    "print(\"I'm thinking of a number between 1 and 100! Can you guess it?\")\n",
    "\n",
    "while keep_guessing:\n",
    "    guess = int(input(\"Enter a guess: \"))\n",
    "    if guess > secret_number:\n",
    "        print(\"Too high!\")\n",
    "    elif guess < secret_number:\n",
    "        print(\"Too low!\")\n",
    "    else:\n",
    "        # Must be equal! Now is the time for the program to stop.\n",
    "        print(\"You got it!\")\n",
    "        keep_guessing = False"
   ]
  },
  {
   "cell_type": "markdown",
   "metadata": {},
   "source": [
    "\n",
    "<br><br><br><br><br><br><br><br><br><br>\n",
    "\n",
    "# 2. File Objects\n",
    "\n",
    "Entering in data and storing program output by hand can be tedious, especially if there is a lot of it.  Fortunately, Python provides a way to directly read from and write to files. I'm talking about the files you know and love: Word files, Excel files, PDFs, MP3s, JPEGs, web documents, etc. Most of the types of files I just mentioned are a little difficult to read directly, since in addition to whatever text you see directly, there is also formatting data you don't see.  That's why we'll mostly use plain text files, which end with the extension .txt: for those files, what you see is mostly the same as the actual raw content of the file.  (You can open and edit these with Notepad in Windows; \n",
    "and with TextEdit on Macs -- you may need to go to the Format menu and select \"Make Plain Text\".)\n",
    "\n",
    "Let's start with writing.\n"
   ]
  },
  {
   "cell_type": "code",
   "execution_count": null,
   "metadata": {
    "collapsed": true
   },
   "outputs": [],
   "source": [
    "BASICS OF FILE OBJECTS SYNTAX (WRITING)\n",
    "\n",
    "OPEN A FILE FOR WRITING:\n",
    "\n",
    "<fileobj var> = open(\"{actual file name}\", \"w\")\n",
    "\n",
    "CLOSE A FILE:\n",
    "\n",
    "<fileobj var>.close()\n",
    "\n",
    "WRITE A STRING INTO A (WRITING) FILE:\n",
    "    \n",
    "<fileobj var>.write(<SINGLE string var>)    "
   ]
  },
  {
   "cell_type": "markdown",
   "metadata": {},
   "source": [
    "A file object is a variable which is associated to a file.  When you `open()` a file in writing mode (`\"w\"`), you will be writing over its contents, so be careful! (If no file exists with the given name, one will be created.) Also, you need the full name of the file you want to write to -- and, at least for now, you should probably put your file in the same folder as your Python script.\n",
    "\n",
    "When you `.write()` a string to a file object, that string will be inserted into the file.  You can write several strings to a file; they will be placed in the file one after another, without spaces in between. \n",
    "\n",
    "\n",
    "<br><br><br><br><br><br><br><br><br><br>\n",
    "\n",
    "Let's write \n",
    "\n",
    "`1 Alice`\n",
    "\n",
    "`2 Bob`\n",
    "\n",
    "`3 Charlie`\n",
    "\n",
    "...\n",
    "\n",
    "`10 Jake`\n",
    "\n",
    "into a file named `newfile.txt`.\n"
   ]
  },
  {
   "cell_type": "code",
   "execution_count": 10,
   "metadata": {},
   "outputs": [],
   "source": [
    "# EXAMPLE 2a: Basics of files\n",
    "\n",
    "names = [\"Alice\", \"Bob\", \"Charlie\", \"David\", \"Eve\", \"Frank\", \"George\", \"Howard\", \"Irene\", \"Jake\"]\n",
    "\n",
    "# Create a file object, associated to newfile.txt, opened in writing mode.\n",
    "word_file = open(\"newfile.txt\", \"w\")\n",
    "\n",
    "# Let's write to it.\n",
    "\n",
    "for i in range(len(names)):\n",
    "    word_file.write(\"{0} {1} \\n\".format(str(i+1),names[i])) #Format creates a single string literal using the ones given.\n",
    "    i += 1\n",
    "    \n",
    "    \n",
    "# Be sure to close any files you open!!!!!!\n",
    "word_file.close()"
   ]
  },
  {
   "cell_type": "markdown",
   "metadata": {},
   "source": [
    "\n",
    "<br><br><br><br><br><br><br><br><br><br>\n",
    "\n",
    "You can also read from files using file objects.  "
   ]
  },
  {
   "cell_type": "code",
   "execution_count": null,
   "metadata": {
    "collapsed": true
   },
   "outputs": [],
   "source": [
    "BASICS OF FILE OBJECTS SYNTAX (READING)\n",
    "\n",
    "OPEN A FILE FOR READING:\n",
    "\n",
    "<fileobj var> = open(\"<actual file name>\", \"r\")\n",
    "\n",
    "CLOSE A FILE:\n",
    "\n",
    "<fileobj var>.close()\n",
    "\n",
    "READ n CHARACTERS FROM A FILE:\n",
    "    \n",
    "<string var> = <fileobj>.read(<n>)\n",
    "\n",
    "READ ALL CHARACTERS FROM A FILE:\n",
    "    \n",
    "<string var> = <fileobj>.read()"
   ]
  },
  {
   "cell_type": "markdown",
   "metadata": {},
   "source": [
    "File objects opened in reading mode (`\"r\"`) are actually rather more complicated. First, they should always be associated with a file that actually already exists.\n",
    "\n",
    "\n",
    "<br><br><br><br><br><br><br><br><br><br>\n",
    "\n",
    "A file object opened in reading mode should be thought of kind of like a pitcher.  In the beginning, the file object is filled with the entire contents of the file, in order.  Then, when you call functions that `.read()` from the file object, this \"pours out\" the contents (usually into some variable), starting from the beginning of the file.  Then, subsequent `.read()`s will continue with the first character that hasn't already been poured out.\n",
    "\n"
   ]
  },
  {
   "cell_type": "code",
   "execution_count": 1,
   "metadata": {},
   "outputs": [
    {
     "name": "stdout",
     "output_type": "stream",
     "text": [
      "abc de\n",
      "hi\n",
      "Here comes the entire rest of the file: \n",
      " jkl\n",
      "mno pqr\n",
      "stu vwx\n",
      "yz\n"
     ]
    }
   ],
   "source": [
    "# EXAMPLE 2b: Basics of .read()\n",
    "\n",
    "# Create a file object, associated to evans_file.txt, opened in reading mode.\n",
    "my_file = open(\"evans_file.txt\", \"r\")\n",
    "\n",
    "# Let's read 5 characters, then skip 3 characters, then read 2 more.\n",
    "string_var = my_file.read(6)\n",
    "print(string_var)\n",
    "my_file.read(3) # This pours out 3 characters -- but doesn't print or store them. So it basically skips them.\n",
    "\n",
    "print(my_file.read(2))\n",
    "# Notice that the newline counts as a character!\n",
    "\n",
    "print(\"Here comes the entire rest of the file: \")\n",
    "print(my_file.read()) # This pours everything left out of the file all at once.\n",
    "\n",
    "my_file.close()"
   ]
  },
  {
   "cell_type": "markdown",
   "metadata": {},
   "source": [
    "\n",
    "<br><br><br><br><br><br><br><br><br><br>\n",
    "\n",
    "# 3. More on Reading Files\n",
    "\n",
    "Reading a file can be a bit tricky, because it is frequently necessary for the programmer to take apart the contents.  The three most common ways to read a file are\n",
    "\n",
    "* word-by-word\n",
    "* line-by-line\n",
    "* and character-by-character.\n",
    "\n",
    "For example, suppose you want to do a word count of a file.  How can you accomplish that?"
   ]
  },
  {
   "cell_type": "code",
   "execution_count": 14,
   "metadata": {},
   "outputs": [
    {
     "name": "stdout",
     "output_type": "stream",
     "text": [
      "The number of words in the file is: \n",
      "10\n",
      "10\n"
     ]
    }
   ],
   "source": [
    "# EXAMPLE 3a: Word Count \n",
    "\n",
    "file = open(\"report.txt\", \"r\")\n",
    "\n",
    "print(\"The number of words in the file is: \")\n",
    "\n",
    "# This creates a string containing the whole file\n",
    "whole_file = file.read()\n",
    "# This turns it into a list of individual words\n",
    "word_list = whole_file.split()\n",
    "# And so this prints the word count:\n",
    "print(len(word_list))\n",
    "file.close()\n",
    "\n",
    "# OR: you could combine all of that into one line.\n",
    "file = open(\"report.txt\", \"r\")\n",
    "print( len(file.read().split()) )\n",
    "file.close()"
   ]
  },
  {
   "cell_type": "markdown",
   "metadata": {},
   "source": [
    "\n",
    "<br><br><br><br><br><br><br><br><br><br>\n",
    "\n",
    "So that's how you can write a file word-by-word.  But what if you want to read a file character-by-character, or line-by-line?  \n"
   ]
  },
  {
   "cell_type": "code",
   "execution_count": null,
   "metadata": {
    "collapsed": true
   },
   "outputs": [],
   "source": [
    "READ A SINGLE LINE FROM A FILE:\n",
    "    \n",
    "<string> = <fileobj>.readline()\n",
    "    \n",
    "READ EVERY LINE FROM A FILE:\n",
    "    \n",
    "for <line> in <fileobj>:\n",
    "    <process line>\n",
    "    \n",
    "READ EVERY CHARACTER FROM A FILE:\n",
    "    \n",
    "while True:\n",
    "    <string> = <fileobj>.read(1)\n",
    "    if not <string>:\n",
    "        break\n",
    "    <use string>"
   ]
  },
  {
   "cell_type": "markdown",
   "metadata": {},
   "source": [
    "The first of the above reads the first unread entire line in `<fileobj>`, and dumps the entire line in `<string>`.  Then, subsequent reading from the file will continue on the next line.  The second bit of code will pull every line out of `<fileobj>` one at a time, storing each line into `<line>`, until the end of the file is reached.\n",
    "\n",
    "\n",
    "<br><br><br><br><br><br><br><br><br><br>\n",
    "\n",
    "For example, look at the file `table.txt`.  It contains a heading line, followed by 9 lines, each containing several entries, separated by spaces: a name, a vertical line, and then some scores.  What if we wanted to add up all the entries from each line? \n",
    "\n",
    "If you swallow the whole file as one string, it is hard to identify where each line begins or ends. Instead, it is easier if you could just read in one line, find what you need from that line, and then continue on to the next line.  And indeed you can do that!"
   ]
  },
  {
   "cell_type": "code",
   "execution_count": 36,
   "metadata": {},
   "outputs": [
    {
     "name": "stdout",
     "output_type": "stream",
     "text": [
      "Alice : 248 \n",
      "Bob : 396 \n",
      "Carol : 753 \n",
      "David : 965 \n",
      "Edward : 1343\n",
      "Frances : 1422\n",
      "George : 1618\n",
      "Harold : 1831\n",
      "Iris : 2038\n"
     ]
    }
   ],
   "source": [
    "# EXAMPLE 3b: Sum The Scores \n",
    "\n",
    "file = open(\"table.txt\", \"r\")\n",
    "\n",
    "# First, clear out the heading line.  Notice how we don't write the line to a variable.\n",
    "file.readline()\n",
    "runsum = 0\n",
    "\n",
    "# Now, read each subsequent line, and process it\n",
    "for line in file:\n",
    "    values = line.split()\n",
    "    numbers = values[2:]\n",
    "    for i in range(len(numbers)):\n",
    "        runsum += int(numbers[i])\n",
    "    print(\"{0:} : {1:^4}\".format(values[0],runsum))\n",
    "file.close()"
   ]
  },
  {
   "cell_type": "markdown",
   "metadata": {},
   "source": [
    "\n",
    "<br><br><br><br><br><br><br><br><br><br>\n",
    "\n",
    "Other times, reading line-by-line or word-by-word is too coarse.  In those cases, you can read character-by-character:"
   ]
  },
  {
   "cell_type": "code",
   "execution_count": null,
   "metadata": {
    "collapsed": true
   },
   "outputs": [],
   "source": [
    "READ EVERY CHARACTER FROM A FILE:\n",
    "    \n",
    "while True:\n",
    "    <string> = <fileobj>.read(1)\n",
    "    if not <string>:\n",
    "        break\n",
    "    <use string>\n"
   ]
  },
  {
   "cell_type": "markdown",
   "metadata": {},
   "source": [
    "Some words on what's going on in that loop. First, `while True:` means an infinite loop -- of course, it won't actually run forever, because eventually we will hit a `break`. \n",
    "\n",
    "Each pass through attempts to pull one character out of the file, and stores it into `<string>`.  However, eventually we will hit the end of the file, where `<string> =  <fileobj>.read(1)` won't be successful.  That's what `if not <string>` is for -- the `break` will execute if and only if there is failure to read from the file.\n",
    "\n",
    "(Technically, what's going on is an *implicit type conversion*.  When Python sees `if not char`, it expects `char` to be a `bool` variable.  So it converts it to a `bool` -- if `char` has been supplied with a non-empty string, it produce the value `True`, and otherwise produces the value `False`.)\n",
    "\n",
    "For example, consider the following program, which will read a file until the end, letter by letter, until it hits the letter `x`."
   ]
  },
  {
   "cell_type": "code",
   "execution_count": null,
   "metadata": {},
   "outputs": [],
   "source": [
    "# EXAMPLE 3c: Read until \"x\"\n",
    "\n",
    "filename = input(\"Enter file name: \")\n",
    "\n",
    "file = open(filename, \"r\")\n",
    "\n",
    "while True:\n",
    "    char = file.read(1) #reads a single character\n",
    "    if not char: \n",
    "    # In other words, if the read failed -- which means we're at the end!\n",
    "        print(\"No x's!\")\n",
    "        break\n",
    "    if char == \"x\":\n",
    "    # This is the stop character -- if we see this, the program should stop\n",
    "        print(\"Found an x!\")\n",
    "        break\n",
    "\n",
    "file.close()"
   ]
  },
  {
   "cell_type": "markdown",
   "metadata": {},
   "source": [
    "\n",
    "<br><br><br><br><br><br><br><br><br><br>\n",
    "\n",
    "# 4. File Validation\n",
    "\n",
    "While we're talking about this: how do you make your program behave gracefully when it tries to read a file it can't find?  \n",
    "\n",
    "We've seen *exceptions* before: when we have code that is susceptible to errors, we encase it in a try block, and if an exception (i.e., an error) is encountered, the program will rewind, and instead execute the except block."
   ]
  },
  {
   "cell_type": "code",
   "execution_count": 40,
   "metadata": {},
   "outputs": [
    {
     "name": "stdout",
     "output_type": "stream",
     "text": [
      "Enter file name: evansfile\n",
      "No file by that name here! I'm not going to ask again because I'm lazy.\n",
      "All good!\n"
     ]
    }
   ],
   "source": [
    "# EXAMPLE 4a: Files and exceptions\n",
    "filename = input(\"Enter file name: \")\n",
    "\n",
    "# Remember exceptions?  The file opening line is prone to errors, because files may not be found.  So we try it,\n",
    "# and provide an alternative behavior if an error does indeed occur.\n",
    "try:\n",
    "    file = open(filename, \"r\")\n",
    "    print(file.read())\n",
    "    file.close()\n",
    "except FileNotFoundError:\n",
    "    print(\"No file by that name here! I'm not going to ask again because I'm lazy.\")\n",
    "    \n",
    "print(\"All good!\")"
   ]
  },
  {
   "cell_type": "markdown",
   "metadata": {},
   "source": [
    "\n",
    "<br><br><br><br><br><br><br><br><br><br>\n",
    "\n",
    "# 5. Thing Explaining\n",
    "\n",
    "\n",
    "\n",
    "it is hard to explain a thing when you only use the ten hundred words that people use the most\n",
    "\n",
    "i am trying to do it right now\n",
    "\n",
    "but i am not sure if i am doing it right\n",
    "\n",
    "i would like a computer to help me check if i am doing it right\n",
    "\n",
    "\n"
   ]
  },
  {
   "cell_type": "code",
   "execution_count": null,
   "metadata": {
    "collapsed": true
   },
   "outputs": [],
   "source": [
    "PSEUDOCODE:\n",
    "\n",
    "# First, it would be a good idea to read the dictionary file's words into a list\n",
    "dictionary = open(\"smallwords.txt\", \"r\")\n",
    "dic_list = dictionary.read().split()\n",
    "\n",
    "text = # I'll put a long string variable here\n",
    "text_list = text.split()\n",
    "\n",
    "\n",
    "for each word in text_list:\n",
    "    figure out if that word is in the dic_list\n",
    "    if it is not:\n",
    "        print out the word\n",
    "        break\n",
    "\n",
    "if every word in the text is in the dictionary:\n",
    "    print \"every word is good\""
   ]
  },
  {
   "cell_type": "markdown",
   "metadata": {},
   "source": [
    "\n",
    "<br><br><br><br><br><br><br><br><br><br>\n",
    "\n",
    "Ok, time for some real code."
   ]
  },
  {
   "cell_type": "code",
   "execution_count": 46,
   "metadata": {},
   "outputs": [
    {
     "name": "stdout",
     "output_type": "stream",
     "text": [
      "\"words\" is not in the dictionary!!\n",
      "\"i\" is not in the dictionary!!\n",
      "\"trying\" is not in the dictionary!!\n",
      "\"i\" is not in the dictionary!!\n",
      "\"i\" is not in the dictionary!!\n",
      "\"doing\" is not in the dictionary!!\n",
      "\"i\" is not in the dictionary!!\n",
      "\"i\" is not in the dictionary!!\n",
      "\"doing\" is not in the dictionary!!\n"
     ]
    }
   ],
   "source": [
    "# EXAMPLE 5a: Ten Hundred Most Common Words\n",
    "\n",
    "# First, it would be a good idea to read the dictionary file's words into a list\n",
    "my_dictionary = open(\"smallwords.txt\", \"r\")\n",
    "dic_list = my_dictionary.read().split()\n",
    "my_dictionary.close()\n",
    "\n",
    "# The text!\n",
    "text = \"\"\"it is hard to explain a thing when you only use the ten hundred words that people use the most\n",
    "i am trying to do it right now\n",
    "but i am not sure if i am doing it right\n",
    "i would like a computer to help me check if i am doing it right\"\"\"\n",
    "text_list = text.split()\n",
    "\n",
    "# This variable will contain the answer to the question: \n",
    "# \"out of the words in the text so far, is every one in the dictionary?\"\n",
    "all_good = True\n",
    "\n",
    "# Go through every word in the text\n",
    "for text_word in text_list:\n",
    "    found_yet = False # Have we found text_word in the dictionary yet?\n",
    "    \n",
    "    # For each word in the dic_list, and compare it to text_word.\n",
    "    # If they are the same, found_yet = True, stop searching through the dic_list.\n",
    "    for dic_word in dic_list:\n",
    "        if text_word == dic_word:\n",
    "            found_yet = True\n",
    "            #text_list.pop(text_list.index(text_word))\n",
    "            break\n",
    "            \n",
    "    if not found_yet:\n",
    "        # If you never found text_word in the dictionary, that's a problem! So:\n",
    "        all_good = False\n",
    "        print(\"\\\"\" + text_word + \"\\\" is not in the dictionary!!\")\n",
    "        \n",
    "        \n",
    "# Finally, if all_good still is true, that means that our text has every word in the dictionary.\n",
    "if all_good:\n",
    "    print(\"Every word was in the dictionary.\")"
   ]
  },
  {
   "cell_type": "code",
   "execution_count": null,
   "metadata": {},
   "outputs": [],
   "source": []
  }
 ],
 "metadata": {
  "kernelspec": {
   "display_name": "Python 3",
   "language": "python",
   "name": "python3"
  },
  "language_info": {
   "codemirror_mode": {
    "name": "ipython",
    "version": 3
   },
   "file_extension": ".py",
   "mimetype": "text/x-python",
   "name": "python",
   "nbconvert_exporter": "python",
   "pygments_lexer": "ipython3",
   "version": "3.7.1"
  },
  "name": "_merged_merged"
 },
 "nbformat": 4,
 "nbformat_minor": 2
}
