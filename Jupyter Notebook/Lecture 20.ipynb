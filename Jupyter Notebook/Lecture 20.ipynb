{
 "cells": [
  {
   "cell_type": "markdown",
   "metadata": {},
   "source": [
    "# Lecture 20\n",
    "\n",
    "#### Methods; Overloading Operators; Complex Numbers; Default Arguments; Copying Objects"
   ]
  },
  {
   "cell_type": "markdown",
   "metadata": {},
   "source": [
    "# 1. Methods\n",
    "\n",
    "Classes aren't just ways of representing groups of data; they are operations on that data too!\n",
    "Now, we'll start adding the operations to our classes: they are called *methods* (or *member functions*).\n",
    "\n",
    "As I've mentioned about 15 times, methods are functions that you do *to a particular object*. The two main types of things that you may do are accessing (\"reading\") the data of an object, and mutating (changing) that data.\n",
    "\n",
    "To write a method, here is the basic syntax."
   ]
  },
  {
   "cell_type": "code",
   "execution_count": null,
   "metadata": {
    "collapsed": true
   },
   "outputs": [],
   "source": [
    "CLASS METHOD DEFINITION SYNTAX:\n",
    "    \n",
    "class <Class Name>:\n",
    "    \n",
    "    # There's probably an __init__ function here.  Then:\n",
    "    \n",
    "    def <method_name>(self<, outside parameters>):\n",
    "        <Do stuff with attribute variables, using self.<name of attribute>>\n",
    "        <Perhaps merely modify the attribute variables>\n",
    "        <Perhaps return an output value>\n",
    "        \n",
    "CALLING METHODS SYNTAX:\n",
    "<object name>.<method_name>(<outside arguments>) # Appropriate for methods that merely modify or print\n",
    "<x> = <object name>.<method_name>(<outside arguments>) # Appropriate for methods that return a value"
   ]
  },
  {
   "cell_type": "markdown",
   "metadata": {},
   "source": [
    "(We've actually already created one method -- the `__init__` function.  But this is a bit unusual, in that you usually don't call it explicitly, and it instead gets automatically called whenever you create an object of the given class.  So let's ignore this one.)\n",
    "\n",
    "\n",
    "<br><br><br><br><br><br><br><br><br><br>\n",
    "\n",
    "Let's go back to our `Product` class, where each `Product` has a `_name`, a `_price`, and a `_current_inventory`.\n",
    "What operations might you do with a product? How about: \n",
    "* a method which displays object information in a nice way\n",
    "* and a method which performs an inventory after making a sale. \n",
    "\n",
    "The first method is an accessor.  To display a `Product`'s info, I just need to know which `Product` I'm trying to get inventory for -- so it will have no outside parameters.\n",
    "\n",
    "The second is a mutator.  To make a sale, some of the attributes have to change!  However, for each sale, we'll need to know how many to sell -- so this method will take an outside parameter.  We'll **also** have the function *return* the total cost of the sale.\n",
    "\n",
    "Let's write these methods together."
   ]
  },
  {
   "cell_type": "code",
   "execution_count": null,
   "metadata": {},
   "outputs": [],
   "source": [
    "# EXAMPLE 1a: Methods\n",
    "\n",
    "################################\n",
    "# Some client code in main()\n",
    "def main():\n",
    "    p1 = Product(\"Toaster\", 39.99, 5000)\n",
    "    p2 = Product(\"TV\", 599.99, 100)\n",
    "\n",
    "    # This should just print \"Toasters: price = 39.99, inventory = 5000\" and \"TVs: price = 599.99, inventory = 100\"\n",
    "    p1.display()\n",
    "    p2.display()\n",
    "    # This should both update the inventory to 97, and write the total cost of the sale to total_cost\n",
    "    total_cost = p2.sell(3)\n",
    "    print(\"Total cost of sale is:\", total_cost)\n",
    "\n",
    "\n",
    "###############\n",
    "\n",
    "class Product:\n",
    "    \"\"\"\n",
    "    A class to represent products in a store.\n",
    "    Attributes: name, price, current_inventory\n",
    "    \"\"\"\n",
    "    def __init__(self, n, p, inv):\n",
    "        \"\"\"On initialization, set the product's name, price, and current inventory to be the last three inputs.\"\"\"\n",
    "        self._name = n\n",
    "        self._price = p\n",
    "        self._current_inventory = inv\n",
    "    \n",
    "    # The .display() method:\n",
    "    def display(self):\n",
    "        \"\"\"Display product information on the console\"\"\"\n",
    "        print(\"{0}s: price = {1}, inventory = {2}\".format(self._name, self._price, self._current_inventory))\n",
    "     \n",
    "    # The .sell() method:\n",
    "    def sell(self, quantity):\n",
    "        \"\"\"Update inventory of product after sale.  Return the total charge for the sale. Print a warning if an attempt\n",
    "        is made to oversell the item.\n",
    "        \"\"\"\n",
    "        if quantity <= self._current_inventory:\n",
    "            self._current_inventory -= quantity\n",
    "            return quantity * self._price\n",
    "        else:\n",
    "            print(\"Error!\")\n",
    "            return 0\n",
    "        \n",
    "###############\n",
    "main()"
   ]
  },
  {
   "cell_type": "markdown",
   "metadata": {},
   "source": [
    "\n",
    "<br><br><br><br><br><br><br><br><br><br>\n",
    "\n",
    "Now, let's go back to the `Character` class.  Remember that each `Character` has `_name`, `_lives` and `_coins` attributes.  I've added a `display()` method for you.\n",
    "\n",
    "I want you to make two additional methods for this class:\n",
    "\n",
    "* a method called `die()`, which when called, lowers the number of the `Character`'s live by one.  This function should also return `True` if the `Character` still has at least 1 life, and `False` if the `Character` now has 0 lives (game over!)\n",
    "* a method called `collect_coins()`, which should take a number as (outside) argument, and add it to the number of coins. Nothing should be returned.\n",
    "\n",
    "I have put some client code at the bottom."
   ]
  },
  {
   "cell_type": "code",
   "execution_count": 4,
   "metadata": {},
   "outputs": [
    {
     "name": "stdout",
     "output_type": "stream",
     "text": [
      "Mario: 3 lives, 0 coins\n",
      "Mario: 3 lives, 100 coins\n",
      "Mario: 2 lives, 100 coins\n",
      "True\n",
      "False\n"
     ]
    }
   ],
   "source": [
    "# EXAMPLE 1b: Mario methods\n",
    "\n",
    "class Character:\n",
    "    \"\"\"\n",
    "    A class for game characters (in a Mario Bros-style game)\n",
    "    Attributes: name, lives, coins\n",
    "    \"\"\"\n",
    "    \n",
    "    def __init__(self, n):\n",
    "        \"\"\"Initialize characters with lives = 3, coints = 0\"\"\"\n",
    "        self._name = n \n",
    "        self._lives = 3\n",
    "        self._coins = 0\n",
    "        \n",
    "    def display(self):\n",
    "        \"\"\"Display character information to the console.\"\"\"\n",
    "        print(\"{0}: {1} lives, {2} coins\".format(self._name, self._lives, self._coins))\n",
    "    \n",
    "    # Let's write collect_coins() and die():\n",
    "    def collect_coins(self,amnt):\n",
    "        self._coins += amnt\n",
    "    \n",
    "    def die(self):\n",
    "        self._lives -= 1\n",
    "        if self._lives >= 1:\n",
    "            return True\n",
    "        return False\n",
    "    \n",
    "########\n",
    "# Client code: what should this do?\n",
    "def main():\n",
    "    m = Character(\"Mario\")\n",
    "    m.display()\n",
    "    m.collect_coins(100)\n",
    "    m.display()\n",
    "    m.die()\n",
    "    m.display()\n",
    "    print(m.die()) # 1 life left, should print True\n",
    "    print(m.die()) # 0 lives left, should print False now\n",
    "########    \n",
    "main()"
   ]
  },
  {
   "cell_type": "markdown",
   "metadata": {},
   "source": [
    "\n",
    "<br><br><br><br><br><br><br><br><br><br>\n",
    "\n",
    "\n",
    "Notice that in the last Mario example, the *client* code never makes reference to the attribute variables `m._name`, `m._coins`, and `m._lives`.  Instead, the creation, accessing and changing of these values for an object are done via **methods**.  \n",
    "\n",
    "This behavior is sought after when you design a class. As the designer of a class, your goal is to design an interface (that is, a set of methods) that is strong enough to capture all the things a client might want to do with objects. To put it starkly:\n",
    "\n",
    "    Code inside a class *definition* can reference attribute variables.\n",
    "    \n",
    "    *Client* code should try to NOT reference attribute variables -- it ought to only interact with ENTIRE objects, via INTERFACE METHODS.\n",
    "\n",
    "This idea is known as *encapsulation*.   So, the examples in the first section above are \"bad\", in that they violate encapsulation; the examples in the second section are \"better\", because they don't violate encapsulation.  \n",
    "\n",
    "\n",
    "Why is this so important?  Here's one way to look at it: when you drive a car, you don't manually turn the steering column, and you don't manually drip fuel into the engine -- you use simple control devices like a steering wheel or an accelerator pedal, which help you perform these actions in a safe way.  \n",
    "\n",
    "If you **build** a car, you care about the steering column and the fuel injector; and if your car **isn't working**, you might want to look at these bits.  \n",
    "\n",
    "But if you're directly manipulating the steering column and the fuel injector **_while_** you are driving, then, um, are you're sure you're driving correctly?  It sounds like you're not driving correctly.  Maybe you should pull over.  \n",
    "\n",
    "The point is that the attribute variables are frequently thought of as technical details used to represent the object.  The user isn't meant to directly look at or modify them; instead, they ought to interact with them through the interface -- that is, the methods -- which (if well-designed) are guaranteed to access or modify objects in appropriate and safe ways.\n",
    "\n",
    "In fact, the underscores in front of attribute names are a Python custom, meant to convey to other programmers who are using the class: \"hey, I am a technical detail! Don't reference me directly! If you *do* use me you'll probably screw something up, and it's your own fault then!  Be smart and use the interface instead!\"\n",
    "\n",
    "I'll show you some specific dangers of breaking encapsulation later."
   ]
  },
  {
   "cell_type": "markdown",
   "metadata": {},
   "source": [
    "\n",
    "<br><br><br><br><br><br><br><br><br><br>\n",
    "\n",
    "# 2. Special Methods and Overloading Operators\n",
    "\n",
    "There are several other special methods that are kind of like `__init__`, in that they have special names (with two leading and trailing underscores), and that they have special roles. \n",
    "\n",
    "For example: the `__str__()` method.  Remember when we tried to directly print objects?  This resulted in an adress being printed out.  This turns out to be because the Python `print()` function needs to be able to convert an object to a string before it displays that object.  When you implement the `__str__()` function, you are teaching Python how to convert an object of a given type to a `str`.\n",
    "\n",
    "This method should take no outside arguments, and return a string.  Beware: you **cannot** call this method using the usual dot notation (`x.__str__()` won't work).  However, this function will automatically be called if you ever try to use the function `str(x)` with `x` an object of the given class, or if you ever try to print an object."
   ]
  },
  {
   "cell_type": "code",
   "execution_count": 7,
   "metadata": {},
   "outputs": [
    {
     "name": "stdout",
     "output_type": "stream",
     "text": [
      "2 of Hearts\n"
     ]
    }
   ],
   "source": [
    "# EXAMPLE 2a: __str__ Function\n",
    "class Card:\n",
    "    def __init__(self, r, s):\n",
    "        self._rank = r\n",
    "        self._suit = s\n",
    "        \n",
    "    # This member function is used to convert an object to a string.\n",
    "    # Again, you canNOT call this function using dot notation.\n",
    "    def __str__(self):\n",
    "        return self._rank + \" of \" + self._suit\n",
    "###############\n",
    "def main():\n",
    "    my_card = Card(\"2\", \"Hearts\")\n",
    "    print(my_card) # This is one way to use the __str__() function --\n",
    "                   # it will get called everytime you try to print an object.    \n",
    "\n",
    "    x = str(my_card) # You also use __str__() whenever you call the \n",
    "                     # str() function on an object of the given class.\n",
    "###############\n",
    "main()"
   ]
  },
  {
   "cell_type": "markdown",
   "metadata": {},
   "source": [
    "\n",
    "\n",
    "<br><br><br><br><br><br><br><br><br><br>\n",
    "\n",
    "There are other functions that are written in roughly the same way.  For instance, if you try to write"
   ]
  },
  {
   "cell_type": "code",
   "execution_count": 8,
   "metadata": {},
   "outputs": [
    {
     "ename": "TypeError",
     "evalue": "'<' not supported between instances of 'Card' and 'Card'",
     "output_type": "error",
     "traceback": [
      "\u001b[1;31m---------------------------------------------------------------------------\u001b[0m",
      "\u001b[1;31mTypeError\u001b[0m                                 Traceback (most recent call last)",
      "\u001b[1;32m<ipython-input-8-582ce4b50a9c>\u001b[0m in \u001b[0;36m<module>\u001b[1;34m\u001b[0m\n\u001b[0;32m      1\u001b[0m \u001b[0mmy_card\u001b[0m \u001b[1;33m=\u001b[0m \u001b[0mCard\u001b[0m\u001b[1;33m(\u001b[0m\u001b[1;34m\"Ace\"\u001b[0m\u001b[1;33m,\u001b[0m \u001b[1;34m\"Hearts\"\u001b[0m\u001b[1;33m)\u001b[0m\u001b[1;33m\u001b[0m\u001b[1;33m\u001b[0m\u001b[0m\n\u001b[0;32m      2\u001b[0m \u001b[0myour_card\u001b[0m \u001b[1;33m=\u001b[0m \u001b[0mCard\u001b[0m\u001b[1;33m(\u001b[0m\u001b[1;34m\"10\"\u001b[0m\u001b[1;33m,\u001b[0m \u001b[1;34m\"Spades\"\u001b[0m\u001b[1;33m)\u001b[0m\u001b[1;33m\u001b[0m\u001b[1;33m\u001b[0m\u001b[0m\n\u001b[1;32m----> 3\u001b[1;33m \u001b[1;32mif\u001b[0m \u001b[0mmy_card\u001b[0m \u001b[1;33m<\u001b[0m \u001b[0myour_card\u001b[0m\u001b[1;33m:\u001b[0m\u001b[1;33m\u001b[0m\u001b[1;33m\u001b[0m\u001b[0m\n\u001b[0m\u001b[0;32m      4\u001b[0m     \u001b[0mprint\u001b[0m\u001b[1;33m(\u001b[0m\u001b[1;34m\"You win\"\u001b[0m\u001b[1;33m)\u001b[0m\u001b[1;33m\u001b[0m\u001b[1;33m\u001b[0m\u001b[0m\n\u001b[0;32m      5\u001b[0m \u001b[1;32melse\u001b[0m\u001b[1;33m:\u001b[0m\u001b[1;33m\u001b[0m\u001b[1;33m\u001b[0m\u001b[0m\n",
      "\u001b[1;31mTypeError\u001b[0m: '<' not supported between instances of 'Card' and 'Card'"
     ]
    }
   ],
   "source": [
    "my_card = Card(\"Ace\", \"Hearts\")\n",
    "your_card = Card(\"10\", \"Spades\")\n",
    "if my_card < your_card:\n",
    "    print(\"You win\")\n",
    "else:\n",
    "    print(\"I win\")"
   ]
  },
  {
   "cell_type": "markdown",
   "metadata": {},
   "source": [
    "then Python will just scratch its head at you -- how is it supposed to know which card is greater?  You have to teach it what that means!  \n",
    "\n",
    "But, there are functions which can you write so that will allow operators like `<`, `>`, `==`, `+` and `-` to works.  The act of extending these operators to work on our classes is referred to as *overloading operators*.  Each one of these operators has its own special `__xx__` function you can implement to extend it to your class.\n",
    "\n",
    "\n",
    "<br><br><br><br><br><br><br><br><br><br>\n",
    "\n",
    "\n",
    "Here's how to overload the `<`.  The particular name for the function corresponding to this operator is `__lt__`.  Note that there are TWO parties to a comparison: the left one is the calling object (`self`), and the right one will be an outside argument.  So, the signature line of this method will be\n",
    "\n",
    "`def __lt__(self, other):`\n",
    "\n",
    "Then, you write the logic which makes this function give the right answer (which probably should be `True` or `False`).\n",
    "\n",
    "Finally, using the operator is easy as pie.  You write `my_card < your_card`, and Python will automatically translate this expression to `my_card.__lt__(your_card)`, and do exactly what you want it to.\n",
    "\n",
    "The main differences with the other operators are their names: for example, `==` is implmented with `__eq__`, `!=` is implemented with `__ne__`, `<=` is implemented with `__le__`, `+` is implemented with `__add__`, `*` is implemented with `__mul__`."
   ]
  },
  {
   "cell_type": "code",
   "execution_count": 9,
   "metadata": {},
   "outputs": [
    {
     "name": "stdout",
     "output_type": "stream",
     "text": [
      "I win\n"
     ]
    }
   ],
   "source": [
    "# EXAMPLE 2b: Overloading Operators\n",
    "\n",
    "class Card:\n",
    "    def __init__(self, r, s):\n",
    "        self._rank = r\n",
    "        self._suit = s\n",
    "    def __str__(self):\n",
    "        return self._rank + \" of \" + self._suit\n",
    "\n",
    "    # This overloads the < operator.  \n",
    "    # Remember, the calling object is the LEFT operand, and the right operand is an outside parameter.\n",
    "    def __lt__(self, other):\n",
    "        rank_order = [\"2\", \"3\", \"4\", \"5\", \"6\", \"7\", \"8\", \"9\", \"10\", \"Jack\", \"Queen\", \"King\", \"Ace\"]\n",
    "        \n",
    "        left_rank = self._rank\n",
    "        right_rank = other._rank\n",
    "        \n",
    "        l_pos = rank_order.index(left_rank)\n",
    "        r_pos = rank_order.index(right_rank)\n",
    "        \n",
    "        return l_pos < r_pos\n",
    "    \n",
    "########################################   \n",
    "def main():\n",
    "    my_card = Card(\"Ace\", \"Hearts\")\n",
    "    your_card = Card(\"10\", \"Spades\")\n",
    "    if my_card < your_card:\n",
    "        print(\"You win\")\n",
    "    else:\n",
    "        print(\"I win\")\n",
    "        \n",
    "###############\n",
    "main()"
   ]
  },
  {
   "cell_type": "markdown",
   "metadata": {},
   "source": [
    "\n",
    "\n",
    "<br><br><br><br><br><br><br><br><br><br>\n",
    "\n",
    "# 3. Complex Numbers, and Overloading Arithmetic Operators\n",
    "\n",
    "Let's create a class for complex numbers.  (Granted, Python already has a data type for complex numbers, but that shouldn't stop us from creating our own.)  \n",
    "\n",
    "Recall that complex numbers are numbers of the form $a+bi$, where $a, b$ are real numbers, and $i$ is the square root of $-1$.  So $5 + 7i$ is a complex number, as is $-4.2 - 6.1i$, as is $18$ (since $18 = 18 + 0i$).\n",
    "\n",
    "Complex numbers are added via the rule $(a+bi) + (c+di) = (a+c) + (b+d)i$, and they are multiplied by the rule $(a+bi)(c+di) = ac + adi + bci +bdi^2 = (ac - bd) + (ad + bc)i$.  So, before we get too far into it, let's quickly remider ourselves how these work:\n",
    "\n",
    "$(4 + 2i) + (3 - i) = ?$\n",
    "\n",
    "$(2 + 3i)(1 - 4i) = ?$\n",
    "\n",
    "So, we'll design our class so that each complex number has two attributes: a real part and an imaginary part, both `float`s.  We'll implement the $+$ and $*$ operators, and we'll make our complex numbers printable."
   ]
  },
  {
   "cell_type": "code",
   "execution_count": 18,
   "metadata": {},
   "outputs": [
    {
     "name": "stdout",
     "output_type": "stream",
     "text": [
      "z1, z2, z3:\n",
      "2+3i 2-3i 4+0.5i\n",
      "\n",
      "z1 + z2 (should be 4 + 0i):\n",
      "4+0i\n",
      "\n",
      "z1 + z3 (should be 6 + 3.5i):\n",
      "6+3.5i\n",
      "\n",
      "z1 * z2 (should be 13 + 0i):\n",
      "13+0i\n",
      "\n",
      "z1 * z3 (should be 6.5 + 13i):\n",
      "6.5+13.0i\n",
      "\n",
      "z2 + z1 * z3 (should be 8.5 + 10i):\n",
      "8.5+10.0i\n"
     ]
    }
   ],
   "source": [
    "# EXAMPLE 3a: A Complex class\n",
    "\n",
    "class Compl:\n",
    "    \n",
    "    def __init__(self, a, b):\n",
    "        self._re = a\n",
    "        self._im = b\n",
    "\n",
    "    def __str__(self):\n",
    "        if self._im < 0:\n",
    "            return str(self._re) + str(self._im) + \"i\"\n",
    "        else:\n",
    "            return str(self._re) + \"+\" + str(self._im) + \"i\"\n",
    "    \n",
    "    \n",
    "    \n",
    "    # Overload +\n",
    "    def __add__(self,other):\n",
    "        new_re = self._re + other._re\n",
    "        new_im = self._im + other._im\n",
    "        new_compl = Compl(new_re,new_im)\n",
    "        return new_compl\n",
    "    \n",
    "    # Overload *\n",
    "    def __mul__(self,other):\n",
    "        new_re = (self._re * other._re) - (self._im * other._im)\n",
    "        new_im = (self._re * other._im) + (self._im * other._re)\n",
    "        new_compl = Compl(new_re,new_im)\n",
    "        return new_compl\n",
    "\n",
    "\n",
    "####################\n",
    "def main():\n",
    "    z1 = Compl(2,3)   # This should represent the value 2 + 3i\n",
    "    z2 = Compl(2,-3)  # This should represent the value 2 - 3i\n",
    "    z3 = Compl(4,0.5) # This hsould represent the value 4 + 0.5i\n",
    "\n",
    "    print(\"z1, z2, z3:\")\n",
    "    print(z1, z2, z3)\n",
    "\n",
    "    print(\"\\nz1 + z2 (should be 4 + 0i):\")\n",
    "    print(z1 + z2)\n",
    "\n",
    "    print(\"\\nz1 + z3 (should be 6 + 3.5i):\")\n",
    "    print(z1 + z3)\n",
    "\n",
    "    print(\"\\nz1 * z2 (should be 13 + 0i):\")\n",
    "    print(z1 * z2)\n",
    "\n",
    "    print(\"\\nz1 * z3 (should be 6.5 + 13i):\")\n",
    "    print(z1 * z3)\n",
    "\n",
    "    print(\"\\nz2 + z1 * z3 (should be 8.5 + 10i):\")\n",
    "    print(z2 + z1 * z3) \n",
    "    \n",
    "####################\n",
    "main()"
   ]
  },
  {
   "cell_type": "markdown",
   "metadata": {},
   "source": [
    "<br><br><br><br><br><br><br><br><br><br>\n",
    "\n",
    "# 4. Default Arguments\n",
    "\n",
    "The following applies to all functions, whether or not they are class methods.  However, it seems to be particularly useful for constructors. \n",
    "\n",
    "When we've written constructors so far, they have tended to look like this:            "
   ]
  },
  {
   "cell_type": "code",
   "execution_count": null,
   "metadata": {},
   "outputs": [],
   "source": [
    "def __init__(self, r, s):\n",
    "    self._rank = r\n",
    "    self._suit = s"
   ]
  },
  {
   "cell_type": "markdown",
   "metadata": {},
   "source": [
    "and then, when we actually initialize an argument, there would be (in this case) *two* parameters, to set the rank and the suit (the first parameter, `self`, is implicit): so you would initialize an object in the form `x = Card(\"2\", \"Clubs\")`.  \n",
    "\n",
    "However, it is sometimes nice to have a \"default\" initialization option as well, if we want to create a playing card without immediately specifying what that card is.  We can do this by using by supplying *default arguments* to the constructor function, as follows."
   ]
  },
  {
   "cell_type": "code",
   "execution_count": null,
   "metadata": {},
   "outputs": [],
   "source": [
    "# EXAMPLE 4a: Default arguments\n",
    "\n",
    "class Card:\n",
    "    \"\"\"Represent a playing card.  Attributes: _rank and _suit\"\"\"\n",
    "    \n",
    "    # This constructor now has DEFAULT ARGUMENTS: if you create an object without specifying input values, then \n",
    "    # r will be assigned \"None\" and s will be assigned \"None\".\n",
    "    # If you DO supply values, the r and s will take on those values, and ignore the defaults.\n",
    "    def __init__(self, r = \"Blank\", s = \"Blank\"):\n",
    "        self._rank = r\n",
    "        self._suit = s\n",
    "        \n",
    "    def display(self):\n",
    "        print(self._rank, \"of\", self._suit)\n",
    "        \n",
    "#########################       \n",
    "c1 = Card() # No arguments here!  So the default values will be supplied\n",
    "c2 = Card(\"2\", \"Spades\") # Initialized with arguments, so the default values will be ignored\n",
    "\n",
    "# These are technically allowed by Python, although caution is warranted.  Basic rule: default arguments should come\n",
    "# as the last argument(s) (both when calling a function and when defining one).\n",
    "c3 = Card(\"3\") \n",
    "c4 = Card(\"Diamonds\") # I don't think this one works the way we've planned it.\n",
    "c1.display()\n",
    "c2.display()\n",
    "c3.display()\n",
    "c4.display()"
   ]
  },
  {
   "cell_type": "markdown",
   "metadata": {},
   "source": [
    "So, when defining any function, you can supply default argument for the parameters, which will be used if no values are supplied, and ignored if values are supplied.\n",
    "\n",
    "In practice, it might be a good idea (both when writing functions and calling them) to either make all your arguments have default values, or none of them: Python has to be able to figure out *which* arguments you're omitting, so if you omit some but not others, you can run into complications.  There are rules that Python uses for this (basic one: put default arguments at the end)."
   ]
  },
  {
   "cell_type": "markdown",
   "metadata": {},
   "source": [
    "<br><br><br><br><br><br><br><br><br><br>\n",
    "\n",
    "\n",
    "# 5. Copying Objects\n",
    "\n",
    "Suppose that want to I create two separate `Deck`s, and I do it as follows:\n",
    "\n",
    "`d1 = Deck()`\n",
    "\n",
    "`d2 = d1`\n",
    "\n",
    "So, `d2` is meant to be a copy of `d1` -- so you have two fresh full decks, right?\n",
    "\n",
    "Now, I deal all of deck `d1`.  Then, I try to deal some cards from deck `d2`. It doesn't work."
   ]
  },
  {
   "cell_type": "code",
   "execution_count": null,
   "metadata": {},
   "outputs": [],
   "source": [
    "# EXAMPLE 5a: A shallow copy\n",
    "from evans_card_v1 import Card, Deck\n",
    "\n",
    "# I make two decks\n",
    "d1 = Deck()\n",
    "d2 = d1\n",
    "\n",
    "# Draw every card from deck 1\n",
    "for i in range(1,53):\n",
    "    print(i, \":\", end = \" \")\n",
    "    d1.draw().display()\n",
    "\n",
    "# Then, TRY to draw every card from deck 2.  It doesn't work!\n",
    "for i in range(1,53):\n",
    "    print(i, \":\", end = \" \")\n",
    "    d2.draw().display()\n"
   ]
  },
  {
   "cell_type": "markdown",
   "metadata": {},
   "source": [
    "\n",
    "So first, what happened?  `Deck()` creates a deck object, and `d1` gets assigned the address of that deck.  Then, the line `d2 = d1` simply creates a new variable `d2`, which is assigned the address of the same deck.  So `d2` is merely an *alias* of `d1` -- both variables refer to the same object.  \n",
    "\n",
    "Now, you might say, wouldn't have been easier if we had just used\n",
    "\n",
    "`d1 = Deck()`\n",
    "\n",
    "`d2 = Deck()`\n",
    "\n",
    "instead?  Sure, in this case -- but what if you had wanted to two separate copies of a deck after some cards had already been drawn?  (Think about playing solitaire on the computer, when you want to undo moves -- to make this work, you'll probably have to save an extra copy of the deck at an intermediate state.)\n",
    "\n",
    "<br><br><br><br><br><br><br><br><br><br>\n",
    "\n",
    "\n",
    "Fortunately, Python has a mechanism for creating true independent duplicates: `copy.deepcopy()`.  You need to import this from the module called `copy`.  When you call this function, it takes the object that is passed as argument, and creates an entirely new object that is a copy of that one -- including creating new objects for all attributes as well.  This is called *deep copying* of an object."
   ]
  },
  {
   "cell_type": "code",
   "execution_count": null,
   "metadata": {},
   "outputs": [],
   "source": [
    "# EXAMPLE 5b: A deep copy\n",
    "from evans_card_v1 import Card, Deck\n",
    "import copy # This is useful whenever you need two independent copies of the same object.\n",
    "\n",
    "# I make two decks\n",
    "d1 = Deck()\n",
    "d2 = copy.deepcopy(d1) # Now d2 is attached to an entirely separate Deck \n",
    "                       # -- just one that happens to be initialized the same way as d1!\n",
    "\n",
    "# Draw every card from deck 1\n",
    "for i in range(1,53):\n",
    "    print(i, \":\", end = \" \")\n",
    "    d1.draw().display()\n",
    "\n",
    "# Draw every card from deck 2.  Observe that not only does this work, but in fact the second deck is shuffled\n",
    "# the exact same way as the first deck! (That's because shuffling occurs in the initializer, so the shuffling\n",
    "# has already taken place by the time the deck gets copied.)\n",
    "for i in range(1,53):\n",
    "    print(i, \":\", end = \" \")\n",
    "    d2.draw().display()\n"
   ]
  }
 ],
 "metadata": {
  "kernelspec": {
   "display_name": "Python 3",
   "language": "python",
   "name": "python3"
  },
  "language_info": {
   "codemirror_mode": {
    "name": "ipython",
    "version": 3
   },
   "file_extension": ".py",
   "mimetype": "text/x-python",
   "name": "python",
   "nbconvert_exporter": "python",
   "pygments_lexer": "ipython3",
   "version": "3.7.1"
  },
  "name": "_merged_merged"
 },
 "nbformat": 4,
 "nbformat_minor": 2
}
