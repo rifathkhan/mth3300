{
 "cells": [
  {
   "cell_type": "markdown",
   "metadata": {},
   "source": [
    "# Lecture 12\n",
    "\n",
    "###   `while` Loops; Common `while` Loop Tasks and Exceptions; Newton's Method; Flag-Controlled Loops"
   ]
  },
  {
   "cell_type": "markdown",
   "metadata": {},
   "source": [
    "# 1. `while` Loops\n",
    "\n",
    "The loops we have discussed so far are sometimes called **definite loops** because they run a fixed number of times: once for every element in a list or range, where the list is typically fixed before you first encounter the loop.\n",
    "\n",
    "Not every loop is so clear cut.  For example, consider a program that asks you to put in a password over and over again until you get it right.  How many times will the loop run? You don't know until you get to the last pass through the loop.\n",
    "\n"
   ]
  },
  {
   "cell_type": "code",
   "execution_count": null,
   "metadata": {
    "collapsed": true
   },
   "outputs": [],
   "source": [
    "# EXAMPLE 1a: Password\n",
    "\n",
    "correct_password = \"Hamburger\"\n",
    "\n",
    "user_guess = input(\"Guess the password: \")\n",
    "\n",
    "number_of_guesses = 1\n",
    "\n",
    "while user_guess != correct_password:\n",
    "    print(\"Wrong!\")\n",
    "    user_guess = input(\"Guess again: \")\n",
    "    number_of_guesses += 1\n",
    "    \n",
    "print(\"Took you long enough: {0} guesses.\".format(number_of_guesses))\n"
   ]
  },
  {
   "cell_type": "markdown",
   "metadata": {},
   "source": [
    "<br><br><br><br><br><br><br><br><br><br>\n",
    "\n",
    "This type of problem -- when you want code to run over and over again not till you get to the end of some fixed list, but rather until some specific even happens -- is what `while` loops are for."
   ]
  },
  {
   "cell_type": "code",
   "execution_count": null,
   "metadata": {
    "collapsed": true
   },
   "outputs": [],
   "source": [
    "WHILE LOOP SYNTAX:\n",
    "    \n",
    "\"... previous statements ...\"\n",
    "while <logical expression>:\n",
    "    <body, indented>\n",
    "\"... further statements, unindented...\"\n",
    "\n",
    "    \n"
   ]
  },
  {
   "cell_type": "markdown",
   "metadata": {},
   "source": [
    "This code will do the following.\n",
    "\n",
    "* First, `<logical expression>` will evaluate.\n",
    "* If it evaluates to `True`, `<body>` will execute.\n",
    "* Once that is finished, `<logical expression>` will evaluate again...\n",
    "* ...and if it is `True`, `<body>` will execute again, with all pertinent variables using their latest values.\n",
    "* And so on until `<logical expression>` evaluates to `False`.  At this point, statements after the `<body>` are executed.\n",
    "\n",
    "As always, indenting is important:  the part of the code that gets repeated is everything after the `while` line, until you get to a non-indented line.\n",
    "\n",
    "<br><br><br><br><br><br><br><br><br><br>\n",
    "\n",
    "Here's a flowchart:\n",
    "\n",
    "![IMAGE NOT FOUND!!!!!!!!!!](whileflow.png)"
   ]
  },
  {
   "cell_type": "code",
   "execution_count": null,
   "metadata": {},
   "outputs": [],
   "source": [
    "# EXAMPLE 1b: Walkthrough\n",
    "# Can you follow what is happening here?\n",
    "# Once you know, taking away the quotations at the front.\n",
    "\n",
    "\"\"\"\n",
    "x = 3\n",
    "y = 2\n",
    "\n",
    "\n",
    "while x <  2 * y:\n",
    "    x += y\n",
    "    if x < 10:\n",
    "        y += 1\n",
    "    print(x,y)\n",
    "    \n",
    "print(y)\n"
   ]
  },
  {
   "cell_type": "markdown",
   "metadata": {},
   "source": [
    "<br><br><br><br><br><br><br><br><br><br>\n",
    "\n",
    "You might notice that a `while` loop can do anything a `for` loop can, and more! Indeed: **`while` loops are more general than `for` loops.**  (If that's not obvious, we'll see some examples in a short while.)  And `while` loops are simpler syntactically.  Why not teach them first?\n",
    "\n",
    "* If you can do a straightforward taks with a `while` or a `for`, the `for` loop is usually shorter and easier to read.\n",
    "* Most problems that truly need a `while` loop are more complex than the one's we've talked about so far.\n",
    "\n",
    "Here's a problem that doesn't need a `while` loop, but we'll do it with one anyway."
   ]
  },
  {
   "cell_type": "code",
   "execution_count": null,
   "metadata": {
    "collapsed": true
   },
   "outputs": [],
   "source": [
    "# EXAMPLE 1c: 99 Bottles\n",
    "# What does this code do?  What should it do?  Can you fix it, still using a while loop?\n",
    "\n",
    "var = 1\n",
    "\n",
    "while var <= 99:\n",
    "    print(\"{0} bottles of beer on the wall, {0} bottles of beer\".format(var))\n",
    "    print(\"If one of those bottles should happen to fall, {0} bottles of beer on the wall\".format(var-1))\n",
    "    var = var + 1"
   ]
  },
  {
   "cell_type": "markdown",
   "metadata": {},
   "source": [
    "<br><br><br><br><br><br><br><br><br><br>\n",
    "\n",
    "As I said, everything that can be done with a `for` can be done with a `while`, as well.  The basic trick is:\n",
    "\n",
    "* Initialize `loop_count` to be `0` or `1`\n",
    "* Write a line like `while loop_count < len(list_name):`, or `while count <=  <number of times>:`\n",
    "* At the end of the body of the loop, insert a line incrementing `loop_count`, like `loop_count += 1`\n",
    "\n",
    "To be clear: **_in Python, this way of going through a list is frowned upon._**  It is not a good idea to write like this in Python -- Python is optimized for `for` loops, and Python coders will expect them in a situation like this.  But I'm going to make you learn how to *read* it -- maybe even write it -- anyway, because this type of thing is necessary in other languages, and because it is a bit of a brain exercise.\n",
    "\n",
    "\n",
    "So, for example, how would you compute 100 terms of \n",
    "\n",
    "$$ e^3 + e^5 + e^7 + e^9 + e^{11} + \\ldots$$\n",
    "\n",
    "with a `for` loop?  With a `while` loop?"
   ]
  },
  {
   "cell_type": "code",
   "execution_count": null,
   "metadata": {
    "collapsed": true
   },
   "outputs": [],
   "source": [
    "# EXAMPLE 1d: 50 terms of e^3 + e^5 + e^7 + e^9 + e^11 + ...\n",
    "import math\n",
    "\n",
    "# FOR loop:\n",
    "rs = 0\n",
    "for term_n in range(1,51):\n",
    "    the_exponent = 2*term_n + 1\n",
    "    rs += math.exp(the_exponent)\n",
    "print(rs)\n",
    "\n",
    "# WHILE loop:\n",
    "#\n",
    "# ???\n",
    "#"
   ]
  },
  {
   "cell_type": "markdown",
   "metadata": {},
   "source": [
    "<br><br><br><br><br><br><br><br><br><br>\n",
    "\n",
    "# 2. Common `while` Loop Tasks, and a very brief Intro to Exception Handling\n",
    "\n",
    "### Input validation\n",
    "\n",
    "We kind of saw this before, but one use for `while` loops is input validation -- if a program requires user input, you can make sure that it is valid."
   ]
  },
  {
   "cell_type": "code",
   "execution_count": null,
   "metadata": {
    "collapsed": true
   },
   "outputs": [],
   "source": [
    "# EXAMPLE 2a: Input Validation\n",
    "\n",
    "user_entry = float(input(\"Enter a score between 0 and 100: \"))\n",
    "\n",
    "# Get the first attempt OUTSIDE of the loop, so that you have something to check the first time you approach \n",
    "# the while loop.\n",
    "while 0 > user_entry or user_entry > 100:\n",
    "    user_entry = float(input(\"Enter a score between 0 and 100: \"))\n",
    "\n",
    "print(user_entry)"
   ]
  },
  {
   "cell_type": "markdown",
   "metadata": {},
   "source": [
    "What about checking whether the input is even a valid number?  I'm only going to answer this because it's such an obvious question, but I almost would rather not -- it's a bit harder than it seems, and kind of a distraction.  \n",
    "\n",
    "The problem is that the line\n",
    "\n",
    "`user_entry = float(input(\"Enter a score between 0 and 100: \"))`\n",
    "\n",
    "will cause the program to stop with a run-time error if you enter something that is not convertible to a `float`.  \n",
    "\n",
    "<br><br><br><br><br><br><br><br><br><br>\n",
    "\n",
    "And if, instead, you tried something like\n",
    "\n",
    "`user_entry = input(\"Enter a score between 0 and 100: \")` <br>\n",
    "`if type(user_entry) == float:`\n",
    "\n",
    "...well, even if I input `1.23`, the value of `user_entry` will still be a `str` at the time you hit that line.  The **real** question you want to ask is not \"is `user_entry` a `float`?\" (the answer to that is \"No\"), but rather, \"are the contents of the string `user_entry` *convertible* to a `float` -- will the `float()` function even work??\"\n",
    "\n",
    "One way to answer that question is a careful analysis of the characters present in `user_entry`.  A second way uses **_exception handling_**, which are a mechanism for dealing with potential run-time errors.  Let's look at the second way.\n",
    "\n"
   ]
  },
  {
   "cell_type": "code",
   "execution_count": null,
   "metadata": {
    "collapsed": true
   },
   "outputs": [],
   "source": [
    "# EXAMPLE 2b: Input Validation, Part 2\n",
    "\n",
    "valid = False\n",
    "\n",
    "while not valid:\n",
    "    user_entry = input(\"Enter a score between 0 and 100: \")\n",
    "    try:\n",
    "        user_entry = float(user_entry)\n",
    "        if 0 <= user_entry and user_entry <= 100:\n",
    "            valid = True\n",
    "    except ValueError:\n",
    "        print(\"Number please!\")    \n",
    "        \n",
    "\n",
    "print(user_entry)"
   ]
  },
  {
   "cell_type": "markdown",
   "metadata": {},
   "source": [
    "`try` and `except` go together, kind of like `if` and `else` (but `except` isn't optional).  The code inside a `try` block executes -- and if executes successfully, that's that, and the `except` block is ignored.  But if there is a run-time error in the `try` block, instead of Python just stopping, it moves on to the `except` block, and if the error is of the appropriate type, it performs that code (so that block is sorrrrrtttt of like an `elif` block).  There's a lot to say here, but I'd rather move on. "
   ]
  },
  {
   "cell_type": "markdown",
   "metadata": {},
   "source": [
    "<br><br><br><br><br><br><br><br><br><br>\n",
    "\n",
    "\n",
    "### Saving indefinite streams of entry (Sentinel-controlled loops)\n",
    "\n",
    "What if you want the user to enter a bunch of data whose length isn't known ahead of time?  One strategy is to use a **_sentinel_**: a special value that can be entered that is interpreted not as data, but as a stop signal.  For example, in the following example, the `str` value `\"DONE\"` is the sentinel."
   ]
  },
  {
   "cell_type": "code",
   "execution_count": null,
   "metadata": {
    "collapsed": true
   },
   "outputs": [],
   "source": [
    "# EXAMPLE 2c: Sentinel\n",
    "\n",
    "print(\"Input numbers until you are bored.  When you are finished, enter DONE.\")\n",
    " \n",
    "number_list = []\n",
    "\n",
    "# First entry outside the loop, so that first loop test has something to look at.\n",
    "entry = input(\"Gimme a number: \")\n",
    "\n",
    "while entry != \"DONE\":\n",
    "    entry = int(entry)\n",
    "    number_list.append(entry)\n",
    "    \n",
    "    # Get next entry\n",
    "    entry = input(\"Gimme a number: \")\n",
    "    \n",
    "print(number_list)\n"
   ]
  },
  {
   "cell_type": "markdown",
   "metadata": {},
   "source": [
    "<br><br><br><br><br><br><br><br><br><br>\n",
    "\n",
    "Create a list that adds up number supplied by the user, until the user inputs the number `-9`.  The number `-9` itself should not be added, it should simply be the \"stop!\" signal."
   ]
  },
  {
   "cell_type": "code",
   "execution_count": null,
   "metadata": {
    "collapsed": true
   },
   "outputs": [],
   "source": [
    "# EXAMPLE 2d: Another Sentinel\n",
    "\n",
    "print(\"Input numbers until you are bored.  When you are finished, enter -9.\")\n",
    " \n",
    "# First entry outside the loop, so that first loop test has something to look at.\n",
    "entry = int(input(\"Gimme a number: \"))\n",
    "\n",
    "\n",
    "\n",
    "\n",
    "\n",
    "\n"
   ]
  },
  {
   "cell_type": "markdown",
   "metadata": {},
   "source": [
    "<br><br><br><br><br><br><br><br><br><br>\n",
    "\n",
    "\n",
    "# 3. Newton's Method\n",
    "\n",
    "#### Problem: solve the equation $f(x) = 0$ for $x$.\n",
    "\n",
    "Newton's method attacks this problem using tangent lines.\n",
    "\n",
    "------------\n",
    "\n",
    "To explain the idea, here's a warmup:\n",
    "\n",
    "$g(x) = x^2$\n",
    "\n",
    "$h(x) = 6x - 9$\n",
    "\n",
    "When $x = 3$, what is $g(x)$? $h(x)$?  How about when $x = 3.1$? Or when $x = 3.01$?\n",
    "\n",
    "<br><br><br><br><br><br><br><br><br><br>\n",
    "\n",
    "That each pair is close isn't an accident.  $y = 6x - 9$ is the equation of the tangent line to $y = x^2$ at the point $(3,9)$; or, otherwise put, $h(x)$ is the *linearization* of $g(x)$ at $x = 3$.  This means that, at least when $x \\approx 3$, $h(x)$ is a good replacement for $g(x)$.  Furthermore, the linear function $h(x)$ is easier to work with, and solve equations with. This is the idea behind Newton's method.\n",
    "\n",
    "-----------\n",
    "\n",
    "Let's work with a concrete example: $f(x) = x^2 - 5$. Here's a graph of this function:\n",
    "\n",
    "\n",
    "![IMAGE NOT FOUND!!!!!!!](12.png)\n",
    "\n",
    "We want to solve $x^2 - 5 = 0$, which is the same as finding the $x$-intercept of the graph.  We of course have simple ways to do this example, but it is one of the easiest examples to illustrate Newton's method with.  The method works almost identically with harder examples.  \n",
    "\n",
    "The principle is: pick a random point $x_0$, linearize $f(x)$ at $x = x_0$, solve the easier linearized equation to get $x_1$, which is hopefully closer to a real solution.  Then, repeat!\n",
    "\n",
    "\n",
    "<br><br><br><br><br><br><br><br><br><br>\n",
    "\n",
    "\n",
    "So, to start, let $x_0 = 1$.  This is our more-or-less random first guess; I chose it mostly because I knew it was an easy number to start with, and because it's slightly close to the true solution.\n",
    "\n",
    "Now, let's find the tangent line to $y = x^2 - 5$ at the point $x = 1$: that would be $y = 2x - 6$.\n",
    "\n",
    "To get the next step: instead of solving $x^2 - 5 = 0$ (harder), we'll solve $2x - 6 = 0$ (easier), and get $x = 3$.  This $x$ value will be our $x_1$: $x_1 = 3$.  Obviously, that's not the answer -- we changed the problem!  *However*, observe that this $x$-value is closer to the true intercept.\n",
    "\n",
    "\n",
    "\n",
    "\n",
    "![IMAGE NOT FOUND!!!!!!!](22.png)\n",
    "\n",
    "\n",
    "<br><br><br><br><br><br><br><br><br><br>\n",
    "\n",
    "So now: do this all again, except this time, start with the better guess we just obtained, $x_1 = 3$.\n",
    "\n",
    "Tangent line: $y = 6x - 14$\n",
    "\n",
    "Intercept of tangent line: $x = \\frac{14}{6} \\approx 2.3333 = x_2$\n",
    "\n",
    "Graph:\n",
    "\n",
    "![IMAGE NOT FOUND!!!!!!!](32.png)\n",
    "\n",
    "And then repeat, until you are sufficiently close.\n",
    "\n",
    "\n",
    "<br><br><br><br><br><br><br><br><br><br>\n",
    "\n",
    "In general, to estimate a solution to $f(x) = 0$:\n",
    "\n",
    "Start with a guess $x_0$.\n",
    "\n",
    "Find the equation of the tangent line at the point where $x = x_0$: $y - f(x_0) = f'(x_0)(x - x_0)$\n",
    "\n",
    "Find the intercept of that tangent line, and call that $x_1$:  $x = x_0 - \\frac{f(x_0)}{f'(x_0)} = x_1$\n",
    "\n",
    "Then to get $x_2$, you do the same things starting with $x_1$ instead of $x_0$.  You end up with $x_2 = x_1 - \\frac{f(x_1)}{f'(x_1)}$. And so on.\n",
    "\n",
    "\n",
    "<br><br><br><br><br><br><br><br><br><br>\n",
    "\n",
    "This is **Newton's Method**.\n",
    "\n",
    "To estimate a solution to $f(x) = 0$:\n",
    "\n",
    "* Take a guess $x = x_0$.\n",
    "* Then, calculate improved estimates $x_i$ using the formula\n",
    "$$ x_{n+1} = x_n - \\frac{f(x_n)}{f'(x_n)}.$$\n",
    "* Keep repeating until you deem the value of $f(x_n)$ sufficiently close to $0$.\n",
    "\n",
    "Note that Newton's method is not a completely robust algorithm.  If your guess happens to be a critical number of $f(x)$, Newton's method will fail; sometimes the method ends up going back and forth between two points; and of course, if there are multiple solutions, Newton's method will only converge to one of them.  However, in certain cases (for exampe, when you are dealing with a *convex* function), it works rather nicely, and rather quickly."
   ]
  },
  {
   "cell_type": "markdown",
   "metadata": {},
   "source": [
    "\n",
    "<br><br><br><br><br><br><br><br><br><br>\n",
    "\n",
    "\n",
    "# 4. Flag-Controlled Loops\n",
    "\n",
    "Recall that a *flag* is a fancy name for a `True`-`False` (or \"yes-no\") variable.  Sometimes, the easiest way to control a loop is using a flag, something like:\n",
    "\n",
    "`while keep_going == True:`\n",
    "\n",
    "where `keep_going` is a `bool` variable.  This variable will start out as `True`, but perhaps somewhere along the way something will happen that signals that the program should stop repeating -- at that moment, `keep_going` will be reset to be `False`.  \n",
    "\n",
    "(BTW: instead of writing `while keep_going == True:`, you could just write\n",
    "\n",
    "`while keep_going:`\n",
    "\n",
    "because `keep_going == True` is just going to be evaluated, producing the same value as `keep_going` itself.)\n",
    "\n",
    "Here's an example: a famous guessing game.\n"
   ]
  },
  {
   "cell_type": "code",
   "execution_count": null,
   "metadata": {
    "collapsed": true
   },
   "outputs": [],
   "source": [
    "# EXAMPLE 4a: Guess the number\n",
    "\n",
    "import random\n",
    "\n",
    "# Choose the random number\n",
    "secret_number = random.randrange(1,101)\n",
    "\n",
    "# This holds the answer to the question \"Should we keep guessing?\"\n",
    "# In the beginning, we certainly should\n",
    "keep_guessing = True\n",
    "\n",
    "print(\"I'm thinking of a number between 1 and 100! Can you guess it?\")\n",
    "\n",
    "while keep_guessing:\n",
    "    guess = int(input(\"Enter a guess: \"))\n",
    "    if guess > secret_number:\n",
    "        print(\"Too high!\")\n",
    "    elif guess < secret_number:\n",
    "        print(\"Too low!\")\n",
    "    else:\n",
    "        # Must be equal! Now is the time for the program to stop.\n",
    "        print(\"You got it!\")\n",
    "        keep_guessing = False"
   ]
  }
 ],
 "metadata": {
  "kernelspec": {
   "display_name": "Python 3",
   "language": "python",
   "name": "python3"
  },
  "language_info": {
   "codemirror_mode": {
    "name": "ipython",
    "version": 3
   },
   "file_extension": ".py",
   "mimetype": "text/x-python",
   "name": "python",
   "nbconvert_exporter": "python",
   "pygments_lexer": "ipython3",
   "version": "3.6.4"
  },
  "name": "_merged_merged"
 },
 "nbformat": 4,
 "nbformat_minor": 2
}
