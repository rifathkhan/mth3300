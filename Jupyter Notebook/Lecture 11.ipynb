{
 "cells": [
  {
   "cell_type": "markdown",
   "metadata": {},
   "source": [
    "# Lecture 11\n",
    "\n",
    "### Nested Loops; Stars; Turtles; Nested Turtles; `while` Loops"
   ]
  },
  {
   "cell_type": "markdown",
   "metadata": {},
   "source": [
    "# 1. Nested Loops\n",
    "\n",
    "We can put loops *inside* loops! Oy vey.\n",
    "\n",
    "Don't panic!  To understand any loop: just execute the block as if it weren't inside a loop.  If there is a loop in there, execute that too.  When you get to the end of the block, go back to the beginning, and execute the block again if appropriate.\n"
   ]
  },
  {
   "cell_type": "code",
   "execution_count": 1,
   "metadata": {},
   "outputs": [
    {
     "name": "stdout",
     "output_type": "stream",
     "text": [
      "0 *!*!* 0 1 2 3 4 5 6 7 \n",
      "1 *!*!* 1 2 3 4 5 6 7 8 \n",
      "2 *!*!* 2 3 4 5 6 7 8 9 \n",
      "3 *!*!* 3 4 5 6 7 8 9 10 \n",
      "4 *!*!* 4 5 6 7 8 9 10 11 \n",
      "5 *!*!* 5 6 7 8 9 10 11 12 \n",
      "6 *!*!* 6 7 8 9 10 11 12 13 \n",
      "7 *!*!* 7 8 9 10 11 12 13 14 \n",
      "8 *!*!* 8 9 10 11 12 13 14 15 \n",
      "9 *!*!* 9 10 11 12 13 14 15 16 \n"
     ]
    }
   ],
   "source": [
    "# EXAMPLE 1a: Nested loops\n",
    "# Let's see what this one does.\n",
    "\n",
    "for i in range(10):\n",
    "    print(i, \"*!*!*\", end = \" \")\n",
    "    for j in range(8):\n",
    "        print(i + j, end = \" \")\n",
    "    print(\"\")\n"
   ]
  },
  {
   "cell_type": "markdown",
   "metadata": {},
   "source": [
    "<br><br><br><br><br><br><br><br><br><br>\n",
    "\n",
    "So, what's just happened here?\n",
    "\n",
    "First, `i` is `0`.  Then all of"
   ]
  },
  {
   "cell_type": "code",
   "execution_count": null,
   "metadata": {
    "collapsed": true
   },
   "outputs": [],
   "source": [
    "print(i, \"*!*!*\", end = \" \")\n",
    "for j in range(8):\n",
    "    print(i + j, end = \" \")\n",
    "print(\"\")"
   ]
  },
  {
   "cell_type": "markdown",
   "metadata": {},
   "source": [
    "executes.  Once that is done, you take a second pass through the outer loop: so now, `i` becomes `1`, and "
   ]
  },
  {
   "cell_type": "code",
   "execution_count": null,
   "metadata": {
    "collapsed": true
   },
   "outputs": [],
   "source": [
    "print(i, \"*!*!*\", end = \" \")\n",
    "for j in range(8):\n",
    "    print(i + j, end = \" \")\n",
    "print(\"\")"
   ]
  },
  {
   "cell_type": "markdown",
   "metadata": {},
   "source": [
    "all executes again -- *note that the inner `for` loop runs all over again, with `j` beginning back at `0`!*\n",
    "\n",
    "And from there, it repeats in the same fashion.\n",
    "\n",
    "<br><br><br><br><br><br><br><br><br><br>\n",
    "\n",
    "Ok, why do we want such monstrosities?  And how do we create them?  \n",
    "\n",
    "Well, an ordinary, single loop is useful to break down (a portion of) your algorithm into a list of similar \"stages\": stage 1, then stage 2, then stage 3, etc.\n",
    "\n",
    "For instance, remember counting the number of \"e\"s in a string?\n",
    "\n",
    "1 Set the string <br>\n",
    "2 Set \"e\"-counter to be 0 <br>\n",
    "3 Look at first letter of string <br>\n",
    "4 If it is \"e\", add 1 to the count <br>\n",
    "5 Look at second letter of string <br>\n",
    "6 If it is \"e\", add 1 to the count <br>\n",
    "7 Look at third letter of string <br>\n",
    "8 If it is \"e\", add 1 to the count <br>\n",
    "\n",
    ".... <br>\n",
    "\n",
    "457 Print out \"e\"-counter.\n",
    "\n",
    "You can see where the repetition starts, at line 3.  At that point: stage 1 would be \"look at first letter, check if it is e\"; stage 2 would be \"look at second letter, check if it is e\"; and stage number n would be \"look at nth letter, check if it is e\".\n",
    "\n",
    "**Nested loops are for when each stage itself involves repetition. When designing a nested loop, you still want to first break your problem down into a \"1-dimensional\" list of stages -- and after that, then think about how to implement each stage.**\n",
    "\n",
    "-------\n",
    "\n",
    "Let me show you what I mean.  Suppose that I want to print out a multiplication table:\n",
    "\n",
    "    1    2    3    4    5    6    7    8    9\n",
    "    2    4    6    8   10   12   14   16   18\n",
    "    3    6    9   12   15   18   21   24   27\n",
    "    4    8   12   16   20   24   28   32   36\n",
    "    5   10   15   20   25   30   35   40   45\n",
    "    6   12   18   24   30   36   42   48   54\n",
    "    7   14   21   28   35   42   49   56   63\n",
    "    8   16   24   32   40   48   56   64   72\n",
    "    9   18   27   36   45   54   63   72   81\n",
    "\n",
    "Let's break this down into stages.  I could say\n",
    "\n",
    "1 Print 1 <br>\n",
    "2 Print 2 <br>\n",
    "3 Print 3 <br>\n",
    ".... <br>\n",
    "9 Print 9 <br>\n",
    "10 Newline <br>\n",
    "11 Print 2 <br>\n",
    "12 Print 4 <br>\n",
    "13 Print 6 <br>\n",
    "..... <br>\n",
    "\n",
    "But maybe that's focusing too finely on the details -- perhaps it would be helpful to start with a simpler broad sketch:\n",
    "\n",
    "1 Print Row 1 (details to be filled in) <br>\n",
    "2 Print Row 2 (ditto) <br>\n",
    "... <br>\n",
    "9 Print Row 9\n",
    "\n",
    "Let's write this as a \"loop\":\n"
   ]
  },
  {
   "cell_type": "code",
   "execution_count": null,
   "metadata": {
    "collapsed": true
   },
   "outputs": [],
   "source": [
    "for i in range(1,10):\n",
    "    PRINT ROW i    # Obviously, this line isn't real code, but it will be replaced by real code."
   ]
  },
  {
   "cell_type": "markdown",
   "metadata": {},
   "source": [
    "<br><br><br><br><br><br><br><br><br><br>\n",
    "\n",
    "Now, let's talk about `PRINT ROW i`.  To `PRINT ROW 1`, obviously I could just say `print(1), print(2), print(3),...`, but that would be tedious.  So we have a loop for that:\n",
    "\n",
    "`for n in range(1,10):`<br>\n",
    "&nbsp;&nbsp;&nbsp;&nbsp;`   print(n, \" \")` <br>\n",
    "`print(\"\") # Don't forget the newline!`\n",
    "\n",
    "What about when I want to `PRINT ROW 2`?\n",
    "\n",
    "`for n in range(1,10):`<br>\n",
    "&nbsp;&nbsp;&nbsp;&nbsp;`   print(2*n, \" \")`<br>\n",
    "`print(\"\") # Don't forget the newline!`\n",
    "\n",
    "What about when I want to `PRINT ROW 3`?\n",
    "\n",
    "`for n in range(1,10):`<br>\n",
    "&nbsp;&nbsp;&nbsp;&nbsp;`   print(3*n, \" \")`<br>\n",
    "`print(\"\") # Don't forget the newline!`\n",
    "\n",
    "Ok, now let's answer the question I *really* want to answer.  How do I `PRINT ROW i`?\n",
    "\n",
    "<br><br><br><br><br><br><br><br><br><br>"
   ]
  },
  {
   "cell_type": "code",
   "execution_count": 1,
   "metadata": {},
   "outputs": [
    {
     "name": "stdout",
     "output_type": "stream",
     "text": [
      "    1     2     3     4     5     6     7     8     9    10 \n",
      "    2     4     6     8    10    12    14    16    18    20 \n",
      "    3     6     9    12    15    18    21    24    27    30 \n",
      "    4     8    12    16    20    24    28    32    36    40 \n",
      "    5    10    15    20    25    30    35    40    45    50 \n",
      "    6    12    18    24    30    36    42    48    54    60 \n",
      "    7    14    21    28    35    42    49    56    63    70 \n",
      "    8    16    24    32    40    48    56    64    72    80 \n",
      "    9    18    27    36    45    54    63    72    81    90 \n",
      "   10    20    30    40    50    60    70    80    90   100 \n"
     ]
    }
   ],
   "source": [
    "# EXAMPLE 1b: Multiplication Table\n",
    "\n",
    "for row in range(1,11):\n",
    "    for value in range(1,11):\n",
    "        print(\"{0:5}\".format(row * value), end = \" \")\n",
    "    print(\"\")    "
   ]
  },
  {
   "cell_type": "markdown",
   "metadata": {},
   "source": [
    "<br><br><br><br><br><br><br><br><br><br>\n",
    "\n",
    "# 2. Stars\n",
    "\n",
    "Here's a classic exercise: print \n",
    "\n",
    "`*` <br>\n",
    "`**` <br>\n",
    "`***` <br>\n",
    "`****` <br>\n",
    "`*****` <br>\n",
    "`******` <br>\n",
    "`*******` <br>\n",
    "`********` <br>\n",
    "`*********` <br>\n",
    "`**********` <br>\n",
    "`***********` <br>\n",
    "\n",
    "**except**: the only print statements you are allowed to use are\n",
    "\n",
    "`print(\"*\")`, `print(\" \")`, `print(\"\")` (and `end = \"\"`).\n",
    "\n",
    "So, no string multiplication, no `.format()`, etc.  This is analogous to the tools you'd have at your disposal if we were doing this exercise in C++.\n",
    "\n",
    "Again, think of this as 12 stages.\n",
    "\n"
   ]
  },
  {
   "cell_type": "code",
   "execution_count": 27,
   "metadata": {},
   "outputs": [
    {
     "name": "stdout",
     "output_type": "stream",
     "text": [
      "*\n",
      "**\n",
      "***\n",
      "****\n",
      "*****\n",
      "******\n",
      "*******\n",
      "********\n",
      "*********\n",
      "**********\n",
      "***********\n",
      "************\n"
     ]
    }
   ],
   "source": [
    "for r in range(1,13):\n",
    "    for st in range(r):\n",
    "        print(\"*\", end = \"\")\n",
    "    print(\"\")"
   ]
  },
  {
   "cell_type": "markdown",
   "metadata": {},
   "source": [
    "<br><br><br><br><br><br><br><br><br><br>\n",
    "\n",
    "\n",
    "What goes into `PRINT ROW 7`?  (Why 7?  Just because I didn't want to start with row 1, which might be too easy.)\n",
    "\n",
    "Well, you want to print 7 stars, followed by a newline.  How do you do that?\n",
    "\n",
    "`for i in range(1,8):`<br>\n",
    "&nbsp;&nbsp;&nbsp;&nbsp;`   print(\"*\", end = \"\")`<br>\n",
    "`print(\"\") # Don't forget the newline!`\n",
    "\n",
    "What about, I dunno, how about `PRINT ROW 11`?\n",
    "\n",
    "`for i in range(1,12):`<br>\n",
    "&nbsp;&nbsp;&nbsp;&nbsp;`   print(\"*\", end = \"\")`<br>\n",
    "`print(\"\") # Don't forget the newline!`\n",
    "\n",
    "Ok, now let's get busy with what we really want.  I don't want to `PRINT ROW 7`, I don't want to `PRINT ROW 11`, I want to `PRINT ROW r`!!! And that would be....\n"
   ]
  },
  {
   "cell_type": "code",
   "execution_count": null,
   "metadata": {
    "collapsed": true
   },
   "outputs": [],
   "source": [
    "# EXAMPLE 2a: Star Triangle, with no string multiplication\n",
    "\n",
    "for r in range(1,13):\n",
    "    # Print row r\n",
    "    "
   ]
  },
  {
   "cell_type": "markdown",
   "metadata": {},
   "source": [
    "\n",
    "<br><br><br><br><br><br><br><br><br><br>\n",
    "\n",
    "Now, try the 12-layer star pyramid.  Again, no \"cheating\": only use `print(\"*\")`, `print(\" \")`, `print(\"\")` (and `end = \"\"`).\n"
   ]
  },
  {
   "cell_type": "code",
   "execution_count": null,
   "metadata": {
    "collapsed": true
   },
   "outputs": [],
   "source": [
    "           *\n",
    "          ***\n",
    "         *****\n",
    "        *******\n",
    "       *********\n",
    "      ***********\n",
    "     *************\n",
    "    ***************\n",
    "   *****************\n",
    "  *******************\n",
    " *********************\n",
    "***********************\n",
    "\n",
    "# Ignore the coloring.  \n"
   ]
  },
  {
   "cell_type": "code",
   "execution_count": 51,
   "metadata": {},
   "outputs": [
    {
     "name": "stdout",
     "output_type": "stream",
     "text": [
      "           *\n",
      "          ***\n",
      "         *****\n",
      "        *******\n",
      "       *********\n",
      "      ***********\n",
      "     *************\n",
      "    ***************\n",
      "   *****************\n",
      "  *******************\n",
      " *********************\n",
      "***********************\n"
     ]
    }
   ],
   "source": [
    "# EXAMPLE 2b: Star Pyramid, without string multiplication. #Going to be on the exam.\n",
    "\n",
    "for r in range(1,13):\n",
    "    for sp in range(1,13-r):\n",
    "        print(\" \",end = \"\")\n",
    "    for st in range(1, 2*r):\n",
    "        print(\"*\", end = \"\")\n",
    "    print(\"\")\n",
    "     "
   ]
  },
  {
   "cell_type": "markdown",
   "metadata": {},
   "source": [
    "\n",
    "<br><br><br><br><br><br><br><br><br><br>"
   ]
  },
  {
   "cell_type": "markdown",
   "metadata": {},
   "source": [
    "# 3. Turtles\n",
    "\n",
    "In the 80s, kids were introduced to programming using the LOGO language, where you would type instruction for a \"turtle\" to follow.  Python actually comes packaged with a module that allows you to create turtle graphics too!\n",
    "\n",
    "This is useful for....nothing, except amusement, and maybe as a tool for getting used to other language features."
   ]
  },
  {
   "cell_type": "code",
   "execution_count": 2,
   "metadata": {},
   "outputs": [
    {
     "ename": "Terminator",
     "evalue": "",
     "output_type": "error",
     "traceback": [
      "\u001b[1;31m---------------------------------------------------------------------------\u001b[0m",
      "\u001b[1;31mTerminator\u001b[0m                                Traceback (most recent call last)",
      "\u001b[1;32m<ipython-input-2-5d6dfd382288>\u001b[0m in \u001b[0;36m<module>\u001b[1;34m\u001b[0m\n\u001b[0;32m     26\u001b[0m \u001b[1;31m# Put these at the end. Ignore the \"Terminator\" error.\u001b[0m\u001b[1;33m\u001b[0m\u001b[1;33m\u001b[0m\u001b[1;33m\u001b[0m\u001b[0m\n\u001b[0;32m     27\u001b[0m \u001b[0mhere_is_the_screen\u001b[0m\u001b[1;33m.\u001b[0m\u001b[0mmainloop\u001b[0m\u001b[1;33m(\u001b[0m\u001b[1;33m)\u001b[0m\u001b[1;33m\u001b[0m\u001b[1;33m\u001b[0m\u001b[0m\n\u001b[1;32m---> 28\u001b[1;33m \u001b[0mturtle\u001b[0m\u001b[1;33m.\u001b[0m\u001b[0mbye\u001b[0m\u001b[1;33m(\u001b[0m\u001b[1;33m)\u001b[0m  \u001b[1;31m# \"turtle.bye()\" exactly.\u001b[0m\u001b[1;33m\u001b[0m\u001b[1;33m\u001b[0m\u001b[0m\n\u001b[0m",
      "\u001b[1;32m~\\Anaconda3\\lib\\turtle.py\u001b[0m in \u001b[0;36mbye\u001b[1;34m()\u001b[0m\n",
      "\u001b[1;31mTerminator\u001b[0m: "
     ]
    }
   ],
   "source": [
    "# EXAMPLE 3a:  Intro to turtles\n",
    "\n",
    "# To use turtles, you need to:\n",
    "# 1) import the turtle module\n",
    "# 2) create a screen variable: always write \"turtle.Screen()\" on the right side.\n",
    "# 3) create a turtle variable: always write \"turtle.Turtle()\" on the right side.\n",
    "\n",
    "import turtle\n",
    "here_is_the_screen = turtle.Screen() \n",
    "leonardo = turtle.Turtle()  #(Feel free to replace leonardo with the name of your favorite Ninja Turtle)\n",
    "\n",
    "# Now, let's control Leonardo.  He always starts in the center, facing right\n",
    "leonardo.forward(100) # 100 pixels\n",
    "leonardo.left(60) # Turns 60 degrees to the left of the direction he is currently facing\n",
    "leonardo.forward(100)\n",
    "leonardo.right(120)\n",
    "\n",
    "# If you want to move the turtle without having its trail drawn on the screen:\n",
    "leonardo.penup() \n",
    "leonardo.forward(200)\n",
    "leonardo.pendown() # And to resume drawing the trail...\n",
    "leonardo.left(240)\n",
    "leonardo.forward(300)\n",
    "\n",
    "    \n",
    "# Put these at the end. Ignore the \"Terminator\" error.     \n",
    "here_is_the_screen.mainloop()\n",
    "turtle.bye()  # \"turtle.bye()\" exactly."
   ]
  },
  {
   "cell_type": "markdown",
   "metadata": {},
   "source": [
    "\n",
    "<br><br><br><br><br><br><br><br><br><br>\n",
    "\n",
    "Let's use a loop to draw a hexagon."
   ]
  },
  {
   "cell_type": "code",
   "execution_count": 5,
   "metadata": {},
   "outputs": [
    {
     "ename": "Terminator",
     "evalue": "",
     "output_type": "error",
     "traceback": [
      "\u001b[1;31m---------------------------------------------------------------------------\u001b[0m",
      "\u001b[1;31mTerminator\u001b[0m                                Traceback (most recent call last)",
      "\u001b[1;32m<ipython-input-5-cabc919d3c7c>\u001b[0m in \u001b[0;36m<module>\u001b[1;34m\u001b[0m\n\u001b[0;32m     11\u001b[0m \u001b[1;33m\u001b[0m\u001b[0m\n\u001b[0;32m     12\u001b[0m \u001b[0mtscr\u001b[0m\u001b[1;33m.\u001b[0m\u001b[0mmainloop\u001b[0m\u001b[1;33m(\u001b[0m\u001b[1;33m)\u001b[0m\u001b[1;33m\u001b[0m\u001b[1;33m\u001b[0m\u001b[0m\n\u001b[1;32m---> 13\u001b[1;33m \u001b[0mturtle\u001b[0m\u001b[1;33m.\u001b[0m\u001b[0mbye\u001b[0m\u001b[1;33m(\u001b[0m\u001b[1;33m)\u001b[0m\u001b[1;33m\u001b[0m\u001b[1;33m\u001b[0m\u001b[0m\n\u001b[0m",
      "\u001b[1;32m~\\Anaconda3\\lib\\turtle.py\u001b[0m in \u001b[0;36mbye\u001b[1;34m()\u001b[0m\n",
      "\u001b[1;31mTerminator\u001b[0m: "
     ]
    }
   ],
   "source": [
    "# EXAMPLE 3b: A Hexagon\n",
    "\n",
    "import turtle\n",
    "tscr = turtle.Screen() \n",
    "raph = turtle.Turtle()  \n",
    "\n",
    "for i in range(1,7):\n",
    "    raph.forward(100)\n",
    "    raph.left(60)\n",
    "\n",
    "\n",
    "tscr.mainloop()\n",
    "turtle.bye()  "
   ]
  },
  {
   "cell_type": "markdown",
   "metadata": {},
   "source": [
    "\n",
    "<br><br><br><br><br><br><br><br><br><br>\n",
    "\n",
    "Check this one out.  What does it do?"
   ]
  },
  {
   "cell_type": "code",
   "execution_count": 6,
   "metadata": {},
   "outputs": [
    {
     "ename": "Terminator",
     "evalue": "",
     "output_type": "error",
     "traceback": [
      "\u001b[1;31m---------------------------------------------------------------------------\u001b[0m",
      "\u001b[1;31mTerminator\u001b[0m                                Traceback (most recent call last)",
      "\u001b[1;32m<ipython-input-6-42fa43198afa>\u001b[0m in \u001b[0;36m<module>\u001b[1;34m\u001b[0m\n\u001b[0;32m     15\u001b[0m \u001b[1;33m\u001b[0m\u001b[0m\n\u001b[0;32m     16\u001b[0m \u001b[0mtscr\u001b[0m\u001b[1;33m.\u001b[0m\u001b[0mmainloop\u001b[0m\u001b[1;33m(\u001b[0m\u001b[1;33m)\u001b[0m\u001b[1;33m\u001b[0m\u001b[1;33m\u001b[0m\u001b[0m\n\u001b[1;32m---> 17\u001b[1;33m \u001b[0mturtle\u001b[0m\u001b[1;33m.\u001b[0m\u001b[0mbye\u001b[0m\u001b[1;33m(\u001b[0m\u001b[1;33m)\u001b[0m\u001b[1;33m\u001b[0m\u001b[1;33m\u001b[0m\u001b[0m\n\u001b[0m",
      "\u001b[1;32m~\\Anaconda3\\lib\\turtle.py\u001b[0m in \u001b[0;36mbye\u001b[1;34m()\u001b[0m\n",
      "\u001b[1;31mTerminator\u001b[0m: "
     ]
    }
   ],
   "source": [
    "# EXAMPLE 3c: What is this?\n",
    "\n",
    "import turtle\n",
    "tscr = turtle.Screen() \n",
    "mike = turtle.Turtle()  \n",
    "\n",
    "mike.speed(100)\n",
    "\n",
    "length = 10\n",
    "for edge in range(1, 101):\n",
    "    mike.forward(length)\n",
    "    mike.right(90)\n",
    "    if edge % 2 == 0:\n",
    "        length += 10    \n",
    "\n",
    "tscr.mainloop()\n",
    "turtle.bye()  "
   ]
  },
  {
   "cell_type": "markdown",
   "metadata": {},
   "source": [
    "\n",
    "<br><br><br><br><br><br><br><br><br><br>"
   ]
  },
  {
   "cell_type": "markdown",
   "metadata": {},
   "source": [
    "# 4. Nested Turtles\n",
    "\n",
    "Now, let's try to draw this:\n",
    "\n",
    "![IMAGE NOT FOUND!!!!!!!!!!](hex.png)\n",
    "\n",
    "Here's a strategy: first, draw a hexagon with length 40.  After completing this, lift the pen up, move outward, put the pen down, and draw a hexagon with length 50.  Then repeat, with hexagons of length 60, 70 ....\n",
    "\n",
    "This is a nested loop problem: each hexagon is a stage; and drawing a hexagon involves 6 sides."
   ]
  },
  {
   "cell_type": "code",
   "execution_count": 1,
   "metadata": {},
   "outputs": [
    {
     "ename": "TurtleGraphicsError",
     "evalue": "There is no shape named tiger",
     "output_type": "error",
     "traceback": [
      "\u001b[1;31m---------------------------------------------------------------------------\u001b[0m",
      "\u001b[1;31mTurtleGraphicsError\u001b[0m                       Traceback (most recent call last)",
      "\u001b[1;32m<ipython-input-1-ef09dc6a56db>\u001b[0m in \u001b[0;36m<module>\u001b[1;34m\u001b[0m\n\u001b[0;32m      5\u001b[0m \u001b[0mtscr\u001b[0m \u001b[1;33m=\u001b[0m \u001b[0mturtle\u001b[0m\u001b[1;33m.\u001b[0m\u001b[0mScreen\u001b[0m\u001b[1;33m(\u001b[0m\u001b[1;33m)\u001b[0m\u001b[1;33m\u001b[0m\u001b[1;33m\u001b[0m\u001b[0m\n\u001b[0;32m      6\u001b[0m \u001b[0mraph\u001b[0m \u001b[1;33m=\u001b[0m \u001b[0mturtle\u001b[0m\u001b[1;33m.\u001b[0m\u001b[0mTurtle\u001b[0m\u001b[1;33m(\u001b[0m\u001b[1;33m)\u001b[0m\u001b[1;33m\u001b[0m\u001b[1;33m\u001b[0m\u001b[0m\n\u001b[1;32m----> 7\u001b[1;33m \u001b[0mraph\u001b[0m\u001b[1;33m.\u001b[0m\u001b[0mshape\u001b[0m\u001b[1;33m(\u001b[0m\u001b[1;34m\"tiger\"\u001b[0m\u001b[1;33m)\u001b[0m\u001b[1;33m\u001b[0m\u001b[1;33m\u001b[0m\u001b[0m\n\u001b[0m\u001b[0;32m      8\u001b[0m \u001b[1;33m\u001b[0m\u001b[0m\n\u001b[0;32m      9\u001b[0m \u001b[0mlength\u001b[0m \u001b[1;33m=\u001b[0m \u001b[1;36m40\u001b[0m\u001b[1;33m\u001b[0m\u001b[1;33m\u001b[0m\u001b[0m\n",
      "\u001b[1;32m~\\Anaconda3\\lib\\turtle.py\u001b[0m in \u001b[0;36mshape\u001b[1;34m(self, name)\u001b[0m\n\u001b[0;32m   2774\u001b[0m             \u001b[1;32mreturn\u001b[0m \u001b[0mself\u001b[0m\u001b[1;33m.\u001b[0m\u001b[0mturtle\u001b[0m\u001b[1;33m.\u001b[0m\u001b[0mshapeIndex\u001b[0m\u001b[1;33m\u001b[0m\u001b[1;33m\u001b[0m\u001b[0m\n\u001b[0;32m   2775\u001b[0m         \u001b[1;32mif\u001b[0m \u001b[1;32mnot\u001b[0m \u001b[0mname\u001b[0m \u001b[1;32min\u001b[0m \u001b[0mself\u001b[0m\u001b[1;33m.\u001b[0m\u001b[0mscreen\u001b[0m\u001b[1;33m.\u001b[0m\u001b[0mgetshapes\u001b[0m\u001b[1;33m(\u001b[0m\u001b[1;33m)\u001b[0m\u001b[1;33m:\u001b[0m\u001b[1;33m\u001b[0m\u001b[1;33m\u001b[0m\u001b[0m\n\u001b[1;32m-> 2776\u001b[1;33m             \u001b[1;32mraise\u001b[0m \u001b[0mTurtleGraphicsError\u001b[0m\u001b[1;33m(\u001b[0m\u001b[1;34m\"There is no shape named %s\"\u001b[0m \u001b[1;33m%\u001b[0m \u001b[0mname\u001b[0m\u001b[1;33m)\u001b[0m\u001b[1;33m\u001b[0m\u001b[1;33m\u001b[0m\u001b[0m\n\u001b[0m\u001b[0;32m   2777\u001b[0m         \u001b[0mself\u001b[0m\u001b[1;33m.\u001b[0m\u001b[0mturtle\u001b[0m\u001b[1;33m.\u001b[0m\u001b[0m_setshape\u001b[0m\u001b[1;33m(\u001b[0m\u001b[0mname\u001b[0m\u001b[1;33m)\u001b[0m\u001b[1;33m\u001b[0m\u001b[1;33m\u001b[0m\u001b[0m\n\u001b[0;32m   2778\u001b[0m         \u001b[0mself\u001b[0m\u001b[1;33m.\u001b[0m\u001b[0m_update\u001b[0m\u001b[1;33m(\u001b[0m\u001b[1;33m)\u001b[0m\u001b[1;33m\u001b[0m\u001b[1;33m\u001b[0m\u001b[0m\n",
      "\u001b[1;31mTurtleGraphicsError\u001b[0m: There is no shape named tiger"
     ]
    }
   ],
   "source": [
    "# EXAMPLE 4a: 8 Concentric hexagons\n",
    "\n",
    "import turtle\n",
    "\n",
    "tscr = turtle.Screen()\n",
    "raph = turtle.Turtle()\n",
    "raph.shape(\"tiger\")\n",
    "\n",
    "length = 40\n",
    "angle = 60\n",
    "\n",
    "raph.speed(100)\n",
    "\n",
    "# Here's some starter code, for you to fix.\n",
    "for hexagon in range(1,9):\n",
    "    for side in range(1,7):\n",
    "        raph.forward(length)\n",
    "        raph.left(angle)\n",
    "    length += 10\n",
    "    raph.right(120)\n",
    "    raph.penup()\n",
    "    raph.forward(10)\n",
    "    raph.left(120)\n",
    "    raph.pendown()\n",
    "    \n",
    "\n",
    "tscr.mainloop()\n",
    "turtle.bye()  "
   ]
  },
  {
   "cell_type": "markdown",
   "metadata": {},
   "source": [
    "<br><br><br><br><br><br><br><br><br><br>\n",
    "\n",
    "The basic trick is to avoid writing 8 different for loops.  The point here is that all the loops are the same, except that \"40\" changes.  In hexagon 1, the length is 40.  In hexagon 2, the length is 50.  In hexagon 3, the length is 60.  In other words, the length is always 30 + 10 * (hexagon number)!"
   ]
  },
  {
   "cell_type": "code",
   "execution_count": null,
   "metadata": {},
   "outputs": [],
   "source": [
    "# EXAMPLE 4a': 8 Concentric hexagons\n",
    "\n",
    "import turtle\n",
    "tscr = turtle.Screen()\n",
    "raph = turtle.Turtle()\n",
    "\n",
    "# A first draft\n",
    "for hexagon in range(1,9):\n",
    "    for side in range(1,7):\n",
    "        raph.forward(30 + hexagon*10) # Note that the inner loop is slightly different each time.\n",
    "        raph.left(60)\n",
    "\n",
    "\n",
    "tscr.mainloop()\n",
    "turtle.bye()"
   ]
  },
  {
   "cell_type": "markdown",
   "metadata": {},
   "source": [
    "That's actually not bad.  The problem is that each hexagon has the turtle returning to the same lower left vertex, and then starting the next hexagon from that same vertex.  In fact, every hexagon should start further out.  \n",
    "\n",
    "<br><br><br><br><br><br><br><br><br><br>"
   ]
  },
  {
   "cell_type": "markdown",
   "metadata": {},
   "source": [
    "# 5. `while` Loops\n",
    "\n",
    "The loops we have discussed so far are sometimes called **definite loops** because they run a fixed number of times: once for every element in a list or range, where the list is typically fixed before you first encounter the loop.\n",
    "\n",
    "Not every loop is so clear cut.  For example, consider a program that asks you to put in a password over and over again until you get it right.  How many times will the loop run? You don't know until you get to the last pass through the loop.\n",
    "\n"
   ]
  },
  {
   "cell_type": "code",
   "execution_count": null,
   "metadata": {
    "collapsed": true
   },
   "outputs": [],
   "source": [
    "# EXAMPLE 5a: Password\n",
    "\n",
    "correct_password = \"Hamburger\"\n",
    "\n",
    "user_guess = input(\"Guess the password: \")\n",
    "\n",
    "number_of_guesses = 1\n",
    "\n",
    "while user_guess != correct_password:\n",
    "    print(\"Wrong!\")\n",
    "    user_guess = input(\"Guess again: \")\n",
    "    number_of_guesses += 1\n",
    "    \n",
    "print(\"Took you long enough: {0} guesses.\".format(number_of_guesses))\n"
   ]
  },
  {
   "cell_type": "markdown",
   "metadata": {},
   "source": [
    "\n",
    "<br><br><br><br><br><br><br><br><br><br>\n",
    "\n",
    "This type of problem -- when you want code to run over and over again not till you get to the end of some fixed list, but rather until some specific even happens -- is what `while` loops are for."
   ]
  },
  {
   "cell_type": "code",
   "execution_count": null,
   "metadata": {
    "collapsed": true
   },
   "outputs": [],
   "source": [
    "WHILE LOOP SYNTAX:\n",
    "    \n",
    "\"... previous statements ...\"\n",
    "while {logical expression}:\n",
    "    {body, indented}\n",
    "\"... further statements, unindented...\"\n",
    "\n",
    "    \n"
   ]
  },
  {
   "cell_type": "markdown",
   "metadata": {},
   "source": [
    "This code will do the following.\n",
    "\n",
    "* First, *{logical expression}* will evaluate.\n",
    "* If it evaluates to `True`, *{body}* will execute.\n",
    "* Once that is finished, *{logical expression}* will evaluate again...\n",
    "* ...and if it is `True`, *{body}* will execute again, with all pertinent variables using their latest values.\n",
    "* And so on until *{logical expression}* evaluates to `False`.  At this point, statements after the *{body}* are executed.\n",
    "\n",
    "As always, indenting is important:  the part of the code that gets repeated is everything after the `while` line, until you get to a non-indented line.\n",
    "\n",
    "\n",
    "<br><br><br><br><br><br><br><br><br><br>\n",
    "\n",
    "Here's a flowchart:\n",
    "\n",
    "![IMAGE NOT FOUND!!!!!!!!!!](whileflow.png)"
   ]
  },
  {
   "cell_type": "code",
   "execution_count": null,
   "metadata": {
    "collapsed": true
   },
   "outputs": [],
   "source": [
    "# EXAMPLE 5b: Walkthrough\n",
    "# Can you follow what is happening here?\n",
    "# Once you know, taking away the quotations at the front.\n",
    "\n",
    "\"\"\"\n",
    "x = 3\n",
    "y = 2\n",
    "\n",
    "\n",
    "while x <  3 * y:\n",
    "    x += y\n",
    "    if x < 10:\n",
    "        y = 6 - y\n",
    "    print(x,y)\n",
    "    \n",
    "print(y)\n"
   ]
  },
  {
   "cell_type": "markdown",
   "metadata": {},
   "source": [
    "You might notice that a `while` loop can do anything a `for` loop can, and more! Indeed: **`while` loops are more general than `for` loops.**  (If that's not obvious, we'll see some examples in a short while.)  And `while` loops are simpler syntactically.  Why not teach them first?\n",
    "\n",
    "* If you can do a straightforward taks with a `while` or a `for`, the `for` loop is usually shorter and easier to read.\n",
    "* Most problems that truly need a `while` loop are more complex than the one's we've talked about so far.\n",
    "\n",
    "Here's a problem that doesn't need a `while` loop, but we'll do it with one anyway."
   ]
  },
  {
   "cell_type": "code",
   "execution_count": null,
   "metadata": {
    "collapsed": true
   },
   "outputs": [],
   "source": [
    "# EXAMPLE 5c: 99 Bottles\n",
    "# What does this code do?  What should it do?  Can you fix it, still using a while loop?\n",
    "\n",
    "var = 1\n",
    "\n",
    "while var <= 99:\n",
    "    print(\"{0} bottles of beer on the wall, {0} bottles of beer\".format(var))\n",
    "    print(\"If one of those bottles should happen to fall, {0} bottles of beer on the wall\".format(var-1))\n",
    "    var = var + 1"
   ]
  },
  {
   "cell_type": "code",
   "execution_count": null,
   "metadata": {
    "collapsed": true
   },
   "outputs": [],
   "source": [
    "# EXAMPLE 5c': 99 Bottles\n",
    "# What does this code do?  What should it do?  Can you fix it, still using a while loop?\n",
    "\n",
    "var = 99\n",
    "\n",
    "while var >= 1:\n",
    "    print(\"{0} bottles of beer on the wall, {0} bottles of beer\".format(var))\n",
    "    print(\"If one of those bottles should happen to fall, {0} bottles of beer on the wall\".format(var-1))\n",
    "    var = var - 1"
   ]
  },
  {
   "cell_type": "markdown",
   "metadata": {},
   "source": [
    "As I said, everything that can be done with a `for` can be done with a `while`, as well.  The basic trick is:\n",
    "\n",
    "* Initialize `loop_count` to be `0` or `1`\n",
    "* Write a line like `while loop_count < len(list_name):`, or `while count <=  <number of times>:`\n",
    "* At the end of the body of the loop, insert a line incrementing `loop_count`, like `loop_count += 1`\n",
    "\n",
    "To be clear: **_in Python, this way of going through a list is frowned upon._**  It is not a good idea to write like this in Python -- Python is optimized for `for` loops, and Python coders will expect them in a situation like this.  But I'm going to make you learn how to *read* it -- maybe even write it -- anyway, because this type of thing is necessary in other languages, and because it is a bit of a brain exercise.\n",
    "\n",
    "\n",
    "So, for example, how would you compute 100 terms of \n",
    "\n",
    "$$ e^3 + e^5 + e^7 + e^9 + e^{11} + \\ldots$$\n",
    "\n",
    "with a `for` loop?  With a `while` loop?"
   ]
  },
  {
   "cell_type": "code",
   "execution_count": null,
   "metadata": {},
   "outputs": [],
   "source": [
    "# EXAMPLE 5d: 50 terms of e^3 + e^5 + e^7 + e^9 + e^11 + ...\n",
    "import math\n",
    "\n",
    "# FOR loop:\n",
    "rs = 0\n",
    "for term_n in range(1,51):\n",
    "    the_exponent = 2*term_n + 1\n",
    "    rs += math.exp(the_exponent)\n",
    "print(rs)\n",
    "\n",
    "# WHILE loop:\n",
    "rs = 0\n",
    "term_n = 1     # FIRST difference\n",
    "while term_n <= 50:   # SECOND difference\n",
    "    the_exponent = 2*term_n + 1\n",
    "    rs += math.exp(the_exponent)\n",
    "    term_n += 1       # THIRD difference\n",
    "    \n",
    "print(rs)"
   ]
  }
 ],
 "metadata": {
  "kernelspec": {
   "display_name": "Python 3",
   "language": "python",
   "name": "python3"
  },
  "language_info": {
   "codemirror_mode": {
    "name": "ipython",
    "version": 3
   },
   "file_extension": ".py",
   "mimetype": "text/x-python",
   "name": "python",
   "nbconvert_exporter": "python",
   "pygments_lexer": "ipython3",
   "version": "3.7.1"
  },
  "name": "_merged_merged"
 },
 "nbformat": 4,
 "nbformat_minor": 2
}
