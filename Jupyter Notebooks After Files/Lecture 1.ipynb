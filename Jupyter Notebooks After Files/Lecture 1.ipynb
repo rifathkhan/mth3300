{
 "cells": [
  {
   "cell_type": "markdown",
   "metadata": {},
   "source": [
    "# Lecture 1\n",
    "\n",
    "### Class Objective;  Thinking Algorithmically; Hello World!; Variables; Values, Literals, Data Types; Variables and Expressions (and Printing)"
   ]
  },
  {
   "cell_type": "markdown",
   "metadata": {},
   "source": [
    "# 1. Class Objective\n",
    "\n",
    "Objective: to familiarize ourselves with ideas involved in creating computer programs.\n",
    "\n",
    "We'll use the Python 3 language, and we'll place some focus on mathematical applications.\n",
    "\n",
    "### What is a program?\n",
    "\n",
    "A set of instructions to be executed by a computer.  May involve input and output. \n",
    "\n",
    "Let's look at a few examples! [Here's where I show you Roots, and Digits, and Tetris.]\n",
    "\n",
    "\n",
    "### What is programming good for? \n",
    "\n",
    "Video games, apps on your phone, every program on your desktop, the operating systems on your phone/desktop, software for embedded systems (e.g. thermostats, microwaves, space probes), data science/machine learning, quantitative finance ...\n",
    "\n",
    "\n",
    "### What about Python 3 in particular? \n",
    "It is one of the most widely used languages on Earth -- and most of the other most widely used languages (e.g. C, C++, Java) have major similarities in syntax. (In fact, once you learn a first language, learning a second language is usually not nearly as difficult.) Python is also used frequently in fields like data science and quantitative finance, because of a vast array of well-developed libraries.  At the same time, Python is generally recognized as being very welcoming to the newcomer.\n",
    "\n",
    "------------------------------------------\n",
    "By the end of this course, you will know a lot about automating simple repetitive tasks.  \n",
    "\n",
    "You will know almost nothing about serious programming :(\n",
    "\n",
    "but you will be in a good place to start learning more and/or teaching yourself :)\n",
    "\n",
    "\n",
    "<br><br><br><br><br><br><br><br><br><br>\n"
   ]
  },
  {
   "cell_type": "markdown",
   "metadata": {},
   "source": [
    "### How do programs and programming work?  \n",
    "\n",
    "\n",
    "\n",
    "Typically, computers take their instructions in **machine code** (0's and 1's).  We're not really going to learn how that works.  \n",
    "\n",
    "Humans generally use a **high-level language** (like Python) to create **source code**; then, an **interpreter** (or in other languages, a **compiler**) translates this to a program in machine code, which the computer can run.  We will learn to speak the high-level language, to learn how to get the computer to execute the instructions we want it to.\n",
    "\n",
    "**Source code**: what you write to create a program.  Often, this is done in an **Integrated Design Environment** (or IDE), which is a platform that contains text editing features, an interpreter, a debugger, etc.\n",
    "\n",
    "**High-level language**: a language containing natural language elements, automated features, little direct interaction with RAM memory addresses.\n",
    "\n",
    "Examples: Python, C, C++, C#, Java, R, Matlab, Ruby, PHP, etc.\n",
    "\n",
    "This is to be contrasted with **low-level languages**, like Assembly, direct machine code.\n",
    "\n",
    "Learning to speak a high-level language well enough to write source code isn't actually too bad.  The hard part is putting your ideas into terms the language can accomodate.\n"
   ]
  },
  {
   "cell_type": "markdown",
   "metadata": {},
   "source": [
    "<br><br><br><br><br><br><br><br><br><br>\n",
    "\n",
    "# 2. Thinking Algorithmically\n",
    "\n",
    "*Example*: Suppose you are given two positive integers. What is the process you go through to determine which is larger, or if they are equal?\n",
    "\n",
    "To explain what I'm asking for: \n",
    "\n",
    "You didn't come out of the womb knowing that $378 > 245$, or $98 < 1001$, or $4425 < 4437$, or $421 = 421$.  Nor did anybody teach you these four specific facts; they taught you a process.  What *exactly* is that process?\n",
    "Don't be clever -- explain the way you learned back when you were young!\n",
    "\n",
    "(We'll assume that we all know how 0, 1, 2, 3, 4, 5, 6, 7, 8, 9 are ordered, but that we need to be taught about ordering bigger integers -- i.e. we're past Kindergarten, but haven't made it to 2nd grade yet. We'll also assume that our integers are less than 10 digits long for simplicity.)\n"
   ]
  },
  {
   "cell_type": "markdown",
   "metadata": {},
   "source": [
    "<br><br><br><br><br><br><br><br><br><br>\n",
    "\n",
    "\n",
    "\n",
    "The algorithm is just one part of the **development process**. \n",
    "\n",
    "\n",
    "Development process:\n",
    "\n",
    "1. Understand problem\n",
    "\n",
    "2. Design algorithm\n",
    "\n",
    "3. Code solution\n",
    "\n",
    "4. Test\n",
    "\n",
    "5. Are there bugs? (There always will be.) Then go back to step 2 and/or step 3.\n",
    "\n",
    "\n",
    "\n",
    "\n",
    "Goals for code:\n",
    "\n",
    "* Correct\n",
    "\n",
    "* Readable/maintainable (comments!)\n",
    "\n",
    "* Adaptable\n",
    "\n",
    "* Time/space efficient\n"
   ]
  },
  {
   "cell_type": "markdown",
   "metadata": {},
   "source": [
    "<br><br><br><br><br><br><br><br><br><br>\n",
    "\n",
    "\n",
    "# 3. Hello world!\n",
    "\n",
    "It's time to write our first program.  When this class was taught in C++, this was a lot more annoying.  Now, you just have to type out `print(\"Hello world\")`.  Type that out in the box below, and then press Shift-Enter.  Jupyter, the program which runs the document you're reading right now, is linked to a Python 3 interpreter, so that pressing Shift-Enter will run the program."
   ]
  },
  {
   "cell_type": "code",
   "execution_count": null,
   "metadata": {
    "collapsed": true
   },
   "outputs": [],
   "source": [
    "# EXAMPLE 3a: Hello world!\n",
    "# Make a program that, when run, prints \"Hello World\"\n",
    "\n",
    "\n"
   ]
  },
  {
   "cell_type": "markdown",
   "metadata": {},
   "source": [
    "So, when this program is run, a phrase prints out to the screen.  Not exactly Tetris, but you gotta start somewhere.  \n",
    "\n",
    "We've learned our first command: the print function.  There's more to say about this, but for the moment, notice the parentheses and the quotation marks.\n",
    "\n",
    "---------\n",
    "\n",
    "A word about the programs we will use to create and run Python 3 code.\n",
    "\n",
    "In class, we will use **Jupyter** most of the time to run our programs within the notes.  Jupyter is a program designed for presentations interspersed with code -- in other words, EXACTLY the type of thing you would want to make, say, Lecture notes in.  There are \"Markdown cells\" which are meant to contain text, and there are \"Code cells\", which start with \"In [number]:\", and which you can run in Python by pressing Shift-Enter.\n",
    "\n",
    "If you're not a teacher making notes for class, or you're not making a presentation, you may not want to use Jupyter.  So, when you create your own programs outside of the notes, I suggest that you write and run them within **Spyder**.  Spyder makes it easier to write and run longer bits of code, especially if your program occupies several files.  So, let's go to Spyder, to write and run this program from there.\n",
    "\n",
    "[This is the part where you open up Spyder.]\n"
   ]
  },
  {
   "cell_type": "markdown",
   "metadata": {},
   "source": [
    "<br><br><br><br><br><br><br><br><br><br>\n",
    "\n",
    "# 4. A Non-Trivial Program, with Variables\n",
    "\n",
    "Most of what we will do with our programs is manipulation of data: reading it in, calculating with it, manipulating it, spitting it out.  Even Tetris -- the graphics are numerical data output in a particular way, the pieces are represented by numbers, the keystrokes are represented numerically. So, let's start with the basics of data and its storage using *variables*.\n",
    "\n",
    "Look at the code below, which contains some variables.  We'll explain how it works in a few minutes, but for now, try to predict what it will do when run.\n",
    "\n",
    "`a = 10` <br>\n",
    "`b = 20` <br>\n",
    "`hey_yall_heres_the_sum = a + b` <br>\n",
    "`message = \"What's going to print on this line?\"` <br>\n",
    "`print (\"The sum of a and b is:\")` <br>\n",
    "`print (hey_yall_heres_the_sum)` <br>\n",
    "`a = 40` <br>\n",
    "`print (message, a + b)` <br>\n",
    "\n",
    "Once you've got an idea (hint: the lines are executed in order -- pay attention to that!), cut and paste that into the cell below, and press Shift-Enter."
   ]
  },
  {
   "cell_type": "code",
   "execution_count": null,
   "metadata": {
    "collapsed": true
   },
   "outputs": [],
   "source": [
    "# EXAMPLE 4a: Addition\n",
    "# Introducing: variables (and data types)\n",
    "\n",
    "\n",
    "\n",
    "\n",
    "\n",
    "\n",
    "\n",
    "\n",
    "\n"
   ]
  },
  {
   "cell_type": "markdown",
   "metadata": {},
   "source": [
    "<br><br><br><br><br><br><br><br><br><br>\n",
    "\n",
    "This program has 10 lines (not counting blank lines, which always get ignored).  The first 2, which start with #, are called **comments**.  The Python interpreter ignores them -- but you should always document what your code is doing!  And I require them on programming assignments.\n",
    "\n",
    "The next lines are executed in order.  The first four of these lines create **variables** named `a` and `b` and `hey_yall_heres_the_sum`, and `message`, and **assign** them values.  The first two assignments are straightforward: `a` holds the value 10 and `b` holds the value 20.  The third assignment assigns looks at the values given to `a` and `b`, adds them, and gives this value to the variable `hey_yall_heres_the_sum`.  \n",
    "\n",
    "The fourth assignment is another straightforward one, but notice that it assigns a different type of value -- a \"word\", or as we'll come to call it, a **string** (as in \"string of characters\").  We'll pay a lot of attention to **data types** later on: is our value an integer? a real number (or **float**)? a string? a true-false value (or **bool**)?\n",
    "\n",
    "Then come the print statements.  Notice that in the first one, we print a **string literal** (that means something in quotation marks), which prints to the screen exactly as typed.  The other print statements print *variables* (not in quotation marks), which causes the variables' respective *values* to be printed out.  In the last print statement, two variables are in the print statement, separated by a common; these will get printed on the same line, separated by a single space.\n",
    "\n",
    "Finally, notice that `a = 40` line before the last print statement.  Initially `a` had the value 10: and indeed, any reference to `a` above that line produced the value 10.  But then we encounter `a = 40`, and reference to `a` thereafter produce the value 40.  So when we print `a+b`, we get the value `60`.\n",
    "\n",
    "--------\n",
    "\n",
    "Does this seem really easy?  It's as easy as it sounds, and at the same time, it's totally not as easy as it sounds, so be careful as we progress.\n",
    "\n",
    "Oh, and you might be saying \"gee, that seems like a useless program.\"  If so, that's probably because it is a useless program.  Many of the programs I show you, especially for the first few lectures, are mere demonstrations of language features.  The demonstration here is: \"variables store (and remember) data.\""
   ]
  },
  {
   "cell_type": "markdown",
   "metadata": {},
   "source": [
    "<br><br><br><br><br><br><br><br><br><br>\n",
    "\n",
    "\n",
    "# 5. Values, Literals, Data Types \n",
    "\n",
    "Having shown you a little bit about variables, I'd like to rewind, and carefully discuss the very basic elements of the language, so that we can learn how to predict what the Python interpreter will do when it encounters any bit of code.\n",
    "\n",
    "All the data that a program will use consists of **_values_** of various types: numerical values, text values, logical values -- and down the line we will see fancier types of values.  \n",
    "\n",
    "A **_literal_** is a value that is written directly into your code.  In Python, there are four basic types of literals (there's actually a bunch more, but you will rarely need them is this class).  The first two are numeric: any run of digits that contains no decimal point is called an `int` (short for *integer*), and any run of digits that does contain a decimal point is called a `float` (short for *floating-point number*, but you should probably think of them just as \"decimal numbers\")."
   ]
  },
  {
   "cell_type": "code",
   "execution_count": null,
   "metadata": {
    "collapsed": true
   },
   "outputs": [],
   "source": [
    "# EXAMPLE 5a: Ints and floats\n",
    "\n",
    "print(32)         # In this line, 32 is an int literal\n",
    "x = -4            # In this line, -4 is an int literal\n",
    "print(x)          # No literals in this line\n",
    "6298341           # This line is just an int literal. It's kind of a dumb line,\n",
    "                  # because you don't DO anything with the value.\n",
    "\n",
    "print(17.34)      # In this line, 17.34 is a float literal\n",
    "print(50,000,000) # BEWARE -- no commas are allowed in int literals!\n",
    "print(50000000)   # Do it like this instead"
   ]
  },
  {
   "cell_type": "markdown",
   "metadata": {},
   "source": [
    "<br><br><br><br><br><br><br><br><br><br>\n",
    "\n",
    "A third type of literal is the `str` (short for *string*, as in \"string of characters\").  A string literal is any run of typed characters, surrounded by quotation marks.\n",
    "\n",
    "A fourth type of literal is the `bool` (short for *boolean*).  There are exactly two `bool` literals: `True` and `False`, typed exactly that way, without quotations.  They'll be useful to use in a few lectures, because they are useful for constructing logical expressions."
   ]
  },
  {
   "cell_type": "code",
   "execution_count": null,
   "metadata": {
    "collapsed": true
   },
   "outputs": [],
   "source": [
    "# EXAMPLE 5b: Ints and floats\n",
    "\n",
    "print(\"ABC\")                            # \"ABC\" is a str literal\n",
    "\"Stupid line ABC-123!\"                  # A longer str literal\n",
    "print(\"Red leather\", \"Yellow leather\")  # Two str literals inside a print\n",
    "\n",
    "y = True                                # True is a bool literal\n",
    "print(y, False)                         # False is a bool literal"
   ]
  },
  {
   "cell_type": "markdown",
   "metadata": {},
   "source": [
    "Every value in Python has a data type.  A **_data type_** is essentially just a category of values; we've just met four of them.  Data types help Python figure out what operations can be done with different values.  For example, look at the following.\n"
   ]
  },
  {
   "cell_type": "code",
   "execution_count": null,
   "metadata": {
    "collapsed": true
   },
   "outputs": [],
   "source": [
    "# EXAMPLE 5c: Type Error\n",
    "\n",
    "x = 3 + \"Hello\"\n",
    "# You'll never make it to the next line, because you can't add\n",
    "# an int and a str.\n",
    "\n",
    "print(x)"
   ]
  },
  {
   "cell_type": "markdown",
   "metadata": {},
   "source": [
    "<br><br><br><br><br><br><br><br><br><br>\n",
    "\n",
    "\n",
    "If you ever need to confirm the type of a value, the `type()` function can help you. "
   ]
  },
  {
   "cell_type": "code",
   "execution_count": null,
   "metadata": {
    "collapsed": true
   },
   "outputs": [],
   "source": [
    "# EXAMPLE 5d: Guess the types\n",
    "\n",
    "print(type(-4), type(-4.00), type(-4.) )\n",
    "\n",
    "print(type(True), type(\"False\"))\n",
    "print(type(\"12\"))\n",
    "print(type(hello world))"
   ]
  },
  {
   "cell_type": "markdown",
   "metadata": {},
   "source": [
    "The last line doesn't contain a valid value, since `hello world` isn't in quotes! You can fix this program by just commenting out the last line (that means putting a `#` in front of the line). "
   ]
  },
  {
   "cell_type": "markdown",
   "metadata": {},
   "source": [
    "<br><br><br><br><br><br><br><br><br><br>\n",
    "\n",
    "# 6. Variables and Expressions (and Printing)\n",
    "\n",
    "\n",
    "A **_variable_** is a *name* that is associated with a *value*. (Warning: this is actually a simplification. But it wouldn't be helpful to describe the truth right now.) \n",
    "\n",
    "The name part of a variable is called the variable's **_identifier_**.  Rules for Python identifiers:\n",
    "\n",
    "* Only letters, digits, and underscores (`_`), no spaces or other punctuation\n",
    "* May not begin with a digit\n",
    "* May not be a reserved word (`if`, `import`, `def`, etc.)\n",
    "\n",
    "So, these are legal: `hey123`, `AHHH`, `_x_y_z`\n",
    "\n",
    "And these are not: `1st_thing`, `what?`, `no spaces`\n",
    "\n",
    "Also:\n",
    "\n",
    "* Identifiers are case-sensitive: `hello` is not the same as `hElLo`\n",
    "* Probably should be *meaningful*\n",
    "* We'll start variable names with lowercase letters usually\n",
    "\n",
    "\n",
    "**The purpose of variables is to hold data values for reference later on.**  This \"obvious\" point takes a while to click for most beginners.  Variables aren't just things you throw in your program because whatever; their purpose is to remember data that you'll need later on.\n",
    "\n",
    "<br><br><br><br><br><br><br><br><br><br><br><br>\n",
    "\n",
    "To *create* a variable: simply write a line assigning it a value, of the following form:"
   ]
  },
  {
   "cell_type": "code",
   "execution_count": null,
   "metadata": {
    "collapsed": true
   },
   "outputs": [],
   "source": [
    "VARIABLE CREATION SYNTAX (do not run me):\n",
    "\n",
    "<variable name> = <value>\n"
   ]
  },
  {
   "cell_type": "markdown",
   "metadata": {},
   "source": [
    "After that, the variable name will be associated with that value, until it is assigned a different value.  \n",
    "\n",
    "(Note: In these notes, I will use `<this notation>` to represent a blank to be filled in.  I use this to highlight **_syntax_**: this refers to the order in which variables and operators are placed to make meaningful statements.  For example,  `x = 17` and `17 = x` are very different statements -- the latter causes a *syntax error*, because that's not the order you're supposed to write things in -- we'll discuss why soon.)\n",
    "\n",
    "<br><br><br><br><br><br><br><br><br><br>\n",
    "\n",
    "An **_expression_** is one or more literals or variables, connected with **operators** (e.g., `+`, `-`, etc.) and functions, which can be **_evaluated_** to produce a value.  For example:\n",
    "\n",
    "`3 + 4.5` <br>\n",
    "`\"Hello\" + \"Goodbye\"` <br>\n",
    "`len(\"Hello\")` <br>\n",
    "`\"Hello\" * 3` <br>\n",
    "\n",
    "When these are encountered in a program, the interpreter respectively computes values of `7.5`, `\"HelloGoodbye\"`, `5`, and `\"HelloHelloHello\"` for the first four.  (Notice that \"value\" doesn't mean *number* -- it means any type of data, and so strings are perfectly good end values.)\n",
    "\n",
    "These are **_not_** (just) expressions:\n",
    "\n",
    "`x = 5 + 7` <br>\n",
    "`print(5+7)`\n",
    "\n",
    "Sure, `5+7` on its own is an expression -- it has a value.  But `x = 5 + 7` and `print(5+7)` are really *instructions* about what to do with values, rather that *values* themselves.   \n",
    "\n",
    "Also, `3 + xyz` is also a (probably) valid expression.  Since the `xyz` is **not in quotes, it is treated as a variable!**\n",
    "\n",
    "To evaluate this expression, the interpreter reads the *current* value of the variable `xyz`, and (assuming it's numerical) produces that value plus 3. But: if \n",
    "\n",
    "* `xyz` has a non-numeric value, or\n",
    "* `xyz` has not previously been assigned a value\n",
    "\n",
    "then this will cause an error!\n",
    "\n",
    "<br><br><br><br><br><br><br><br><br><br>\n",
    "\n",
    "Let's talk about the very basics of printing, which you may have caught on to."
   ]
  },
  {
   "cell_type": "code",
   "execution_count": null,
   "metadata": {
    "collapsed": true
   },
   "outputs": [],
   "source": [
    "SYNTAX FOR THE PRINT FUNCTION:\n",
    "\n",
    "print(<whatever>, <another>, <yet another>, <as many of these as you like>)"
   ]
  },
  {
   "cell_type": "markdown",
   "metadata": {},
   "source": [
    "Each of those arguments (`<whatever>`, `<another>`, etc.) must be a single expression -- either a single literal, or a single variable, or a more complex formula.  When your program reaches the `print` line, each of the expressions will be printed out on the same line, with their current values at that line, in order, with spaces between each value.  The next `print` statement will be printed starting on a new line."
   ]
  },
  {
   "cell_type": "code",
   "execution_count": null,
   "metadata": {
    "collapsed": true
   },
   "outputs": [],
   "source": [
    "# EXAMPLE 6a: Basic print\n",
    "\n",
    "variable_x = 4 + 5\n",
    "print(\"Hello\", True, variable_x, 5*variable_x  - (variable_x+2), \"Goodbye\")\n",
    "print(\"Next line\")\n",
    "# That looks like two expressions to me, so there's got to be a comma between them!\n",
    "# If you put a comma in between, then this code will run.\n",
    "print(\"Here's a problem\" variable_x) "
   ]
  },
  {
   "cell_type": "markdown",
   "metadata": {},
   "source": [
    "You can also suppress the automatic newline at the end of a print by including `end = \"\"` at the end of the print statement, as follows."
   ]
  },
  {
   "cell_type": "code",
   "execution_count": null,
   "metadata": {
    "collapsed": true
   },
   "outputs": [],
   "source": [
    "# EXAMPLE 6b: Suppressing the automatic newline\n",
    "\n",
    "print(10)\n",
    "print(11)\n",
    "print(12, end = \"\") # This print statement won't be followed by an automatic newline...\n",
    "print(13)           # ...which means that this is displayed IMMEDIATELY after the 12, not even a space in between.\n",
    "print(14)"
   ]
  }
 ],
 "metadata": {
  "kernelspec": {
   "display_name": "Python 3",
   "language": "python",
   "name": "python3"
  },
  "language_info": {
   "codemirror_mode": {
    "name": "ipython",
    "version": 3
   },
   "file_extension": ".py",
   "mimetype": "text/x-python",
   "name": "python",
   "nbconvert_exporter": "python",
   "pygments_lexer": "ipython3",
   "version": "3.6.1"
  },
  "name": "_merged_merged"
 },
 "nbformat": 4,
 "nbformat_minor": 2
}
