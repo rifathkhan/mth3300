{
 "cells": [
  {
   "cell_type": "markdown",
   "metadata": {},
   "source": [
    "# Lecture 3\n",
    "\n",
    "### Functions, Modules, and Randomness; String Basics; Input; Errors; `.format()`; `.format` Specifiers"
   ]
  },
  {
   "cell_type": "markdown",
   "metadata": {},
   "source": [
    "# 0. Programming Assignment!!!!!\n",
    "\n",
    "* Put in-line comments, describing variables and non-obvious statements.\n",
    "\n",
    "* Make sure to read the specifications precisely! \n",
    "\n",
    "* Read the \"Grading and Submission\" document for more info.\n",
    "\n",
    "* Use my templates and my exact file names.  So, `triangle.py`, not `triangles.py`, not `jon_smith_triangle.py`.\n",
    "\n",
    "* List collaborators!  Or else, specifically write \"None.\"  If you talked to the person next to you, but didn't catch their name, just write \"the person who sits next to me in class.\"\n",
    "\n",
    "* If you need help with fixing bugs, send me your .py file (or, if that's hard, cut and paste your code into an email).  I generally can't fix your bug blind!  I'm not clairvoyant -- I don't know if you have two extra spaces on line 10.  Screenshots sometimes can also be helpful just because I can look at them on my phone when I'm out, and sometimes I can spot bugs by sight.\n",
    "\n",
    "* Suggestion: don't wait until your program is complete to run it.  Write a little bit, use liberal print statements, run what you have, and see if the output is what you expect it to be.  \n",
    "\n",
    "* START EARLY!"
   ]
  },
  {
   "cell_type": "markdown",
   "metadata": {},
   "source": [
    "<br><br><br><br><br><br><br><br><br><br>\n",
    "\n",
    "# 1. Functions, Modules, and Randomness"
   ]
  },
  {
   "cell_type": "markdown",
   "metadata": {},
   "source": [
    "In general, a **_function_** in Python is any expression that has the general form"
   ]
  },
  {
   "cell_type": "code",
   "execution_count": null,
   "metadata": {
    "collapsed": true
   },
   "outputs": [],
   "source": [
    "FUNCTION SYNTAX:\n",
    "\n",
    "<fn name>()  \n",
    "\n",
    "or \n",
    "\n",
    "<fn name>(  <inputs>  )\n"
   ]
  },
  {
   "cell_type": "markdown",
   "metadata": {},
   "source": [
    "So a function is something that you write with parentheses, that often (not always) has inputs, and which produces some action or value. (Cripes, what a horrible definition.  Let's stick with it anyway.)  \n",
    "\n",
    "`print()` is a function: you give it a `str` or a number, and it displays it on the screen.  \n",
    "\n",
    "`len()` is a function: you give it a `str`, and it produces a value: the length of that `str`.  \n",
    "\n",
    "<br><br><br><br><br><br><br><br><br><br>\n",
    "\n",
    "\n",
    "And of course, your favorite math functions are Python functions too!  They look slightly different in Python than they do in Calculus class, but I'm sure you can get the gist easily.   But: to use these functions, be sure to **import the `math` module**.  See below.  (For other math functions, use a textbook or Google!)   "
   ]
  },
  {
   "cell_type": "code",
   "execution_count": null,
   "metadata": {
    "collapsed": true
   },
   "outputs": [],
   "source": [
    "# EXAMPLE 1a: The math module\n",
    "\n",
    "# The following line IMPORTS A MODULE: the math module, which contains\n",
    "# functions beyond basic arithmetic\n",
    "\n",
    "import math \n",
    "\n",
    "# Now you can use functions and variables in the math module; just write math. \n",
    "# in front of whatever you need.\n",
    "\n",
    "y = 25.0\n",
    "z = (3.14159)/6 # This is a crappy way of writing PI/6 -- see below.\n",
    "\n",
    "# math.exp() is the function e^x\n",
    "print(math.exp(1))\n",
    "# math.sqrt() is the square root function\n",
    "print(math.sqrt(y))\n",
    "# I think you can guess this one\n",
    "print(math.sin(z))\n",
    "\n",
    "# math.pi isn't a function -- it's an imported variable. \n",
    "# Indeed, notice the lack of parentheses.\n",
    "print(math.pi)"
   ]
  },
  {
   "cell_type": "markdown",
   "metadata": {},
   "source": [
    "<br><br><br><br><br><br><br><br><br><br>\n",
    "\n",
    "Computers are great at following directions, but they are suprisingly bad at picking random numbers.  Fortunately, the creators of Python have made tools so that Python can do a pretty convincing job at faking it. \n",
    "To use random numbers, we'll have to import another module: the `random` module.\n",
    "\n",
    "For now, we'll use two basic ways to generate random numbers:\n",
    "\n",
    "* `random.random()` will return a random float between 0 and 1.  Each float has a roughly equal chance of being chosen.\n",
    "* `random.randrange(<int1>, <int2>)` will return a random integer that is $\\geq$ `<int1>` but less than `<int2>`. Pay attention to the boundaries: `<int1>` can be chosen, but `<int2>` cannot! "
   ]
  },
  {
   "cell_type": "code",
   "execution_count": null,
   "metadata": {
    "collapsed": true
   },
   "outputs": [],
   "source": [
    "# EXAMPLE 1b: Random numbers\n",
    "\n",
    "import random\n",
    "\n",
    "# Every time we run this, we'll get different results, but all 3 numbers should be between 0 and 1.\n",
    "x = random.random()\n",
    "y = random.random()\n",
    "z = random.random()\n",
    "\n",
    "print(x,y,z)\n",
    "\n",
    "# Here are some random \"dice rolls\" -- numbers between 1 and 6 (inclusive).\n",
    "\n",
    "roll_1 = random.randrange(1,7)\n",
    "roll_2 = random.randrange(1,7)\n",
    "roll_3 = random.randrange(1,7)\n",
    "\n",
    "print(roll_1, roll_2, roll_3)\n",
    "\n",
    "    "
   ]
  },
  {
   "cell_type": "markdown",
   "metadata": {},
   "source": [
    "<br><br><br><br><br><br><br><br><br><br>\n",
    "\n",
    "# 2.  String Basics\n",
    "\n",
    "Basic string operations include `+`, `len()`, and `*` as we discussed before, and also the *index operator*, represented by a pair of square brackets.  It works as follows: suppose that we write the lines\n",
    "\n",
    "`x = \"Hi!  Ho? \"` <br>\n",
    "`print(x[0])`<br>\n",
    "`print(x[1])`<br>\n",
    "`print(x[2])`<br>\n",
    "`print(x[6])`\n",
    "\n",
    "`x` is a `str` containing 9 characters (note the 2 spaces in the middle and the one at the end).  Then `x[0]` will produce the character `\"H\"`, while `x[1]` will produce the character `\"i\"`, and `x[2]` will produce the char `\"!\"`.  And `x[6]` will produce the seventh character (counting spaces), which is `\"o\"`.  Notice the **zero-based indexing**: the first character is labelled 0 rather than 1.  This is for historical reasons, but most major programming languages use it, and Reddit will make fun of you if you try to start counting with 1.\n",
    " \n",
    "Also be aware that if you see numbers in quotation marks, they are being treated by the program as sequences of symbols, rather than numbers.  See the next example."
   ]
  },
  {
   "cell_type": "code",
   "execution_count": null,
   "metadata": {
    "collapsed": true
   },
   "outputs": [],
   "source": [
    "# EXAMPLE 2a: Strings\n",
    "a = \"Hello\"\n",
    "b = \"Goodbye\"\n",
    "print(a+b) \n",
    "print(len(a+b))\n",
    "print(3*a)\n",
    "\n",
    "x = \"Hi!  Ho? \"\n",
    "print(x[0], x[1], x[2], x[6])\n",
    "print(x[-2]) # Here's a bonus tip -- if you put in a negative index, it counts from the end (but not zero-based)\n",
    "\n",
    "# Watch out here! It doesn't matter that us humans see numbers -- \n",
    "# if they are in quotes, they are treated as strings, NOT numbers.\n",
    "num1 = \"10\"\n",
    "num2 = \"20\"\n",
    "print(num1 + num2)\n",
    "print(num1 - num2)"
   ]
  },
  {
   "cell_type": "markdown",
   "metadata": {},
   "source": [
    "<br><br><br><br><br><br><br><br><br><br>\n",
    "\n",
    "Imagine that I wanted to store the following literal in a single string variable:\n",
    "\n",
    "`Evan said \"3300 is fun\" and we nodded politely.`\n",
    "\n",
    "Do you see why that could be tricky?"
   ]
  },
  {
   "cell_type": "code",
   "execution_count": null,
   "metadata": {
    "collapsed": true
   },
   "outputs": [],
   "source": [
    "# EXAMPLE 2b: A troublesome string literal\n",
    "\n",
    "# Look at the coloring of the code below -- it gives a big hint\n",
    "# about what the problem is.\n",
    "sentence = \"Evan said \"3300 is fun\" and we nodded politely.\"\n",
    "print(sentence)"
   ]
  },
  {
   "cell_type": "markdown",
   "metadata": {},
   "source": [
    "The quotes, which we want to be characters within the string, accidentally end the string!\n",
    "\n",
    "There are a few characters that, for one reason or another, are tricky to type.  To type these, Python (and many languages) have the so-called **_escape characters_**.  They are all typed as a backslash(`\\`) and one more keystroke; and they are used to represent these tricky characters.  Here are a few: \n",
    "\n",
    "* `\\n`: is the newline character.  If this is included in a string literal, then when that literal is printed, the slash and n will not be displayed -- in their place, you will see your output with part of it on a new line (the part after the backslash n).\n",
    "\n",
    "* `\\\"`: if you want to see the quote mark character, you can use \\\", and then that quote won't be interpreted as the end of the string.\n",
    "\n",
    "* `\\\\`: what if you actually truly want to see the backslash character?  You use two backslashes.\n"
   ]
  },
  {
   "cell_type": "code",
   "execution_count": null,
   "metadata": {
    "collapsed": true
   },
   "outputs": [],
   "source": [
    "# EXAMPLE 2c: Escape characters\n",
    "\n",
    "sentence = \"Evan said \\\"escape sequences are helpful\\\" and we nodded knowingly.\"\n",
    "print(sentence)\n",
    "\n",
    "forget = \"\\nHe also said... \\n\\n ...actually, I can't remember what else he said.\\n\"\n",
    "print(forget)\n",
    "\n",
    "slash = \"I guess I wasn't \\\\\\\\listening//.\"\n",
    "print(slash)"
   ]
  },
  {
   "cell_type": "markdown",
   "metadata": {},
   "source": [
    "<br><br><br><br><br><br><br><br><br><br>\n",
    "\n",
    "If you surround your string literals with pairs of double-quotes (`\"my usual\"`), they have to be typed on a single line of code.  But there is an alternative: you can surround them with **triple** double quotes (`\"\"\"Like this\"\"\"`) -- in this case, your literal is allowed to span many lines.  (This is also a trick used to temporarily disable big chunks of code without deleting them.)"
   ]
  },
  {
   "cell_type": "code",
   "execution_count": null,
   "metadata": {
    "collapsed": true
   },
   "outputs": [],
   "source": [
    "# EXAMPLE 2d: Multi-line literals\n",
    "\n",
    "# This works\n",
    "multi_line = \"\"\"This multi-line literal is legal.\n",
    "(The syntax coloring seems to back that up.)\n",
    "That's because I started the literal with a triple quote.\"\"\" \n",
    "print(multi_line)\n",
    "\n",
    "\n",
    "# This one won't work.  \n",
    "bad = \"Let me just\n",
    "use single quotes \n",
    "for a multi-line literal\n",
    "and see what happens\"\n",
    "\n",
    "print(bad)"
   ]
  },
  {
   "cell_type": "markdown",
   "metadata": {},
   "source": [
    "By the way -- we learned how the computer stores numbers, but how does it store strings? Simplified answer: there is a special, widely used system called ASCII (American Standard Code for Information Interchange), which associates a number to each printable character.  For example, `a` is 97, `b` is 98, `A` is 65, `0` (the symbol) is 49, `!` is 33, etc.  So, characters can be represented by integers, which we know how the computer stores.  So strings can also be stored in binary -- and indeed, all data stored by a computer is encoded in 0's and 1's somehow. "
   ]
  },
  {
   "cell_type": "markdown",
   "metadata": {},
   "source": [
    "<br><br><br><br><br><br><br><br><br><br>\n",
    "\n",
    "\n",
    "# 3. Input\n",
    "\n",
    "\n",
    "Starting now, this class will slowly begin to seem less silly: finally, we'll learn how to make our programs interactive.  This means that you, the programmer, can write a program, and then have someone else (henceforth referred to as \"the user\") run that program, and put in their own input.  You can design your programs to do interesting things with that input, even if you don't know what the user will enter in advance!\n",
    "\n",
    "\n",
    "An **_input statement_** will be a statement of the following form:"
   ]
  },
  {
   "cell_type": "code",
   "execution_count": null,
   "metadata": {
    "collapsed": true
   },
   "outputs": [],
   "source": [
    "INPUT STATEMENT SYNTAX:\n",
    "\n",
    "<variable> = input(<prompt message>)"
   ]
  },
  {
   "cell_type": "markdown",
   "metadata": {},
   "source": [
    "Here, `<variable>` denotes any variable you like; `<prompt message>` is a string literal or variable which will get printed, which should probably be something like `\"Please type something in here:\"`; and the rest is typed in exactly as shown.\n",
    "\n",
    "When your program gets to such a line, here is what happens:\n",
    "\n",
    "1. The prompt message is printed to the screen.\n",
    "\n",
    "2. The program's execution pauses, until the program's user types a few characters, followed by Enter.\n",
    "\n",
    "3. After Enter is pressed, all that the user has typed out (with the exception of the Enter) gets stored to *{variable}*.  (Or, more precisely, what the user types gets put into a `str` object, which *{variable}* is then associated to.)\n"
   ]
  },
  {
   "cell_type": "code",
   "execution_count": null,
   "metadata": {
    "collapsed": true
   },
   "outputs": [],
   "source": [
    "# EXAMPLE 3a: Echo!\n",
    "\n",
    "message = input(\"Please give me a phrase to repeat: \")\n",
    "print(message + \" \" + message + \" \" + message)\n",
    "\n",
    "# What's up with this line yall?\n",
    "print(\"Here's the first letter of the phrase: \" + message[1])"
   ]
  },
  {
   "cell_type": "markdown",
   "metadata": {},
   "source": [
    "Notice that if you enter `Hey\\n` or `5+3` at the prompt, you get exactly what you typed in out: no newlines or evaluation takes place. *User input is interpreted as characters, not code!*\n",
    "\n",
    "<br><br><br><br><br><br><br><br><br><br>\n",
    "\n",
    "There is one big time when this is truly inadequate: when you want to do math with inputs.  If inputs are automatically interpeted as `str`s, then how can you do math with them?  \n",
    "\n",
    "The answer is kind of simple: the functions\n",
    "\n",
    "`int()` and `float()`.\n",
    "\n",
    "These functions have a `str` as input, and (if it makes sense) will convert that `str` to the equivalent `int` or `float` value.  So for example:\n",
    "\n",
    "`int(\"125\")` will be the `int` value 125 <br>\n",
    "`float(\"125.34\")` will be the `float` value 125.34 <br>\n",
    "`float(\"1\")` will be the `float` value 1.0 <br>\n",
    "`float(\"12xu\")` and `int(\"1.23\")` are both examples of things that will cause errors. <br>\n",
    "\n",
    "Of course, use of these functions will only make your program work if the user actually enters a number.  You can't force them to comply, so you can only hope the user actually uses your program properly (well, that's not reallllly true, you can do a little more than that, as we'll see later in the course).\n",
    "\n",
    "With this knowledge, let's fix the following program."
   ]
  },
  {
   "cell_type": "code",
   "execution_count": null,
   "metadata": {
    "collapsed": true
   },
   "outputs": [],
   "source": [
    "# EXAMPLE 3b: Doubler\n",
    "# This is a program that asks the user to enter a number, and then print out the result of doubling it several times.\n",
    "\n",
    "number = input(\"Enter a number, which I will double several times: \")\n",
    "print(\"Doubling once: \", end = \"\")\n",
    "print(2 * number)\n",
    "print(\"Doubling again: \", end = \"\")\n",
    "print(4 * number)\n",
    "print(\"Doubling once again: \", end = \"\")\n",
    "print(8 * number)\n",
    "print(\"Doubling one more time: \", end = \"\")\n",
    "print(16 * number)\n"
   ]
  },
  {
   "cell_type": "markdown",
   "metadata": {},
   "source": [
    "\n",
    "<br><br><br><br><br><br><br><br><br><br>\n",
    "\n",
    "Now, we'll make our first non-silly program.  It's still really basic, but I'm sure you could imagine all the same ideas being employed to make a program that could, say, help you compute your taxes.\n",
    "\n",
    "This program should ask for: the user's name, and 3 scores for input.  After getting that, it should print out\n",
    "\n",
    "`<name>'s average is  <average of the three scores>.`\n",
    "\n",
    "To write this program, you need to have a clear view of the steps that need to take place, and in what order:\n",
    "\n",
    "* Ask for (and store) name\n",
    "* Ask for (and store) score 1\n",
    "* Do the last step twice more\n",
    "* Compute average\n",
    "* Print out result in desired format\n",
    "\n",
    "Also, be aware that you are writing the *program*, *not* the inputs.  In other words, once you've written your program, I should be able to walk up to your program, run it, enter my name and my scores and get the correct output.\n",
    "\n",
    "Finally, why do you need variables here?  Again, your program needs them to **remember**: it needs to remember the scores long enough to compute the average of all 3, and it needs to remember the name so it can print it at the end."
   ]
  },
  {
   "cell_type": "code",
   "execution_count": null,
   "metadata": {
    "collapsed": true
   },
   "outputs": [],
   "source": [
    "# EXAMPLE 3c: Average\n",
    "# Input name and three scores, print out \"[name]'s average is [average of scores].\"\n",
    "\n",
    "#\n",
    "# CODE HERE!\n",
    "#"
   ]
  },
  {
   "cell_type": "markdown",
   "metadata": {},
   "source": [
    "<br><br><br><br><br><br><br><br><br><br>\n",
    "\n",
    "# 4. Errors\n",
    "\n",
    "Let's talk about errors.  There are three basic types: **_syntax_**, **_runtime_** and **_semantic_** errors.  \n",
    "\n",
    "Syntax errors occur when your program can't be understood by the interpreter.  This typically happens because:\n",
    "you've put symbols together in an order the language doesn't recognize: putting more than one variable on the left side \n",
    "of an equal sign, starting a variable name with a number, unbalanced parentheses(!!!!!!!!!!!!!!!!!!!!!!!!!!!!!!!!!!!!!!!!!!!!).  Syntax errors occur when Python can't even break down your program into variables and operations without getting confused."
   ]
  },
  {
   "cell_type": "code",
   "execution_count": null,
   "metadata": {
    "collapsed": true
   },
   "outputs": [],
   "source": [
    "# EXAMPLE 4a: Syntax Errors\n",
    "# Any of these lines anywhere in your program will cause Python to\n",
    "# be so confused that it won't even attempt to run your program\n",
    "\n",
    "# The assignment operator needs a variable on the left side!\n",
    "4 + 2 = x\n",
    "\n",
    "# Python sees a 3 at the beginning, and it thinks it's dealing\n",
    "# with a number; it then gets very confused when it then sees \"x\"\n",
    "y = 3x # Try 3*x instead.\n",
    "\n",
    "# GOLDEN RULE OF PARENTHESES: number of opens = number of closes\n",
    "# (This is necessary, but not sufficient, for correctness)\n",
    "y = 2 + ((4 + 5)/(6 - 7)\n"
   ]
  },
  {
   "cell_type": "markdown",
   "metadata": {},
   "source": [
    "<br><br><br><br><br><br><br><br><br><br>\n",
    "\n",
    "**_Runtime_** errors occur when Python can at least figure out what all your variables and operations are, but can't execute them for whatever reason.  There are tons of different types of runtime errors; for example:\n",
    "\n",
    "* `NameError`: when you've referenced a variable prior to definition (arises oftern from typos)\n",
    "\n",
    "* `TypeError`: when you try to use an operation on an inappropriate type of data\n",
    "\n",
    "* `ZeroDivisionError`: `/0`, `//0`, `%0` are all bad.\n",
    "\n",
    "They're called \"runtime\" because most program checkers won't notice that this is a problem until the program is actually run."
   ]
  },
  {
   "cell_type": "code",
   "execution_count": null,
   "metadata": {
    "collapsed": true
   },
   "outputs": [],
   "source": [
    "# EXAMPLE 4b: Runtime Errors\n",
    "# Try removing some of these lines to see what the interpreter yells at you about for each one.\n",
    "\n",
    "# We've seen this one before: types don't match what the + operator expects.\n",
    "\"Hello\" + 3\n",
    "\n",
    "# At the time that print(y) is encountered, there is no y variable yet\n",
    "print(y)\n",
    "y = 4\n",
    "\n",
    "# Typos can be considered a special case of the above: you try to tell Python to print the line, but\n",
    "# the interpreter thinks you are introducing a new variable with the slightly-different name \"abce\"\n",
    "abcde = \"Look out for the missing letter d on the next line\"\n",
    "print(abce)\n",
    "\n",
    "# What happens when you divide by 0?\n",
    "3/0"
   ]
  },
  {
   "cell_type": "markdown",
   "metadata": {},
   "source": [
    "<br><br><br><br><br><br><br><br><br><br>\n",
    "\n",
    "**_Semantic_** errors are errors that don't prevent the program from running, but which give undesired (that is to say, wrong) outputs.  Here's a typical example."
   ]
  },
  {
   "cell_type": "code",
   "execution_count": null,
   "metadata": {
    "collapsed": true
   },
   "outputs": [],
   "source": [
    "# EXAMPLE 4c: Temperature conversion\n",
    "# This is supposed to convert 50F and 60F to Celsius.  It doesn't work -- why?\n",
    "\n",
    "farentemp = 50\n",
    "celtemp = (farentemp-32)/1.8\n",
    "print(farentemp)\n",
    "print(\"farenheit is the same as\")\n",
    "print(celtemp)\n",
    "print(\"celsius.\")\n",
    "\n",
    "print(\"\")\n",
    "\n",
    "farentemp = 60\n",
    "print(farentemp)\n",
    "print(\"farenheit is the same as\")\n",
    "print(celtemp)\n",
    "print(\"celsius.\")\n"
   ]
  },
  {
   "cell_type": "markdown",
   "metadata": {},
   "source": [
    "<br><br><br><br><br><br><br><br><br><br>\n",
    "\n",
    "\n",
    "How do you fix errors of any of these types? That's called **_debugging_**, and it's a huge part of programming.  There is no easy way to find bugs (often, once you *find* them, *fixing* them is relatively easy).  But there are three main tricks we'll use:\n",
    "\n",
    "1. Look at any errors the interpreter reports -- try your best to read them, and be aware that the error might be on an earlier line.\n",
    "\n",
    "2. Do walkthroughs of your program, carefully executing lines as the interpreter should, and keeping track of variable values at all moments.\n",
    "\n",
    "3. Print statements/ variable inspection: you should have an idea of what values all your variables hold at every point in your program, and you can confirm or deny your suspicions by inspecting their values at those points.\n",
    "\n",
    "Roughly 100% of the code ever written by anybody has had bugs at some point in its development.  Here is one of the keys to success in this class:\n",
    "\n",
    "**__WHEN YOU ENCOUNTER A BUG, DON'T JUST FIX IT -- UNDERSTAND IT.__**\n",
    "\n",
    "(This is useful for life in general, too.)\n",
    "\n",
    "<br><br><br><br><br><br><br><br><br><br>\n",
    "\n",
    "\n",
    "One more classic debug: suppose you want to swap the values of two variables.  I.e., suppose that `x = 3` and `y = 4`, and you want to change that so `x = 4` and `y = 3`.  The following code doesn't work.  Why?  How do you fix it?"
   ]
  },
  {
   "cell_type": "code",
   "execution_count": null,
   "metadata": {
    "collapsed": true
   },
   "outputs": [],
   "source": [
    "# EXAMPLE 4d: Swap\n",
    "\n",
    "x = 3\n",
    "y = 4\n",
    "\n",
    "# Now I want to switch the values (without cheating and just writing x = 4 and y = 3\n",
    "# directly).  So I try:\n",
    "\n",
    "x = y\n",
    "y = x\n",
    "\n",
    "# What's going to happen when I print these values?"
   ]
  },
  {
   "cell_type": "markdown",
   "metadata": {},
   "source": [
    "Before we go on, a riddle.  Let's say you have a mug of hot coffee in your left hand, and a mug of hot tea in your right hand.  How do you switch hands (put coffee in the right hand, tea in the left)?\n",
    "\n"
   ]
  },
  {
   "cell_type": "markdown",
   "metadata": {},
   "source": [
    "<br><br><br><br><br><br><br><br><br><br>\n",
    "\n",
    "# 5. Pretty Printing with `.format()`\n",
    "\n",
    "Before we start learning about control structures, let's discuss a tool for careful printing: `.format()`.  I'll start by just showing an example."
   ]
  },
  {
   "cell_type": "code",
   "execution_count": null,
   "metadata": {
    "collapsed": true
   },
   "outputs": [],
   "source": [
    "# EXAMPLE 5a: Introducing .format()\n",
    "\n",
    "n = input(\"Enter a name: \")\n",
    "\n",
    "# .format() will replace any appearance of {0} in the string with n. \n",
    "# Notice how you can have one uninterrupted string, which has \"blanks\" that can be easily filled in.\n",
    "\n",
    "hs = \"Mr. {0}, that's my name, that name again is Mr. {0}!\".format(n)\n",
    "\n",
    "print(hs)\n",
    "\n",
    "# Compare that with the more awkward....\n",
    "print(\"Mr.\", n, \", that's my name, that name again is Mr.\", n, \"!\")\n",
    "# Notice all the quotation marks, all the commas.\n",
    "# Also, there are a couple of unintended space."
   ]
  },
  {
   "cell_type": "markdown",
   "metadata": {},
   "source": [
    "So, `.format()` is a device which helps us achieve what-you-see-is-what-you-get printing when you want to intersperse literal text with variable values.  Here's the basics of how you use it.\n",
    "\n",
    "* First, you type a string enclosed with quotes as usual.  Presumably, this string will have some places where you want to fill in the value of some variable or expression.  Where those places are, type `{0}` (this will get more elaborate in a moment).\n",
    "* Directly after the closing quotation, type `.format()`.  Inside the parentheses, put the variable or expression that you'd like to fill in. `.format()` is a function which will create a new string, by replacing all instances of `{0}` with the value of the variable/expression, which you can then store directly to a variable or print directly."
   ]
  },
  {
   "cell_type": "code",
   "execution_count": null,
   "metadata": {
    "collapsed": true
   },
   "outputs": [],
   "source": [
    "# EXAMPLE 5b: Name tag\n",
    "\n",
    "n = input(\"Enter a name: \")\n",
    "\n",
    "# Let's use .format() to allow the program to print a name tag:\n",
    "# \"Hello, my name is [NAME], how are you?\"\n",
    "\n"
   ]
  },
  {
   "cell_type": "markdown",
   "metadata": {},
   "source": [
    "<br><br><br><br><br><br><br><br><br><br>\n",
    "\n",
    "You can also have multiple different fill ins.  In this case, `{0}` will represent the first fill in (the first value within the parentheses of `.format()`), while `{1}` will represent the second, and `{2}` will represent the third, etc."
   ]
  },
  {
   "cell_type": "code",
   "execution_count": null,
   "metadata": {
    "collapsed": true
   },
   "outputs": [],
   "source": [
    "# EXAMPLE 5c: Multiple fill-ins\n",
    "\n",
    "x = \"\"\"The wonderful thing about {1}\n",
    "Is {1} are wonderful things!\n",
    "Their tops are made out of rubber\n",
    "Their bottoms are made out of springs!\n",
    "They're b{0}, tr{0}, fl{0}, p{0}\n",
    "{2}, {2}, {2}, {2}, {2}!\n",
    "But the most wonderful thing about {1} is\n",
    "I'm the only one\"\"\".format(\"ouncy\", \"tiggers\", \"fun\")\n",
    "\n",
    "print(x)"
   ]
  },
  {
   "cell_type": "code",
   "execution_count": null,
   "metadata": {
    "collapsed": true
   },
   "outputs": [],
   "source": [
    "# EXAMPLE 5d: Madlibs\n",
    "\n",
    "pl_noun = input(\"Enter a plural noun: \")         # patrons\n",
    "ing_verb = input(\"Enter a verb ending in ing: \")  # squawking\n",
    "\n",
    "# Finish this line so that it reads \"Sir, your squawking is annoying the other patrons.\", using .format()\n",
    "madlib =    \n",
    "\n",
    "print(madlib)\n"
   ]
  },
  {
   "cell_type": "markdown",
   "metadata": {},
   "source": [
    "<br><br><br><br><br><br><br><br><br><br>\n",
    "\n",
    "\n",
    "# 6. `.format` Specifiers\n",
    "\n",
    "The value of `.format()` becomes more apparent when we start using *format-specifiers* to make our output appear in a visually appealing manner.  This can be done by replacing `{0}` and `{1}` and `{2}` with things like\n",
    "\n",
    "`{0:6}` or `{1:^20}` or `{2:.4f}`\n",
    "\n",
    "Each of the parts after a colon specifies something about exactly how the entry prints out. This is best shown by example, so see below.  (This is just a sample of the options you have; these are the only ones I will test you on, though.) "
   ]
  },
  {
   "cell_type": "code",
   "execution_count": null,
   "metadata": {
    "collapsed": true
   },
   "outputs": [],
   "source": [
    "# EXAMPLE 6a: Let's play with some format specifiers.\n",
    "\n",
    "name = \"Evan\"\n",
    "number = 1/6\n",
    "\n",
    "print(\"{0:10}'s number is {1}\".format(name, number))\n",
    "# Here's what the \":10\" part does. It specifies that the first fill-in should print 10 characters in total.\n",
    "# Since \"Evan\" is only 4 characters long, it fills in the remaining 6 spaces with blanks.\n",
    "\n",
    "print(\"{0:^15}'s number is {1}\".format(name, number))\n",
    "# The \":^15\" works the same way, except instead of making \"Evan\" the LEFT 4 characters, it makes it the MIDDLE\n",
    "# 4 chracters. (The text may not be perfectly centered.)\n",
    "\n",
    "print(\"{0}'s number is {1:.5f}\".format(name, number))\n",
    "# The \":.5f\" will only work for floating point numbers.  The \".5\" means \"5 digits\", the \"f\" means \"after the \n",
    "# decimal\" ('f' stands for 'float').\n"
   ]
  },
  {
   "cell_type": "markdown",
   "metadata": {},
   "source": [
    "Notice that the first two printed line have inappropriately rounded last digits, because of `float` inprecision at the lowest places.  However, the last one, where we have demanded that the display is rounded to 5 places after the decimal, comes out rounded correctly!\n",
    "\n",
    "<br><br><br><br><br><br><br><br><br><br>\n",
    "\n",
    "Let's fix this code so that the output looks proper, like (for example, with 6 people)\n",
    "\n",
    "`Each person pays: $16.92` <br>\n",
    "\n",
    "where the price is displayed with no space after the dollar sign, and rounded to two decimal places.\n"
   ]
  },
  {
   "cell_type": "code",
   "execution_count": null,
   "metadata": {
    "collapsed": true
   },
   "outputs": [],
   "source": [
    "# EXAMPLE 6b: Split the bill\n",
    "\n",
    "n = int(input(\"Number of people: \"))\n",
    "bill = 101.53\n",
    "\n",
    "print(\"Each person pays: $\", bill/n)\n"
   ]
  },
  {
   "cell_type": "markdown",
   "metadata": {},
   "source": [
    "<br><br><br><br><br><br><br><br><br><br>\n",
    "\n",
    "Clearly, specifiers like `:.5f` are useful for when you want to display a certain number of significant digits.  The other specifiers we mentioned can be really useful if you want Python to print pretty tables -- if you have columns, they can help you make sure that they line up properly."
   ]
  },
  {
   "cell_type": "code",
   "execution_count": null,
   "metadata": {
    "collapsed": true
   },
   "outputs": [],
   "source": [
    "# EXAMPLE 6c: Some nicely formatted columns.\n",
    "\n",
    "name1 = \"Joe\"\n",
    "name2 = \"Katherine\"\n",
    "name3 = \"Larry\"\n",
    "score1 = 24.15818\n",
    "score2 = 23.616\n",
    "score3 = 17\n",
    "\n",
    "# Since all three lines are given the same format specifiers, they will print tightly aligned columns, even though the data\n",
    "# has different lengths.\n",
    "print(\"Look at pretty columns!!!!\")\n",
    "print(\"{0:12}| Score = {1:.3f}\".format(name1, score1))\n",
    "print(\"{0:12}| Score = {1:.3f}\".format(name2, score2))\n",
    "print(\"{0:12}| Score = {1:.3f}\".format(name3, score3))"
   ]
  }
 ],
 "metadata": {
  "kernelspec": {
   "display_name": "Python 3",
   "language": "python",
   "name": "python3"
  },
  "language_info": {
   "codemirror_mode": {
    "name": "ipython",
    "version": 3
   },
   "file_extension": ".py",
   "mimetype": "text/x-python",
   "name": "python",
   "nbconvert_exporter": "python",
   "pygments_lexer": "ipython3",
   "version": "3.6.1"
  },
  "name": "_merged_merged"
 },
 "nbformat": 4,
 "nbformat_minor": 2
}
