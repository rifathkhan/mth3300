{
 "cells": [
  {
   "cell_type": "markdown",
   "metadata": {},
   "source": [
    "# Lecture 7\n",
    "\n",
    "### Intro to Programmer-Defined Functions; Local Variables; Lists and Loops; Lists in Detail; Mutation Operations; What?; Calculator"
   ]
  },
  {
   "cell_type": "markdown",
   "metadata": {},
   "source": [
    "# 1. A Quick Introduction to Programmer-Defined Functions\n",
    "\n",
    "We have used a lot of functions in Python: `len()`, `print()`, `math.exp()`, `random.randrange()`, etc. As a programmer, you can write your own functions, too!\n",
    "\n",
    "Why would you want to? Because **functions can help you break down your problems into smaller, more manageable parts** and **minimize repetition of code**.  The act of writing your programs in pieces is sometimes called *modular programming*.  \n",
    "\n",
    "Before justifying that this really is useful, let's look at an example, which illustrates the mechanics (if not the purpose) of programmer-defined functions."
   ]
  },
  {
   "cell_type": "code",
   "execution_count": null,
   "metadata": {
    "collapsed": true
   },
   "outputs": [],
   "source": [
    "# EXAMPLE 1a: A programmer-defined function\n",
    "# This function computes sums of squares of numbers.\n",
    "# Presumably, this is something that we may find ourselves doing a lot.\n",
    "\n",
    "def sum_of_squares(x, y, z):\n",
    "    sos = x**2 + y**2 + z**2\n",
    "    return sos"
   ]
  },
  {
   "cell_type": "markdown",
   "metadata": {},
   "source": [
    "Run that code.  It doesn't appear to really do much!  But it defines a new function.  The keyword `def` denotes that we're defining a function; `sum_of_squares` is the *name* of the function; `x`, `y` and `z` represent the *inputs* to the function; and the word `return` denotes that the *output* of the function is the value called `sos`.\n",
    "\n",
    "Now, let's **use** the function."
   ]
  },
  {
   "cell_type": "code",
   "execution_count": null,
   "metadata": {
    "collapsed": true
   },
   "outputs": [],
   "source": [
    "# EXAMPLE 1b: Using that function\n",
    "\n",
    "def sum_of_squares(x, y, z):\n",
    "    sos = x**2 + y**2 + z**2\n",
    "    return sos\n",
    "\n",
    "##################################\n",
    "# Here's where the action starts.\n",
    "\n",
    "# On this line, I am CALLING (using) the function.  \n",
    "# The variables x, y and z temporarily become the inputs 1, 3, 5, respectively.\n",
    "# When you USE the function, you don't write \"def\"\n",
    "# (the same way that you haven't written def when you use len() or math.sqrt())\n",
    "a = sum_of_squares(1,3,5)\n",
    "print(a)\n",
    "\n",
    "# A function is meant to be reused!  I don't rewrite the definition of the function,\n",
    "# but I use it multiple times.\n",
    "b = sum_of_squares(1,4,0)\n",
    "print(b)\n",
    "\n",
    "# Of course, these three lines happen to do nothing, for exactly the same reason...\n",
    "3 + 5                  #\n",
    "len(\"Hello\")           # They all compute values, which then go unused.\n",
    "sum_of_squares(1,1,1)  #\n",
    "\n",
    "\n",
    "# You can use variables and expressions as inputs, as well.\n",
    "p = 4\n",
    "q = 1\n",
    "print(sum_of_squares(p, 2*q, p + q))"
   ]
  },
  {
   "cell_type": "markdown",
   "metadata": {},
   "source": [
    "Let's go through this.  There are two things to understand -- how the function is *defined*, and how it is used (or *called*).  Let's start with the definition."
   ]
  },
  {
   "cell_type": "code",
   "execution_count": null,
   "metadata": {
    "collapsed": true
   },
   "outputs": [],
   "source": [
    "BASIC FUNCTION DEFINITION SYNTAX:\n",
    "    \n",
    "def <function name>(<parameter list>):\n",
    "    <body>\n",
    "    return <output value>"
   ]
  },
  {
   "cell_type": "markdown",
   "metadata": {},
   "source": [
    "The word `parameters` refers to names used for the inputs when you define the function.  So in the program above, the parameters were `x`, `y` and `z`, and the output value was called `sos`.\n",
    "\n",
    "When your program encounters a function definition, it does .... well, not much, at first.  This is just a *definition* of a function -- what you see above the ################## in this example.\n",
    "\n",
    "But then, later, you may *call* this function, which would look something like\n",
    "\n",
    "`{function name}(<actual parameters>)`\n",
    "\n",
    "Calls to a function must occur lower in the code than where that function is defined.  In our program, the calls looked like `sum_of_squares(var1, var2, var3)`.  When Python encounters `sum_of_squares(var1, var2, var3)`, program control is passed to the function -- that is, the function will stop its normal execution, and instead executing the function's code. More specifically, here is what happens:\n",
    "\n",
    "* The parameters of the function will be matched with the actual parameters (or *arguments*).  This means that `x` will be assigned the value of `var1`, `y` will be assigned the value of `var2`, and `z` will be assigned the value of `var3`. (First gets matched with first, second gets matched with second -- order matters here.)\n",
    "* The body of the function will execute, using these values.\n",
    "* The line `return sos` ends the function's execution, and the value of `sum_of_squares(var1, var2, var3)` will be whatever `sos` is.\n",
    "* That value then gets stored to a variable, or printed, or ignored, depending on what you code does with `sum_of_squares(var1, var2, var3)`, and the program continues.\n",
    "\n",
    "Let's write one together.  (This would be a very useful function to write, were it not actually already part of the Python language.)"
   ]
  },
  {
   "cell_type": "code",
   "execution_count": null,
   "metadata": {
    "collapsed": true
   },
   "outputs": [],
   "source": [
    "# EXAMPLE 1c: Max function\n",
    "# Let's write a function called my_max. \n",
    "# This function should receive two arguments, are output whichever is greater.\n",
    "\n",
    "def my_max(first, sec):\n",
    "    if first > sec:\n",
    "        output = first\n",
    "    else:\n",
    "        output = sec\n",
    "    return output\n",
    "    \n",
    "a = 3\n",
    "b = 4\n",
    "c = 8\n",
    "\n",
    "print(\"my_max(a,b) =\", my_max(a, b))\n",
    "print(\"my_max(c+1,b) =\", my_max(c + 1, b))\n",
    "print(\"my_max(5,c) =\", my_max(5, c))"
   ]
  },
  {
   "cell_type": "markdown",
   "metadata": {},
   "source": [
    "Try writing a function called `my_abs`, which should receive one numerical argument, and return the absolute value of that argument."
   ]
  },
  {
   "cell_type": "code",
   "execution_count": null,
   "metadata": {
    "collapsed": true
   },
   "outputs": [],
   "source": [
    "# EXAMPLE 1d: my_abs\n",
    "\n",
    "def my_abs(x):      # ALTERNATIVE BODY:\n",
    "    if x > 0:       # if x > 0:\n",
    "        ab = x      #     return x \n",
    "    else:           # else:\n",
    "        ab = -x     #     return -x\n",
    "    return ab\n",
    "    \n",
    "print(\"If this isn't 2, your function has a problem :\", my_abs(2))\n",
    "print(\"If this isn't 4, your function has a problem :\", my_abs(-4))\n",
    "print(\"If this isn't 0, your function has a problem :\", my_abs(0))"
   ]
  },
  {
   "cell_type": "markdown",
   "metadata": {},
   "source": [
    "# 2. Local Variables in Functions\n",
    "\n",
    "Variables that are defined in a function are **local** variables: these are variables that will only exist when a function is being executed, and cease to exist when the function is finished executing. So, for example, if you define a variable named `xyz` inside the body of a function, then you can only refer to that variable within the function.  If you then also define a variable with the same name `xyz`  outside of the function, then -- oddly enough -- Python will treat those as different variables (for reasons that we'll come back to later).\n",
    "\n",
    "This means that: you can't modify outside variables inside a function (except for assigning a return value); and you can't access local variables outside of the function they are defined in.  This can be a little confusing, but fortunately there are two general principles for writing functions which usually will help you build working, helpful functions:\n",
    "\n",
    "1. The only outside values that a function uses should be the *arguments*.\n",
    "2. The only effects that a function should have on program execution should be through its *returned value*.\n",
    "\n",
    "I'll call these the \"One Way In\" and \"One Way Out\" principles.  \n",
    "\n",
    "Everything in the preceding two paragraphs is an oversimplification, and we'll elaborate on it down the road.  For now, you should follow this advice for now if you write functions: if you don't, there's a good chance that your functions will end up not working or being confusing and unhelpful.  \n",
    "\n",
    "For now, look at the following examples, of things **not** to do.\n"
   ]
  },
  {
   "cell_type": "code",
   "execution_count": 1,
   "metadata": {},
   "outputs": [
    {
     "ename": "UnboundLocalError",
     "evalue": "local variable 'x' referenced before assignment",
     "output_type": "error",
     "traceback": [
      "\u001b[1;31m---------------------------------------------------------------------------\u001b[0m",
      "\u001b[1;31mUnboundLocalError\u001b[0m                         Traceback (most recent call last)",
      "\u001b[1;32m<ipython-input-1-ac907e2f0fff>\u001b[0m in \u001b[0;36m<module>\u001b[1;34m()\u001b[0m\n\u001b[0;32m     14\u001b[0m     \u001b[1;32mreturn\u001b[0m \u001b[0mx\u001b[0m\u001b[1;33m\u001b[0m\u001b[0m\n\u001b[0;32m     15\u001b[0m \u001b[1;33m\u001b[0m\u001b[0m\n\u001b[1;32m---> 16\u001b[1;33m \u001b[0mprint\u001b[0m\u001b[1;33m(\u001b[0m\u001b[0mx_times_y\u001b[0m\u001b[1;33m(\u001b[0m\u001b[1;36m10\u001b[0m\u001b[1;33m)\u001b[0m\u001b[1;33m)\u001b[0m\u001b[1;33m\u001b[0m\u001b[0m\n\u001b[0m",
      "\u001b[1;32m<ipython-input-1-ac907e2f0fff>\u001b[0m in \u001b[0;36mx_times_y\u001b[1;34m(y)\u001b[0m\n\u001b[0;32m      7\u001b[0m \u001b[1;31m# It won't work, because the x inside in the function is a local variable.\u001b[0m\u001b[1;33m\u001b[0m\u001b[1;33m\u001b[0m\u001b[0m\n\u001b[0;32m      8\u001b[0m \u001b[1;32mdef\u001b[0m \u001b[0mx_times_y\u001b[0m\u001b[1;33m(\u001b[0m\u001b[0my\u001b[0m\u001b[1;33m)\u001b[0m\u001b[1;33m:\u001b[0m\u001b[1;33m\u001b[0m\u001b[0m\n\u001b[1;32m----> 9\u001b[1;33m     \u001b[0mx\u001b[0m \u001b[1;33m=\u001b[0m \u001b[0mx\u001b[0m\u001b[1;33m*\u001b[0m\u001b[0my\u001b[0m     \u001b[1;31m# On the right side, where does the value of x come from?\u001b[0m\u001b[1;33m\u001b[0m\u001b[0m\n\u001b[0m\u001b[0;32m     10\u001b[0m                 \u001b[1;31m# It doesn't come from an argument.\u001b[0m\u001b[1;33m\u001b[0m\u001b[1;33m\u001b[0m\u001b[0m\n\u001b[0;32m     11\u001b[0m                 \u001b[1;31m# So I guess it comes from the x = 20 line above?\u001b[0m\u001b[1;33m\u001b[0m\u001b[1;33m\u001b[0m\u001b[0m\n",
      "\u001b[1;31mUnboundLocalError\u001b[0m: local variable 'x' referenced before assignment"
     ]
    }
   ],
   "source": [
    "# EXAMPLE 2a: Local variables, part I\n",
    "\n",
    "x = 20\n",
    "\n",
    "\n",
    "# We'll try to write a function to update the value of x.  \n",
    "# It won't work, because the x inside in the function is a local variable.\n",
    "def x_times_y(y):\n",
    "    x = x*y     # On the right side, where does the value of x come from?\n",
    "                # It doesn't come from an argument.\n",
    "                # So I guess it comes from the x = 20 line above?\n",
    "                # But then we're violating the One Way In principle.\n",
    "                # (And, not coincidentally, we get an error)\n",
    "    return x\n",
    "\n",
    "print(x_times_y(10))"
   ]
  },
  {
   "cell_type": "code",
   "execution_count": null,
   "metadata": {
    "collapsed": true
   },
   "outputs": [],
   "source": [
    "# EXAMPLE 2b: Local variables, part II\n",
    "\n",
    "\n",
    "def fn(z):\n",
    "    new_guy = z + 1\n",
    "    z = z + 2\n",
    "    return z\n",
    "\n",
    "\n",
    "x = fn(40)\n",
    "\n",
    "# We're trying to use a value that was created by fn.  This violates the\n",
    "# One Way Out principle -- the only effect that fn should have on program execution \n",
    "# should be through a return value.  (And not coincidentally, we get an error.)\n",
    "print(new_guy)\n",
    "\n",
    "\n",
    "# This violates the One Way Out principle, too.  Don't be confused by the fact that we \n",
    "# \"return z\":  it's not really the NAME z that is returned by the function, it's the VALUE\n",
    "# held by z that is returned (and in this case, stored to x).  References to z outside of\n",
    "# the function body will also cause errors.\n",
    "print(z)"
   ]
  },
  {
   "cell_type": "code",
   "execution_count": null,
   "metadata": {},
   "outputs": [],
   "source": [
    "# EXAMPLE 2c: Don't print, return!\n",
    "\n",
    "# One Way Out principle: the only effect that fn should have on program execution \n",
    "# should be through a RETURN value.  Functions (usually) shouldn't PRINT: they should\n",
    "# RETURN!\n",
    "\n",
    "def bad_max(x, y):\n",
    "    if x > y:\n",
    "        output = x\n",
    "    else:\n",
    "        output = y\n",
    "    print(output)  # NOOOOOO :( :(\n",
    "    \n",
    "\n",
    "# At first this seems fine, mostly. (Although you get these weird \"None\"'s.)\n",
    "print(bad_max(3,7))\n",
    "print(bad_max(5,-1))\n",
    "\n",
    "# But what if you want to do something fancier?\n",
    "x = bad_max(1,2) + bad_max(5,3)\n",
    "print(x)"
   ]
  },
  {
   "cell_type": "markdown",
   "metadata": {},
   "source": [
    "# 3. Lists and Loops\n",
    "\n",
    "Suppose I want to print out all the months of the year, like so:\n",
    "\n",
    "`Month number 1 is January` <br>\n",
    "`Month number 2 is February` <br>\n",
    "`Month number 3 is March` <br>\n",
    "`Month number 4 is April` <br>\n",
    "`Month number 5 is May` <br>\n",
    "`Month number 6 is June` <br>\n",
    "`Month number 7 is July` <br>\n",
    "`Month number 8 is August` <br>\n",
    "`Month number 9 is September` <br>\n",
    "`Month number 10 is October` <br>\n",
    "`Month number 11 is November` <br>\n",
    "`Month number 12 is December` <br>\n",
    "\n",
    "There's a lot of repetition. We could cut and paste `print(\"Month number\")` over and over again, but perhaps there is a better way.  Like.....this."
   ]
  },
  {
   "cell_type": "code",
   "execution_count": null,
   "metadata": {
    "collapsed": true
   },
   "outputs": [],
   "source": [
    "# EXAMPLE 3a: The months of the year\n",
    "\n",
    "months = [\"January\", \"February\", \"March\", \"April\", \"May\", \"June\", \"July\", \"August\", \"September\", \"October\", \"November\", \"December\"]\n",
    "\n",
    "num = 1\n",
    "\n",
    "for m in months:\n",
    "    print(\"Month number \" + str(num) + \" is \" + m)\n",
    "    num = num + 1"
   ]
  },
  {
   "cell_type": "markdown",
   "metadata": {},
   "source": [
    "We've just introduced two things at once:\n",
    "\n",
    "* A new data type -- the **_list_**\n",
    "* and a new type of statement -- the **_for loop_**\n",
    "\n",
    "**_Hey everyone!  This is it!  This is where we start programming for real! Get ready!_**\n",
    "\n",
    "All of the programs we've written until now can only execute as many commands as you've written.  If your program has 20 lines, the computer will execute 20 (or fewer) instructions.  That's fine, but the power of having a computer at your disposal is its *speed*.  We want it to be able to execute millions of instructions, but we don't want to have to *write* millions of lines, or *manually enter* millions of pieces of data.  With lists and loops, we can now use minimal code to execute huge numbers of instructions.\n",
    "\n",
    "One more example: what is the sum of the first hundred million positive integers?"
   ]
  },
  {
   "cell_type": "code",
   "execution_count": null,
   "metadata": {
    "collapsed": true
   },
   "outputs": [],
   "source": [
    "# EXAMPLE 3b: 1+2+3+4+....+100,000,000\n",
    "\n",
    "running_sum = 0\n",
    "\n",
    "for n in range(1, 10 ** 8 + 1):\n",
    "    running_sum = running_sum + n\n",
    "    \n",
    "print(running_sum)"
   ]
  },
  {
   "cell_type": "markdown",
   "metadata": {},
   "source": [
    "The computer just did 100 million operations while you watched!  (Actually, way more than 100 million operations, since Python has to do many things in the background to perform each addition.)\n"
   ]
  },
  {
   "cell_type": "markdown",
   "metadata": {},
   "source": [
    "# 4. Lists in Detail\n",
    "\n",
    "A **_list_** is a collection of values, arranged in an order.  The basic way to create a list is with the following syntax:\n"
   ]
  },
  {
   "cell_type": "code",
   "execution_count": null,
   "metadata": {
    "collapsed": true
   },
   "outputs": [],
   "source": [
    "LIST SYNTAX:\n",
    "    \n",
    "<list name> = [<first value>, <second value>, <...and so on...>, <last value>]\n"
   ]
  },
  {
   "cell_type": "markdown",
   "metadata": {},
   "source": [
    "Note that a list is enclosed in square brackets `[` and `]`.  If you use regular parentheses, you're creating something else that may end up working for your purposes, but it is definitely not the same type of list that I'm talking about.\n",
    "\n",
    "The values can be of any types, and don't all have to be the same type."
   ]
  },
  {
   "cell_type": "code",
   "execution_count": null,
   "metadata": {
    "collapsed": true
   },
   "outputs": [],
   "source": [
    "#EXAMPLE 4a: Lists\n",
    "\n",
    "x = [12, \"Hello\", 13, \"Goodbye\", True, 14]\n",
    "y = [5, 6, 7]\n",
    "\n",
    "print(\"type(x) =\", type(x))\n",
    "print(\"x[2] =\", x[2])\n",
    "print(\"x[-1] =\", x[-1])\n",
    "print(\"x[-2] =\", x[-2])\n",
    "print(\"len(x) =\", len(x))\n",
    "print(\"x + y =\", x + y)\n",
    "print(\"y*3 =\", y*3)\n",
    "print(\"x[626] =\", x[626])"
   ]
  },
  {
   "cell_type": "markdown",
   "metadata": {},
   "source": [
    "As you can tell, we just illustrated several features of lists.\n",
    "\n",
    "* First, `list` is a new data type.  \n",
    "* Remember how you can index the characters of a `str` using `[ ]`?  You can do the same thing with `list`s.  And just like with `str`s, **zero-based indexing** is employed.\n",
    "* You can also do indexing based from the end: e.g., `x[-1]` is the last element of `x`, `x[-2]` is the second-to-last, etc.\n",
    "* If you try to read an index that is longer than the length of the list, however, you will get a run-time error.\n",
    "* `len()` also works for lists.  \n",
    "* You can concatenate `list`s using `+`: this will produce a new `list`, which combines the two operands.\n",
    "* And you can multiply a `list` by an integer.\n",
    "\n",
    "I should probably also show you **_slicing_** while we're covering the basics.  Slicing refers to taking a portion of a list (not necessarily just a single element).  To do this, you would write an expression that looks like, e.g., `x[2:6]`, which would create a new list, containing elements `x[2]`,`x[3]`, `x[4]`, `x[5]` -- but not `x[6]`.  (That took me a while to get used to -- the last index is *not* included, just the ones before.)  Let's look at examples below.\n",
    "\n"
   ]
  },
  {
   "cell_type": "code",
   "execution_count": null,
   "metadata": {
    "collapsed": true
   },
   "outputs": [],
   "source": [
    "#EXAMPLE 4b: Slicing\n",
    "\n",
    "my_list = [\"Exhibit A\",\"Exhibit B\",\"Exhibit C\",\"Exhibit D\",\"Exhibit E\",\"Exhibit F\",\"Exhibit G\",\"Exhibit H\"]\n",
    "\n",
    "# A basic slice; this contains elements 3,4,5, and 6 (using 0-based indexing)\n",
    "slice_1 = my_list[3:7]\n",
    "print(\"slice_1 =\", slice_1)\n",
    "\n",
    "# If you leave out the part before the :, it assumes you're starting at the beginning; \n",
    "# if you leave out the part after the :, it assumes you're going until the end.\n",
    "print(\"my_list[:2] =\", my_list[:2])\n",
    "print(\"my_list[6:] =\", my_list[6:])\n",
    "\n",
    "# You can even use negative indices in slices.\n",
    "print(\"my_list[-6:4] =\", my_list[-6:4])\n",
    "\n",
    "# What happens if you try to slice out of bounds?\n",
    "print(\"my_list[100:102] = \", my_list[100:102])\n",
    "\n",
    "# You can also slice strings, by the way.\n",
    "big_string = \"abcdefghi\"\n",
    "print(big_string[2:5])\n"
   ]
  },
  {
   "cell_type": "markdown",
   "metadata": {},
   "source": [
    "# 5. Lists, Mutability and The Basic Mutation Operations\n",
    "\n",
    "You may have notice that `str`s and `list`s are a lot alike: indeed, a `str` is pretty much -- not quite, but pretty much -- a list where each element must be a single character.  One big difference is that `str`s are **immutable**, whereas `list`s are **mutable**.  \n",
    "\n",
    "Let me show you the major implications of this, before returning to describe exactly what this means."
   ]
  },
  {
   "cell_type": "code",
   "execution_count": null,
   "metadata": {
    "collapsed": true
   },
   "outputs": [],
   "source": [
    "# EXAMPLE 5a: Strings and lists\n",
    "# List objects can change, while string objects cannot.\n",
    "\n",
    "my_list = [\"I\", \"can\", \"change\"]\n",
    "my_string = \"I canNOT change\"\n",
    "\n",
    "# Here's the basic difference: you can change parts of the list.\n",
    "my_list[2] = \"changggggggeeee!\"\n",
    "my_list.append(\"See? Now I just got longer too\")\n",
    "print(my_list)\n",
    "\n",
    "\n",
    "# But the following analogous operations with strings don't work.\n",
    "my_string[2] = \"B\"\n",
    "my_string.append(\"!!!\")\n",
    "print(my_string)\n",
    "\n",
    "# Note that this does NOT mean that my_string can't change.  It's just that \n",
    "# if you change a variable, you have to change the entire variable.\n",
    "my_string = \"If I change the whole string, it's ok\"\n",
    "my_string = my_string + \" (and this line is ok too)\"\n",
    "\n",
    "my_list = [\"I\", \"can also\", \"change entire lists\", \"of course\"]\n",
    "\n",
    "print(my_string)\n",
    "print(my_list)"
   ]
  },
  {
   "cell_type": "markdown",
   "metadata": {},
   "source": [
    "So, you change **parts** of `list`s, but if you want to change a `str`, you have to create an entirely *new* `str`.  Ok, this isn't exactly the full reasoning; we'll get to that later.\n",
    "\n",
    "------\n",
    "\n",
    "Let's talk about some \"mutation\" operations for lists.\n",
    "\n",
    "* `.append({elt})` puts *{elt}* at the end of a list.\n",
    "* `.insert({pos}, {elt})` puts *{elt}* into the list at position *{pos}* (with the element currently at that position moving back).\n",
    "* `del {list name}[{pos}]` removes element *{pos}* from the list *{list name}*.\n",
    "\n",
    "Other useful ones that I encourage you to look up include `.extend()`, `.remove()`, and `.pop()`.\n"
   ]
  },
  {
   "cell_type": "code",
   "execution_count": null,
   "metadata": {
    "collapsed": true
   },
   "outputs": [],
   "source": [
    "# EXAMPLE 5b: List operations\n",
    "\n",
    "x = [\"a\", \"b\", \"c\", \"d\", \"e\"]\n",
    "# Add f and g\n",
    "x.append(\"f\")\n",
    "x.insert(3,\"g\")\n",
    "print(x)\n",
    "\n",
    "# Let's take them back out using del\n",
    "del x[3]\n",
    "del x[5]\n",
    "print(x)"
   ]
  },
  {
   "cell_type": "markdown",
   "metadata": {},
   "source": [
    "# 6. Pause: What?"
   ]
  },
  {
   "cell_type": "code",
   "execution_count": null,
   "metadata": {
    "collapsed": true
   },
   "outputs": [],
   "source": [
    "# EXAMPLE 6a: Assignment\n",
    "\n",
    "# Compare the results of this bit of code....\n",
    "x = \"Old\"\n",
    "y = x\n",
    "x = \"New\"\n",
    "print(y)\n",
    "\n",
    "# ...with this one...\n",
    "x = [\"Old\", \"One\"]\n",
    "y = x\n",
    "x = [\"New\", \"Guy\"]\n",
    "print(y)\n",
    "\n",
    "#...AND THIS ONE!!!!!\n",
    "x = [\"Old\", \"One\"]\n",
    "y = x\n",
    "x[0] = \"New!!!!\"\n",
    "print(y)"
   ]
  },
  {
   "cell_type": "markdown",
   "metadata": {},
   "source": [
    "Why are the last two snippets so different?  They both change `x`, but one change causes `y` to change, and the other doesn't. \n",
    "\n",
    "The short short short answer is: be careful when you copy one list variable into another variable, especially when you perform mutation operations.  The same goes for any mutable data types -- for now, lists are basically the only ones we know about.  \n",
    "\n",
    "The long answer will come at a later date.  It will either be really enlightening or it will shatter your youthful optimism once and for all."
   ]
  },
  {
   "cell_type": "markdown",
   "metadata": {},
   "source": [
    "# 7. Calculator\n",
    "\n",
    "Let's write a program that reads a line like\n",
    "\n",
    "`12.3 - 3.4`\n",
    "\n",
    "from user input, interprets it as an arithmetic expression, and the evaluates that expression.  Note that this is **not** as simple as it sounds, for one basic reason:\n",
    "\n",
    "*user input is always interpreted as a `str`, not as code!*\n",
    "\n",
    "As far as Python is concerned, when you enter `2 + 3`, it just sees a 5-character `str`: a `2` symbol, a space, a `+` symbol, a space, and a `3` symbol.   Of course, the `int` and `float` functions can help interpret `str`s as numbers if each character happens to be a digit or a decimal mark. But beyond that, there aren't many standard solutions for converting strings into code.  (This actually is a lie -- there is a function that convertes input to executable code, but it is a **huge** security risk, whose use in serious code should be considered a last resort, and so we will avoid it.)\n",
    "\n",
    "So, how do we do this?\n",
    "\n",
    "* Get input, as a `str`.\n",
    "* Second, break apart that `str` into a number, an operation symbol, and another number.\n",
    "* Check if the operation symbol is `\"+\"`, `\"-\"`, etc.\n",
    "* Once we have determined the operation symbol, evaluate a Python expression with the corresponding operation, and print the answer.\n",
    "\n",
    "To perform the second step, let me introduce a really useful function: `.split()`.  If `str_var` is a `str` variable, then `str_var.split()` is an expression which, when evaluated, produces a list, whose entries are the consecutive runs of non-whitespace characters in `str_var`.  (\"Whitespace\" refers to spaces, tabs, and newlines.) That's a mouthful, but when you see it laid out it isn't so bad. For example:"
   ]
  },
  {
   "cell_type": "code",
   "execution_count": null,
   "metadata": {
    "collapsed": true
   },
   "outputs": [],
   "source": [
    "# EXAMPLE 7a: .split()\n",
    "\n",
    "a = \"    Hey   Ho     Let's      Go   !\"\n",
    "print(a.split())\n",
    "\n",
    "b = \"Got\\tsome\\ttabs\"\n",
    "print(b.split())\n",
    "\n",
    "c = \"\"\"\n",
    "Big\n",
    "Multi\n",
    "Line\n",
    "\"\"\"\n",
    "print(c.split())"
   ]
  },
  {
   "cell_type": "markdown",
   "metadata": {},
   "source": [
    "So, our program will accept a long `str`, presumably with spaces before and after the operation symbol.  Assuming this, we can take the input and use `.split()` to break it into 3 pieces.  Let's see the final code."
   ]
  },
  {
   "cell_type": "code",
   "execution_count": null,
   "metadata": {
    "collapsed": true
   },
   "outputs": [],
   "source": [
    "# EXAMPLE 7b: Calculator\n",
    "\n",
    "expression = input(\"Enter an expression: \")\n",
    "\n",
    "symbols = expression.split()\n",
    "\n",
    "argument1 = float(symbols[0])\n",
    "argument2 = float(symbols[2])\n",
    "operation = symbols[1]\n",
    "\n",
    "if operation == \"+\":\n",
    "    print(\"=\", argument1 + argument2)\n",
    "elif operation == \"-\":\n",
    "    print(\"=\", argument1 - argument2)\n",
    "elif operation == \"*\":\n",
    "    print(\"=\", argument1 * argument2)\n",
    "elif operation == \"/\":\n",
    "    if argument2 == 0:\n",
    "        print(\"Can't divide by 0 silly\")\n",
    "    else:\n",
    "        print(\"=\", argument1 / argument2)\n",
    "else:\n",
    "    print(\"Unparsable expression\")"
   ]
  }
 ],
 "metadata": {
  "kernelspec": {
   "display_name": "Python 3",
   "language": "python",
   "name": "python3"
  },
  "language_info": {
   "codemirror_mode": {
    "name": "ipython",
    "version": 3
   },
   "file_extension": ".py",
   "mimetype": "text/x-python",
   "name": "python",
   "nbconvert_exporter": "python",
   "pygments_lexer": "ipython3",
   "version": "3.7.0"
  },
  "name": "_merged_merged"
 },
 "nbformat": 4,
 "nbformat_minor": 2
}
