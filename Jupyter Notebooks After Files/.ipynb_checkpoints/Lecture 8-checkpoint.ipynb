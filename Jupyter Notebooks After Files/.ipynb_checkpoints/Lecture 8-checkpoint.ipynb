{
 "cells": [
  {
   "cell_type": "markdown",
   "metadata": {},
   "source": [
    "# Lecture 8\n",
    "\n",
    "### Mutation Operations; What?; Calculator; `for` Loops; Loop Tasks 1: Accumulations; Loop Tasks 2: Search (and `break`)"
   ]
  },
  {
   "cell_type": "markdown",
   "metadata": {},
   "source": [
    "# 1. Lists, Mutability and The Basic Mutation Operations\n",
    "\n",
    "You may have notice that `str`s and `list`s are a lot alike: indeed, a `str` is pretty much -- not quite, but pretty much -- a list where each element must be a single character.  One big difference is that `str`s are **immutable**, whereas `list`s are **mutable**.  \n",
    "\n",
    "Let me show you the major implications of this, before returning to describe exactly what this means."
   ]
  },
  {
   "cell_type": "code",
   "execution_count": null,
   "metadata": {
    "collapsed": true
   },
   "outputs": [],
   "source": [
    "# EXAMPLE 1a: Strings and lists\n",
    "# List objects can change, while string objects cannot.\n",
    "\n",
    "my_list = [\"I\", \"can\", \"change\"]\n",
    "my_string = \"I canNOT change\"\n",
    "\n",
    "# Here's the basic difference: you can change parts of the list.\n",
    "my_list[2] = \"changggggggeeee!\"\n",
    "my_list.append(\"See? Now I just got longer too\")\n",
    "print(my_list)\n",
    "\n",
    "\n",
    "# But the following analogous operations with strings don't work.\n",
    "my_string[2] = \"B\"\n",
    "my_string.append(\"!!!\")\n",
    "print(my_string)\n",
    "\n",
    "# Note that this does NOT mean that my_string can't change.  It's just that \n",
    "# if you change a variable, you have to change the entire variable.\n",
    "my_string = \"If I change the whole string, it's ok\"\n",
    "my_string = my_string + \" (and this line is ok too)\"\n",
    "\n",
    "my_list = [\"I\", \"can also\", \"change entire lists\", \"of course\"]\n",
    "\n",
    "print(my_string)\n",
    "print(my_list)"
   ]
  },
  {
   "cell_type": "markdown",
   "metadata": {},
   "source": [
    "So, you change **parts** of `list`s, but if you want to change a `str`, you have to create an entirely *new* `str`.  Ok, this isn't exactly the full reasoning; we'll get to that later.\n",
    "\n",
    "<br><br><br><br><br><br><br><br><br><br>\n",
    "\n",
    "Let's talk about some \"mutation\" operations for lists.\n",
    "\n",
    "* `.append(<elt>)` puts `<elt>` at the end of a list.\n",
    "* `.insert(<pos>, <elt>)` puts `<elt>` into the list at position `<pos>` (with the element currently at that position moving back).\n",
    "* `del <list name>[<pos>]` removes element `<pos>` from the list `<list name>`.\n",
    "\n",
    "Other useful ones that I encourage you to look up include `.extend()`, `.remove()`, and `.pop()`.\n"
   ]
  },
  {
   "cell_type": "code",
   "execution_count": null,
   "metadata": {},
   "outputs": [],
   "source": [
    "# EXAMPLE 1b: List operations\n",
    "\n",
    "x = [\"a\", \"b\", \"c\", \"d\", \"e\"]\n",
    "# Add f and g\n",
    "x.append(\"f\")\n",
    "x.insert(3,\"g\")\n",
    "print(x)\n",
    "\n",
    "# Let's take them back out using del\n",
    "\n",
    "\n",
    "\n"
   ]
  },
  {
   "cell_type": "markdown",
   "metadata": {},
   "source": [
    "\n",
    "<br><br><br><br><br><br><br><br><br><br>\n",
    "\n",
    "\n",
    "# 2. Pause: What?"
   ]
  },
  {
   "cell_type": "code",
   "execution_count": null,
   "metadata": {
    "collapsed": true
   },
   "outputs": [],
   "source": [
    "# EXAMPLE 2a: Assignment\n",
    "\n",
    "# Compare the results of this bit of code....\n",
    "x = \"Old\"\n",
    "y = x\n",
    "x = \"New\"\n",
    "print(y)\n",
    "\n",
    "# ...with this one...\n",
    "x = [\"Old\", \"One\"]\n",
    "y = x\n",
    "x = [\"New\", \"Guy\"]\n",
    "print(y)\n",
    "\n",
    "#...AND THIS ONE!!!!!\n",
    "x = [\"Old\", \"One\"]\n",
    "y = x\n",
    "x[0] = \"New!!!!\"\n",
    "print(y)"
   ]
  },
  {
   "cell_type": "markdown",
   "metadata": {},
   "source": [
    "Why are the last two snippets so different?  They both change `x`, but one change causes `y` to change, and the other doesn't. \n",
    "\n",
    "The short short short answer is: be careful when you copy one list variable into another variable, especially when you perform mutation operations.  The same goes for any mutable data types -- for now, lists are basically the only ones we know about.  \n",
    "\n",
    "The long answer will come at a later date.  It will either be really enlightening or it will shatter your youthful optimism once and for all."
   ]
  },
  {
   "cell_type": "markdown",
   "metadata": {},
   "source": [
    "\n",
    "<br><br><br><br><br><br><br><br><br><br>\n",
    "\n",
    "\n",
    "# 3. Calculator\n",
    "\n",
    "Let's write a program that reads a line like\n",
    "\n",
    "`12.3 - 3.4`\n",
    "\n",
    "from user input, interprets it as an arithmetic expression, and the evaluates that expression.  Note that this is **not** as simple as it sounds, for one basic reason:\n",
    "\n",
    "*user input is always interpreted as a `str`, not as code!*\n",
    "\n",
    "As far as Python is concerned, when you enter `2 + 3`, it just sees a 5-character `str`: a `2` symbol, a space, a `+` symbol, a space, and a `3` symbol.   Of course, the `int` and `float` functions can help interpret `str`s as numbers if each character happens to be a digit or a decimal mark. But beyond that, there aren't many standard solutions for converting strings into code.  (This actually is a lie -- there is a function that convertes input to executable code, but it is a **huge** security risk, whose use in serious code should be considered a last resort, and so we will avoid it.)\n",
    "\n",
    "So, how do we do this?\n",
    "\n",
    "* Get input, as a `str`.\n",
    "* Second, break apart that `str` into a number, an operation symbol, and another number.\n",
    "* Check if the operation symbol is `\"+\"`, `\"-\"`, etc.\n",
    "* Once we have determined the operation symbol, evaluate a Python expression with the corresponding operation, and print the answer.\n",
    "\n",
    "\n",
    "<br><br><br><br><br><br><br><br><br><br>\n",
    "\n",
    "\n",
    "To perform the second step, let me introduce a really useful function: `.split()`.  If `str_var` is a `str` variable, then `str_var.split()` is an expression which, when evaluated, produces a list, whose entries are the consecutive runs of non-whitespace characters in `str_var`.  (\"Whitespace\" refers to spaces, tabs, and newlines.) That's a mouthful, but when you see it laid out it isn't so bad. For example:"
   ]
  },
  {
   "cell_type": "code",
   "execution_count": null,
   "metadata": {},
   "outputs": [],
   "source": [
    "# EXAMPLE 3a: .split()\n",
    "\n",
    "a = \"    Hey   Ho     Let's      Go   !\"\n",
    "print(a.split())\n",
    "\n",
    "b = \"Got\\tsome\\ttabs\"\n",
    "print(b.split())\n",
    "\n",
    "c = \"\"\"\n",
    "Big\n",
    "Multi\n",
    "Line\n",
    "\"\"\"\n",
    "print(c.split())"
   ]
  },
  {
   "cell_type": "markdown",
   "metadata": {},
   "source": [
    "\n",
    "<br><br><br><br><br><br><br><br><br><br>\n",
    "\n",
    "\n",
    "So, our program will accept a long `str`, presumably with spaces before and after the operation symbol.  Assuming this, we can take the input and use `.split()` to break it into 3 pieces.  Let's see the final code."
   ]
  },
  {
   "cell_type": "code",
   "execution_count": null,
   "metadata": {
    "collapsed": true
   },
   "outputs": [],
   "source": [
    "# EXAMPLE 3b: Calculator\n",
    "\n",
    "expression = input(\"Enter an expression: \")\n",
    "\n",
    "\n",
    "#\n",
    "#\n",
    "#"
   ]
  },
  {
   "cell_type": "markdown",
   "metadata": {},
   "source": [
    "\n",
    "<br><br><br><br><br><br><br><br><br><br>\n",
    "\n",
    "\n",
    "# 4. `for` Loops\n",
    "\n",
    "There are two types of loops we will discuss: `while` loops and `for` loops.  `while` loops are more versatile, but are typically necessary only for more challenging situations.  Let's start with `for` loops.   "
   ]
  },
  {
   "cell_type": "code",
   "execution_count": null,
   "metadata": {
    "collapsed": true
   },
   "outputs": [],
   "source": [
    "BASIC FOR LOOP SYNTAX:\n",
    "\n",
    "\"... previous statements ...\"\n",
    "for <target var> in <list>:\n",
    "    <body, indented>\n",
    "    <some statements will likely involve <target var> >\n",
    "\"... further statements, unindented...\""
   ]
  },
  {
   "cell_type": "markdown",
   "metadata": {},
   "source": [
    "This code will do the following.\n",
    "\n",
    "* First, `<target var>` will be assigned the first value from the `<list>`.\n",
    "* Then, `<body>` will execute.\n",
    "* Once that is finished, `<target var>` will be assigned the second value from the `<list>`...\n",
    "* ...and `<body>` executes again, with `<target var>` assigned to the new value.\n",
    "* And so on until you've reached the end of the list.  At this point, statements after the `<body>` are executed.\n",
    "\n",
    "Once again, indenting is important!  The part of the code that gets repeated is everything after the `for` line, until you get to a non-indented line.\n",
    "\n",
    "\n",
    "<br><br><br><br><br><br><br><br><br><br>\n",
    "\n",
    "\n",
    "Here's a flowchart:\n",
    "\n",
    "![IMAGE NOT FOUND!!!!!!!!!!](forloop.png)"
   ]
  },
  {
   "cell_type": "code",
   "execution_count": null,
   "metadata": {},
   "outputs": [],
   "source": [
    "# EXAMPLE 4a: Basic Example\n",
    "# Let's analyze what's happening, then remove the \"\"\"\n",
    "\n",
    "\"\"\"\n",
    "evans_list = [3, 5, 1]\n",
    "variable = 2\n",
    "\n",
    "for x in evans_list:\n",
    "    variable = variable + x\n",
    "    print(variable)\n",
    "    if variable % 2 == x % 2:\n",
    "        print(\"Match\")\n",
    "print(\"That was fun.\")\n"
   ]
  },
  {
   "cell_type": "markdown",
   "metadata": {},
   "source": [
    "\n",
    "<br><br><br><br><br><br><br><br><br><br>\n",
    "\n",
    "\n",
    "Here's how that code unwraps -- you wouldn't ever want to write it like this, but this is the order in which things execute, illustrating what a `for` loop actually does."
   ]
  },
  {
   "cell_type": "code",
   "execution_count": null,
   "metadata": {
    "collapsed": true
   },
   "outputs": [],
   "source": [
    "# EXAMPLE 4b: Basic Example Unwrapped\n",
    "# FOR ILLUSTRATION ONLY: This type of code is what a loop exists for!\n",
    "\n",
    "evans_list = [3, 5, 1]\n",
    "variable = 2\n",
    "\n",
    "# First time through the loop\n",
    "x = evans_list[0]\n",
    "variable = variable + x\n",
    "print(variable)\n",
    "if variable % 2 == x % 2:\n",
    "    print(\"Match\")\n",
    "\n",
    "# Second time through the loop\n",
    "x = evans_list[1]\n",
    "variable = variable + x\n",
    "print(variable)\n",
    "if variable % 2 == x % 2:\n",
    "    print(\"Match\")\n",
    "\n",
    "# Third time through the loop\n",
    "x = evans_list[0]\n",
    "variable = variable + x\n",
    "print(variable)\n",
    "if variable % 2 == x % 2:\n",
    "    print(\"Match\")\n",
    "\n",
    "# Loop completed: program continues\n",
    "print(\"That was fun.\")"
   ]
  },
  {
   "cell_type": "markdown",
   "metadata": {},
   "source": [
    "\n",
    "<br><br><br><br><br><br><br><br><br><br>\n",
    "\n",
    "\n",
    "Let's try to write an example.  Take the following list and write code which prints out every element, each on different lines, but with a `*` before each element:\n",
    "\n",
    "`* Apple` <br>\n",
    "`* Ball` <br>\n",
    "`* Animal` <br>\n",
    ".... <br>\n",
    "`* Beware`\n",
    "\n",
    "**After that**, write code which prints out only the elements from the list which begin with the letter `B`."
   ]
  },
  {
   "cell_type": "code",
   "execution_count": null,
   "metadata": {
    "collapsed": true
   },
   "outputs": [],
   "source": [
    "# EXAMPLE 4c: B Words\n",
    "\n",
    "word_list = [\"Apple\", \"Ball\", \"Animal\", \"Bell\", \"Band\", \"Carrot\", \"Angry\", \"Banana\", \"Bear\", \"Attic\", \"Candle\", \"Cup\", \"Beware\"]\n",
    "\n",
    "# Print out each word on a different line, with a * in front\n",
    "\n",
    "\n",
    "\n",
    "\n",
    "\n",
    "# And then, do the same thing, but only with the \"B\" words"
   ]
  },
  {
   "cell_type": "markdown",
   "metadata": {},
   "source": [
    "\n",
    "<br><br><br><br><br><br><br><br><br><br>\n",
    "\n",
    "\n",
    "# 5. Common Loop Tasks, Part 1: Accumulation\n",
    "\n",
    "\n",
    "### Accumulating sums and products\n",
    "\n",
    "One basic use of loops is for *accumulation* processes, where individual bits of data are gathered into a whole.  Perhaps the simplest case of this idea is taking the sum or product of a list of numbers.  \n",
    "\n",
    "The general strategy for accumulation is: start with an \"empty accumulator\", and then add on to it bit by bit.  \n",
    "In the present cases, that means starting by creating a variable called `running_sum` or `running_product`, initialized to `0` or `1` respectively.  Then, you go through the list, and add/multiply on each successive term onto the sum/product.  Like so:"
   ]
  },
  {
   "cell_type": "code",
   "execution_count": null,
   "metadata": {
    "collapsed": true
   },
   "outputs": [],
   "source": [
    "# EXAMPLE 5a: Accumulating sum/product\n",
    "\n",
    "big_list_o_numbers = [15,72,1,84,52,48,83,26,94,58,73,95,51,73]\n",
    "\n",
    "# Let's add'em up.\n",
    "# Initialize sum to zero.\n",
    "running_sum = 0\n",
    "\n",
    "for num in big_list_o_numbers:\n",
    "    running_sum = running_sum + num\n",
    "    \n",
    "print(\"Sum is:\", running_sum)\n",
    "\n",
    "\n",
    "\n",
    "# Let's multiply'em.\n",
    "# Initialize prod to ONE.\n",
    "running_prod = 1 \n",
    "\n",
    "for num in big_list_o_numbers:\n",
    "    running_prod = running_prod * num\n",
    "    \n",
    "print(\"Product is:\", running_prod)\n"
   ]
  },
  {
   "cell_type": "markdown",
   "metadata": {},
   "source": [
    "\n",
    "<br><br><br><br><br><br><br><br><br><br>\n",
    "\n",
    "\n",
    "You'll notice that \"update assignments\" like `sum = sum + num` and `prod = prod * num` are very common.  Indeed, they are so common that they have shortcuts: `+=`, `-=`, `*=`, `/=`.  These work as follows: \n",
    "\n",
    "*{variable}* `+=` *{value}*  is equivalent to *{variable}* `=` *{variable}* + *{value}*\n",
    "\n",
    "So, for example, `sum += 3` is the same as `sum = sum + 3` -- in other words, `sum += 3` adds 3 to `sum` **and then assigns that to be the new value of `sum`.**  The other three operations work similarly.\n"
   ]
  },
  {
   "cell_type": "code",
   "execution_count": null,
   "metadata": {
    "collapsed": true
   },
   "outputs": [],
   "source": [
    "# EXAMPLE 5b: Average\n",
    "# 1. Use += to find the average of the list of numbers.\n",
    "# 2. Write it so that it still works if I add numbers to big_list.\n",
    "\n",
    "big_list = [15,72,1,84,52,48,83,26,94,58,73,95,51,73]\n",
    "\n",
    "#\n",
    "# CODE?\n",
    "#"
   ]
  },
  {
   "cell_type": "markdown",
   "metadata": {},
   "source": [
    "\n",
    "<br><br><br><br><br><br><br><br><br><br>\n",
    "\n",
    "\n",
    "### Counting hits\n",
    "\n",
    "Counting the number of elements in a list that meet a certain criteria is also a type of accumulation.  You can keep a count variable, and then add one every time you encounter an item in your list that meets your given criteria.  For example, how many words in the following list begin with the letter \"b\"?"
   ]
  },
  {
   "cell_type": "code",
   "execution_count": null,
   "metadata": {},
   "outputs": [],
   "source": [
    "# EXAMPLE 5c: Counting \"B\" words\n",
    "# How many words start with the letter \"B\"?\n",
    "\n",
    "word_list = [\"Apple\", \"Ball\", \"Animal\", \"Bell\", \"Band\", \"Carrot\", \"Angry\", \"Banana\", \"Bear\", \"Attic\", \"Candle\", \"Cup\", \"Beware\"]\n",
    "\n",
    "b_count = 0\n",
    "\n",
    "for w in word_list:\n",
    "    # What goes here?\n",
    "\n",
    "\n",
    "print(\"Number of B words =\", b_count)\n"
   ]
  },
  {
   "cell_type": "markdown",
   "metadata": {},
   "source": [
    "\n",
    "<br><br><br><br><br><br><br><br><br><br>\n",
    "\n",
    "You can iterate through strings using a `for` loop, too, like you would with a list.  Each pass through the loop will correspond to a single character.  So, for example, if you wrote some code starting with\n",
    "\n",
    "`string_variable = \"abcdef\"` <br>\n",
    "`for letter in string_variable:`\n",
    "\n",
    "then `letter` would take on `\"a\"`, then `\"b\"`, etc.\n",
    "\n",
    "Let's figure out how many times the letter \"e\" appears in this sentence that I am currently writing."
   ]
  },
  {
   "cell_type": "code",
   "execution_count": null,
   "metadata": {},
   "outputs": [],
   "source": [
    "# EXAMPLE 5d: How many \"e\"'s?\n",
    "\n",
    "# Note the use of the triple quotes for a multi-line string!\n",
    "my_sentence = \"Let's figure out how many times the letter \\\"e\\\" appears in this sentence that I am currently writing.\"\n",
    "\n",
    "e_counter = 0\n",
    "\n",
    "for char in my_sentence:\n",
    "    # letter will be \"L\", then \"e\", then \"t\", then \"'\", etc.\n",
    "    if char == \"e\" or char == \"E\":\n",
    "        e_counter += 1\n",
    "    \n",
    "print(e_counter, \"e's in that paragraph.\")"
   ]
  },
  {
   "cell_type": "markdown",
   "metadata": {},
   "source": [
    "<br><br><br><br><br><br><br><br><br><br>\n",
    "\n",
    "# 6. Common Loop Tasks, Part 2: Searching (and `break`)\n",
    "\n",
    "### Max/min\n",
    "\n",
    "How do we find the maximum value appearing in a sorted list?  (Python provides a function for this, but if you can't do this without using that function, you'll have a lot of difficulty in this class.  And sometimes I require you not to use it.)\n"
   ]
  },
  {
   "cell_type": "code",
   "execution_count": null,
   "metadata": {
    "collapsed": true
   },
   "outputs": [],
   "source": [
    "# EXAMPLE 6a: Maximum\n",
    "\n",
    "big_list = [15,72,1,84,52,48,83,26,94,58,73,95,51,73]\n",
    "\n",
    "\n",
    "# First, we set largest to be the very first element.\n",
    "current_largest = big_list[0]\n",
    "\n",
    "# Then, we go through the list.  If a number is greater than \"largest\", we\n",
    "# reassign \"largest\" to be that number.\n",
    "for num in big_list:\n",
    "    #\n",
    "    # ????\n",
    "    #\n",
    "    \n",
    "print(current_largest)"
   ]
  },
  {
   "cell_type": "markdown",
   "metadata": {},
   "source": [
    "Think about how you do this as a human.  It's a little tricky.  What you do is, at least with a long list: start reading at the beginning, and always keep track of the largest you've seen so far, updating that when you see a larger one.  That's what our program will do."
   ]
  },
  {
   "cell_type": "markdown",
   "metadata": {},
   "source": [
    "<br><br><br><br><br><br><br><br><br><br>\n",
    "\n",
    "### Searching\n",
    "\n",
    "Suppose that we already have a list of data already stored, and we want to search through this list to see if a particular value is present.  For this problem, it is important to understand that the answer we are trying to provide is \"Yes\" or \"No\". This means that we want a `bool` variable (recall that they are sometimes called **_flags_**).\n"
   ]
  },
  {
   "cell_type": "code",
   "execution_count": null,
   "metadata": {
    "collapsed": true
   },
   "outputs": [],
   "source": [
    "# EXAMPLE 6b: Search\n",
    "\n",
    "# The 30 most popular baby names ... of, like, 2014.  Sorry for not keeping my notes current yall.\n",
    "names = [\"Jacob\", \"Sophia\", \"Mason\", \"Isabella\", \"William\", \"Emma\", \"Jayden\",\n",
    "         \"Olivia\", \"Noah\", \"Ava\", \"Michael\", \"Emily\", \"Ethan\", \"Abigail\",\n",
    "         \"Alexander\", \"Madison\", \"Aiden\", \"Mia\", \"Daniel\", \"Chloe\", \"Anthony\",\n",
    "         \"Elizabeth\", \"Matthew\", \"Ella\", \"Elijah\", \"Addison\", \"Joshua\", \"Natalie\", \"Liam\", \"Lily\"]\n",
    "# Notice that a list can extend across several lines.\n",
    "\n",
    "\n",
    "search_entry = input(\"Input a name to search for: \")\n",
    "\n",
    "# found is the flag.  We will set it to be true if and when we find the name; \n",
    "# but at the beginning, we have not found the name yet.\n",
    "found = False\n",
    "\n",
    "for current_name in names:\n",
    "    if current_name == search_entry:\n",
    "        found = True    \n",
    "    else:\n",
    "        found = False  # Hmmm...\n",
    "        \n",
    "if found == True:\n",
    "    print(search_entry + \" is in the list!\")\n",
    "else:\n",
    "    print(\"Nobody likes your name. Choose a better name.\")\n",
    "        \n"
   ]
  },
  {
   "cell_type": "markdown",
   "metadata": {},
   "source": [
    "<br><br><br><br><br><br><br><br><br><br>\n",
    "\n",
    "### Searching with position\n",
    "\n",
    "Now, you could imagine that you might want to be aware not just *whether* a name is in the list, but also *where* in the list your entry is.  How can we do this?\n",
    "\n",
    "There are many ways.  One way (not the most \"Pythonic\" way, but one that can be understood without explaining new syntax) is to have a **parallel counter**.  It starts at 1 (let's report a human numbering: that is, let's not use zero based indexing), and goes up by 1 each pass through the loop.\n",
    "\n",
    "Let's add in one new feature!  We probably want to stop the search at the moment we've found the entry.  For this purpose, the command `break` is useful: if the line `break` is encountered in a loop, the loop immediately stops executing; execution resumes with the first statement after the end of the loop. (We could have used this in the last example, as well.)"
   ]
  },
  {
   "cell_type": "code",
   "execution_count": null,
   "metadata": {
    "collapsed": true
   },
   "outputs": [],
   "source": [
    "# EXAMPLE 6c: Search, with a parallel counter\n",
    "\n",
    "names = [\"Jacob\", \"Sophia\", \"Mason\", \"Isabella\", \"William\", \"Emma\", \"Jayden\", \"Olivia\", \"Noah\", \"Ava\", \"Michael\", \"Emily\", \"Ethan\", \"Abigail\",\n",
    "    \"Alexander\", \"Madison\", \"Aiden\", \"Mia\", \"Daniel\", \"Chloe\", \"Anthony\", \"Elizabeth\", \"Matthew\", \"Ella\", \"Elijah\", \"Addison\", \"Joshua\", \"Natalie\", \"Liam\", \"Lily\"]\n",
    "# In the beginning, not found\n",
    "found = False\n",
    "\n",
    "search_entry = input(\"Input a name to search for: \")\n",
    "\n",
    "\n",
    "# The counter starts at 0\n",
    "count = 0\n",
    "\n",
    "for current_name in names:\n",
    "    count += 1\n",
    "    # As you get the first name, count becomes 1\n",
    "    # As you get the second name, count becomes 2\n",
    "    # Etc.\n",
    "    if current_name == search_entry:\n",
    "        # If we find the name, set found to be True,\n",
    "        # AND exit the loop.\n",
    "        found = True\n",
    "        break\n",
    "    \n",
    "    \n",
    "if found:\n",
    "    print(\"{0} is in the list, at position {1}\".format(search_entry, count))\n",
    "else:\n",
    "    print(\"Society thinks you have poor taste, and your child will suffer for your choices.\")\n",
    "        \n"
   ]
  }
 ],
 "metadata": {
  "kernelspec": {
   "display_name": "Python 3",
   "language": "python",
   "name": "python3"
  },
  "language_info": {
   "codemirror_mode": {
    "name": "ipython",
    "version": 3
   },
   "file_extension": ".py",
   "mimetype": "text/x-python",
   "name": "python",
   "nbconvert_exporter": "python",
   "pygments_lexer": "ipython3",
   "version": "3.7.0"
  },
  "name": "_merged_merged"
 },
 "nbformat": 4,
 "nbformat_minor": 2
}
