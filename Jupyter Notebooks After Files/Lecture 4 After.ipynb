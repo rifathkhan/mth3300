{
 "cells": [
  {
   "cell_type": "markdown",
   "metadata": {},
   "source": [
    "# Lecture 4\n",
    "\n",
    "### Errors; `.format()`; `.format` Specifiers; Selection; Blocks"
   ]
  },
  {
   "cell_type": "markdown",
   "metadata": {},
   "source": [
    "# 1. Errors\n",
    "\n",
    "Let's talk about errors.  There are three basic types: **_syntax_**, **_runtime_** and **_semantic_** errors.  \n",
    "\n",
    "Syntax errors occur when your program can't be understood by the interpreter.  This typically happens because:\n",
    "you've put symbols together in an order the language doesn't recognize: putting more than one variable on the left side \n",
    "of an equal sign, starting a variable name with a number, unbalanced parentheses(!!!!!!!!!!!!!!!!!!!!!!!!!!!!!!!!!!!!!!!!!!!!).  Syntax errors occur when Python can't even break down your program into variables and operations without getting confused."
   ]
  },
  {
   "cell_type": "code",
   "execution_count": null,
   "metadata": {
    "collapsed": true
   },
   "outputs": [],
   "source": [
    "# EXAMPLE 1a: Syntax Errors\n",
    "# Any of these lines anywhere in your program will cause Python to\n",
    "# be so confused that it won't even attempt to run your program\n",
    "\n",
    "# The assignment operator needs a variable on the left side!\n",
    "4 + 2 = x\n",
    "\n",
    "# Python sees a 3 at the beginning, and it thinks it's dealing\n",
    "# with a number; it then gets very confused when it then sees \"x\"\n",
    "y = 3x # Try 3*x instead.\n",
    "\n",
    "# GOLDEN RULE OF PARENTHESES: number of opens = number of closes\n",
    "# (This is necessary, but not sufficient, for correctness)\n",
    "y = 2 + ((4 + 5)/(6 - 7)\n"
   ]
  },
  {
   "cell_type": "markdown",
   "metadata": {},
   "source": [
    "**_Runtime_** errors occur when Python can at least figure out what all your variables and operations are, but can't execute them for whatever reason.  There are tons of different types of runtime errors; for example:\n",
    "\n",
    "* `NameError`: when you've referenced a variable prior to definition (arises oftern from typos)\n",
    "\n",
    "* `TypeError`: when you try to use an operation on an inappropriate type of data\n",
    "\n",
    "* `ZeroDivisionError`: `/0`, `//0`, `%0` are all bad.\n",
    "\n",
    "They're called \"runtime\" because most program checkers won't notice that this is a problem until the program is actually run."
   ]
  },
  {
   "cell_type": "code",
   "execution_count": null,
   "metadata": {
    "collapsed": true
   },
   "outputs": [],
   "source": [
    "# EXAMPLE 1b: Runtime Errors\n",
    "# Try removing some of these lines to see what the interpreter yells at you about for each one.\n",
    "\n",
    "# We've seen this one before: types don't match what the + operator expects.\n",
    "\"Hello\" + 3\n",
    "\n",
    "# At the time that print(y) is encountered, there is no y variable yet\n",
    "print(y)\n",
    "y = 4\n",
    "\n",
    "# Typos can be considered a special case of the above: you try to tell Python to print the line, but\n",
    "# the interpreter thinks you are introducing a new variable with the slightly-different name \"abce\"\n",
    "abcde = \"Look out for the missing letter d on the next line\"\n",
    "print(abce)\n",
    "\n",
    "# What happens when you divide by 0?\n",
    "3/0"
   ]
  },
  {
   "cell_type": "markdown",
   "metadata": {},
   "source": [
    "**_Semantic_** errors are errors that don't prevent the program from running, but which give undesired (that is to say, wrong) outputs.  Here's a typical example."
   ]
  },
  {
   "cell_type": "code",
   "execution_count": null,
   "metadata": {
    "collapsed": true
   },
   "outputs": [],
   "source": [
    "# EXAMPLE 1c: Temperature conversion\n",
    "# This is supposed to convert 50F and 60F to Celsius.  It doesn't work -- why?\n",
    "\n",
    "farentemp = 50\n",
    "celtemp = (farentemp-32)/1.8\n",
    "print(farentemp)\n",
    "print(\"farenheit is the same as\")\n",
    "print(celtemp)\n",
    "print(\"celsius.\")\n",
    "\n",
    "print(\"\")\n",
    "\n",
    "farentemp = 60\n",
    "print(farentemp)\n",
    "print(\"farenheit is the same as\")\n",
    "print(celtemp)\n",
    "print(\"celsius.\")\n"
   ]
  },
  {
   "cell_type": "code",
   "execution_count": null,
   "metadata": {
    "collapsed": true
   },
   "outputs": [],
   "source": [
    "# EXAMPLE 1c': Temperature conversion\n",
    "# This is supposed to convert 50F and 60F to Celsius.  It doesn't work -- why?\n",
    "\n",
    "farentemp = 50\n",
    "celtemp = (farentemp-32)/1.8\n",
    "print(farentemp)\n",
    "print(\"farenheit is the same as\")\n",
    "print(celtemp)\n",
    "print(\"celsius.\")\n",
    "\n",
    "print(\"\")\n",
    "\n",
    "farentemp = 60\n",
    "##### FIX: You need to reassign celtemp, too\n",
    "celtemp = (farentemp-32)/1.8\n",
    "#####\n",
    "print(farentemp)\n",
    "print(\"farenheit is the same as\")\n",
    "print(celtemp)\n",
    "print(\"celsius.\")"
   ]
  },
  {
   "cell_type": "markdown",
   "metadata": {},
   "source": [
    "How do you fix errors of any of these types? That's called **_debugging_**, and it's a huge part of programming.  There is no easy way to find bugs (often, once you *find* them, *fixing* them is relatively easy).  But there are three main tricks we'll use:\n",
    "\n",
    "1. Look at any errors the interpreter reports -- try your best to read them, and be aware that the error might be on an earlier line.\n",
    "\n",
    "2. Do walkthroughs of your program, carefully executing lines as the interpreter should, and keeping track of variable values at all moments.\n",
    "\n",
    "3. Print statements/ variable inspection: you should have an idea of what values all your variables hold at every point in your program, and you can confirm or deny your suspicions by inspecting their values at those points.\n",
    "\n",
    "Roughly 100% of the code ever written by anybody has had bugs at some point in its development.  Here is one of the keys to success in this class:\n",
    "\n",
    "**__WHEN YOU ENCOUNTER A BUG, DON'T JUST FIX IT -- UNDERSTAND IT.__**\n",
    "\n",
    "(This is useful for life in general, too.)\n",
    "\n",
    "One more classic debug: suppose you want to swap the values of two variables.  I.e., suppose that `x = 3` and `y = 4`, and you want to change that so `x = 4` and `y = 3`.  The following code doesn't work.  Why?  How do you fix it?"
   ]
  },
  {
   "cell_type": "code",
   "execution_count": null,
   "metadata": {
    "collapsed": true
   },
   "outputs": [],
   "source": [
    "# EXAMPLE 1d: Swap\n",
    "\n",
    "x = 3\n",
    "y = 4\n",
    "\n",
    "# Now I want to switch the values (without cheating and just writing x = 4 and y = 3\n",
    "# directly).  So I try:\n",
    "\n",
    "x = y\n",
    "y = x\n",
    "\n",
    "# What's going to happen when I print these values?"
   ]
  },
  {
   "cell_type": "markdown",
   "metadata": {},
   "source": [
    "Before we go on, a riddle.  Let's say you have a mug of hot coffee in your left hand, and a mug of hot tea in your right hand.  How do you switch hands (put coffee in the right hand, tea in the left)?\n",
    "\n",
    "-------\n",
    "Try to carefully walk through: \n",
    "\n",
    "After the first two lines, `x` has the value `3` and `y` has the value `4`.\n",
    "\n",
    "After the third line, `x` changes: so `x` now has the value `4`, and `y` still has the value `4`.\n",
    "\n",
    "Pay attention to the fourth line!  First, you evaluate `x`: as of the last line, that has the value `4`.  Then you write that into `y`: so `y` has now \"changed\" to `4`.  Thus, now `x` has `4` and `y` has `4`.  Boooo.\n",
    "\n",
    "------\n",
    "\n",
    "We fix this the same we answer the riddle.  `x` is holding a hot mug of `3`, `y` is holding a hot mug of `4`.  To swap them, we need to put one down on the \"table\", by which I mean: we'll use a third variable, which we'll call `temp`."
   ]
  },
  {
   "cell_type": "code",
   "execution_count": null,
   "metadata": {
    "collapsed": true
   },
   "outputs": [],
   "source": [
    "# EXAMPLE 1d': Swap\n",
    "\n",
    "x = 3\n",
    "y = 4\n",
    "\n",
    "# Now I want to switch the values (without cheating and just writing x = 4 and y = 3\n",
    "# directly).  \n",
    "\n",
    "# First, save the value of x to a new variable\n",
    "temp = x\n",
    "\n",
    "# Now, you can write over x, since its value has been saved\n",
    "x = y\n",
    "\n",
    "# Finally, you can rescue the old value of x from temp, and put that into y\n",
    "y = temp\n",
    "\n",
    "print(x,y)"
   ]
  },
  {
   "cell_type": "markdown",
   "metadata": {},
   "source": [
    "# 2. Pretty Printing with `.format()`\n",
    "\n",
    "Before we start learning about control structures, let's discuss a tool for careful printing: `.format()`.  I'll start by just showing an example."
   ]
  },
  {
   "cell_type": "code",
   "execution_count": null,
   "metadata": {
    "collapsed": true
   },
   "outputs": [],
   "source": [
    "# EXAMPLE 2a: Introducing .format()\n",
    "\n",
    "n = input(\"Enter a name: \")\n",
    "\n",
    "# .format() will replace any appearance of {0} in the string with n. \n",
    "# Notice how you can have one uninterrupted string, which has \"blanks\" that can be easily filled in.\n",
    "\n",
    "hs = \"Mr. {0}, that's my name, that name again is Mr. {0}!\".format(n)\n",
    "\n",
    "print(hs)\n",
    "\n",
    "# Compare that with the more awkward....\n",
    "print(\"Mr.\", n, \", that's my name, that name again is Mr.\", n, \"!\")\n",
    "# Notice all the quotation marks, all the commas.\n",
    "# Also, there are a couple of unintended space."
   ]
  },
  {
   "cell_type": "markdown",
   "metadata": {},
   "source": [
    "So, `.format()` is a device which helps us achieve what-you-see-is-what-you-get printing when you want to intersperse literal text with variable values.  Here's the basics of how you use it.\n",
    "\n",
    "* First, you type a string enclosed with quotes as usual.  Presumably, this string will have some places where you want to fill in the value of some variable or expression.  Where those places are, type `{0}` (this will get more elaborate in a moment).\n",
    "* Directly after the closing quotation, type `.format()`.  Inside the parentheses, put the variable or expression that you'd like to fill in. `.format()` is a function which will create a new string, by replacing all instances of `{0}` with the value of the variable/expression, which you can then store directly to a variable or print directly."
   ]
  },
  {
   "cell_type": "code",
   "execution_count": null,
   "metadata": {
    "collapsed": true
   },
   "outputs": [],
   "source": [
    "# EXAMPLE 2b: Name tag\n",
    "\n",
    "n = input(\"Enter a name: \")\n",
    "\n",
    "# Let's use .format() to allow the program to print a name tag:\n",
    "# \"Hello, my name is [NAME], how are you?\"\n",
    "\n",
    "print( \"Hello, my name is {0}, how are you?\".format(n) )"
   ]
  },
  {
   "cell_type": "markdown",
   "metadata": {},
   "source": [
    "You can also have multiple different fill ins.  In this case, `{0}` will represent the first fill in (the first value within the parentheses of `.format()`), while `{1}` will represent the second, and `{2}` will represent the third, etc."
   ]
  },
  {
   "cell_type": "code",
   "execution_count": null,
   "metadata": {
    "collapsed": true
   },
   "outputs": [],
   "source": [
    "# EXAMPLE 2c: Multiple fill-ins\n",
    "\n",
    "x = \"\"\"The wonderful thing about {1}\n",
    "Is {1} are wonderful things!\n",
    "Their tops are made out of rubber\n",
    "Their bottoms are made out of springs!\n",
    "They're b{0}, tr{0}, fl{0}, p{0}\n",
    "{2}, {2}, {2}, {2}, {2}!\n",
    "But the most wonderful thing about {1} is\n",
    "I'm the only one\"\"\".format(\"ouncy\", \"tiggers\", \"fun\")\n",
    "\n",
    "print(x)"
   ]
  },
  {
   "cell_type": "code",
   "execution_count": null,
   "metadata": {
    "collapsed": true
   },
   "outputs": [],
   "source": [
    "# EXAMPLE 2d: Madlibs\n",
    "\n",
    "pl_noun = input(\"Enter a plural noun: \")         # patrons\n",
    "ing_verb = input(\"Enter a verb ending in ing: \")  # squawking\n",
    "\n",
    "# Finish this line so that it reads \"Sir, your squawking is annoying the other patrons.\", using .format()\n",
    "madlib =    \"Sir, your {1} is annoying the other {0}.\".format(pl_noun, ing_verb)\n",
    "\n",
    "print(madlib)\n"
   ]
  },
  {
   "cell_type": "markdown",
   "metadata": {},
   "source": [
    "# 3. `.format` Specifiers\n",
    "\n",
    "The value of `.format()` becomes more apparent when we start using *format-specifiers* to make our output appear in a visually appealing manner.  This can be done by replacing `{0}` and `{1}` and `{2}` with things like\n",
    "\n",
    "`{0:6}` or `{1:^20}` or `{2:.4f}`\n",
    "\n",
    "Each of the parts after a colon specifies something about exactly how the entry prints out. This is best shown by example, so see below.  (This is just a sample of the options you have; these are the only ones I will test you on, though.) "
   ]
  },
  {
   "cell_type": "code",
   "execution_count": null,
   "metadata": {
    "collapsed": true
   },
   "outputs": [],
   "source": [
    "# EXAMPLE 3a: Let's play with some format specifiers.\n",
    "\n",
    "name = \"Evan\"\n",
    "number = 1/6\n",
    "\n",
    "print(\"{0:10}'s number is {1}\".format(name, number))\n",
    "# Here's what the \":10\" part does. It specifies that the first fill-in should print 10 characters in total.\n",
    "# Since \"Evan\" is only 4 characters long, it fills in the remaining 6 spaces with blanks.\n",
    "\n",
    "print(\"{0:^15}'s number is {1}\".format(name, number))\n",
    "# The \":^15\" works the same way, except instead of making \"Evan\" the LEFT 4 characters, it makes it the MIDDLE\n",
    "# 4 chracters. (The text may not be perfectly centered.)\n",
    "\n",
    "print(\"{0}'s number is {1:.5f}\".format(name, number))\n",
    "# The \":.5f\" will only work for floating point numbers.  The \".5\" means \"5 digits\", the \"f\" means \"after the \n",
    "# decimal\" ('f' stands for 'float').\n"
   ]
  },
  {
   "cell_type": "markdown",
   "metadata": {},
   "source": [
    "Notice that the first two printed line have inappropriately rounded last digits, because of `float` inprecision at the lowest places.  However, the last one, where we have demanded that the display is rounded to 5 places after the decimal, comes out rounded correctly!\n",
    "\n",
    "----------------\n",
    "\n",
    "Let's fix this code so that the output looks proper, like (for example, with 6 people)\n",
    "\n",
    "`Each person pays: $16.92` <br>\n",
    "\n",
    "where the price is displayed with no space after the dollar sign, and rounded to two decimal places.\n"
   ]
  },
  {
   "cell_type": "code",
   "execution_count": null,
   "metadata": {
    "collapsed": true
   },
   "outputs": [],
   "source": [
    "# EXAMPLE 3b: Split the bill\n",
    "\n",
    "n = int(input(\"Number of people: \"))\n",
    "bill = 101.53\n",
    "\n",
    "print(\"Each person pays: $\", bill/n)\n"
   ]
  },
  {
   "cell_type": "code",
   "execution_count": null,
   "metadata": {
    "collapsed": true
   },
   "outputs": [],
   "source": [
    "# EXAMPLE 3b': Split the bill\n",
    "\n",
    "n = int(input(\"Number of people: \"))\n",
    "bill = 101.53\n",
    "\n",
    "print(\"Each person pays: ${0:.2f}\".format(bill/n))\n"
   ]
  },
  {
   "cell_type": "markdown",
   "metadata": {},
   "source": [
    "Clearly, specifiers like `:.5f` are useful for when you want to display a certain number of significant digits.  The other specifiers we mentioned can be really useful if you want Python to print pretty tables -- if you have columns, they can help you make sure that they line up properly."
   ]
  },
  {
   "cell_type": "code",
   "execution_count": null,
   "metadata": {
    "collapsed": true
   },
   "outputs": [],
   "source": [
    "# EXAMPLE 3c: Some nicely formatted columns.\n",
    "\n",
    "name1 = \"Joe\"\n",
    "name2 = \"Katherine\"\n",
    "name3 = \"Larry\"\n",
    "score1 = 24.15818\n",
    "score2 = 23.616\n",
    "score3 = 17\n",
    "\n",
    "# Since all three lines are given the same format specifiers, they will print tightly aligned columns, even though the data\n",
    "# has different lengths.\n",
    "print(\"Look at pretty columns!!!!\")\n",
    "print(\"{0:12}| Score = {1:.3f}\".format(name1, score1))\n",
    "print(\"{0:12}| Score = {1:.3f}\".format(name2, score2))\n",
    "print(\"{0:12}| Score = {1:.3f}\".format(name3, score3))"
   ]
  },
  {
   "cell_type": "markdown",
   "metadata": {},
   "source": [
    "# 4. Selection\n",
    "\n",
    "So far, our programs have executed strictly linearly:\n",
    "\n",
    "![IMAGE NOT FOUND!!!!!!!!!!!!!!!!!](sequence.png)\n",
    "\n",
    "But what if we want a program that has a more interesting path of execution:\n",
    "\n",
    "![IMAGE NOT FOUND!!!!!!!!!!!!!!!!!](selection.png)\n",
    "\n",
    "For example, imagine a (cheap) program that finds the real solutions of quadratic equations.  It's execution might proceed something like this:\n",
    "\n",
    "![IMAGE NOT FOUND!!!!!!!!!!!!!!!!!](quadratic.png)\n",
    "\n",
    "Here's another example, shown in code.\n",
    "\n",
    "\n"
   ]
  },
  {
   "cell_type": "code",
   "execution_count": null,
   "metadata": {},
   "outputs": [],
   "source": [
    "# EXAMPLE 4a: You Fail\n",
    "# Our first if statement: run it several times!\n",
    "\n",
    "score = input(\"Please input your score: \")\n",
    "\n",
    "score = float(score) # Changing from string to float\n",
    "\n",
    "if score >= 60:\n",
    "    print(\"You pass\")\n",
    "    print(\"Hooray\")\n",
    "else:\n",
    "    print(\"You fail\")\n",
    "    print(\"Boo\")\n"
   ]
  },
  {
   "cell_type": "markdown",
   "metadata": {},
   "source": [
    "Just about any interesting program imaginable will need **_selection_** -- the ability to either run or not run certain statements depending on the values of variables -- at some point.  In Python (and many other languages), selection is accomplished by an **_if-else_** statement.  Here is the syntax:"
   ]
  },
  {
   "cell_type": "code",
   "execution_count": null,
   "metadata": {},
   "outputs": [],
   "source": [
    "IF-ELSE SYNTAX:\n",
    "    \n",
    "    \n",
    "\".... previous statements (unindented) ....\"\n",
    "\n",
    "if {logical expression}:\n",
    "    {body 1}\n",
    "    {maybe one statement, maybe several}\n",
    "    {however many you need}\n",
    "else:\n",
    "    {body 2}\n",
    "    \n",
    "\".... rest of statements (unindented) ....\"    "
   ]
  },
  {
   "cell_type": "markdown",
   "metadata": {},
   "source": [
    "Here's how this evaluates:\n",
    "\n",
    "* First, the logical expression evaluates, which produces a value of either `True` or `False`\n",
    "* If the value of the expression is `True`, then only the statements in *{body 1}* execute before continuing.\n",
    "* Otherwise, only the statements in *{body 2}* execute.\n",
    "* After this code, the program continues executing.\n",
    "\n",
    "Notes about the code: pay attention to the colons (:)!  The `if` line and the `else` line should end with them.  Even more important is that **each of the lines in each body should be indented by exactly 4 spaces**! Fortunately, in both Jupyter and Spyder, the Tab button automatically spaces by 4.  \n",
    "\n",
    "\n",
    "\n",
    "------\n",
    "\n",
    "Here's a flow chart illustrating the execution of an if-else statement:\n",
    "\n",
    "![IMAGE NOT FOUND!!!!!!!!!!!!](ifelse.png)\n",
    "\n",
    "-------\n",
    "\n",
    "Also: it's fine to leave out the `else` part of an if-else statement.  Sometimes, action is only needed if the answer to a question is \"yes\".  (Is it raining? If yes, take an umbrella.  If no ... just carry on.)  "
   ]
  },
  {
   "cell_type": "code",
   "execution_count": null,
   "metadata": {},
   "outputs": [],
   "source": [
    "JUST IF SYNTAX:\n",
    "    \n",
    "\".... previous statements (unindented) ....\"\n",
    "\n",
    "if {logical expression}:\n",
    "    {body 1}\n",
    "    {maybe one statement, maybe several}\n",
    "    \n",
    "\".... rest of statements (unindented) ....\"       \n"
   ]
  },
  {
   "cell_type": "markdown",
   "metadata": {},
   "source": [
    "Now, write a program that when run, asks the user to enter a number.  If the number is positive, it should print `Positive`; if it is negative, it should print `Negative`."
   ]
  },
  {
   "cell_type": "code",
   "execution_count": null,
   "metadata": {},
   "outputs": [],
   "source": [
    "# EXAMPLE 4b: Positive\n",
    "# Ask for a number to be input; if it is positive, print \"Positive\", \n",
    "# if it is negative, print \"Negative\".\n",
    "\n",
    "num = float(input(\"Gimme a number: \"))\n",
    "\n",
    "if num > 0:\n",
    "    print(\"Positive\")\n",
    "    \n",
    "if num < 0:\n",
    "    print(\"Negative\")\n",
    "    "
   ]
  },
  {
   "cell_type": "markdown",
   "metadata": {},
   "source": [
    "If you wrote:"
   ]
  },
  {
   "cell_type": "code",
   "execution_count": null,
   "metadata": {},
   "outputs": [],
   "source": [
    "num = float(input(\"Gimme a number: \"))\n",
    "\n",
    "if num > 0:\n",
    "    print(\"Positive\")\n",
    "else:\n",
    "    print(\"Negative\")\n",
    "    "
   ]
  },
  {
   "cell_type": "markdown",
   "metadata": {},
   "source": [
    "...well, that's a good start!  But if you read what I wrote *really carefully*, you'll notice that 0 is not positive or negative, in which case what should happen?  I guess it should do nothing.  But this program will print `\"Negative\"` in that case -- undesired behavior.\n",
    "\n",
    "To get it really right, maybe an if-else statement maybe isn't the best idea: if the number is greater than 0, it's positive, but if it isn't greater than 0...well, it still could be equal to 0, or it could be negative.  So two severed if statements work better.  (You could also put an if statement inside the else body...maybe we should leave that for later.)\n",
    "\n",
    "Also: observe that you don't know if this program works properly until you've tested it at very least with one positive number, one negative, and zero.  You still don't know that your program will always work -- you never have 100% confidence -- but you can't have *any* confidence until you try all three categories at least once.  Observe that 0 is a bit of special case, the so-called \"edge case\" between the two bigger categories.  \n",
    "\n",
    "When you submit homework, remember that it is your responsibility to test!  If you miss sneaky cases, I won't tear your grade apart, but if it looks like you haven't even checked the obvious cases -- well...."
   ]
  },
  {
   "cell_type": "markdown",
   "metadata": {},
   "source": [
    "# 5. Blocks\n",
    "\n",
    "After an `if .... :`, which statements are controlled by that `if`?  \n",
    "\n",
    "Answer: every statement after, until an **unindented** statement is encountered.  The group of statements controlled is also called a **_block statement_**.  Other languages use curly braces to denote beginning and end of blocks -- Python is notable for eschewing this.  It's a little weird at first, but it makes good coding style the law, which I think is really great for beginners.\n",
    "\n",
    "If your `if` statement has an `else`, that has to come immediately after the end of the `if` block. There can be empty lines between `if` block and `else`, but no unindented non-empty lines.  See below."
   ]
  },
  {
   "cell_type": "code",
   "execution_count": null,
   "metadata": {},
   "outputs": [],
   "source": [
    "# EXAMPLE 5a: Block Problems\n",
    "# What's wrong with this?\n",
    "\n",
    "if 2 > 1:\n",
    "    print(\"Hi\")\n",
    "    print(\"How's it going\")\n",
    "print(\"Pretty good\")\n",
    "\n",
    "else:\n",
    "    print(\"Blah\")"
   ]
  },
  {
   "cell_type": "markdown",
   "metadata": {},
   "source": [
    "In an if-else statement, execution returns to \"normal\" (every statement is executed) after the end of the `else` block; in a plain if statement, execution returns to \"normal\" at the end of the `if` block.  \n",
    "\n",
    "This can sometimes be confusing if you see consecutive `if` statements.  When one `if` follows the conclusion of another, the two should be considered as separate: the second one will execute the same way it would if the first wasn't there.  \n",
    "\n",
    "For example, what does the following produce when the user enters 1? 10? 100?"
   ]
  },
  {
   "cell_type": "code",
   "execution_count": null,
   "metadata": {},
   "outputs": [],
   "source": [
    "# EXAMPLE 5b: More Blocks\n",
    "\n",
    "x = int(input(\"Enter a number: \")) \n",
    "\n",
    "if x > 20:       \n",
    "    print(\"A\")   \n",
    "    print(\"B\")   \n",
    "else:              \n",
    "    print(\"C\")   \n",
    "print(\"D\")       \n",
    "if x > 5:        \n",
    "    print(\"E\")   \n",
    "    print(\"F\")   \n",
    "if x > 0:        \n",
    "    print(\"G\")   \n",
    "   "
   ]
  },
  {
   "cell_type": "markdown",
   "metadata": {},
   "source": [
    "To understand this code, you should break it into chunks: lines 5-9, then line 10, then lines 11-13, and finally lines 14-15.  First, pretend only lines 5-9 were present -- the code will execute these first in the way you have hopefully come to understand.\n",
    "\n",
    "Then, line 10 will always execute.\n",
    "\n",
    "Then, lines 11-13 execute: if x > 5, E and F print, and there is no `else` so nothing happens with these lines if x is less than or equal to 5.\n",
    "\n",
    "Finally, lines 14-15 execute: if x > 0, G prints, otherwise nothing happens."
   ]
  }
 ],
 "metadata": {
  "kernelspec": {
   "display_name": "Python 3",
   "language": "python",
   "name": "python3"
  },
  "language_info": {
   "codemirror_mode": {
    "name": "ipython",
    "version": 3
   },
   "file_extension": ".py",
   "mimetype": "text/x-python",
   "name": "python",
   "nbconvert_exporter": "python",
   "pygments_lexer": "ipython3",
   "version": "3.7.0"
  },
  "name": "_merged_merged"
 },
 "nbformat": 4,
 "nbformat_minor": 2
}
