{
 "cells": [
  {
   "cell_type": "markdown",
   "metadata": {},
   "source": [
    "# Lecture 6\n",
    "\n",
    "#### If-Elif-Else; Nested If Statements; bool Variables; Print Debugging; Intro to Programmer-Defined Functions"
   ]
  },
  {
   "cell_type": "markdown",
   "metadata": {},
   "source": [
    "# 1. If-Elif-Else Chains\n",
    "\n",
    "If-else is great when you have two possibilites to choose from.  What if you have 3 possibilities, or 5? In that case, you might want an **_if-elif-else chain_**.  (\"Elif\" is short for \"else if\".) Example:"
   ]
  },
  {
   "cell_type": "code",
   "execution_count": null,
   "metadata": {
    "collapsed": true
   },
   "outputs": [],
   "source": [
    "# EXAMPLE 1a: Pie\n",
    "\n",
    "favorite = input(\"Please state your favorite type of pie: \")\n",
    "\n",
    "if favorite == \"Key Lime\":\n",
    "    print(\"Yeah, that's what's up!\")\n",
    "elif favorite == \"Pumpkin\" or favorite == \"Apple\":\n",
    "    print(\"That's very American.  I can respect that.\")\n",
    "elif favorite == \"Chocolate\":\n",
    "    print(\"You're not really a pie person, are you?\")\n",
    "else:\n",
    "    print(\"Well, at least you didn't put \\\"Chocolate\\\".\")"
   ]
  },
  {
   "cell_type": "markdown",
   "metadata": {},
   "source": [
    "Here is the general syntax:"
   ]
  },
  {
   "cell_type": "code",
   "execution_count": null,
   "metadata": {
    "collapsed": true
   },
   "outputs": [],
   "source": [
    "IF-ELIF-ELSE CHAIN SYNTAX:\n",
    "\n",
    "\"...previous statements (unindented)...\"\n",
    "\n",
    "if <expr 1>:\n",
    "    <body 1>\n",
    "elif <expr 2>:\n",
    "    <body 2>\n",
    "elif <expr 3>:\n",
    "    <body 3>\n",
    "else:\n",
    "    <body 4>\n",
    "\n",
    "\"...further statements (unindented)...\""
   ]
  },
  {
   "cell_type": "markdown",
   "metadata": {},
   "source": [
    "Note that the `elif`'s go in the middle, and of course you can have more or less than 2.  Also, the `else` at the end is optional.\n",
    "\n",
    "The idea is that when this chain is encountered:\n",
    "\n",
    "* The first logical expression, `<expr 1>`, is evaluated.\n",
    "\n",
    "* If `True`, `<body 1>` is evaluated, and then execution skips past the rest of the chain.  \n",
    "\n",
    "* If `False`, then execution moves on to the first `elif`, and `<expr 2>` is evaluated. If this is `True`, then `<body 2>` is evaluated; if `False`, execution moves to the third `elif`.\n",
    "\n",
    "* And so on.  If there is an `else` at the end, that executes if none of the logical expressions are `True` (the \"default\" scenario); if there is no `else` at the end, then it is possible for none of the bodies to execute.\n",
    "\n",
    "Here's a flowchart, for an if-elif-else chain with an else at the end:\n",
    "\n",
    "![IMAGE NOT FOUND](ifelsechain.png)\n",
    "\n",
    "Again: notice that **exactly one** of the bodies is executed.  (And if there were no `else`, then **at most one** body would be executed.)\n",
    "\n",
    "Write a program which asks the user to put in a lowercase letter.  Then have it print out `Always` if it is a,e,i,o,u; `Sometimes` if it is y; and `Never` otherwise.  (To test this properly, you need a bare minimum of three test runs.)"
   ]
  },
  {
   "cell_type": "code",
   "execution_count": null,
   "metadata": {
    "collapsed": true
   },
   "outputs": [],
   "source": [
    "# EXAMPLE 1b: Vowels\n",
    "# Ask user to input a lowercase letter, then print out whether or not it is \n",
    "# a vowel always, sometimes, or never\n",
    "\n",
    "let = input(\"Enter a lowercase letter: \")\n",
    "\n",
    "if    :\n",
    "    print(\"Always\")\n",
    "elif    :\n",
    "    print(\"Sometimes\")\n",
    "else:\n",
    "    print(\"Never\")\n",
    "    "
   ]
  },
  {
   "cell_type": "markdown",
   "metadata": {},
   "source": [
    "\n",
    "<br><br><br><br><br><br><br><br><br><br>\n",
    "\n",
    "I have here three versions of a program.  The program is a (slightly lazy) grade converter.  It asks for a score, and then prints out `A` for 90-100, `B` for in the 80's, a `C or lower` for less than 80.  All versions have flaws.  What are the flaws, exactly?"
   ]
  },
  {
   "cell_type": "code",
   "execution_count": null,
   "metadata": {
    "collapsed": true
   },
   "outputs": [],
   "source": [
    "# EXAMPLE 1c: Flawed Grades, Version 1\n",
    "\n",
    "score = input(\"Enter score: \")\n",
    "score = float(score)\n",
    "\n",
    "if score >= 90:\n",
    "    print(\"A\")\n",
    "else score >= 80:\n",
    "    print(\"B\")\n",
    "else:\n",
    "    print(\"C or lower\")\n",
    "    "
   ]
  },
  {
   "cell_type": "code",
   "execution_count": null,
   "metadata": {
    "collapsed": true
   },
   "outputs": [],
   "source": [
    "# EXAMPLE 1d: Flawed Grades, Version 2\n",
    "\n",
    "score = input(\"Enter score: \")\n",
    "score = float(score)\n",
    "\n",
    "\n",
    "if score < 80:\n",
    "    print(\"C or lower\")\n",
    "elif score >= 80:\n",
    "    print(\"B\")\n",
    "elif score >= 90:\n",
    "    print(\"A\")\n"
   ]
  },
  {
   "cell_type": "code",
   "execution_count": null,
   "metadata": {
    "collapsed": true
   },
   "outputs": [],
   "source": [
    "# EXAMPLE 1e: Flawed Grades, Version 3\n",
    "\n",
    "score = input(\"Enter score: \")\n",
    "score = float(score)\n",
    "\n",
    "if score >= 90:\n",
    "    print(\"A\")\n",
    "if score >= 80:\n",
    "    print(\"B\")\n",
    "else:\n",
    "    print(\"C or lower\")"
   ]
  },
  {
   "cell_type": "markdown",
   "metadata": {},
   "source": [
    "\n",
    "<br><br><br><br><br><br><br><br><br><br>\n",
    "\n",
    "Version 1: This is a straight syntax error: there is no such thing as `else {logical expression}`.  `else` is never followed by anything but a `:`.  Obviously, `elif` was intended.\n",
    "\n",
    "Version 2: The backwards order isn't inherently a problem, nor is the lack of an `else`.  What IS a problem, however, is that a `score` that is `>= 90` will also be `>= 80`, so `B` will print out, and you will never get to the second `elif`.\n",
    "\n",
    "Version 3: Notice that the middle statement is `if`, not `elif` -- so the first two lines are severed from the last four!  So if `score >= 90`, then `A` prints out; then, you execute the next if-else statement: for which `B` will also print out.  Here's a flow chart illustrating:\n",
    "\n",
    "![IMAGE NOT FOUND!!!!!!!!!!](grades.png)\n",
    "\n",
    "\n"
   ]
  },
  {
   "cell_type": "markdown",
   "metadata": {},
   "source": [
    "\n",
    "<br><br><br><br><br><br><br><br><br><br>\n",
    "\n",
    "# 2. Nested If Statements and Pseudo-code\n",
    "\n",
    "There's no reason you can't put if (or if-else) statements inside one another.  They frequently come up when, in an if statement, the `True` branch is significantly different than the `False` branch.\n",
    "\n",
    "Example: 2 questions! The program we're about to write will allow the user to think of an animal; the program then asks questions, which the user answers, and based on that it tries to read your mind.  (It doesn't do a very good job, unless you happen to be thinking of a dog, cat, bird or fish -- in which case it works!) \n",
    "\n",
    "![IMAGE NOT FOUND!!!!!!!!!!!!!!](20questions.png)\n",
    "\n",
    "Translate from the top down. \n",
    "\n",
    "Specifically, start by looking at the top question.  **Everything** coming out of the top \"yes\" arrow should be inside the `if` block; and **everything** coming out of the top \"no\" arrow should be inside the `else` block.  So, we're going to have an `if` statement inside a block!  To make this work, we'll have to indent twice.  Let's look at the code.\n"
   ]
  },
  {
   "cell_type": "code",
   "execution_count": null,
   "metadata": {
    "collapsed": true
   },
   "outputs": [],
   "source": [
    "# EXAMPLE 2a: 20 questions\n",
    "\n",
    "print(\"Think of an animal, then press Enter.\")\n",
    "\n",
    "# Here is a trick to make your program have a dramatic pause.\n",
    "input(\"\")\n",
    "\n",
    "print(\"I'm going to try and guess it now.\")\n",
    "\n",
    "input(\"\")\n",
    "\n",
    "first_ans = input(\"Is it a mammal? \")\n",
    "\n",
    "\n",
    "if first_ans == \"y\":\n",
    "    second_ans = input(\"Does it bark? \")   #\n",
    "    if second_ans == \"y\":                  #  These 5 lines are \n",
    "        print(\"It's a dog!\")               #  the \"if\" block for the\n",
    "    else:                                  #  first \"if-else\" statement.\n",
    "        print(\"It's a cat!\")               #\n",
    "else:\n",
    "    second_ans = input(\"Does it fly? \")    #\n",
    "    if second_ans == \"y\":                  #  These 5 lines are \n",
    "        print(\"It's a bird!\")              #  the \"else\" block for the\n",
    "    else:                                  #  first \"if-else\" statement.\n",
    "        print(\"It's a fish!\")              #\n",
    "    "
   ]
  },
  {
   "cell_type": "markdown",
   "metadata": {},
   "source": [
    "\n",
    "<br><br><br><br><br><br><br><br><br><br>\n",
    "\n",
    "When designing a complex program, it's helpful to write down **_pseudo-code_** before sitting down to your computer. Pseudo-code means the steps of the program written down in English, arranged to resemble source code, but without worrying about the details inherent in programming correct steps -- like proper variable names, data types, etc.  \n",
    "\n",
    "For this flowchart:"
   ]
  },
  {
   "cell_type": "code",
   "execution_count": null,
   "metadata": {
    "collapsed": true
   },
   "outputs": [],
   "source": [
    "Ask if it is a mammal\n",
    "If it is a mammal:\n",
    "    Ask if it barks\n",
    "    If it barks:\n",
    "        It is a dog\n",
    "    Otherwise:\n",
    "        It is a cat\n",
    "Otherwise (if it is not a mammal):\n",
    "    Ask if it flies\n",
    "    If it flies:\n",
    "        It is a bird\n",
    "    Otherwise:\n",
    "        It is a fish"
   ]
  },
  {
   "cell_type": "markdown",
   "metadata": {},
   "source": [
    "In both real code and pseudo-code, **indenting** properly is crucial.  Real Python code won't work right if you don't indent properly; with pseudo-code, indenting shows which lines are grouped together, and which alternatives are connected to which.\n",
    "\n",
    "\n",
    "<br><br><br><br><br><br><br><br><br><br>\n",
    "\n",
    "Now, code this flow chart!\n",
    "\n",
    "![IMAGE NOT FOUND!!!!!!!!!!!!](weather.png)"
   ]
  },
  {
   "cell_type": "code",
   "execution_count": null,
   "metadata": {
    "collapsed": true
   },
   "outputs": [],
   "source": [
    "# EXAMPLE 2b: Weather\n",
    "# I started you off -- continue!\n",
    "\n",
    "first_ans = input(\"Raining? \")\n",
    "if first_ans == \"y\":\n",
    "    print(\"Read a book\")\n",
    "\n",
    "    \n",
    "    \n",
    "    \n",
    "    \n",
    "    \n",
    "    \n",
    "    "
   ]
  },
  {
   "cell_type": "markdown",
   "metadata": {},
   "source": [
    "\n",
    "<br><br><br><br><br><br><br><br><br><br>\n",
    "\n",
    "# 3. Using `bool` Variables\n",
    "\n",
    "Suppose that you need to keep track of a LOT of decisions.  \n",
    "\n",
    "For example: suppose you want to check that three sides of a triangle, `a`, `b` and `c`, are entered in descending order, are all greater than 0, and satisfy the triangle inequality (that the sum of any two sides is always greater than the third)?\n",
    "\n",
    "Here is one way to code this:"
   ]
  },
  {
   "cell_type": "code",
   "execution_count": null,
   "metadata": {},
   "outputs": [],
   "source": [
    "if (a >= b) and (b >= c) and (a > 0) and (b > 0) and (c > 0) and (a + b > c) and (a + c > b) and (b + c > a):\n",
    "    # Solve triangle\n",
    "else:\n",
    "    # Print error message\n",
    "# (Let's ignore the fact that for mathematical reasons, there's some redundancy in the above.)"
   ]
  },
  {
   "cell_type": "markdown",
   "metadata": {},
   "source": [
    "But that's a lot for a single line (and I'm sure you could imagine that it could get way worse). Fortunately, you can use `bool` variables\n",
    "(also known as **_flags_**) to help you deconstruct such a statement.\n",
    "\n",
    "\n",
    "<br><br><br><br><br><br><br><br><br><br>\n",
    "\n",
    "Here's an alternative, more digestible way to deal with this statement, that breaks the decision process down. Notice also how the `if` statements almost read like honest English sentences -- don't underestimate how useful this can be when you are deep in the weeds trying to read complex code.\n"
   ]
  },
  {
   "cell_type": "code",
   "execution_count": null,
   "metadata": {
    "collapsed": true
   },
   "outputs": [],
   "source": [
    "in_order = (a >= b) and (b >= c)\n",
    "all_positive = (a > 0) and (b > 0) and (c > 0)\n",
    "satisfies_triangle_ineq = (a + b > c) and (a + c > b) and (b + c > a)\n",
    "\n",
    "if in_order and all_positive and satisfies_triangle_ineq:\n",
    "    # Solve triangle\n",
    "else:\n",
    "    if not in_order:\n",
    "        print(\"Out of order\")\n",
    "    if not all_positive:\n",
    "        print(\"Non-positive side entered\")\n",
    "    if not satisfies_triangle_ineq:\n",
    "        print(\"Your sides don't satisfy the triangle inequality\")"
   ]
  },
  {
   "cell_type": "markdown",
   "metadata": {},
   "source": [
    "Some people don't like seeing `if` statements without `==`'s or `>`'s or the like, and freak out.  *Don't freak out -- evaluate*!  Evaluate the whole logical expression, like before.  If the expression evaluates to `True`, then the statement prints; if it evaluates to `False`, then the statement doesn't print.\n",
    "\n",
    "\n",
    "<br><br><br><br><br><br><br><br><br><br>\n",
    "The next program is meant to allow the user to enter 4 names, and then at the very end print out whether or not, at some point, the same name was entered twice in a row (at least once -- if a name was entered three times in a row, or two different names were each entered twice in a row, we'll include that).  \n",
    "\n",
    "Since we'll need the answer to a yes or no question at the end, we'll use a boolean variable to store the answer."
   ]
  },
  {
   "cell_type": "code",
   "execution_count": null,
   "metadata": {},
   "outputs": [],
   "source": [
    "# EXAMPLE 3a: Same Name Twice In A Row \n",
    "# We may need to fix a couple of things.\n",
    "\n",
    "# repeat_yet will contain the answer to the question: \"have two identical names been entered consecutively yet?\"\n",
    "# What should repeat_yet be initialized to?\n",
    "repeat_yet =\n",
    "\n",
    "name1 = input(\"First name: \")\n",
    "name2 = input(\"Second name: \")\n",
    "\n",
    "if name1 == name2:\n",
    "    repeat_yet = True\n",
    "else:\n",
    "    repeat_yet = False\n",
    "    \n",
    "name3 = input(\"Third name: \")\n",
    "\n",
    "if name2 == name3:\n",
    "    repeat_yet = True\n",
    "else:\n",
    "    repeat_yet = False\n",
    "\n",
    "name4 = input(\"Fourth name: \")\n",
    "\n",
    "if name3 == name4:\n",
    "    repeat_yet = True\n",
    "else:\n",
    "    repeat_yet = False\n",
    "\n",
    "    \n",
    "if repeat_yet:\n",
    "    print(\"There were two consecutive entries that were the same.\")\n",
    "else:\n",
    "    print(\"No consecutive repeats.\")"
   ]
  },
  {
   "cell_type": "markdown",
   "metadata": {},
   "source": [
    "\n",
    "<br><br><br><br><br><br><br><br><br><br>\n",
    "\n",
    "# 4. Print Debugging\n",
    "\n",
    "As you can probably tell, our programs are getting more complicated. At this point, we have to get better at debugging.  The simplest, most direct way is by using **walkthroughs** and **print statements**. \n",
    "\n",
    "When you write a program, (hopefully) you have an idea of what you think each line is doing to the values of your variables.  A walkthrough can give you confirmation or denial of your suspicions.  \n",
    "\n",
    "It helps to include print statements throughout your program to print out the values of certain variables, to confirm whether your suspicions are correct at each line.  If one is not: that's going to give you a big hint about where your error is.\n",
    "\n",
    "Let's see this in action.  The code below is **meant** to do the following. It asks for two numbers from each of two players.  It then adds up each player's numbers, and outputs which player is the winner, using the following rules:\n",
    "\n",
    "*Any player with a sum > 21 is disqualified.  The winner is the player with the highest sum who is not disqualified.  If both players are disqualified, then no one wins. If both players have the same sum which is <= 21, then the players both win.*\n",
    "\n",
    "(So, this is a lot like the game of Blackjack, if you know what that is.) \n",
    "\n",
    "Note that the following isn't really good code, but I promise you that the general idea is fine -- there's just an error in implementation.  Can we find it?\n"
   ]
  },
  {
   "cell_type": "code",
   "execution_count": null,
   "metadata": {
    "collapsed": true
   },
   "outputs": [],
   "source": [
    "# Example 4a: \"Blackjack\" (kind of)\n",
    "\n",
    "p1_num1 = int(input(\"Enter Player 1's first number: \"))\n",
    "p1_num2 = int(input(\"Enter Player 1's second number: \"))\n",
    "p2_num1 = int(input(\"Enter Player 2's first number: \"))\n",
    "p2_num2 = int(input(\"Enter Player 2's second number: \"))\n",
    "\n",
    "# First, determine who has the higher sum\n",
    "if p1_num1 + p1_num2 > p2_num1 + p2_num2:\n",
    "    # Player 1 has the higher sum.\n",
    "    # If that sum is 21 or under, player 1 wins.\n",
    "    # If not, player 2 wins, unless player 2's sum is also over 21,\n",
    "    # in which case no one wins.\n",
    "    if p1_num1 + p1_num2 <= 21:\n",
    "        print(\"Player 1 wins.\")\n",
    "    elif p2_num1 + p2_num2 <= 21:\n",
    "        print(\"Player 2 wins.\")\n",
    "    else:\n",
    "        print(\"Both players disqualified.\")\n",
    "        \n",
    "elif p2_num1 + p2_num2 > p1_num1 + p1_num2:\n",
    "    # Player 2 has the higher sum.\n",
    "    # If that sum is 21 or under, player 2 wins.\n",
    "    # If not, player 1 wins, unless player 1's sum is also over 21,\n",
    "    # in which case no one wins.\n",
    "    if p2_num1 + p2_num2 <= 21:\n",
    "        print(\"Player 2 wins.\")\n",
    "    elif p1_num1 + p2_num1 <= 21:\n",
    "        print(\"Player 1 wins.\")\n",
    "    else:\n",
    "        print(\"Both players disqualified.\")\n",
    "        \n",
    "else:\n",
    "    # Both players have the same sum.  Both win if that sum is 21 or under\n",
    "    # and both are disqualified otherwise.\n",
    "    if p1_num1 + p1_num2 <= 21:\n",
    "        print(\"Both players win.\")\n",
    "    else:\n",
    "        print(\"Both players disqualified.\")"
   ]
  },
  {
   "cell_type": "markdown",
   "metadata": {},
   "source": [
    "Try putting in 10 and 2 for the first player, and 20 and 4 for the second player.  Player 1 should win!  That's not what happens, though: why?\n",
    "\n",
    "\n",
    "<br><br><br><br><br><br><br><br><br><br>"
   ]
  },
  {
   "cell_type": "markdown",
   "metadata": {},
   "source": [
    "# 5. A Quick Introduction to Programmer-Defined Functions\n",
    "\n",
    "We have used a lot of functions in Python: `len()`, `print()`, `math.exp()`, `random.randrange()`, etc. As a programmer, you can write your own functions, too!\n",
    "\n",
    "Why would you want to? Because **functions can help you break down your problems into smaller, more manageable parts** and **minimize repetition of code**.  The act of writing your programs in pieces is sometimes called *modular programming*.  \n",
    "\n",
    "Before justifying that this really is useful, let's look at an example, which illustrates the mechanics (if not the purpose) of programmer-defined functions."
   ]
  },
  {
   "cell_type": "code",
   "execution_count": null,
   "metadata": {},
   "outputs": [],
   "source": [
    "# EXAMPLE 5a: A programmer-defined function\n",
    "# This function computes sums of squares of numbers.\n",
    "# Presumably, this is something that we may find ourselves doing a lot.\n",
    "\n",
    "def sum_of_squares(x, y, z):\n",
    "    sos = x**2 + y**2 + z**2\n",
    "    return sos"
   ]
  },
  {
   "cell_type": "markdown",
   "metadata": {},
   "source": [
    "Run that code.  It doesn't appear to really do much!  But it defines a new function.  The keyword `def` denotes that we're defining a function; `sum_of_squares` is the *name* of the function; `x`, `y` and `z` represent the *inputs* to the function; and the word `return` denotes that the *output* of the function is the value called `sos`.\n",
    "\n",
    "\n",
    "<br><br><br><br><br><br><br><br><br><br>\n",
    "\n",
    "Now, let's **use** the function."
   ]
  },
  {
   "cell_type": "code",
   "execution_count": null,
   "metadata": {},
   "outputs": [],
   "source": [
    "# EXAMPLE 5b: Using that function\n",
    "\n",
    "def sum_of_squares(x, y, z):\n",
    "    sos = x**2 + y**2 + z**2\n",
    "    return sos\n",
    "\n",
    "##################################\n",
    "# Here's where the action starts.\n",
    "\n",
    "# On this line, I am CALLING (using) the function.  \n",
    "# The variables x, y and z temporarily become the inputs 1, 3, 5, respectively.\n",
    "# When you USE the function, you don't write \"def\"\n",
    "# (the same way that you haven't written def when you use len() or math.sqrt())\n",
    "a = sum_of_squares(1,3,5)\n",
    "print(a)\n",
    "\n",
    "# A function is meant to be reused!  I don't rewrite the definition of the function,\n",
    "# but I use it multiple times.\n",
    "b = sum_of_squares(1,4,0)\n",
    "print(b)\n",
    "\n",
    "# Of course, these three lines happen to do nothing, for exactly the same reason...\n",
    "3 + 5                  #\n",
    "len(\"Hello\")           # They all compute values, which then go unused.\n",
    "sum_of_squares(1,1,1)  #\n",
    "\n",
    "\n",
    "# You can use variables and expressions as inputs, as well.\n",
    "p = 4\n",
    "q = 1\n",
    "print(sum_of_squares(p, 2*q, p + q))"
   ]
  },
  {
   "cell_type": "markdown",
   "metadata": {},
   "source": [
    "\n",
    "<br><br><br><br><br><br><br><br><br><br>\n",
    "\n",
    "Let's go through this.  There are two things to understand -- how the function is *defined*, and how it is used (or *called*).  Let's start with the definition."
   ]
  },
  {
   "cell_type": "code",
   "execution_count": null,
   "metadata": {
    "collapsed": true
   },
   "outputs": [],
   "source": [
    "BASIC FUNCTION DEFINITION SYNTAX:\n",
    "    \n",
    "def <function name>(<parameter list>):\n",
    "    <body>\n",
    "    return <output value>"
   ]
  },
  {
   "cell_type": "markdown",
   "metadata": {},
   "source": [
    "The word `parameters` refers to names used for the inputs when you define the function.  So in the program above, the parameters were `x`, `y` and `z`, and the output value was called `sos`.\n",
    "\n",
    "When your program encounters a function definition, it does .... well, not much, at first.  This is just a *definition* of a function -- what you see above the ################## in this example.\n",
    "\n",
    "But then, later, you may *call* this function, which would look something like\n",
    "\n",
    "`{function name}(<actual parameters>)`\n",
    "\n",
    "Calls to a function must occur lower in the code than where that function is defined.  In our program, the calls looked like `sum_of_squares(var1, var2, var3)`.  When Python encounters `sum_of_squares(var1, var2, var3)`, program control is passed to the function -- that is, the function will stop its normal execution, and instead executing the function's code. More specifically, here is what happens:\n",
    "\n",
    "* The parameters of the function will be matched with the actual parameters (or *arguments*).  This means that `x` will be assigned the value of `var1`, `y` will be assigned the value of `var2`, and `z` will be assigned the value of `var3`. (First gets matched with first, second gets matched with second -- order matters here.)\n",
    "* The body of the function will execute, using these values.\n",
    "* The line `return sos` ends the function's execution, and the value of `sum_of_squares(var1, var2, var3)` will be whatever `sos` is.\n",
    "* That value then gets stored to a variable, or printed, or ignored, depending on what you code does with `sum_of_squares(var1, var2, var3)`, and the program continues.\n",
    "\n",
    "\n",
    "<br><br><br><br><br><br><br><br><br><br>\n",
    "\n",
    "Let's write one together.  (This would be a very useful function to write, were it not actually already part of the Python language.)"
   ]
  },
  {
   "cell_type": "code",
   "execution_count": null,
   "metadata": {},
   "outputs": [],
   "source": [
    "# EXAMPLE 5c: Max function\n",
    "# Let's write a function called my_max. \n",
    "# This function should receive two arguments, are output whichever is greater.\n",
    "\n",
    "\n",
    "\n",
    "\n",
    "\n",
    "a = 3\n",
    "b = 4\n",
    "c = 8\n",
    "\n",
    "print(\"my_max(a,b) =\", my_max(a, b))\n",
    "print(\"my_max(c+1,b) =\", my_max(c + 1, b))\n",
    "print(\"my_max(5,c) =\", my_max(5, c))"
   ]
  },
  {
   "cell_type": "markdown",
   "metadata": {},
   "source": [
    "\n",
    "<br><br><br><br><br><br><br><br><br><br>\n",
    "\n",
    "Try writing a function called `my_abs`, which should receive one numerical argument, and return the absolute value of that argument."
   ]
  },
  {
   "cell_type": "code",
   "execution_count": null,
   "metadata": {},
   "outputs": [],
   "source": [
    "# EXAMPLE 5d: my_abs\n",
    "\n",
    "#\n",
    "# WRITE my_abs \n",
    "#\n",
    "\n",
    "\n",
    "\n",
    "\n",
    "\n",
    "\n",
    "print(\"If this isn't 2, your function has a problem :\", my_abs(2))\n",
    "print(\"If this isn't 4, your function has a problem :\", my_abs(-4))\n",
    "print(\"If this isn't 0, your function has a problem :\", my_abs(0))"
   ]
  }
 ],
 "metadata": {
  "kernelspec": {
   "display_name": "Python 3",
   "language": "python",
   "name": "python3"
  },
  "language_info": {
   "codemirror_mode": {
    "name": "ipython",
    "version": 3
   },
   "file_extension": ".py",
   "mimetype": "text/x-python",
   "name": "python",
   "nbconvert_exporter": "python",
   "pygments_lexer": "ipython3",
   "version": "3.6.4"
  },
  "name": "_merged_merged"
 },
 "nbformat": 4,
 "nbformat_minor": 2
}
